{
 "cells": [
  {
   "cell_type": "code",
   "execution_count": 1,
   "metadata": {},
   "outputs": [
    {
     "name": "stdout",
     "output_type": "stream",
     "text": [
      "Collecting pdfminer.six\n",
      "  Downloading pdfminer.six-20221105-py3-none-any.whl (5.6 MB)\n",
      "\u001b[2K     \u001b[38;2;114;156;31m━━━━━━━━━━━━━━━━━━━━━━━━━━━━━━━━━━━━━━━━\u001b[0m \u001b[32m5.6/5.6 MB\u001b[0m \u001b[31m19.0 MB/s\u001b[0m eta \u001b[36m0:00:00\u001b[0m31m19.6 MB/s\u001b[0m eta \u001b[36m0:00:01\u001b[0m\n",
      "\u001b[?25hRequirement already satisfied: charset-normalizer>=2.0.0 in /Users/neuefische/repos/ESG-Score-Prediction-from-Sustainability-Reports/.venv/lib/python3.11/site-packages (from pdfminer.six) (3.2.0)\n",
      "Collecting cryptography>=36.0.0 (from pdfminer.six)\n",
      "  Obtaining dependency information for cryptography>=36.0.0 from https://files.pythonhosted.org/packages/91/68/5c33bb0115b3413a974dd4d23625b99ed22522582b513f82e93ce00f954c/cryptography-41.0.3-cp37-abi3-macosx_10_12_universal2.whl.metadata\n",
      "  Downloading cryptography-41.0.3-cp37-abi3-macosx_10_12_universal2.whl.metadata (5.2 kB)\n",
      "Requirement already satisfied: cffi>=1.12 in /Users/neuefische/repos/ESG-Score-Prediction-from-Sustainability-Reports/.venv/lib/python3.11/site-packages (from cryptography>=36.0.0->pdfminer.six) (1.15.1)\n",
      "Requirement already satisfied: pycparser in /Users/neuefische/repos/ESG-Score-Prediction-from-Sustainability-Reports/.venv/lib/python3.11/site-packages (from cffi>=1.12->cryptography>=36.0.0->pdfminer.six) (2.21)\n",
      "Downloading cryptography-41.0.3-cp37-abi3-macosx_10_12_universal2.whl (5.3 MB)\n",
      "\u001b[2K   \u001b[38;2;114;156;31m━━━━━━━━━━━━━━━━━━━━━━━━━━━━━━━━━━━━━━━━\u001b[0m \u001b[32m5.3/5.3 MB\u001b[0m \u001b[31m24.5 MB/s\u001b[0m eta \u001b[36m0:00:00\u001b[0m MB/s\u001b[0m eta \u001b[36m0:00:01\u001b[0m:01\u001b[0m\n",
      "\u001b[?25hInstalling collected packages: cryptography, pdfminer.six\n",
      "Successfully installed cryptography-41.0.3 pdfminer.six-20221105\n",
      "Requirement already satisfied: PyPDF2 in /Users/neuefische/repos/ESG-Score-Prediction-from-Sustainability-Reports/.venv/lib/python3.11/site-packages (3.0.1)\n"
     ]
    }
   ],
   "source": [
    "!pip install pdfminer.six\n",
    "!pip install PyPDF2"
   ]
  },
  {
   "cell_type": "code",
   "execution_count": 5,
   "metadata": {},
   "outputs": [
    {
     "name": "stdout",
     "output_type": "stream",
     "text": [
      "Error processing NYSE_NRG_2022.pdf. Error: unpack requires a buffer of 4 bytes\n",
      "Error processing NYSE_GLW_2021.pdf. Error: unpack requires a buffer of 6 bytes\n",
      "Error processing NYSE_TDG_2022.pdf. Error: unpack requires a buffer of 2 bytes\n",
      "Error processing NYSE_FMC_2021.pdf. Error: unpack requires a buffer of 4 bytes\n",
      "Error processing NYSE_SYF_2020.pdf. Error: unpack requires a buffer of 2 bytes\n"
     ]
    }
   ],
   "source": [
    "import csv\n",
    "import os\n",
    "from pdfminer.high_level import extract_text\n",
    "\n",
    "def extract_text_from_pdfs(pdf_directory):\n",
    "    data = []\n",
    "    \n",
    "    for filename in os.listdir(pdf_directory):\n",
    "        if filename.endswith('.pdf'):\n",
    "            filepath = os.path.join(pdf_directory, filename)\n",
    "            \n",
    "            # Error handling\n",
    "            try:\n",
    "                text = extract_text(filepath)\n",
    "                \n",
    "                # Parse the filename to extract ticker and year\n",
    "                parts = filename.split('_')\n",
    "                ticker = parts[1]\n",
    "                year = parts[2].split('.')[0]  # Remove the .pdf extension\n",
    "                \n",
    "                data.append({\n",
    "                    'filename': filename,\n",
    "                    'ticker': ticker,\n",
    "                    'year': year,\n",
    "                    'text': text\n",
    "                })\n",
    "            except Exception as e:\n",
    "                print(f\"Error processing {filename}. Error: {e}\")\n",
    "    \n",
    "    return data\n",
    "\n",
    "def save_to_csv(data, output_filename):\n",
    "    with open(output_filename, 'w', newline='', encoding='utf-8') as csvfile:\n",
    "        fieldnames = ['filename', 'ticker', 'year', 'text']\n",
    "        writer = csv.DictWriter(csvfile, fieldnames=fieldnames)\n",
    "\n",
    "        writer.writeheader()\n",
    "        for row in data:\n",
    "            writer.writerow(row)\n",
    "\n",
    "pdf_directory = '/Users/neuefische/Downloads/test_ESG/text_only_pdfs'\n",
    "output_csv = 'extracted_text_sustainability_reports.csv'\n",
    "\n",
    "data = extract_text_from_pdfs(pdf_directory)\n",
    "save_to_csv(data, output_csv)\n",
    "\n"
   ]
  },
  {
   "cell_type": "code",
   "execution_count": 12,
   "metadata": {},
   "outputs": [
    {
     "name": "stdout",
     "output_type": "stream",
     "text": [
      "Processing NYSE_NRG_2022.pdf...\n",
      "Processing NYSE_GLW_2021.pdf...\n",
      "Processing NYSE_TDG_2022.pdf...\n",
      "Processing NYSE_FMC_2021.pdf...\n",
      "Processing NYSE_SYF_2020.pdf...\n"
     ]
    }
   ],
   "source": [
    "import os\n",
    "import csv\n",
    "import PyPDF2\n",
    "\n",
    "def pdf_to_text(pdf_path):\n",
    "    \"\"\"Convert PDF file to plain text using PyPDF2.\"\"\"\n",
    "    try:\n",
    "        with open(pdf_path, 'rb') as file:\n",
    "            pdf = PyPDF2.PdfReader(file)\n",
    "            text = ''.join(page.extract_text() for page in pdf.pages)\n",
    "            return text\n",
    "    except Exception as e:\n",
    "        print(f\"Error processing {pdf_path}: {e}\")\n",
    "        return None\n",
    "\n",
    "def process_pdfs_in_directory(directory, output_csv):\n",
    "    \"\"\"Process specific PDFs in a directory and save the content to a CSV file.\"\"\"\n",
    "\n",
    "    # List of specific files to process\n",
    "    specific_files = [\n",
    "        \"NYSE_NRG_2022.pdf\", \n",
    "        \"NYSE_GLW_2021.pdf\", \n",
    "        \"NYSE_TDG_2022.pdf\", \n",
    "        \"NYSE_FMC_2021.pdf\",\n",
    "        \"NYSE_SYF_2020.pdf\"\n",
    "    ]\n",
    "\n",
    "    with open(output_csv, 'w', newline='', encoding='utf-8') as csvfile:\n",
    "        fieldnames = ['filename', 'ticker', 'year', 'content']\n",
    "        writer = csv.DictWriter(csvfile, fieldnames=fieldnames)\n",
    "        writer.writeheader()\n",
    "\n",
    "        for file in specific_files:\n",
    "            if file in os.listdir(directory):\n",
    "                print(f\"Processing {file}...\")\n",
    "                filepath = os.path.join(directory, file)\n",
    "                content = pdf_to_text(filepath)\n",
    "                if content:  # Only write if content exists\n",
    "                    _, ticker, year = file.rstrip('.pdf').split('_')\n",
    "                    writer.writerow({'filename': file, 'ticker': ticker, 'year': year, 'content': content})\n",
    "\n",
    "process_pdfs_in_directory('/Users/neuefische/Downloads/test_ESG/text_only_pdfs', 'extracted_text_sustainability_reports.csv')\n"
   ]
  }
 ],
 "metadata": {
  "kernelspec": {
   "display_name": ".venv",
   "language": "python",
   "name": "python3"
  },
  "language_info": {
   "codemirror_mode": {
    "name": "ipython",
    "version": 3
   },
   "file_extension": ".py",
   "mimetype": "text/x-python",
   "name": "python",
   "nbconvert_exporter": "python",
   "pygments_lexer": "ipython3",
   "version": "3.11.3"
  },
  "orig_nbformat": 4
 },
 "nbformat": 4,
 "nbformat_minor": 2
}
