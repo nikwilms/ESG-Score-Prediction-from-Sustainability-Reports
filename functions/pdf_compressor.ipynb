{
 "cells": [
  {
   "cell_type": "code",
   "execution_count": 1,
   "metadata": {},
   "outputs": [
    {
     "name": "stdout",
     "output_type": "stream",
     "text": [
      "Requirement already satisfied: pypdf2 in /Users/neuefische/repos/ESG-Score-Prediction-from-Sustainability-Reports/.venv/lib/python3.11/site-packages (3.0.1)\n",
      "Requirement already satisfied: pycryptodome in /Users/neuefische/repos/ESG-Score-Prediction-from-Sustainability-Reports/.venv/lib/python3.11/site-packages (3.19.0)\n",
      "Requirement already satisfied: pdf2image in /Users/neuefische/repos/ESG-Score-Prediction-from-Sustainability-Reports/.venv/lib/python3.11/site-packages (1.16.3)\n",
      "Requirement already satisfied: pdfkit in /Users/neuefische/repos/ESG-Score-Prediction-from-Sustainability-Reports/.venv/lib/python3.11/site-packages (1.0.0)\n",
      "Requirement already satisfied: pillow in /Users/neuefische/repos/ESG-Score-Prediction-from-Sustainability-Reports/.venv/lib/python3.11/site-packages (from pdf2image) (10.0.1)\n"
     ]
    }
   ],
   "source": [
    "!pip install pypdf2\n",
    "!pip install pycryptodome\n",
    "!pip install pdf2image pdfkit"
   ]
  },
  {
   "cell_type": "code",
   "execution_count": 5,
   "metadata": {},
   "outputs": [
    {
     "ename": "SyntaxError",
     "evalue": "invalid syntax (2530786735.py, line 4)",
     "output_type": "error",
     "traceback": [
      "\u001b[0;36m  Cell \u001b[0;32mIn[5], line 4\u001b[0;36m\u001b[0m\n\u001b[0;31m    which wkhtmltopdf  # should return /usr/local/bin/wkhtmltopdf\u001b[0m\n\u001b[0m          ^\u001b[0m\n\u001b[0;31mSyntaxError\u001b[0m\u001b[0;31m:\u001b[0m invalid syntax\n"
     ]
    }
   ],
   "source": [
    "!brew install wkhtmltopdf  # for macOS\n",
    "!brew install poppler"
   ]
  },
  {
   "cell_type": "code",
   "execution_count": 4,
   "metadata": {},
   "outputs": [
    {
     "ename": "SyntaxError",
     "evalue": "invalid syntax (1512254785.py, line 1)",
     "output_type": "error",
     "traceback": [
      "\u001b[0;36m  Cell \u001b[0;32mIn[4], line 1\u001b[0;36m\u001b[0m\n\u001b[0;31m    which wkhtmltopdf\u001b[0m\n\u001b[0m          ^\u001b[0m\n\u001b[0;31mSyntaxError\u001b[0m\u001b[0;31m:\u001b[0m invalid syntax\n"
     ]
    }
   ],
   "source": [
    "config = pdfkit.configuration(wkhtmltopdf='/path/to/wkhtmltopdf')\n",
    "pdfkit.from_file(input, output, configuration=config)\n"
   ]
  },
  {
   "cell_type": "code",
   "execution_count": 3,
   "metadata": {},
   "outputs": [
    {
     "ename": "OSError",
     "evalue": "No wkhtmltopdf executable found: \"b''\"\nIf this file exists please check that this process can read it or you can pass path to it manually in method call, check README. Otherwise please install wkhtmltopdf - https://github.com/JazzCore/python-pdfkit/wiki/Installing-wkhtmltopdf",
     "output_type": "error",
     "traceback": [
      "\u001b[0;31m---------------------------------------------------------------------------\u001b[0m",
      "\u001b[0;31mFileNotFoundError\u001b[0m                         Traceback (most recent call last)",
      "File \u001b[0;32m~/repos/ESG-Score-Prediction-from-Sustainability-Reports/.venv/lib/python3.11/site-packages/pdfkit/configuration.py:35\u001b[0m, in \u001b[0;36mConfiguration.__init__\u001b[0;34m(self, wkhtmltopdf, meta_tag_prefix, environ)\u001b[0m\n\u001b[1;32m     33\u001b[0m     \u001b[39mself\u001b[39m\u001b[39m.\u001b[39mwkhtmltopdf \u001b[39m=\u001b[39m lines[\u001b[39m0\u001b[39m]\u001b[39m.\u001b[39mstrip()\n\u001b[0;32m---> 35\u001b[0m \u001b[39mwith\u001b[39;00m \u001b[39mopen\u001b[39;49m(\u001b[39mself\u001b[39;49m\u001b[39m.\u001b[39;49mwkhtmltopdf) \u001b[39mas\u001b[39;00m f:\n\u001b[1;32m     36\u001b[0m     \u001b[39mpass\u001b[39;00m\n",
      "\u001b[0;31mFileNotFoundError\u001b[0m: [Errno 2] No such file or directory: b''",
      "\nDuring handling of the above exception, another exception occurred:\n",
      "\u001b[0;31mOSError\u001b[0m                                   Traceback (most recent call last)",
      "\u001b[1;32m/Users/neuefische/repos/ESG-Score-Prediction-from-Sustainability-Reports/notebooks/pdf_compressor.ipynb Cell 3\u001b[0m line \u001b[0;36m3\n\u001b[1;32m     <a href='vscode-notebook-cell:/Users/neuefische/repos/ESG-Score-Prediction-from-Sustainability-Reports/notebooks/pdf_compressor.ipynb#W1sZmlsZQ%3D%3D?line=28'>29</a>\u001b[0m                     \u001b[39m# Convert images back to PDF\u001b[39;00m\n\u001b[1;32m     <a href='vscode-notebook-cell:/Users/neuefische/repos/ESG-Score-Prediction-from-Sustainability-Reports/notebooks/pdf_compressor.ipynb#W1sZmlsZQ%3D%3D?line=29'>30</a>\u001b[0m                     pdfkit\u001b[39m.\u001b[39mfrom_file(image_paths, output_file_path)\n\u001b[0;32m---> <a href='vscode-notebook-cell:/Users/neuefische/repos/ESG-Score-Prediction-from-Sustainability-Reports/notebooks/pdf_compressor.ipynb#W1sZmlsZQ%3D%3D?line=31'>32</a>\u001b[0m compress_pdf(\u001b[39m'\u001b[39;49m\u001b[39m/Users/neuefische/Downloads/test_ESG\u001b[39;49m\u001b[39m'\u001b[39;49m, \u001b[39m'\u001b[39;49m\u001b[39m/Users/neuefische/Downloads/test_ESG_compressed/\u001b[39;49m\u001b[39m'\u001b[39;49m)\n",
      "\u001b[1;32m/Users/neuefische/repos/ESG-Score-Prediction-from-Sustainability-Reports/notebooks/pdf_compressor.ipynb Cell 3\u001b[0m line \u001b[0;36m3\n\u001b[1;32m     <a href='vscode-notebook-cell:/Users/neuefische/repos/ESG-Score-Prediction-from-Sustainability-Reports/notebooks/pdf_compressor.ipynb#W1sZmlsZQ%3D%3D?line=26'>27</a>\u001b[0m     image_paths\u001b[39m.\u001b[39mappend(image_path)\n\u001b[1;32m     <a href='vscode-notebook-cell:/Users/neuefische/repos/ESG-Score-Prediction-from-Sustainability-Reports/notebooks/pdf_compressor.ipynb#W1sZmlsZQ%3D%3D?line=28'>29</a>\u001b[0m \u001b[39m# Convert images back to PDF\u001b[39;00m\n\u001b[0;32m---> <a href='vscode-notebook-cell:/Users/neuefische/repos/ESG-Score-Prediction-from-Sustainability-Reports/notebooks/pdf_compressor.ipynb#W1sZmlsZQ%3D%3D?line=29'>30</a>\u001b[0m pdfkit\u001b[39m.\u001b[39;49mfrom_file(image_paths, output_file_path)\n",
      "File \u001b[0;32m~/repos/ESG-Score-Prediction-from-Sustainability-Reports/.venv/lib/python3.11/site-packages/pdfkit/api.py:48\u001b[0m, in \u001b[0;36mfrom_file\u001b[0;34m(input, output_path, options, toc, cover, css, configuration, cover_first, verbose)\u001b[0m\n\u001b[1;32m     30\u001b[0m \u001b[39mdef\u001b[39;00m \u001b[39mfrom_file\u001b[39m(\u001b[39minput\u001b[39m, output_path\u001b[39m=\u001b[39m\u001b[39mNone\u001b[39;00m, options\u001b[39m=\u001b[39m\u001b[39mNone\u001b[39;00m, toc\u001b[39m=\u001b[39m\u001b[39mNone\u001b[39;00m, cover\u001b[39m=\u001b[39m\u001b[39mNone\u001b[39;00m, css\u001b[39m=\u001b[39m\u001b[39mNone\u001b[39;00m,\n\u001b[1;32m     31\u001b[0m               configuration\u001b[39m=\u001b[39m\u001b[39mNone\u001b[39;00m, cover_first\u001b[39m=\u001b[39m\u001b[39mFalse\u001b[39;00m, verbose\u001b[39m=\u001b[39m\u001b[39mFalse\u001b[39;00m):\n\u001b[1;32m     32\u001b[0m \u001b[39m    \u001b[39m\u001b[39m\"\"\"\u001b[39;00m\n\u001b[1;32m     33\u001b[0m \u001b[39m    Convert HTML file or files to PDF document\u001b[39;00m\n\u001b[1;32m     34\u001b[0m \n\u001b[0;32m   (...)\u001b[0m\n\u001b[1;32m     45\u001b[0m \u001b[39m    Returns: True on success\u001b[39;00m\n\u001b[1;32m     46\u001b[0m \u001b[39m    \"\"\"\u001b[39;00m\n\u001b[0;32m---> 48\u001b[0m     r \u001b[39m=\u001b[39m PDFKit(\u001b[39minput\u001b[39;49m, \u001b[39m'\u001b[39;49m\u001b[39mfile\u001b[39;49m\u001b[39m'\u001b[39;49m, options\u001b[39m=\u001b[39;49moptions, toc\u001b[39m=\u001b[39;49mtoc, cover\u001b[39m=\u001b[39;49mcover, css\u001b[39m=\u001b[39;49mcss,\n\u001b[1;32m     49\u001b[0m                configuration\u001b[39m=\u001b[39;49mconfiguration, cover_first\u001b[39m=\u001b[39;49mcover_first, verbose\u001b[39m=\u001b[39;49mverbose)\n\u001b[1;32m     51\u001b[0m     \u001b[39mreturn\u001b[39;00m r\u001b[39m.\u001b[39mto_pdf(output_path)\n",
      "File \u001b[0;32m~/repos/ESG-Score-Prediction-from-Sustainability-Reports/.venv/lib/python3.11/site-packages/pdfkit/pdfkit.py:45\u001b[0m, in \u001b[0;36mPDFKit.__init__\u001b[0;34m(self, url_or_file, type_, options, toc, cover, css, configuration, cover_first, verbose)\u001b[0m\n\u001b[1;32m     41\u001b[0m \u001b[39mdef\u001b[39;00m \u001b[39m__init__\u001b[39m(\u001b[39mself\u001b[39m, url_or_file, type_, options\u001b[39m=\u001b[39m\u001b[39mNone\u001b[39;00m, toc\u001b[39m=\u001b[39m\u001b[39mNone\u001b[39;00m, cover\u001b[39m=\u001b[39m\u001b[39mNone\u001b[39;00m,\n\u001b[1;32m     42\u001b[0m              css\u001b[39m=\u001b[39m\u001b[39mNone\u001b[39;00m, configuration\u001b[39m=\u001b[39m\u001b[39mNone\u001b[39;00m, cover_first\u001b[39m=\u001b[39m\u001b[39mFalse\u001b[39;00m, verbose\u001b[39m=\u001b[39m\u001b[39mFalse\u001b[39;00m):\n\u001b[1;32m     44\u001b[0m     \u001b[39mself\u001b[39m\u001b[39m.\u001b[39msource \u001b[39m=\u001b[39m Source(url_or_file, type_)\n\u001b[0;32m---> 45\u001b[0m     \u001b[39mself\u001b[39m\u001b[39m.\u001b[39mconfiguration \u001b[39m=\u001b[39m (Configuration() \u001b[39mif\u001b[39;00m configuration \u001b[39mis\u001b[39;00m \u001b[39mNone\u001b[39;00m\n\u001b[1;32m     46\u001b[0m                           \u001b[39melse\u001b[39;00m configuration)\n\u001b[1;32m     47\u001b[0m     \u001b[39mtry\u001b[39;00m:\n\u001b[1;32m     48\u001b[0m         \u001b[39mself\u001b[39m\u001b[39m.\u001b[39mwkhtmltopdf \u001b[39m=\u001b[39m \u001b[39mself\u001b[39m\u001b[39m.\u001b[39mconfiguration\u001b[39m.\u001b[39mwkhtmltopdf\u001b[39m.\u001b[39mdecode(\u001b[39m'\u001b[39m\u001b[39mutf-8\u001b[39m\u001b[39m'\u001b[39m)\n",
      "File \u001b[0;32m~/repos/ESG-Score-Prediction-from-Sustainability-Reports/.venv/lib/python3.11/site-packages/pdfkit/configuration.py:38\u001b[0m, in \u001b[0;36mConfiguration.__init__\u001b[0;34m(self, wkhtmltopdf, meta_tag_prefix, environ)\u001b[0m\n\u001b[1;32m     36\u001b[0m         \u001b[39mpass\u001b[39;00m\n\u001b[1;32m     37\u001b[0m \u001b[39mexcept\u001b[39;00m (\u001b[39mIOError\u001b[39;00m, \u001b[39mFileNotFoundError\u001b[39;00m) \u001b[39mas\u001b[39;00m e:\n\u001b[0;32m---> 38\u001b[0m     \u001b[39mraise\u001b[39;00m \u001b[39mIOError\u001b[39;00m(\u001b[39m'\u001b[39m\u001b[39mNo wkhtmltopdf executable found: \u001b[39m\u001b[39m\"\u001b[39m\u001b[39m%s\u001b[39;00m\u001b[39m\"\u001b[39m\u001b[39m\\n\u001b[39;00m\u001b[39m'\u001b[39m\n\u001b[1;32m     39\u001b[0m                   \u001b[39m'\u001b[39m\u001b[39mIf this file exists please check that this process can \u001b[39m\u001b[39m'\u001b[39m\n\u001b[1;32m     40\u001b[0m                   \u001b[39m'\u001b[39m\u001b[39mread it or you can pass path to it manually in method call, \u001b[39m\u001b[39m'\u001b[39m\n\u001b[1;32m     41\u001b[0m                   \u001b[39m'\u001b[39m\u001b[39mcheck README. Otherwise please install wkhtmltopdf - \u001b[39m\u001b[39m'\u001b[39m\n\u001b[1;32m     42\u001b[0m                   \u001b[39m'\u001b[39m\u001b[39mhttps://github.com/JazzCore/python-pdfkit/wiki/Installing-wkhtmltopdf\u001b[39m\u001b[39m'\u001b[39m \u001b[39m%\u001b[39m \u001b[39mself\u001b[39m\u001b[39m.\u001b[39mwkhtmltopdf)\n\u001b[1;32m     45\u001b[0m \u001b[39mself\u001b[39m\u001b[39m.\u001b[39menviron \u001b[39m=\u001b[39m environ\n\u001b[1;32m     47\u001b[0m \u001b[39mif\u001b[39;00m \u001b[39mnot\u001b[39;00m \u001b[39mself\u001b[39m\u001b[39m.\u001b[39menviron:\n",
      "\u001b[0;31mOSError\u001b[0m: No wkhtmltopdf executable found: \"b''\"\nIf this file exists please check that this process can read it or you can pass path to it manually in method call, check README. Otherwise please install wkhtmltopdf - https://github.com/JazzCore/python-pdfkit/wiki/Installing-wkhtmltopdf"
     ]
    }
   ],
   "source": [
    "import os\n",
    "from pdf2image import convert_from_path\n",
    "import pdfkit\n",
    "import tempfile\n",
    "\n",
    "def compress_pdf(source_folder, output_folder):\n",
    "    # Ensure the output directory exists\n",
    "    if not os.path.exists(output_folder):\n",
    "        os.makedirs(output_folder)\n",
    "\n",
    "    # List all files in the source directory\n",
    "    for root, _, files in os.walk(source_folder):\n",
    "        for file in files:\n",
    "            if file.endswith('.pdf'):\n",
    "                source_file_path = os.path.join(root, file)\n",
    "                output_file_path = os.path.join(output_folder, file)\n",
    "\n",
    "                # Convert PDF to images\n",
    "                images = convert_from_path(source_file_path, dpi=200)  # Adjust DPI for quality\n",
    "\n",
    "                # Use a temporary directory to store intermediate images\n",
    "                with tempfile.TemporaryDirectory() as temp_dir:\n",
    "                    image_paths = []\n",
    "                    for i, image in enumerate(images):\n",
    "                        image_path = os.path.join(temp_dir, f'page_{i}.png')\n",
    "                        image.save(image_path)\n",
    "                        image_paths.append(image_path)\n",
    "\n",
    "                    # Convert images back to PDF\n",
    "                    pdfkit.from_file(image_paths, output_file_path)\n",
    "\n",
    "compress_pdf('/Users/neuefische/Downloads/test_ESG', '/Users/neuefische/Downloads/test_ESG_compressed/')\n"
   ]
  }
 ],
 "metadata": {
  "kernelspec": {
   "display_name": ".venv",
   "language": "python",
   "name": "python3"
  },
  "language_info": {
   "codemirror_mode": {
    "name": "ipython",
    "version": 3
   },
   "file_extension": ".py",
   "mimetype": "text/x-python",
   "name": "python",
   "nbconvert_exporter": "python",
   "pygments_lexer": "ipython3",
   "version": "3.11.3"
  },
  "orig_nbformat": 4
 },
 "nbformat": 4,
 "nbformat_minor": 2
}
