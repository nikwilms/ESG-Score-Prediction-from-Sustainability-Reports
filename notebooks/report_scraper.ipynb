{
 "cells": [
  {
   "cell_type": "code",
   "execution_count": 11,
   "metadata": {},
   "outputs": [
    {
     "name": "stdout",
     "output_type": "stream",
     "text": [
      "Requirement already satisfied: selenium in /Users/neuefische/repos/ESG-Score-Prediction-from-Sustainability-Reports/.venv/lib/python3.11/site-packages (4.12.0)\n",
      "Requirement already satisfied: urllib3[socks]<3,>=1.26 in /Users/neuefische/repos/ESG-Score-Prediction-from-Sustainability-Reports/.venv/lib/python3.11/site-packages (from selenium) (1.26.16)\n",
      "Requirement already satisfied: trio~=0.17 in /Users/neuefische/repos/ESG-Score-Prediction-from-Sustainability-Reports/.venv/lib/python3.11/site-packages (from selenium) (0.22.2)\n",
      "Requirement already satisfied: trio-websocket~=0.9 in /Users/neuefische/repos/ESG-Score-Prediction-from-Sustainability-Reports/.venv/lib/python3.11/site-packages (from selenium) (0.10.4)\n",
      "Requirement already satisfied: certifi>=2021.10.8 in /Users/neuefische/repos/ESG-Score-Prediction-from-Sustainability-Reports/.venv/lib/python3.11/site-packages (from selenium) (2023.7.22)\n",
      "Requirement already satisfied: attrs>=20.1.0 in /Users/neuefische/repos/ESG-Score-Prediction-from-Sustainability-Reports/.venv/lib/python3.11/site-packages (from trio~=0.17->selenium) (23.1.0)\n",
      "Requirement already satisfied: sortedcontainers in /Users/neuefische/repos/ESG-Score-Prediction-from-Sustainability-Reports/.venv/lib/python3.11/site-packages (from trio~=0.17->selenium) (2.4.0)\n",
      "Requirement already satisfied: idna in /Users/neuefische/repos/ESG-Score-Prediction-from-Sustainability-Reports/.venv/lib/python3.11/site-packages (from trio~=0.17->selenium) (3.4)\n",
      "Requirement already satisfied: outcome in /Users/neuefische/repos/ESG-Score-Prediction-from-Sustainability-Reports/.venv/lib/python3.11/site-packages (from trio~=0.17->selenium) (1.2.0)\n",
      "Requirement already satisfied: sniffio in /Users/neuefische/repos/ESG-Score-Prediction-from-Sustainability-Reports/.venv/lib/python3.11/site-packages (from trio~=0.17->selenium) (1.3.0)\n",
      "Requirement already satisfied: exceptiongroup in /Users/neuefische/repos/ESG-Score-Prediction-from-Sustainability-Reports/.venv/lib/python3.11/site-packages (from trio-websocket~=0.9->selenium) (1.1.3)\n",
      "Requirement already satisfied: wsproto>=0.14 in /Users/neuefische/repos/ESG-Score-Prediction-from-Sustainability-Reports/.venv/lib/python3.11/site-packages (from trio-websocket~=0.9->selenium) (1.2.0)\n",
      "Requirement already satisfied: PySocks!=1.5.7,<2.0,>=1.5.6 in /Users/neuefische/repos/ESG-Score-Prediction-from-Sustainability-Reports/.venv/lib/python3.11/site-packages (from urllib3[socks]<3,>=1.26->selenium) (1.7.1)\n",
      "Requirement already satisfied: h11<1,>=0.9.0 in /Users/neuefische/repos/ESG-Score-Prediction-from-Sustainability-Reports/.venv/lib/python3.11/site-packages (from wsproto>=0.14->trio-websocket~=0.9->selenium) (0.14.0)\n",
      "Requirement already satisfied: webdriver_manager in /Users/neuefische/repos/ESG-Score-Prediction-from-Sustainability-Reports/.venv/lib/python3.11/site-packages (4.0.0)\n",
      "Requirement already satisfied: requests in /Users/neuefische/repos/ESG-Score-Prediction-from-Sustainability-Reports/.venv/lib/python3.11/site-packages (from webdriver_manager) (2.31.0)\n",
      "Requirement already satisfied: python-dotenv in /Users/neuefische/repos/ESG-Score-Prediction-from-Sustainability-Reports/.venv/lib/python3.11/site-packages (from webdriver_manager) (1.0.0)\n",
      "Requirement already satisfied: packaging in /Users/neuefische/repos/ESG-Score-Prediction-from-Sustainability-Reports/.venv/lib/python3.11/site-packages (from webdriver_manager) (23.1)\n",
      "Requirement already satisfied: charset-normalizer<4,>=2 in /Users/neuefische/repos/ESG-Score-Prediction-from-Sustainability-Reports/.venv/lib/python3.11/site-packages (from requests->webdriver_manager) (3.2.0)\n",
      "Requirement already satisfied: idna<4,>=2.5 in /Users/neuefische/repos/ESG-Score-Prediction-from-Sustainability-Reports/.venv/lib/python3.11/site-packages (from requests->webdriver_manager) (3.4)\n",
      "Requirement already satisfied: urllib3<3,>=1.21.1 in /Users/neuefische/repos/ESG-Score-Prediction-from-Sustainability-Reports/.venv/lib/python3.11/site-packages (from requests->webdriver_manager) (1.26.16)\n",
      "Requirement already satisfied: certifi>=2017.4.17 in /Users/neuefische/repos/ESG-Score-Prediction-from-Sustainability-Reports/.venv/lib/python3.11/site-packages (from requests->webdriver_manager) (2023.7.22)\n"
     ]
    }
   ],
   "source": [
    "!pip install selenium --upgrade\n",
    "!pip install webdriver_manager --upgrade"
   ]
  },
  {
   "cell_type": "code",
   "execution_count": 88,
   "metadata": {},
   "outputs": [
    {
     "name": "stdout",
     "output_type": "stream",
     "text": [
      "['MMM', 'AOS', 'ABT', 'ABBV', 'ACN', 'ATVI', 'ADM', 'ADBE', 'ADP', 'AES', 'AFL', 'A', 'ABNB', 'APD', 'AKAM', 'ALK', 'ALB', 'ARE', 'ALGN', 'ALLE', 'LNT', 'ALL', 'GOOGL', 'GOOG', 'MO', 'AMZN', 'AMCR', 'AMD', 'AEE', 'AAL', 'AEP', 'AXP', 'AIG', 'AMT', 'AWK', 'AMP', 'AME', 'AMGN', 'APH', 'ADI', 'ANSS', 'AON', 'APA', 'AAPL', 'AMAT', 'APTV', 'ACGL', 'ANET', 'AJG', 'AIZ', 'T', 'ATO', 'ADSK', 'AZO', 'AVB', 'AVY', 'AXON', 'BKR', 'BALL', 'BAC', 'BBWI', 'BAX', 'BDX', 'WRB', 'BRK.B', 'BBY', 'BIO', 'TECH', 'BIIB', 'BLK', 'BX', 'BK', 'BA', 'BKNG', 'BWA', 'BXP', 'BSX', 'BMY', 'AVGO', 'BR', 'BRO', 'BF.B', 'BG', 'CHRW', 'CDNS', 'CZR', 'CPT', 'CPB', 'COF', 'CAH', 'KMX', 'CCL', 'CARR', 'CTLT', 'CAT', 'CBOE', 'CBRE', 'CDW', 'CE', 'COR', 'CNC', 'CNP', 'CDAY', 'CF', 'CRL', 'SCHW', 'CHTR', 'CVX', 'CMG', 'CB', 'CHD', 'CI', 'CINF', 'CTAS', 'CSCO', 'C', 'CFG', 'CLX', 'CME', 'CMS', 'KO', 'CTSH', 'CL', 'CMCSA', 'CMA', 'CAG', 'COP', 'ED', 'STZ', 'CEG', 'COO', 'CPRT', 'GLW', 'CTVA', 'CSGP', 'COST', 'CTRA', 'CCI', 'CSX', 'CMI', 'CVS', 'DHI', 'DHR', 'DRI', 'DVA', 'DE', 'DAL', 'XRAY', 'DVN', 'DXCM', 'FANG', 'DLR', 'DFS', 'DIS', 'DG', 'DLTR', 'D', 'DPZ', 'DOV', 'DOW', 'DTE', 'DUK', 'DD', 'DXC', 'EMN', 'ETN', 'EBAY', 'ECL', 'EIX', 'EW', 'EA', 'ELV', 'LLY', 'EMR', 'ENPH', 'ETR', 'EOG', 'EPAM', 'EQT', 'EFX', 'EQIX', 'EQR', 'ESS', 'EL', 'ETSY', 'EG', 'EVRG', 'ES', 'EXC', 'EXPE', 'EXPD', 'EXR', 'XOM', 'FFIV', 'FDS', 'FICO', 'FAST', 'FRT', 'FDX', 'FITB', 'FSLR', 'FE', 'FIS', 'FI', 'FLT', 'FMC', 'F', 'FTNT', 'FTV', 'FOXA', 'FOX', 'BEN', 'FCX', 'GRMN', 'IT', 'GEHC', 'GEN', 'GNRC', 'GD', 'GE', 'GIS', 'GM', 'GPC', 'GILD', 'GL', 'GPN', 'GS', 'HAL', 'HIG', 'HAS', 'HCA', 'PEAK', 'HSIC', 'HSY', 'HES', 'HPE', 'HLT', 'HOLX', 'HD', 'HON', 'HRL', 'HST', 'HWM', 'HPQ', 'HUM', 'HBAN', 'HII', 'IBM', 'IEX', 'IDXX', 'ITW', 'ILMN', 'INCY', 'IR', 'PODD', 'INTC', 'ICE', 'IFF', 'IP', 'IPG', 'INTU', 'ISRG', 'IVZ', 'INVH', 'IQV', 'IRM', 'JBHT', 'JKHY', 'J', 'JNJ', 'JCI', 'JPM', 'JNPR', 'K', 'KVUE', 'KDP', 'KEY', 'KEYS', 'KMB', 'KIM', 'KMI', 'KLAC', 'KHC', 'KR', 'LHX', 'LH', 'LRCX', 'LW', 'LVS', 'LDOS', 'LEN', 'LIN', 'LYV', 'LKQ', 'LMT', 'L', 'LOW', 'LYB', 'MTB', 'MRO', 'MPC', 'MKTX', 'MAR', 'MMC', 'MLM', 'MAS', 'MA', 'MTCH', 'MKC', 'MCD', 'MCK', 'MDT', 'MRK', 'META', 'MET', 'MTD', 'MGM', 'MCHP', 'MU', 'MSFT', 'MAA', 'MRNA', 'MHK', 'MOH', 'TAP', 'MDLZ', 'MPWR', 'MNST', 'MCO', 'MS', 'MOS', 'MSI', 'MSCI', 'NDAQ', 'NTAP', 'NFLX', 'NEM', 'NWSA', 'NWS', 'NEE', 'NKE', 'NI', 'NDSN', 'NSC', 'NTRS', 'NOC', 'NCLH', 'NRG', 'NUE', 'NVDA', 'NVR', 'NXPI', 'ORLY', 'OXY', 'ODFL', 'OMC', 'ON', 'OKE', 'ORCL', 'OGN', 'OTIS', 'PCAR', 'PKG', 'PANW', 'PARA', 'PH', 'PAYX', 'PAYC', 'PYPL', 'PNR', 'PEP', 'PFE', 'PCG', 'PM', 'PSX', 'PNW', 'PXD', 'PNC', 'POOL', 'PPG', 'PPL', 'PFG', 'PG', 'PGR', 'PLD', 'PRU', 'PEG', 'PTC', 'PSA', 'PHM', 'QRVO', 'PWR', 'QCOM', 'DGX', 'RL', 'RJF', 'RTX', 'O', 'REG', 'REGN', 'RF', 'RSG', 'RMD', 'RVTY', 'RHI', 'ROK', 'ROL', 'ROP', 'ROST', 'RCL', 'SPGI', 'CRM', 'SBAC', 'SLB', 'STX', 'SEE', 'SRE', 'NOW', 'SHW', 'SPG', 'SWKS', 'SJM', 'SNA', 'SEDG', 'SO', 'LUV', 'SWK', 'SBUX', 'STT', 'STLD', 'STE', 'SYK', 'SYF', 'SNPS', 'SYY', 'TMUS', 'TROW', 'TTWO', 'TPR', 'TRGP', 'TGT', 'TEL', 'TDY', 'TFX', 'TER', 'TSLA', 'TXN', 'TXT', 'TMO', 'TJX', 'TSCO', 'TT', 'TDG', 'TRV', 'TRMB', 'TFC', 'TYL', 'TSN', 'USB', 'UDR', 'ULTA', 'UNP', 'UAL', 'UPS', 'URI', 'UNH', 'UHS', 'VLO', 'VTR', 'VRSN', 'VRSK', 'VZ', 'VRTX', 'VFC', 'VTRS', 'VICI', 'V', 'VMC', 'WAB', 'WBA', 'WMT', 'WBD', 'WM', 'WAT', 'WEC', 'WFC', 'WELL', 'WST', 'WDC', 'WRK', 'WY', 'WHR', 'WMB', 'WTW', 'GWW', 'WYNN', 'XEL', 'XYL', 'YUM', 'ZBRA', 'ZBH', 'ZION', 'ZTS']\n"
     ]
    }
   ],
   "source": [
    "# S&P 500 companies list\n",
    "\n",
    "import requests\n",
    "from bs4 import BeautifulSoup\n",
    "\n",
    "URL = \"https://en.wikipedia.org/wiki/List_of_S%26P_500_companies\"\n",
    "response = requests.get(URL)\n",
    "soup = BeautifulSoup(response.content, 'html.parser')\n",
    "\n",
    "# Find the table containing the list of S&P 500 companies\n",
    "table = soup.find('table', {'class': 'wikitable sortable'})\n",
    "\n",
    "# Extract company names from the table\n",
    "companies_500 = []\n",
    "for row in table.findAll('tr')[1:]:\n",
    "    columns = row.findAll('td')\n",
    "    company_name = columns[0].get_text(strip=True)\n",
    "    companies_500.append(company_name)\n",
    "\n",
    "print(companies_500)"
   ]
  },
  {
   "cell_type": "code",
   "execution_count": 89,
   "metadata": {},
   "outputs": [
    {
     "name": "stdout",
     "output_type": "stream",
     "text": [
      "['MMM', 'AOS', 'ABT', 'ABBV', 'ACN', 'ATVI', 'ADM', 'ADBE', 'ADP', 'AES']\n"
     ]
    }
   ],
   "source": [
    "first_ten_companies = companies_500[:10]\n",
    "print(first_ten_companies)"
   ]
  },
  {
   "cell_type": "code",
   "execution_count": 90,
   "metadata": {},
   "outputs": [],
   "source": [
    "from selenium import webdriver\n",
    "from webdriver_manager.chrome import ChromeDriverManager\n",
    "\n",
    "from selenium.webdriver.common.by import By\n",
    "from selenium.webdriver.support.ui import WebDriverWait\n",
    "from selenium.webdriver.support import expected_conditions as EC\n",
    "from selenium.webdriver.chrome.options import Options\n",
    "from selenium.webdriver.common.action_chains import ActionChains\n",
    "import time\n",
    "\n"
   ]
  },
  {
   "cell_type": "code",
   "execution_count": 109,
   "metadata": {},
   "outputs": [
    {
     "data": {
      "text/plain": [
       "'\\n# Ensure chromedriver is set up\\nChromeDriverManager().install()\\n\\n# Set Chrome to automatically download PDF files\\nprefs = {\\n    \"download.default_directory\": \"/Users/neuefische/Downloads/test_ESG\", # this directory needs to be adjusted accordingly\\n    \"download.prompt_for_download\": False,\\n    \"download.directory_upgrade\": True,\\n    \"plugins.always_open_pdf_externally\": True\\n}\\n\\nchrome_options = webdriver.ChromeOptions()\\nchrome_options.add_experimental_option(\\'prefs\\', prefs)\\n\\n# Initialize the browser\\ndriver = webdriver.Chrome(options=chrome_options)\\n\\ncompany_list = remaining_companies # List of S&P 500 companies\\n\\nwait = WebDriverWait(driver, 1)\\n\\nfor company in company_list:\\n    try:\\n        # Step 1: Navigate to the website\\n        driver.get(\"https://www.responsibilityreports.com/\")\\n\\n        # Step 2: Interact with the search bar\\n        search_bar = wait.until(EC.element_to_be_clickable((By.CSS_SELECTOR, \"body > div.container > section.banner_section > div > div > div.left_section > form > input[type=text]:nth-child(2)\")))\\n        search_bar.send_keys(company)\\n        search_bar.submit()\\n\\n        # Step 3: Select the company from search results\\n        company_link = wait.until(EC.element_to_be_clickable((By.CSS_SELECTOR, \"body > div.container > section.category_section > div.apparel_stores_company_list > ul > li:nth-child(2) > span.companyName > a\")))\\n        company_link.click()\\n\\n        # Step 4: Download the most recent report\\n        try:\\n            most_recent_link = driver.find_element(By.CSS_SELECTOR, \"div.most_recent_content_block a\")\\n            most_recent_link.click()\\n\\n            # Close the pop-up if present\\n            try:\\n                close_popup = wait.until(EC.visibility_of_element_located((By.CSS_SELECTOR, \"body > div.container > div > div > div.close_popup > a\")))\\n                close_popup.click()\\n            except:\\n                pass  # If popup is not present, continue to the next step\\n\\n        except Exception as e:\\n            print(f\"Unable to download the most recent report for {company}. Error: {e}\")\\n\\n\\n        # Step 5: Download archived reports\\n        archived_links = wait.until(EC.presence_of_all_elements_located((By.CSS_SELECTOR, \"div.archived_report_content_block a\")))\\n\\n        clicked_links = set()  # This set will store URLs of already clicked reports\\n\\n        # Click on each archived report link\\n        for link in archived_links:\\n            link_url = link.get_attribute(\\'href\\')\\n            if link_url not in clicked_links:\\n                ActionChains(driver).move_to_element(link).click(link).perform()\\n                clicked_links.add(link_url)  # Add the clicked link to the set\\n                time.sleep(1)  # wait for 1 seconds to allow the download to initiate\\n\\n    except Exception as e:\\n        print(f\"Error with company {company}: {e}\")\\n        continue\\n'"
      ]
     },
     "execution_count": 109,
     "metadata": {},
     "output_type": "execute_result"
    }
   ],
   "source": [
    "download_directory = \"/Users/neuefische/Downloads/test_ESG\" # ajdust accoringly\n",
    "\n",
    "# Assuming initial_companies is your list of S&P 500 companies\n",
    "initial_companies = companies_500  # Your full list of S&P 500 companies\n",
    "\n",
    "# Extract company symbols from filenames\n",
    "downloaded_files = os.listdir(download_directory)\n",
    "downloaded_companies = set(file.split('_')[1] for file in downloaded_files if '_' in file)\n",
    "\n",
    "# Get the remaining companies\n",
    "remaining_companies = set(initial_companies) - downloaded_companies\n",
    "\n",
    "#print(remaining_companies)\n",
    "len(remaining_companies)\n",
    "\n",
    "\n",
    "# Ensure chromedriver is set up\n",
    "ChromeDriverManager().install()\n",
    "\n",
    "# Set Chrome to automatically download PDF files\n",
    "prefs = {\n",
    "    \"download.default_directory\": \"/Users/neuefische/Downloads/test_ESG\", # this directory needs to be adjusted accordingly\n",
    "    \"download.prompt_for_download\": False,\n",
    "    \"download.directory_upgrade\": True,\n",
    "    \"plugins.always_open_pdf_externally\": True\n",
    "}\n",
    "\n",
    "chrome_options = webdriver.ChromeOptions()\n",
    "chrome_options.add_experimental_option('prefs', prefs)\n",
    "\n",
    "# Initialize the browser\n",
    "driver = webdriver.Chrome(options=chrome_options)\n",
    "\n",
    "company_list = remaining_companies # List of S&P 500 companies / adjust accordingly\n",
    "\n",
    "wait = WebDriverWait(driver, 1)\n",
    "\n",
    "for company in company_list:\n",
    "    try:\n",
    "        # Step 1: Navigate to the website\n",
    "        driver.get(\"https://www.responsibilityreports.com/\")\n",
    "\n",
    "        # Step 2: Interact with the search bar\n",
    "        search_bar = wait.until(EC.element_to_be_clickable((By.CSS_SELECTOR, \"body > div.container > section.banner_section > div > div > div.left_section > form > input[type=text]:nth-child(2)\")))\n",
    "        search_bar.send_keys(company)\n",
    "        search_bar.submit()\n",
    "\n",
    "        # Step 3: Select the company from search results\n",
    "        company_link = wait.until(EC.element_to_be_clickable((By.CSS_SELECTOR, \"body > div.container > section.category_section > div.apparel_stores_company_list > ul > li:nth-child(2) > span.companyName > a\")))\n",
    "        company_link.click()\n",
    "\n",
    "        # Step 4: Download the most recent report\n",
    "        try:\n",
    "            most_recent_link = driver.find_element(By.CSS_SELECTOR, \"div.most_recent_content_block a\")\n",
    "            most_recent_link.click()\n",
    "\n",
    "            # Close the pop-up if present\n",
    "            try:\n",
    "                close_popup = wait.until(EC.visibility_of_element_located((By.CSS_SELECTOR, \"body > div.container > div > div > div.close_popup > a\")))\n",
    "                close_popup.click()\n",
    "            except:\n",
    "                pass  # If popup is not present, continue to the next step\n",
    "\n",
    "        except Exception as e:\n",
    "            print(f\"Unable to download the most recent report for {company}. Error: {e}\")\n",
    "\n",
    "\n",
    "        # Step 5: Download archived reports\n",
    "        archived_links = wait.until(EC.presence_of_all_elements_located((By.CSS_SELECTOR, \"div.archived_report_content_block a\")))\n",
    "\n",
    "        clicked_links = set()  # This set will store URLs of already clicked reports\n",
    "\n",
    "        # Click on each archived report link\n",
    "        for link in archived_links:\n",
    "            link_url = link.get_attribute('href')\n",
    "            if link_url not in clicked_links:\n",
    "                ActionChains(driver).move_to_element(link).click(link).perform()\n",
    "                clicked_links.add(link_url)  # Add the clicked link to the set\n",
    "                time.sleep(1)  # wait for 1 seconds to allow the download to initiate\n",
    "\n",
    "    except Exception as e:\n",
    "        print(f\"Error with company {company}: {e}\")\n",
    "        continue"
   ]
  },
  {
   "cell_type": "code",
   "execution_count": 110,
   "metadata": {},
   "outputs": [
    {
     "name": "stdout",
     "output_type": "stream",
     "text": [
      "{'LEN', 'DVA', 'CRM', 'OMC', 'SO', 'IT', 'ESS', 'MET', 'SNA', 'EMR', 'AON', 'TRGP', 'AAL', 'URI', 'WBD', 'ETR', 'SEE', 'CVS', 'NFLX', 'L', 'C', 'TAP', 'MCD', 'BA', 'VRSN', 'CE', 'KEY', 'CB', 'T', 'HAS', 'AXON', 'DE', 'GILD', 'EXR', 'NWSA', 'ON', 'PEP', 'IRM', 'DOV', 'BRO', 'TT', 'TDY', 'PFE', 'TEL', 'IP', 'GD', 'ADI', 'BEN', 'ORLY', 'ULTA', 'MPWR', 'ZBRA', 'PAYC', 'REG', 'EXPE', 'F', 'PEAK', 'IFF', 'NVR', 'CDW', 'PRU', 'FE', 'STE', 'ARE', 'CLX', 'BG', 'TECH', 'FOXA', 'FDS', 'ROL', 'TER', 'GEN', 'BX', 'TYL', 'BRK.B', 'DTE', 'TSCO', 'HON', 'AMCR', 'PM', 'XEL', 'MAS', 'MCK', 'DRI', 'PG', 'BR', 'O', 'KIM', 'J', 'FI', 'COR', 'WAT', 'KVUE', 'K', 'WTW', 'HAL', 'GE', 'FICO', 'MRO', 'UNP', 'NSC', 'DAL', 'MOH', 'KO', 'MS', 'LLY', 'RVTY', 'PLD', 'ROP', 'IR', 'CI', 'HPQ', 'MOS', 'EG', 'WELL', 'LW', 'PSA', 'OKE', 'AZO', 'ALLE', 'NKE', 'NOC', 'ROST', 'CTRA', 'GM', 'ANET', 'META', 'V', 'HCA', 'AES', 'WY', 'ICE', 'EW', 'DXC', 'HUM', 'KEYS', 'D', 'DG', 'GIS', 'KR', 'DD', 'LIN', 'PEG', 'MA', 'HES', 'WM', 'INVH', 'EFX', 'HPE', 'BLK', 'MO', 'RL', 'WAB', 'MCO', 'UAL', 'HD', 'DFS', 'MU', 'AMAT', 'NOW', 'LNT', 'EXC', 'ES', 'PH', 'BAC', 'MAR', 'MNST', 'ED', 'ALL', 'NEE', 'PARA', 'GL', 'BALL', 'RF', 'CF', 'CL', 'EL', 'APH', 'GS', 'EA', 'RHI', 'LOW', 'GOOGL', 'PPL', 'DIS', 'LYV', 'BIO', 'TMO', 'BF.B', 'OGN', 'COST', 'RCL', 'NI', 'ALGN', 'CAT', 'CCI'}\n"
     ]
    },
    {
     "data": {
      "text/plain": [
       "196"
      ]
     },
     "execution_count": 110,
     "metadata": {},
     "output_type": "execute_result"
    }
   ],
   "source": [
    "download_directory = \"/Users/neuefische/Downloads/test_ESG\"\n",
    "\n",
    "# Assuming initial_companies is your list of S&P 500 companies\n",
    "initial_companies = companies_500  # Your full list of S&P 500 companies\n",
    "\n",
    "# Extract company symbols from filenames\n",
    "downloaded_files = os.listdir(download_directory)\n",
    "downloaded_companies = set(file.split('_')[1] for file in downloaded_files if '_' in file)\n",
    "\n",
    "# Get the remaining companies\n",
    "remaining_companies = set(initial_companies) - downloaded_companies\n",
    "\n",
    "print(remaining_companies)\n",
    "\n",
    "len(remaining_companies)\n"
   ]
  },
  {
   "cell_type": "code",
   "execution_count": 47,
   "metadata": {},
   "outputs": [],
   "source": [
    "# exit driver\n",
    "\n",
    "driver.quit()"
   ]
  }
 ],
 "metadata": {
  "kernelspec": {
   "display_name": ".venv",
   "language": "python",
   "name": "python3"
  },
  "language_info": {
   "codemirror_mode": {
    "name": "ipython",
    "version": 3
   },
   "file_extension": ".py",
   "mimetype": "text/x-python",
   "name": "python",
   "nbconvert_exporter": "python",
   "pygments_lexer": "ipython3",
   "version": "3.11.3"
  },
  "orig_nbformat": 4
 },
 "nbformat": 4,
 "nbformat_minor": 2
}
