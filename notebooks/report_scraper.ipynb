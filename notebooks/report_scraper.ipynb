{
 "cells": [
  {
   "cell_type": "code",
   "execution_count": 11,
   "metadata": {},
   "outputs": [
    {
     "name": "stdout",
     "output_type": "stream",
     "text": [
      "Requirement already satisfied: selenium in /Users/neuefische/repos/ESG-Score-Prediction-from-Sustainability-Reports/.venv/lib/python3.11/site-packages (4.12.0)\n",
      "Requirement already satisfied: urllib3[socks]<3,>=1.26 in /Users/neuefische/repos/ESG-Score-Prediction-from-Sustainability-Reports/.venv/lib/python3.11/site-packages (from selenium) (1.26.16)\n",
      "Requirement already satisfied: trio~=0.17 in /Users/neuefische/repos/ESG-Score-Prediction-from-Sustainability-Reports/.venv/lib/python3.11/site-packages (from selenium) (0.22.2)\n",
      "Requirement already satisfied: trio-websocket~=0.9 in /Users/neuefische/repos/ESG-Score-Prediction-from-Sustainability-Reports/.venv/lib/python3.11/site-packages (from selenium) (0.10.4)\n",
      "Requirement already satisfied: certifi>=2021.10.8 in /Users/neuefische/repos/ESG-Score-Prediction-from-Sustainability-Reports/.venv/lib/python3.11/site-packages (from selenium) (2023.7.22)\n",
      "Requirement already satisfied: attrs>=20.1.0 in /Users/neuefische/repos/ESG-Score-Prediction-from-Sustainability-Reports/.venv/lib/python3.11/site-packages (from trio~=0.17->selenium) (23.1.0)\n",
      "Requirement already satisfied: sortedcontainers in /Users/neuefische/repos/ESG-Score-Prediction-from-Sustainability-Reports/.venv/lib/python3.11/site-packages (from trio~=0.17->selenium) (2.4.0)\n",
      "Requirement already satisfied: idna in /Users/neuefische/repos/ESG-Score-Prediction-from-Sustainability-Reports/.venv/lib/python3.11/site-packages (from trio~=0.17->selenium) (3.4)\n",
      "Requirement already satisfied: outcome in /Users/neuefische/repos/ESG-Score-Prediction-from-Sustainability-Reports/.venv/lib/python3.11/site-packages (from trio~=0.17->selenium) (1.2.0)\n",
      "Requirement already satisfied: sniffio in /Users/neuefische/repos/ESG-Score-Prediction-from-Sustainability-Reports/.venv/lib/python3.11/site-packages (from trio~=0.17->selenium) (1.3.0)\n",
      "Requirement already satisfied: exceptiongroup in /Users/neuefische/repos/ESG-Score-Prediction-from-Sustainability-Reports/.venv/lib/python3.11/site-packages (from trio-websocket~=0.9->selenium) (1.1.3)\n",
      "Requirement already satisfied: wsproto>=0.14 in /Users/neuefische/repos/ESG-Score-Prediction-from-Sustainability-Reports/.venv/lib/python3.11/site-packages (from trio-websocket~=0.9->selenium) (1.2.0)\n",
      "Requirement already satisfied: PySocks!=1.5.7,<2.0,>=1.5.6 in /Users/neuefische/repos/ESG-Score-Prediction-from-Sustainability-Reports/.venv/lib/python3.11/site-packages (from urllib3[socks]<3,>=1.26->selenium) (1.7.1)\n",
      "Requirement already satisfied: h11<1,>=0.9.0 in /Users/neuefische/repos/ESG-Score-Prediction-from-Sustainability-Reports/.venv/lib/python3.11/site-packages (from wsproto>=0.14->trio-websocket~=0.9->selenium) (0.14.0)\n",
      "Requirement already satisfied: webdriver_manager in /Users/neuefische/repos/ESG-Score-Prediction-from-Sustainability-Reports/.venv/lib/python3.11/site-packages (4.0.0)\n",
      "Requirement already satisfied: requests in /Users/neuefische/repos/ESG-Score-Prediction-from-Sustainability-Reports/.venv/lib/python3.11/site-packages (from webdriver_manager) (2.31.0)\n",
      "Requirement already satisfied: python-dotenv in /Users/neuefische/repos/ESG-Score-Prediction-from-Sustainability-Reports/.venv/lib/python3.11/site-packages (from webdriver_manager) (1.0.0)\n",
      "Requirement already satisfied: packaging in /Users/neuefische/repos/ESG-Score-Prediction-from-Sustainability-Reports/.venv/lib/python3.11/site-packages (from webdriver_manager) (23.1)\n",
      "Requirement already satisfied: charset-normalizer<4,>=2 in /Users/neuefische/repos/ESG-Score-Prediction-from-Sustainability-Reports/.venv/lib/python3.11/site-packages (from requests->webdriver_manager) (3.2.0)\n",
      "Requirement already satisfied: idna<4,>=2.5 in /Users/neuefische/repos/ESG-Score-Prediction-from-Sustainability-Reports/.venv/lib/python3.11/site-packages (from requests->webdriver_manager) (3.4)\n",
      "Requirement already satisfied: urllib3<3,>=1.21.1 in /Users/neuefische/repos/ESG-Score-Prediction-from-Sustainability-Reports/.venv/lib/python3.11/site-packages (from requests->webdriver_manager) (1.26.16)\n",
      "Requirement already satisfied: certifi>=2017.4.17 in /Users/neuefische/repos/ESG-Score-Prediction-from-Sustainability-Reports/.venv/lib/python3.11/site-packages (from requests->webdriver_manager) (2023.7.22)\n"
     ]
    }
   ],
   "source": [
    "!pip install selenium --upgrade\n",
    "!pip install webdriver_manager --upgrade"
   ]
  },
  {
   "cell_type": "code",
   "execution_count": 38,
   "metadata": {},
   "outputs": [],
   "source": [
    "from selenium import webdriver\n",
    "from webdriver_manager.chrome import ChromeDriverManager\n",
    "\n",
    "from selenium.webdriver.common.by import By\n",
    "from selenium.webdriver.support.ui import WebDriverWait\n",
    "from selenium.webdriver.support import expected_conditions as EC\n",
    "from selenium.webdriver.chrome.options import Options\n"
   ]
  },
  {
   "cell_type": "code",
   "execution_count": 46,
   "metadata": {},
   "outputs": [
    {
     "name": "stdout",
     "output_type": "stream",
     "text": [
      "Error with company Apple: Message: element not interactable\n",
      "  (Session info: chrome=116.0.5845.187)\n",
      "Stacktrace:\n",
      "0   chromedriver                        0x00000001010ae65c chromedriver + 4318812\n",
      "1   chromedriver                        0x00000001010a6d00 chromedriver + 4287744\n",
      "2   chromedriver                        0x0000000100cd8644 chromedriver + 296516\n",
      "3   chromedriver                        0x0000000100d176ac chromedriver + 554668\n",
      "4   chromedriver                        0x0000000100d0bf90 chromedriver + 507792\n",
      "5   chromedriver                        0x0000000100d0b858 chromedriver + 505944\n",
      "6   chromedriver                        0x0000000100d4ed28 chromedriver + 781608\n",
      "7   chromedriver                        0x0000000100d0a178 chromedriver + 500088\n",
      "8   chromedriver                        0x0000000100d0afc0 chromedriver + 503744\n",
      "9   chromedriver                        0x000000010106ec40 chromedriver + 4058176\n",
      "10  chromedriver                        0x0000000101073160 chromedriver + 4075872\n",
      "11  chromedriver                        0x0000000101036e68 chromedriver + 3829352\n",
      "12  chromedriver                        0x0000000101073c4c chromedriver + 4078668\n",
      "13  chromedriver                        0x000000010104bf08 chromedriver + 3915528\n",
      "14  chromedriver                        0x0000000101090140 chromedriver + 4194624\n",
      "15  chromedriver                        0x00000001010902c4 chromedriver + 4195012\n",
      "16  chromedriver                        0x00000001010a04d0 chromedriver + 4261072\n",
      "17  libsystem_pthread.dylib             0x00000001871a7fa8 _pthread_start + 148\n",
      "18  libsystem_pthread.dylib             0x00000001871a2da0 thread_start + 8\n",
      "\n"
     ]
    }
   ],
   "source": [
    "# Ensure chromedriver is set up\n",
    "ChromeDriverManager().install()\n",
    "\n",
    "# Initialize the browser\n",
    "chrome_options = webdriver.ChromeOptions()\n",
    "driver = webdriver.Chrome(options=chrome_options)\n",
    "\n",
    "# Set Chrome to automatically download PDF files\n",
    "prefs = {\n",
    "    \"download.default_directory\": \"/Users/neuefische/Downloads/test_ESG\", \n",
    "    \"download.prompt_for_download\": False,\n",
    "    \"download.directory_upgrade\": True,\n",
    "    \"plugins.always_open_pdf_externally\": False\n",
    "}\n",
    "chrome_options.add_experimental_option('prefs', prefs)\n",
    "\n",
    "#driver = webdriver.Chrome(ChromeDriverManager().install(), options=chrome_options)\n",
    "\n",
    "driver.get(\"https://www.responsibilityreports.com/\")\n",
    "\n",
    "company_list = [\"Apple\"]  # List of S&P 500 companies\n",
    "\n",
    "for company in company_list:\n",
    "    try:\n",
    "        # Step 1: Navigate to the website\n",
    "        driver.get(\"https://www.responsibilityreports.com/\")\n",
    "\n",
    "        # Step 2: Interact with the search bar\n",
    "        search_bar = driver.find_element(By.CSS_SELECTOR, \"body > div.container > section.banner_section > div > div > div.left_section > form > input[type=text]:nth-child(2)\")\n",
    "        search_bar.send_keys(company)\n",
    "        search_bar.submit()\n",
    "\n",
    "        # Step 3: Select the company from search results\n",
    "        company_link = driver.find_element(By.CSS_SELECTOR, \"body > div.container > section.category_section > div.apparel_stores_company_list > ul > li:nth-child(2) > span.companyName > a\")\n",
    "        company_link.click()\n",
    "\n",
    "        # Step 4: Download the most recent report\n",
    "        most_recent_link = driver.find_element(By.CSS_SELECTOR, \"div.most_recent_content_block a\")\n",
    "        most_recent_link.click()\n",
    "\n",
    "        # Create a wait object with a timeout of 2 seconds\n",
    "        wait = WebDriverWait(driver, 2)\n",
    "\n",
    "        # Close the pop-up if present\n",
    "        try:\n",
    "            close_popup = wait.until(EC.visibility_of_element_located((By.CSS_SELECTOR, \"body > div.container > div > div > div.close_popup > a\")))\n",
    "            close_popup.click()\n",
    "        except:\n",
    "            pass  # If popup is not present, continue to the next step\n",
    "\n",
    "        # Step 5: Download archived reports\n",
    "        archived_links = driver.find_elements(By.CSS_SELECTOR, \"div.archived_report_content_block a\")\n",
    "\n",
    "        # Click on each archived report link\n",
    "        for link in archived_links:\n",
    "            link.click()\n",
    "            #time.sleep(2)  # wait for 2 seconds to allow the download to initiate\n",
    "\n",
    "    except Exception as e:\n",
    "        print(f\"Error with company {company}: {e}\")\n",
    "        continue\n"
   ]
  },
  {
   "cell_type": "code",
   "execution_count": 47,
   "metadata": {},
   "outputs": [],
   "source": [
    "# exit driver\n",
    "\n",
    "driver.quit()"
   ]
  }
 ],
 "metadata": {
  "kernelspec": {
   "display_name": ".venv",
   "language": "python",
   "name": "python3"
  },
  "language_info": {
   "codemirror_mode": {
    "name": "ipython",
    "version": 3
   },
   "file_extension": ".py",
   "mimetype": "text/x-python",
   "name": "python",
   "nbconvert_exporter": "python",
   "pygments_lexer": "ipython3",
   "version": "3.11.3"
  },
  "orig_nbformat": 4
 },
 "nbformat": 4,
 "nbformat_minor": 2
}
