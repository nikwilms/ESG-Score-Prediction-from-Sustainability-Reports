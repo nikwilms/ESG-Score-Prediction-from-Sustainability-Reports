{
 "cells": [
  {
   "cell_type": "code",
   "execution_count": 1,
   "metadata": {},
   "outputs": [
    {
     "name": "stderr",
     "output_type": "stream",
     "text": [
      "/Users/nikitawilms/Documents/ffm-ds-23-2/ESG-Score-Prediction-from-Sustainability-Reports/.venv/lib/python3.11/site-packages/tqdm/auto.py:21: TqdmWarning: IProgress not found. Please update jupyter and ipywidgets. See https://ipywidgets.readthedocs.io/en/stable/user_install.html\n",
      "  from .autonotebook import tqdm as notebook_tqdm\n"
     ]
    }
   ],
   "source": [
    "import sys \n",
    "sys.path.append('../')\n",
    "import pandas as pd\n",
    "from pipelines.data_pipeline import data_pipeline\n",
    "from pipelines.topic_modelling_pipeline import topic_modelling_pipeline\n",
    "from models.LDA_optuna_tuning.call_optuna_tune import execute_optuna_study\n",
    " \n",
    "df = pd.read_csv('../data/ready_to_model/ready_to_model_df.csv')"
   ]
  },
  {
   "cell_type": "code",
   "execution_count": 2,
   "metadata": {},
   "outputs": [
    {
     "name": "stdout",
     "output_type": "stream",
     "text": [
      "1225\n"
     ]
    }
   ],
   "source": [
    "print(df.shape[0])\n",
    "df_sample = df.sample(200)"
   ]
  },
  {
   "cell_type": "code",
   "execution_count": null,
   "metadata": {},
   "outputs": [],
   "source": [
    "# best trial with sample 200 and trial 20\n",
    " # [I 2023-09-27 14:02:21,636] Trial 19 finished with value: 0.3668734026046577 and parameters: {'alpha': 0.017136653363374693, 'eta': 0.014193044242060693, 'num_topics': 27, 'chunksize': 1734, 'passes': 5}. Best is trial 19 with value: 0.3668734026046577.\n",
    "\n",
    "# [I 2023-09-27 14:20:18,760] Trial 3 finished with value: 0.38477608586038703 and parameters: {'alpha': 0.18863042805764715, 'eta': 0.060666483689718116, 'num_topics': 24, 'chunksize': 2735, 'passes': 5}. Best is trial 3 with value: 0.38477608586038703.\n",
    "\n",
    "# sample 600 and trial 25\n",
    "# [I 2023-09-27 15:54:18,757] Trial 21 finished with value: 0.409431568000695 and parameters: {'alpha': 0.992310908076437, 'eta': 0.6444921519364697, 'num_topics': 25, 'chunksize': 2642, 'passes': 6}. Best is trial 21 with value: 0.409431568000695.\n",
    "\n",
    "# [I 2023-09-27 16:20:49,283] Trial 9 finished with value: 0.41342277303932795 and parameters: {'alpha': 0.11983008122770313, 'eta': 0.17735699915936678, 'num_topics': 16, 'chunksize': 3017, 'passes': 6}. Best is trial 9 with value: 0.41342277303932795.\n",
    "\n",
    "# [I 2023-09-27 16:37:33,119] Trial 22 finished with value: 0.41802069252095253 and parameters: {'alpha': 0.11472507579921098, 'eta': 0.2825560911323019, 'num_topics': 30, 'chunksize': 4220, 'passes': 6}. Best is trial 22 with value: 0.41802069252095253."
   ]
  },
  {
   "cell_type": "code",
   "execution_count": null,
   "metadata": {},
   "outputs": [],
   "source": [
    "execute_optuna_study(df_sample, 20)"
   ]
  },
  {
   "cell_type": "code",
   "execution_count": null,
   "metadata": {},
   "outputs": [],
   "source": [
    "topic_modelling_pipeline(df_sample,3)"
   ]
  }
 ],
 "metadata": {
  "kernelspec": {
   "display_name": ".venv",
   "language": "python",
   "name": "python3"
  },
  "language_info": {
   "codemirror_mode": {
    "name": "ipython",
    "version": 3
   },
   "file_extension": ".py",
   "mimetype": "text/x-python",
   "name": "python",
   "nbconvert_exporter": "python",
   "pygments_lexer": "ipython3",
   "version": "3.11.3"
  },
  "orig_nbformat": 4
 },
 "nbformat": 4,
 "nbformat_minor": 2
}
