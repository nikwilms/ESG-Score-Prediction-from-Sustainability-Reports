{
 "cells": [
  {
   "cell_type": "code",
   "execution_count": 2,
   "metadata": {},
   "outputs": [],
   "source": [
    "import nltk\n",
    "import re"
   ]
  },
  {
   "cell_type": "code",
   "execution_count": 105,
   "metadata": {},
   "outputs": [],
   "source": [
    "data = \"Atlas Copco\\nAnnual report\\n2019Atlas Copco \\nAtlas Copco Group  Inside front cover\\nPresident and CEO 2\\nTHIS IS ATLAS COPCO\\nThis section contains Atlas Copco’s vision, mission,  \\nstrategy, structure and governance, how we do  \\nbusiness and create value for all stakeholders. 5\\nOur goals 11\\nTHE YEAR IN REVIEW  \\nAdministration report\\nThis section describes Atlas Copco’s annual  \\nperformance and achievements. 13\\nCompressor Technique 22\\nVacuum Technique 25\\nIndustrial Technique 28\\nPower Technique 31\\nDelivering lasting value in a sustainable way 34\\nProducts and service 35\\nPeople 36\\nSafety and well-being 39\\nEthics 40\\nEnvironment 42\\nRisks, risk management and opportunities 44\\nThe Atlas Copco share 49\\nCorporate governance  51\\nOUR FINANCIAL RESULTS\\nFinancial statements (Group) 62\\nNotes (Group) 67\\nFinancial statements (Parent) 111\\nNotes (Parent) 113\\nSignatures of the Board of Directors 125\\nAudit report 126\\nFinancial de/f_initions 129\\nSustainability notes (Group) 130\\nGRI index 136\\nAuditor’s Limited Assurance Report on  \\nAtlas Copco AB’s sustainability report 141\\nGoal performance 142\\nThree years in summary 143\\nContacts 144CONTENTS\\nThe audited annual accounts and consolidated accoun ts can be found  \\non pages 13–39, 44–48 and 62–125. The corporate governance report  \\nexamined by the auditors can be found on pages 51–61.\\nSustainability information that has been reviewed by the auditors can  \\nbe found on pages 5–12, 34–43 and 130–140.… believes in delivering innovative products, reliable services and pr o/f_itable growth while  \\nbeing a responsible corporate citizen. This annual report re/f_lects Atla s Copco’s mission of  \\ncreating sustainable, pro/f_itable growth and it integrates /f_inancial, s ustainability and governance  \\ninformation in order to describe the Group in a comprehensive and cohesiv e manner.  \\nGRI Standards and external review\\nAtlas Copco reports its sustainability work for 2019 according to  \\nGRI Standards, Global Reporting Initiative’s reporting guideli nes, level \\nCore. Deloitte has reviewed the report and veri/f_ied this level, see page \\n141. More information can be found at:  www.atlascopcogroup.com.\\nThe sustainability report 2019 is prepared in accordance with the  \\nAnnual Accounts Act.\\nNotice    \\nThe amounts are presented in MSEK unless otherwise  indicated  \\nand numbers in parentheses represent comparative /f_igures for the  \\npreceding year. The /f_igures presented in this report refer to continuing \\noperations unless otherwise stated.  \\nForward-looking statements    \\nSome statements in this report are forward-looking,  and the actual out-\\ncomes could be materially di/uniFB00erent. In addition to the factors explicitly \\ndiscussed, other factors could have a material e/uniFB00ec t on the actual  \\noutcomes. Such factors include, but are not limited  to, general business \\nconditions, /f_luctuations in exchange rates and inter est rates, political  \\ndevelopments, the impact of competing products and their pricing,  \\nproduct development, commercialization and technolo gical di/uniFB03culties,  \\ninterruptions in supply, and major customer credit losses.\\nAtlas Copco AB is a public company. Atlas Copco AB and its subsidiaries \\nare sometimes referred to as the Atlas Copco Group,  the Group, or  \\nAtlas Copco. Atlas Copco AB is also sometimes refer red to as Atlas Copco.  \\nAny mentioning of the Board of Directors or the Boa rd refers to the  \\nBoard of Directors of Atlas Copco AB.Industrial ideas drive  \\ndevelopment\\nAtlas Copco has been turning \\ngreat ideas into business-critical \\nbene/f_its since 1873. By listening \\nto our customers and knowing \\ntheir needs, we deliver value and \\ninnovate with the future in mind.  \\nCover image:\\nElectrical components used in \\nindustrial assembly solutions  \\ninspected in an Atlas Copco  \\nR&D laboratory.Revenues 2019:\\nMSEK 48 286The Compressor Technique business area provides \\ncompressed air solutions; industrial compressors, \\ngas and process compressors and expanders, air \\nand gas treatment equipment and air manage -\\nment systems. The business area has a global \\nservice network and innovates for sustainable \\nproductivity, mainly for the manufacturing and \\nprocess industries. Principal product development \\nand manufacturing units are located in Belgium, \\nthe United States, China, India, Germany and Italy.\\nPage 22COMPRESSOR TECHNIQUE\\nRevenues by region Revenues by region\\nShare of revenues Share of revenues\\nOrders received by  \\ncustomer categoryOrders received by  \\ncustomer category012 00024 00036 00048 00060 000\\n2019 2018 2017 2016*0510152025MSEK %\\n025 00050 00075 000100 000125 000\\n2019 2018 2017 2016*0510152025MSEK %Orders received     Revenues    \\nOperating margin     Orders received     Revenues    \\nOperating margin    \\nAsia/Oceania,  35% North \\nAmerica,  25%\\nAfrica /\\nMiddle  East, 5%\\nEurope, 31%Sout h \\nAmerica,  4%Asia/Oceania,  31% N orth\\nAmerica,  22%\\nAfrica /\\nMiddle  East, 7%\\nEurope, 35%Sout h\\nAmerica,  5%\\nEquipm ent,  64% Service, 36% Service, 43% Equ ipment, 57%\\nOther, 13% General manu-\\nfacturing, 22%\\nConstruction,  12%Service, 7%\\nProcess industry, 20%Electronics, 16%\\nMotor vehicle, 10%Other, 17% General manu-\\nfacturing, 27%\\nConstruction, 14%Service, 11%\\nProcess industry, 28% Motor vehicle, 1%Electronics and \\nelectrical, 2%Atlas Copco\\n– a decentralized group  \\nwith four business areas\\n* 2016 /f_igures are best estimated numbers, as the e/uniFB00ects of the distribution of Epiroc and restatements for IFRS 15 are not fully reconciled.GROUP\\nRevenues 2019:\\nMSEK 103 756The Atlas Copco Group is a world-\\nleading provider of sustain-\\nable productivity solutions. The \\nGroup o/uniFB00ers customers innova-\\ntive compressors, air treatment \\nsystems, vacuum solutions, indus-\\ntrial power tools and assembly \\nsystems, and power and /f_low \\nsolutions. Atlas Copco develops \\nproducts and services focused on \\nproductivity, energy e/uniFB03ciency, \\nsafety and ergonomics. \\nThe company was founded in 1873, \\nis based in Stockholm, Sweden,  \\nand has a global reach spanning \\nmore than 180 countries.  \\nIn 2019, Atlas Copco had revenues \\nof BSEK 104 (BEUR 10) and about \\n39/uni00A0000 employees at year end.Revenues 2019:\\nMSEK 23 570The Vacuum Technique business area provides \\nvacuum products, exhaust management systems, \\nvalves and related products. The main markets \\nserved are semiconductor and scienti/f_ic as well \\nas a wide range of industrial segments including \\nchemical process industries, food packaging \\nand paper handling. The business area has a \\nglobal service network and innovates for sustain -\\nable productivity in order to further improve its \\ncustomers’ performance. Principal product deve l-\\nopment and manufacturing units are located in  \\nthe United States, Mexico, United Kingdom, Czech \\nRepublic, Germany, South Korea, China and Japan.\\nPage 25VACUUM TECHNIQUE\\nThe Power Technique business area provides air, \\npower and /f_low solutions through products such \\nas mobile compressors, pumps, light towers and \\ngenerators, along with a number of complemen -\\ntary products. It also o/uniFB00ers specialty rental and \\nprovides services through a dedicated, global \\nnetwork. The business area innovates for sustain -\\nable productivity across multiple industries, \\nincluding construction, manufacturing, oil and gas \\nand exploration drilling. Principal product devel -\\nopment and manufacturing units are located in \\nBelgium, Spain, the United States, China and India.       \\nPage 31The Industrial Technique business area provides \\nindustrial power tools and systems, industrial \\nassembly solutions, quality assurance products, \\nsoftware and service through a global network. The \\nbusiness area innovates for sustainable productivit y \\nfor customers in the automotive and general indus -\\ntries, maintenance and vehicle service. Principal \\nproduct development and manufacturing units are \\nlocated in Sweden, Germany, Hungary, the United \\nStates, United Kingdom, France and Japan.\\nPage 28INDUSTRIAL TECHNIQUE POWER TECHNIQUE\\nRevenues by region\\nShare of revenues\\nOrders received by  \\ncustomer category05 00010 00015 00020 00025 000\\n2019 2018 2017 2016*0510152025MSEK %Orders received     Revenues    \\nOperating margin     \\nRevenues by region Revenues by region\\nShare of revenues Share of revenues05 00010 00015 00020 00025 000\\n2019 2018 2017 2016*0510152025MSEK %\\n05 00010 00015 00020 00025 000\\n2019 2018 2017 2016*0510152025MSEK %\\nOrders received by  \\ncustomer categoryOrders received by  \\ncustomer categoryOrders received     Revenues    \\nOperating margin     Orders received     Revenues    \\nOperating margin     \\n*  2016 /f_igures are best estimated numbers, as the e /uniFB00ects of the distribution of Epiroc and restatement s for IFRS 15 are not fully reconciled.Asia/Oceania,  58% North\\nAmerica,  25%\\nAfrica/\\nMiddle  East, 2% Europe, 15%Asia/Oceania,  26% North America,  \\n31%\\nAfrica /\\nMiddle  East, 2%\\nEurope, 38%Sout h \\nAmerica,  3%Asia/Oceania, 22 % N orth \\nAmerica, 25%\\nAfrica/\\nMiddle East,  12%\\nEurope, 35%South \\nAmerica, 6%\\nServ ice, 25% Equipment, 75 % Service, 28 % Equipment, 72% Service, 11% Equipme nt, 58 %\\nService (specialty \\nrental), 31%\\nOther, 4% General manu-\\nfacturing, 13%\\nProcess \\nindustry, 18% Electronics, 65%Other, 11% General manu-\\nfacturing, 22%\\nConstruction, 6%Service, 6%\\nElectronics, 2%\\nMotor vehicle, 53%General manu-\\nfacturing, 22%Othe r, 21%\\nConstruction, 37%Service, 5%\\nProcess \\nindustry,  15%Revenues 2019:\\nMSEK 18 712Revenues 2019:\\nMSEK 13 915*  2016 /f_igures are best estimated numbers, as the e /uniFB00ects of the distribution  \\nof Epiroc and restatements for IFRS 15 are not full y reconciled.\\nOrders received and  \\nrevenues\\n020 00040 00060 00080 000100 000120 000\\n2019 2018 2017 2016*Return on capital employed  \\nand operating margin\\n05101520253035\\n2019 2018 2017 2016*%\\n  Orders received, MSEK\\n  Revenues, MSEK   Return on capital employed, %\\n  Operating margin, %Atlas Copco 2019 \\n– a record year\\nRevenues: MSEK 103 756 (+9%)\\nReturn on capital employed: 30%\\nOperating margin: 21.1%2 Atlas Copco 2019PRESIDENT AND CEO\\nDelivering long-term growth and  \\ncustomer value in a sustainable way\\nRevenues, orders received and operating pro/f_it reach ed all-time high  \\nduring 2019. It was also a year when we welcomed mo re new companies  \\ninto the Group through acquisitions than any year b efore. \\nMats Rahmström, President and CEO of \\nthe Atlas Copco Group, 2019 was a year \\nwith record-high revenues and orders \\nreceived, what are your comments on  \\nthe results?\\nThis past y ear was another one with very \\nstrong results. The operating pro/f_it reached \\nMSEK 21/uni00A0897, orders received increased 9 \\npercent to MSEK 106 104, and revenues \\nincreased to MSEK 103 756. I am proud of our \\nstrong teams that have worked to /f_ind even \\nbetter ways to support our customers.  \\n       PAGE 7\\nDuring 2019 the global economy has been \\na/uniFB00ected by increased uncertainties. How \\nis Atlas Copco handling this situation? \\nI believe that our global presence, decentral-\\nized operations and closeness to our custom-\\ners give us the ability to not only adapt to this \\nsomewhat new business climate but to also \\nbene/f_it from it. \\nI believe that our global presence, \\ndecentralized operations and \\ncloseness to our customers give \\nus the ability to not only adapt  \\nto this somewhat new business \\nclimate but to also bene/f_it from it.Atlas Copco has a long history of \\nacquiring companies and in 2019 a record \\nnumber of companies joined the Group. \\nWhat are the criteria when looking at \\npossible acquisitions? \\nOur divisions are responsible for mapping \\nand evaluating businesses that are adjacent \\nto our core businesses and that o/uniFB00er syner-\\ngies. Acquisitions have brought important \\ncontributions in the past and we will con-\\ntinue to complement our organic growth in \\nthis way. To achieve our goal to grow 8 per-\\ncent annually over a business cycle, which is \\nsigni/f_icantly above the global GDP, we need \\nto acquire companies in the right segments. \\nThrough acquisitions we bring in new tech-\\nnologies, service opportunities and people \\nwith new ideas that we can combine with \\nour existing strengths. I am very pleased to \\nwelcome new members into the Group since \\nit brings both opportunities and diversity.  Our business model ensures resilience and \\n/f_lexibility in both good and tougher times. \\nThis past year we have seen increasing \\nunpredictability, a changing business climate \\nand less willingness to invest in some seg-\\nments. We have experienced increased com-\\nplexity due to Bre...\""
   ]
  },
  {
   "cell_type": "code",
   "execution_count": 144,
   "metadata": {},
   "outputs": [],
   "source": [
    "def cleaning_text(text):\n",
    "    ''' Description: This function cleans the text\n",
    "        Input: text\n",
    "        Output: cleaned text\n",
    "    '''\n",
    "    # Remove all \" \\n\" characters\n",
    "    text = re.sub(r\"\\s\\n\", \" \" , text)\n",
    "    # Remove all \"\\n\" characters\n",
    "    text = re.sub(r\"\\n\", \" \" , text)\n",
    "    # Remove \" - \" characters\n",
    "    text = re.sub(r\"\\s-\\s\", \"\" , text)\n",
    "    # Remove all \"- \" characters\n",
    "    text = re.sub(r\"-\\s\", \"\" , text)\n",
    "    # Remove numbers\n",
    "    text = re.sub(r'\\d+', ' ', text)\n",
    "    # Remove all punctuation\n",
    "    text = re.sub(\"[^0-9A-Za-z ]\", \"\" , text)\n",
    "    # Get the lower case\n",
    "    text = text.lower()\n",
    "    # Remove spaces\n",
    "    text = text.strip()\n",
    "    # Remove multiple spaces\n",
    "    text = text.replace('  ', ' ')\n",
    "    \n",
    "    return text\n",
    "    \n",
    "    \n",
    "    "
   ]
  },
  {
   "cell_type": "code",
   "execution_count": 145,
   "metadata": {},
   "outputs": [],
   "source": [
    "def tokenization(text):\n",
    "    ''' Description: This function tokenizes the text\n",
    "        Input: text\n",
    "        Output: tokenized text\n",
    "    '''\n",
    "    # Download the punkt package\n",
    "    nltk.download('punkt')\n",
    "    # Tokenize the text\n",
    "    tokens = nltk.word_tokenize(text)\n",
    "    \n",
    "    return tokens"
   ]
  },
  {
   "cell_type": "code",
   "execution_count": 146,
   "metadata": {},
   "outputs": [],
   "source": [
    "def stop_words(tokens):\n",
    "    ''' Description: This function removes the stop words\n",
    "        Input: tokens\n",
    "        Output: tokens without stop words\n",
    "    '''\n",
    "    # Download the stopwords package\n",
    "    nltk.download('stopwords')\n",
    "    # Get the stopwords\n",
    "    stop_words = nltk.corpus.stopwords.words('english')\n",
    "    # Remove the stop words\n",
    "    lst_text = [token for token in tokens if token not in stop_words]\n",
    "    \n",
    "    return lst_text"
   ]
  },
  {
   "cell_type": "code",
   "execution_count": 147,
   "metadata": {},
   "outputs": [],
   "source": [
    "def lemmatization(lst_text):\n",
    "    ''' Description: This function lemmatizes the text\n",
    "        Input: lst_text\n",
    "        Output: lst_text lemmatized\n",
    "    '''\n",
    "    # Download the wordnet package\n",
    "    nltk.download('wordnet')\n",
    "    # Get the lemmatizer\n",
    "    lemmatizer = nltk.stem.WordNetLemmatizer()\n",
    "    # Lemmatize the text\n",
    "    lst_text = [lemmatizer.lemmatize(token) for token in lst_text]\n",
    "    \n",
    "    return lst_text"
   ]
  },
  {
   "cell_type": "code",
   "execution_count": 148,
   "metadata": {},
   "outputs": [],
   "source": [
    "def stemming(lst_text):\n",
    "    ''' Description: This function stems the text\n",
    "        Input: lst_text\n",
    "        Output: lst_text stemmed\n",
    "    '''\n",
    "    # Get the stemmer\n",
    "    stemmer = nltk.stem.PorterStemmer()\n",
    "    # Stem the text\n",
    "    lst_text = [stemmer.stem(token) for token in lst_text]\n",
    "    \n",
    "    return lst_text"
   ]
  },
  {
   "cell_type": "code",
   "execution_count": 149,
   "metadata": {},
   "outputs": [],
   "source": [
    "def joining(lst_text):\n",
    "    ''' Description: This function joins the text\n",
    "        Input: lst_text\n",
    "        Output: text\n",
    "    '''\n",
    "    # Join the text\n",
    "    text = ' '.join(lst_text)\n",
    "    \n",
    "    return text"
   ]
  },
  {
   "cell_type": "code",
   "execution_count": 150,
   "metadata": {},
   "outputs": [],
   "source": [
    "def preprocess_pipeline(text, stemm = False, lemm = True):\n",
    "    '''\n",
    "    Description: This function creates a pipeline for the text preprocessing\n",
    "    Input: text, (stemm, lemm) are depends on the user choice\n",
    "    Output: cleaned text\n",
    "    '''\n",
    "    # Clean the text\n",
    "    text = cleaning_text(text)\n",
    "    # Tokenize the text\n",
    "    tokens = tokenization(text)\n",
    "    # Remove the stop words\n",
    "    lst_text = stop_words(tokens)\n",
    "    # Lemmatize text\n",
    "    if lemm:\n",
    "        lst_text = lemmatization(lst_text)\n",
    "    # Stem text\n",
    "    if stemm:\n",
    "        lst_text = stemming(lst_text)\n",
    "    # Join the text\n",
    "    text = joining(lst_text)\n",
    "\n",
    "    return text\n"
   ]
  },
  {
   "cell_type": "code",
   "execution_count": 153,
   "metadata": {},
   "outputs": [],
   "source": [
    "def creating_cleaned_column():\n",
    "    ''' Description: This function creates the cleaned column\n",
    "    '''\n",
    "    # Create the cleaned column\n",
    "    df['cleaned_text'] = df['text'].apply(lambda x: preprocess_pipeline(x, stemm = False, lemm = True))\n",
    "    \n",
    "    return df['cleaned_text']"
   ]
  },
  {
   "cell_type": "code",
   "execution_count": 152,
   "metadata": {},
   "outputs": [
    {
     "name": "stderr",
     "output_type": "stream",
     "text": [
      "[nltk_data] Downloading package punkt to /Users/sh/nltk_data...\n",
      "[nltk_data]   Package punkt is already up-to-date!\n",
      "[nltk_data] Downloading package stopwords to /Users/sh/nltk_data...\n",
      "[nltk_data]   Package stopwords is already up-to-date!\n",
      "[nltk_data] Downloading package wordnet to /Users/sh/nltk_data...\n",
      "[nltk_data]   Package wordnet is already up-to-date!\n"
     ]
    },
    {
     "data": {
      "text/plain": [
       "'atlas copco annual report atlas copco atlas copco group inside front cover president ceo atlas copco section contains atlas copcos vision mission strategy structure governance business create value stakeholder goal year review administration report section describes atlas copcos annual performance achievement compressor technique vacuum technique industrial technique power technique delivering lasting value sustainable way product service people safety wellbeing ethic environment risk risk management opportunity atlas copco share corporate governance financial result financial statement group note group financial statement parent note parent signature board director audit report financial definition sustainability note group gri index auditor limited assurance report atlas copco ab sustainability report goal performance three year summary contact content audited annual account consolidated accoun t found page corporate governance report examined auditor found page sustainability information reviewed auditor found page belief delivering innovative product reliable service pr ofitable growth responsible corporate citizen annual report reflects atla copcos mission creating sustainable profitable growth integrates financial ustainability governance information order describe group comprehensive cohesiv e manner gri standard external review atlas copco report sustainability work according gri standard global reporting initiative reporting guideli ne level core deloitte reviewed report verified level see page information found wwwatlascopcogroupcom sustainability report prepared accordance annual account act notice amount presented msek unless otherwise indicated number parenthesis represent comparative figure preceding year figure presented report refer continuing operation unless otherwise stated forwardlooking statement statement report forwardlooking actual outcome could materially diunifb erent addition factor explicitly discussed factor could material eunifb ec actual outcome factor include limited general business condition fluctuation exchange rate inter est rate political development impact competing product pricing product development commercialization technolo gical diunifb culties interruption supply major customer credit loss atlas copco ab public company atlas copco ab subsidiary sometimes referred atlas copco group group atlas copco atlas copco ab also sometimes refer red atlas copco mentioning board director boa rd refers board director atlas copco abindustrial idea drive development atlas copco turning great idea businesscritical benefit since listening customer knowing need deliver value innovate future mind cover image electrical component used industrial assembly solution inspected atlas copco rd laboratoryrevenues msek compressor technique business area provides compressed air solution industrial compressor gas process compressor expanders air gas treatment equipment air management system business area global service network innovates sustainable productivity mainly manufacturing process industry principal product development manufacturing unit located belgium united state china india germany italy page compressor technique revenue region revenue region share revenue share revenue order received customer categoryorders received customer category msek msek order received revenue operating margin order received revenue operating margin asiaoceania north america africa middle east europe sout h america asiaoceania n orth america africa middle east europe sout h america equipm ent service service equ ipment general manufacturing construction service process industry electronics motor vehicle general manufacturing construction service process industry motor vehicle electronics electrical atlas copco decentralized group four business area figure best estimated number eunifb ect distribution epiroc restatement ifrs fully reconciledgroup revenue msek atlas copco group worldleading provider sustainable productivity solution group ounifb er customer innovative compressor air treatment system vacuum solution industrial power tool assembly system power flow solution atlas copco develops product service focused productivity energy eunifb ciency safety ergonomics company founded based stockholm sweden global reach spanning country atlas copco revenue bsek beur uni employee year endrevenues msek vacuum technique business area provides vacuum product exhaust management system valve related product main market served semiconductor scientific well wide range industrial segment including chemical process industry food packaging paper handling business area global service network innovates sustainable productivity order improve customer performance principal product deve lopment manufacturing unit located united state mexico united kingdom czech republic germany south korea china japan page vacuum technique power technique business area provides air power flow solution product mobile compressor pump light tower generator along number complementary product also ounifb er specialty rental provides service dedicated global network business area innovates sustainable productivity across multiple industry including construction manufacturing oil gas exploration drilling principal product development manufacturing unit located belgium spain united state china india page industrial technique business area provides industrial power tool system industrial assembly solution quality assurance product software service global network business area innovates sustainable productivit customer automotive general industry maintenance vehicle service principal product development manufacturing unit located sweden germany hungary united state united kingdom france japan page industrial technique power technique revenue region share revenue order received customer category msek order received revenue operating margin revenue region revenue region share revenue share revenue msek msek order received customer categoryorders received customer categoryorders received revenue operating margin order received revenue operating margin figure best estimated number e unifb ect distribution epiroc restatement ifrs fully reconciledasiaoceania north america africa middle east europe asiaoceania north america africa middle east europe sout h america asiaoceania n orth america africa middle east europe south america serv ice equipment service equipment service equipme nt service specialty rental general manufacturing process industry electronics general manufacturing construction service electronics motor vehicle general manufacturing othe r construction service process industry revenue msek revenue msek figure best estimated number e unifb ect distribution epiroc restatement ifrs full reconciled order received revenue return capital employed operating margin order received msek revenue msek return capital employed operating margin atlas copco record year revenue msek return capital employed operating margin atlas copco president ceo delivering longterm growth customer value sustainable way revenue order received operating profit reach ed alltime high also year welcomed mo new company group acquisition year b efore mat rahmstrm president ceo atlas copco group year recordhigh revenue order received comment result past ear another one strong result operating profit reached msek uni order received increased percent msek revenue increased msek proud strong team worked find even better way support customer page global economy aunifb ected increased uncertainty atlas copco handling situation believe global presence decentralized operation closeness customer give u ability adapt somewhat new business climate also benefit believe global presence decentralized operation closeness customer give u ability adapt somewhat new business climate also benefit itatlas copco long history acquiring company record number company joined group criterion looking possible acquisition division responsible mapping evaluating business adjacent core business ounifb er synergy acquisition brought important contribution past continue complement organic growth way achieve goal grow percent annually business cycle significantly global gdp need acquire company right segment acquisition bring new technology service opportunity people new idea combine existing strength pleased welcome new member group since brings opportunity diversity business model ensures resilience flexibility good tougher time past year seen increasing unpredictability changing business climate le willingness invest segment experienced increased complexity due bre'"
      ]
     },
     "execution_count": 152,
     "metadata": {},
     "output_type": "execute_result"
    }
   ],
   "source": [
    "preprocess_pipeline(data, stemm = False, lemm = True)"
   ]
  }
 ],
 "metadata": {
  "kernelspec": {
   "display_name": ".venv",
   "language": "python",
   "name": "python3"
  },
  "language_info": {
   "codemirror_mode": {
    "name": "ipython",
    "version": 3
   },
   "file_extension": ".py",
   "mimetype": "text/x-python",
   "name": "python",
   "nbconvert_exporter": "python",
   "pygments_lexer": "ipython3",
   "version": "3.11.3"
  },
  "orig_nbformat": 4
 },
 "nbformat": 4,
 "nbformat_minor": 2
}
