{
 "cells": [
  {
   "cell_type": "code",
   "execution_count": 2,
   "metadata": {},
   "outputs": [
    {
     "name": "stderr",
     "output_type": "stream",
     "text": [
      "/var/folders/q4/1vtck34d7h12n065tcl6nwkm0000gn/T/ipykernel_94948/477745057.py:4: UserWarning: Could not infer format, so each element will be parsed individually, falling back to `dateutil`. To ensure parsing is consistent and as-expected, please specify a format.\n",
      "  df_scores = pd.read_csv('../../data/SP500_EGS_Score_avarage_per_year.csv', index_col=0, parse_dates=True,sep=',')\n",
      "/var/folders/q4/1vtck34d7h12n065tcl6nwkm0000gn/T/ipykernel_94948/477745057.py:14: UserWarning: Could not infer format, so each element will be parsed individually, falling back to `dateutil`. To ensure parsing is consistent and as-expected, please specify a format.\n",
      "  df = pd.read_csv('../../data/extracted_text_sustainability_reports.csv', index_col=0, parse_dates=True,sep=',')\n"
     ]
    }
   ],
   "source": [
    "import pandas as pd\n",
    "import numpy as np\n",
    "\n",
    "df_scores = pd.read_csv('../../data/SP500_EGS_Score_avarage_per_year.csv', index_col=0, parse_dates=True,sep=',')\n",
    "\n",
    "# all lower case\n",
    "\n",
    "df_scores.columns = map(str.lower, df_scores.columns)\n",
    "\n",
    "# - to _\n",
    "\n",
    "df_scores.columns = df_scores.columns.str.replace('-', '_')\n",
    "\n",
    "df = pd.read_csv('../../data/extracted_text_sustainability_reports.csv', index_col=0, parse_dates=True,sep=',')"
   ]
  },
  {
   "cell_type": "code",
   "execution_count": 4,
   "metadata": {},
   "outputs": [
    {
     "data": {
      "text/plain": [
       "(    ticker  year                                            content   \n",
       " 0       LH  2021  Creating a Healthier  \\nTomorrow2 0 2 1  CO R ...  \\\n",
       " 1      MTB  2020  2020 Environmental, Social and Governance Repo...   \n",
       " 2     EXPD  2021  Sustainability Report \\n20212021   EXPEDITORS ...   \n",
       " 3      WDC  2019  1\\nDATA AT EVERY STEP, EVERYWHERE\\nSUSTAINABIL...   \n",
       " 4     FTNT  2021  Sustainability \\nreport\\n 2021About Fortinet\\n...   \n",
       " ..     ...   ...                                                ...   \n",
       " 842    SYF  2019  2019  \\nCORPORATE SOCIAL RESPONSIBILITY REPORT...   \n",
       " 843    LUV  2019  2019   \\nOne  \\nReportTable of Contents\\n2 Abo...   \n",
       " 844   ADSK  2019  Autodesk \\nFY2019  \\nSustainability  \\nReport\\...   \n",
       " 845   ANSS  2020  CORPORATE RESPONSIBILITY // 1CORPORATE RESPONS...   \n",
       " 846    TGT  2019  2019 Target Corporate \\nResponsibility Report�...   \n",
       " \n",
       "     company_symbol  total_score    e_score    s_score    g_score  \n",
       " 0               LH    15.304000   0.670000   7.670000   6.956000  \n",
       " 1              MTB    27.660000   2.120000  12.800000  12.743333  \n",
       " 2             EXPD    18.130000   4.050000   9.230000   4.840000  \n",
       " 3              WDC    68.327500  66.186667  73.710833  64.219167  \n",
       " 4             FTNT    21.074000   1.334000  13.570000   6.170000  \n",
       " ..             ...          ...        ...        ...        ...  \n",
       " 842            SYF    49.825833  36.964167  57.320000  53.675000  \n",
       " 843            LUV    54.218333  43.942500  55.075833  67.236667  \n",
       " 844           ADSK    62.690000  71.327500  55.269167  65.683333  \n",
       " 845           ANSS    15.395000   0.940000   9.460000   4.993333  \n",
       " 846            TGT    59.061667  64.868333  48.762500  67.410000  \n",
       " \n",
       " [847 rows x 8 columns],\n",
       "                     ticker  year   \n",
       " filename                           \n",
       " ASX_ATCO_2019.pdf     ATCO  2019  \\\n",
       " NYSE_ACC_2019.pdf      ACC  2019   \n",
       " TSX_CSH_2020.pdf       CSH  2020   \n",
       " NYSE_ALK_2021.pdf      ALK  2021   \n",
       " LSE_GKP.L_2021.pdf   GKP.L  2021   \n",
       " ...                    ...   ...   \n",
       " OTC_AXELF_2017.pdf   AXELF  2017   \n",
       " TSX_INQ_2019.pdf       INQ  2019   \n",
       " NASDAQ_AMD_2019.pdf    AMD  2019   \n",
       " NYSE_CARR_2020.pdf    CARR  2020   \n",
       " NYSE_blkb_2021.pdf    blkb  2021   \n",
       " \n",
       "                                                                content  \n",
       " filename                                                                \n",
       " ASX_ATCO_2019.pdf    Atlas Copco\\nAnnual report\\n2019Atlas Copco \\n...  \n",
       " NYSE_ACC_2019.pdf    ACC Cares: 2019 Environmental, Social & Govern...  \n",
       " TSX_CSH_2020.pdf     Chartwell Retirement Residences/Environmental,...  \n",
       " NYSE_ALK_2021.pdf    CARE  REPORT  2021\\nALASKA AIRLINES 2021 SUSTA...  \n",
       " LSE_GKP.L_2021.pdf   Sustainability report 2021GKP is a responsible...  \n",
       " ...                                                                ...  \n",
       " OTC_AXELF_2017.pdf   Sustainability Report 2017\\nPrint Excerpt of t...  \n",
       " TSX_INQ_2019.pdf     Sustainability \\nReport\\nIn accordance with  \\...  \n",
       " NASDAQ_AMD_2019.pdf  CORPORATE CITIZENSHIP  \\nSUMMARY\\nGREATER TECH...  \n",
       " NYSE_CARR_2020.pdf   ENVIRONMENTAL, \\nSOCIAL & GOVERNANCE \\nREPORT\\...  \n",
       " NYSE_blkb_2021.pdf   Sustainability \\nreport 2021The future \\nneeds...  \n",
       " \n",
       " [365 rows x 3 columns],\n",
       "       year company_symbol  total_score  e_score  s_score  g_score\n",
       " 1     2014            AAL        72.75    77.00    67.00    75.25\n",
       " 8     2014            ADI        65.50    64.75    66.00    66.00\n",
       " 14    2014            AES        53.75    47.00    57.00    65.00\n",
       " 21    2014            ALL        59.75    59.50    65.75    53.00\n",
       " 22    2014           ALLE        50.00    41.00    50.00    62.00\n",
       " ...    ...            ...          ...      ...      ...      ...\n",
       " 4008  2023            WAB        23.25     4.52    11.69     7.04\n",
       " 4009  2023            WAT        17.01     1.37     9.40     6.24\n",
       " 4012  2023           WELL        12.01     3.87     3.22     4.92\n",
       " 4016  2023            WTW        18.61     0.13     8.68     9.79\n",
       " 4018  2023            XEL        23.80    12.87     6.75     4.18\n",
       " \n",
       " [1545 rows x 6 columns])"
      ]
     },
     "execution_count": 4,
     "metadata": {},
     "output_type": "execute_result"
    }
   ],
   "source": [
    "import sys \n",
    "sys.path.append('../../functions/')\n",
    "\n",
    "from merge_dataframes import merge_dataframes\n",
    "\n",
    "merge_dataframes(df, df_scores)\n"
   ]
  },
  {
   "cell_type": "code",
   "execution_count": 119,
   "metadata": {},
   "outputs": [
    {
     "name": "stdout",
     "output_type": "stream",
     "text": [
      "<class 'pandas.core.frame.DataFrame'>\n",
      "RangeIndex: 847 entries, 0 to 846\n",
      "Data columns (total 8 columns):\n",
      " #   Column          Non-Null Count  Dtype  \n",
      "---  ------          --------------  -----  \n",
      " 0   ticker          847 non-null    object \n",
      " 1   year            847 non-null    int64  \n",
      " 2   content         847 non-null    object \n",
      " 3   company_symbol  847 non-null    object \n",
      " 4   total_score     847 non-null    float64\n",
      " 5   e_score         847 non-null    float64\n",
      " 6   s_score         847 non-null    float64\n",
      " 7   g_score         847 non-null    float64\n",
      "dtypes: float64(4), int64(1), object(3)\n",
      "memory usage: 53.1+ KB\n",
      "<class 'pandas.core.frame.DataFrame'>\n",
      "Index: 365 entries, ASX_ATCO_2019.pdf to NYSE_blkb_2021.pdf\n",
      "Data columns (total 3 columns):\n",
      " #   Column   Non-Null Count  Dtype \n",
      "---  ------   --------------  ----- \n",
      " 0   ticker   365 non-null    object\n",
      " 1   year     365 non-null    int64 \n",
      " 2   content  365 non-null    object\n",
      "dtypes: int64(1), object(2)\n",
      "memory usage: 11.4+ KB\n",
      "<class 'pandas.core.frame.DataFrame'>\n",
      "Index: 1545 entries, 1 to 4018\n",
      "Data columns (total 6 columns):\n",
      " #   Column          Non-Null Count  Dtype  \n",
      "---  ------          --------------  -----  \n",
      " 0   year            1545 non-null   int64  \n",
      " 1   company_symbol  1545 non-null   object \n",
      " 2   total_score     1545 non-null   float64\n",
      " 3   e_score         1545 non-null   float64\n",
      " 4   s_score         1545 non-null   float64\n",
      " 5   g_score         1545 non-null   float64\n",
      "dtypes: float64(4), int64(1), object(1)\n",
      "memory usage: 84.5+ KB\n"
     ]
    }
   ],
   "source": [
    "merged.info()\n",
    "unmatched_1.info()\n",
    "unmatched_2.info()"
   ]
  },
  {
   "cell_type": "code",
   "execution_count": 1,
   "metadata": {},
   "outputs": [],
   "source": [
    "import pandas as pd"
   ]
  },
  {
   "cell_type": "code",
   "execution_count": 2,
   "metadata": {},
   "outputs": [
    {
     "name": "stderr",
     "output_type": "stream",
     "text": [
      "/var/folders/q4/1vtck34d7h12n065tcl6nwkm0000gn/T/ipykernel_9277/1122782850.py:1: UserWarning: Could not infer format, so each element will be parsed individually, falling back to `dateutil`. To ensure parsing is consistent and as-expected, please specify a format.\n",
      "  collab_data = pd.read_csv('../../data/preprocessed_data_text_format.csv', index_col=0, parse_dates=True,sep=',')\n"
     ]
    }
   ],
   "source": [
    "collab_data = pd.read_csv('../../data/preprocessed_data_text_format.csv', index_col=0, parse_dates=True,sep=',')"
   ]
  },
  {
   "cell_type": "code",
   "execution_count": 3,
   "metadata": {},
   "outputs": [
    {
     "data": {
      "text/html": [
       "<div>\n",
       "<style scoped>\n",
       "    .dataframe tbody tr th:only-of-type {\n",
       "        vertical-align: middle;\n",
       "    }\n",
       "\n",
       "    .dataframe tbody tr th {\n",
       "        vertical-align: top;\n",
       "    }\n",
       "\n",
       "    .dataframe thead th {\n",
       "        text-align: right;\n",
       "    }\n",
       "</style>\n",
       "<table border=\"1\" class=\"dataframe\">\n",
       "  <thead>\n",
       "    <tr style=\"text-align: right;\">\n",
       "      <th></th>\n",
       "      <th>ticker</th>\n",
       "      <th>year</th>\n",
       "      <th>content</th>\n",
       "      <th>preprocessed_content</th>\n",
       "    </tr>\n",
       "    <tr>\n",
       "      <th>filename</th>\n",
       "      <th></th>\n",
       "      <th></th>\n",
       "      <th></th>\n",
       "      <th></th>\n",
       "    </tr>\n",
       "  </thead>\n",
       "  <tbody>\n",
       "    <tr>\n",
       "      <th>ASX_ATCO_2019.pdf</th>\n",
       "      <td>ATCO</td>\n",
       "      <td>2019</td>\n",
       "      <td>Atlas Copco\\nAnnual report\\n2019Atlas Copco \\n...</td>\n",
       "      <td>annual report cover ceo section contain vision...</td>\n",
       "    </tr>\n",
       "    <tr>\n",
       "      <th>NYSE_ACC_2019.pdf</th>\n",
       "      <td>ACC</td>\n",
       "      <td>2019</td>\n",
       "      <td>ACC Cares: 2019 Environmental, Social &amp; Govern...</td>\n",
       "      <td>environmental environmental commitment student...</td>\n",
       "    </tr>\n",
       "    <tr>\n",
       "      <th>TSX_CSH_2020.pdf</th>\n",
       "      <td>CSH</td>\n",
       "      <td>2020</td>\n",
       "      <td>Chartwell Retirement Residences/Environmental,...</td>\n",
       "      <td>datum report accurate note environmental socia...</td>\n",
       "    </tr>\n",
       "    <tr>\n",
       "      <th>NYSE_ALK_2021.pdf</th>\n",
       "      <td>ALK</td>\n",
       "      <td>2021</td>\n",
       "      <td>CARE  REPORT  2021\\nALASKA AIRLINES 2021 SUSTA...</td>\n",
       "      <td>alaska sustainability content ceo people make ...</td>\n",
       "    </tr>\n",
       "    <tr>\n",
       "      <th>LSE_GKP.L_2021.pdf</th>\n",
       "      <td>GKP.L</td>\n",
       "      <td>2021</td>\n",
       "      <td>Sustainability report 2021GKP is a responsible...</td>\n",
       "      <td>sustainability report responsible energy compa...</td>\n",
       "    </tr>\n",
       "  </tbody>\n",
       "</table>\n",
       "</div>"
      ],
      "text/plain": [
       "                   ticker  year   \n",
       "filename                          \n",
       "ASX_ATCO_2019.pdf    ATCO  2019  \\\n",
       "NYSE_ACC_2019.pdf     ACC  2019   \n",
       "TSX_CSH_2020.pdf      CSH  2020   \n",
       "NYSE_ALK_2021.pdf     ALK  2021   \n",
       "LSE_GKP.L_2021.pdf  GKP.L  2021   \n",
       "\n",
       "                                                              content   \n",
       "filename                                                                \n",
       "ASX_ATCO_2019.pdf   Atlas Copco\\nAnnual report\\n2019Atlas Copco \\n...  \\\n",
       "NYSE_ACC_2019.pdf   ACC Cares: 2019 Environmental, Social & Govern...   \n",
       "TSX_CSH_2020.pdf    Chartwell Retirement Residences/Environmental,...   \n",
       "NYSE_ALK_2021.pdf   CARE  REPORT  2021\\nALASKA AIRLINES 2021 SUSTA...   \n",
       "LSE_GKP.L_2021.pdf  Sustainability report 2021GKP is a responsible...   \n",
       "\n",
       "                                                 preprocessed_content  \n",
       "filename                                                               \n",
       "ASX_ATCO_2019.pdf   annual report cover ceo section contain vision...  \n",
       "NYSE_ACC_2019.pdf   environmental environmental commitment student...  \n",
       "TSX_CSH_2020.pdf    datum report accurate note environmental socia...  \n",
       "NYSE_ALK_2021.pdf   alaska sustainability content ceo people make ...  \n",
       "LSE_GKP.L_2021.pdf  sustainability report responsible energy compa...  "
      ]
     },
     "execution_count": 3,
     "metadata": {},
     "output_type": "execute_result"
    }
   ],
   "source": [
    "collab_data.head()"
   ]
  },
  {
   "cell_type": "code",
   "execution_count": 10,
   "metadata": {},
   "outputs": [],
   "source": [
    "import sys \n",
    "sys.path.append('../../functions/')"
   ]
  },
  {
   "cell_type": "code",
   "execution_count": 11,
   "metadata": {},
   "outputs": [],
   "source": [
    "from detect_ngrams_and_update_df import detect_ngrams_and_update_df\n",
    "collab_data_test = collab_data.head(1)"
   ]
  },
  {
   "cell_type": "code",
   "execution_count": 12,
   "metadata": {},
   "outputs": [
    {
     "ename": "IsADirectoryError",
     "evalue": "[Errno 21] Is a directory: '../../models/ngram_models'",
     "output_type": "error",
     "traceback": [
      "\u001b[0;31m---------------------------------------------------------------------------\u001b[0m",
      "\u001b[0;31mTypeError\u001b[0m                                 Traceback (most recent call last)",
      "File \u001b[0;32m~/repos/ESG-Score-Prediction-from-Sustainability-Reports/.venv/lib/python3.11/site-packages/gensim/utils.py:764\u001b[0m, in \u001b[0;36mSaveLoad.save\u001b[0;34m(self, fname_or_handle, separately, sep_limit, ignore, pickle_protocol)\u001b[0m\n\u001b[1;32m    763\u001b[0m \u001b[39mtry\u001b[39;00m:\n\u001b[0;32m--> 764\u001b[0m     _pickle\u001b[39m.\u001b[39;49mdump(\u001b[39mself\u001b[39;49m, fname_or_handle, protocol\u001b[39m=\u001b[39;49mpickle_protocol)\n\u001b[1;32m    765\u001b[0m     logger\u001b[39m.\u001b[39minfo(\u001b[39m\"\u001b[39m\u001b[39msaved \u001b[39m\u001b[39m%s\u001b[39;00m\u001b[39m object\u001b[39m\u001b[39m\"\u001b[39m, \u001b[39mself\u001b[39m\u001b[39m.\u001b[39m\u001b[39m__class__\u001b[39m\u001b[39m.\u001b[39m\u001b[39m__name__\u001b[39m)\n",
      "\u001b[0;31mTypeError\u001b[0m: file must have a 'write' attribute",
      "\nDuring handling of the above exception, another exception occurred:\n",
      "\u001b[0;31mIsADirectoryError\u001b[0m                         Traceback (most recent call last)",
      "\u001b[1;32m/Users/neuefische/repos/ESG-Score-Prediction-from-Sustainability-Reports/playhub/marius/playground_marius.ipynb Cell 9\u001b[0m line \u001b[0;36m1\n\u001b[0;32m----> <a href='vscode-notebook-cell:/Users/neuefische/repos/ESG-Score-Prediction-from-Sustainability-Reports/playhub/marius/playground_marius.ipynb#X11sZmlsZQ%3D%3D?line=0'>1</a>\u001b[0m collab_data_result, bigram_model, trigram_model \u001b[39m=\u001b[39m detect_ngrams_and_update_df(collab_data_test)\n",
      "File \u001b[0;32m~/repos/ESG-Score-Prediction-from-Sustainability-Reports/playhub/marius/../../functions/detect_ngrams_and_update_df.py:38\u001b[0m, in \u001b[0;36mdetect_ngrams_and_update_df\u001b[0;34m(df)\u001b[0m\n\u001b[1;32m     35\u001b[0m trigram_model \u001b[39m=\u001b[39m Phraser(trigrams)\n\u001b[1;32m     37\u001b[0m \u001b[39m# save models in models folder to reload later\u001b[39;00m\n\u001b[0;32m---> 38\u001b[0m bigram_model\u001b[39m.\u001b[39;49msave(\u001b[39m\"\u001b[39;49m\u001b[39m../../models/ngram_models\u001b[39;49m\u001b[39m\"\u001b[39;49m)\n\u001b[1;32m     39\u001b[0m trigram_model\u001b[39m.\u001b[39msave(\u001b[39m\"\u001b[39m\u001b[39m../../models/ngram_models\u001b[39m\u001b[39m\"\u001b[39m)\n\u001b[1;32m     41\u001b[0m \u001b[39m# Drop the 'content' column\u001b[39;00m\n",
      "File \u001b[0;32m~/repos/ESG-Score-Prediction-from-Sustainability-Reports/.venv/lib/python3.11/site-packages/gensim/utils.py:767\u001b[0m, in \u001b[0;36mSaveLoad.save\u001b[0;34m(self, fname_or_handle, separately, sep_limit, ignore, pickle_protocol)\u001b[0m\n\u001b[1;32m    765\u001b[0m     logger\u001b[39m.\u001b[39minfo(\u001b[39m\"\u001b[39m\u001b[39msaved \u001b[39m\u001b[39m%s\u001b[39;00m\u001b[39m object\u001b[39m\u001b[39m\"\u001b[39m, \u001b[39mself\u001b[39m\u001b[39m.\u001b[39m\u001b[39m__class__\u001b[39m\u001b[39m.\u001b[39m\u001b[39m__name__\u001b[39m)\n\u001b[1;32m    766\u001b[0m \u001b[39mexcept\u001b[39;00m \u001b[39mTypeError\u001b[39;00m:  \u001b[39m# `fname_or_handle` does not have write attribute\u001b[39;00m\n\u001b[0;32m--> 767\u001b[0m     \u001b[39mself\u001b[39;49m\u001b[39m.\u001b[39;49m_smart_save(fname_or_handle, separately, sep_limit, ignore, pickle_protocol\u001b[39m=\u001b[39;49mpickle_protocol)\n",
      "File \u001b[0;32m~/repos/ESG-Score-Prediction-from-Sustainability-Reports/.venv/lib/python3.11/site-packages/gensim/utils.py:611\u001b[0m, in \u001b[0;36mSaveLoad._smart_save\u001b[0;34m(self, fname, separately, sep_limit, ignore, pickle_protocol)\u001b[0m\n\u001b[1;32m    607\u001b[0m restores \u001b[39m=\u001b[39m \u001b[39mself\u001b[39m\u001b[39m.\u001b[39m_save_specials(\n\u001b[1;32m    608\u001b[0m     fname, separately, sep_limit, ignore, pickle_protocol, compress, subname,\n\u001b[1;32m    609\u001b[0m )\n\u001b[1;32m    610\u001b[0m \u001b[39mtry\u001b[39;00m:\n\u001b[0;32m--> 611\u001b[0m     pickle(\u001b[39mself\u001b[39;49m, fname, protocol\u001b[39m=\u001b[39;49mpickle_protocol)\n\u001b[1;32m    612\u001b[0m \u001b[39mfinally\u001b[39;00m:\n\u001b[1;32m    613\u001b[0m     \u001b[39m# restore attribs handled specially\u001b[39;00m\n\u001b[1;32m    614\u001b[0m     \u001b[39mfor\u001b[39;00m obj, asides \u001b[39min\u001b[39;00m restores:\n",
      "File \u001b[0;32m~/repos/ESG-Score-Prediction-from-Sustainability-Reports/.venv/lib/python3.11/site-packages/gensim/utils.py:1442\u001b[0m, in \u001b[0;36mpickle\u001b[0;34m(obj, fname, protocol)\u001b[0m\n\u001b[1;32m   1429\u001b[0m \u001b[39mdef\u001b[39;00m \u001b[39mpickle\u001b[39m(obj, fname, protocol\u001b[39m=\u001b[39mPICKLE_PROTOCOL):\n\u001b[1;32m   1430\u001b[0m \u001b[39m    \u001b[39m\u001b[39m\"\"\"Pickle object `obj` to file `fname`, using smart_open so that `fname` can be on S3, HDFS, compressed etc.\u001b[39;00m\n\u001b[1;32m   1431\u001b[0m \n\u001b[1;32m   1432\u001b[0m \u001b[39m    Parameters\u001b[39;00m\n\u001b[0;32m   (...)\u001b[0m\n\u001b[1;32m   1440\u001b[0m \n\u001b[1;32m   1441\u001b[0m \u001b[39m    \"\"\"\u001b[39;00m\n\u001b[0;32m-> 1442\u001b[0m     \u001b[39mwith\u001b[39;00m \u001b[39mopen\u001b[39;49m(fname, \u001b[39m'\u001b[39;49m\u001b[39mwb\u001b[39;49m\u001b[39m'\u001b[39;49m) \u001b[39mas\u001b[39;00m fout:  \u001b[39m# 'b' for binary, needed on Windows\u001b[39;00m\n\u001b[1;32m   1443\u001b[0m         _pickle\u001b[39m.\u001b[39mdump(obj, fout, protocol\u001b[39m=\u001b[39mprotocol)\n",
      "File \u001b[0;32m~/repos/ESG-Score-Prediction-from-Sustainability-Reports/.venv/lib/python3.11/site-packages/smart_open/smart_open_lib.py:177\u001b[0m, in \u001b[0;36mopen\u001b[0;34m(uri, mode, buffering, encoding, errors, newline, closefd, opener, compression, transport_params)\u001b[0m\n\u001b[1;32m    174\u001b[0m \u001b[39mif\u001b[39;00m transport_params \u001b[39mis\u001b[39;00m \u001b[39mNone\u001b[39;00m:\n\u001b[1;32m    175\u001b[0m     transport_params \u001b[39m=\u001b[39m {}\n\u001b[0;32m--> 177\u001b[0m fobj \u001b[39m=\u001b[39m _shortcut_open(\n\u001b[1;32m    178\u001b[0m     uri,\n\u001b[1;32m    179\u001b[0m     mode,\n\u001b[1;32m    180\u001b[0m     compression\u001b[39m=\u001b[39;49mcompression,\n\u001b[1;32m    181\u001b[0m     buffering\u001b[39m=\u001b[39;49mbuffering,\n\u001b[1;32m    182\u001b[0m     encoding\u001b[39m=\u001b[39;49mencoding,\n\u001b[1;32m    183\u001b[0m     errors\u001b[39m=\u001b[39;49merrors,\n\u001b[1;32m    184\u001b[0m     newline\u001b[39m=\u001b[39;49mnewline,\n\u001b[1;32m    185\u001b[0m )\n\u001b[1;32m    186\u001b[0m \u001b[39mif\u001b[39;00m fobj \u001b[39mis\u001b[39;00m \u001b[39mnot\u001b[39;00m \u001b[39mNone\u001b[39;00m:\n\u001b[1;32m    187\u001b[0m     \u001b[39mreturn\u001b[39;00m fobj\n",
      "File \u001b[0;32m~/repos/ESG-Score-Prediction-from-Sustainability-Reports/.venv/lib/python3.11/site-packages/smart_open/smart_open_lib.py:363\u001b[0m, in \u001b[0;36m_shortcut_open\u001b[0;34m(uri, mode, compression, buffering, encoding, errors, newline)\u001b[0m\n\u001b[1;32m    360\u001b[0m \u001b[39mif\u001b[39;00m errors \u001b[39mand\u001b[39;00m \u001b[39m'\u001b[39m\u001b[39mb\u001b[39m\u001b[39m'\u001b[39m \u001b[39mnot\u001b[39;00m \u001b[39min\u001b[39;00m mode:\n\u001b[1;32m    361\u001b[0m     open_kwargs[\u001b[39m'\u001b[39m\u001b[39merrors\u001b[39m\u001b[39m'\u001b[39m] \u001b[39m=\u001b[39m errors\n\u001b[0;32m--> 363\u001b[0m \u001b[39mreturn\u001b[39;00m _builtin_open(local_path, mode, buffering\u001b[39m=\u001b[39;49mbuffering, \u001b[39m*\u001b[39;49m\u001b[39m*\u001b[39;49mopen_kwargs)\n",
      "\u001b[0;31mIsADirectoryError\u001b[0m: [Errno 21] Is a directory: '../../models/ngram_models'"
     ]
    }
   ],
   "source": [
    "collab_data_result, bigram_model, trigram_model = detect_ngrams_and_update_df(collab_data_test)\n"
   ]
  },
  {
   "cell_type": "code",
   "execution_count": 7,
   "metadata": {},
   "outputs": [
    {
     "ename": "NameError",
     "evalue": "name 'collab_data_result' is not defined",
     "output_type": "error",
     "traceback": [
      "\u001b[0;31m---------------------------------------------------------------------------\u001b[0m",
      "\u001b[0;31mNameError\u001b[0m                                 Traceback (most recent call last)",
      "\u001b[1;32m/Users/neuefische/repos/ESG-Score-Prediction-from-Sustainability-Reports/playhub/marius/playground_marius.ipynb Cell 10\u001b[0m line \u001b[0;36m1\n\u001b[0;32m----> <a href='vscode-notebook-cell:/Users/neuefische/repos/ESG-Score-Prediction-from-Sustainability-Reports/playhub/marius/playground_marius.ipynb#X12sZmlsZQ%3D%3D?line=0'>1</a>\u001b[0m collab_data_result\u001b[39m.\u001b[39mhead()\n",
      "\u001b[0;31mNameError\u001b[0m: name 'collab_data_result' is not defined"
     ]
    }
   ],
   "source": [
    "collab_data_result.head()"
   ]
  },
  {
   "cell_type": "code",
   "execution_count": 14,
   "metadata": {},
   "outputs": [],
   "source": [
    "from retokenize_ngram_integration import retokenize_ngram_integration\n",
    "collab_data_result['preprocessed_content'] = collab_data_result['preprocessed_content'].apply(lambda x: retokenize_ngram_integration(x, bigram_model, trigram_model))\n"
   ]
  },
  {
   "cell_type": "code",
   "execution_count": 5,
   "metadata": {},
   "outputs": [
    {
     "data": {
      "text/html": [
       "<div>\n",
       "<style scoped>\n",
       "    .dataframe tbody tr th:only-of-type {\n",
       "        vertical-align: middle;\n",
       "    }\n",
       "\n",
       "    .dataframe tbody tr th {\n",
       "        vertical-align: top;\n",
       "    }\n",
       "\n",
       "    .dataframe thead th {\n",
       "        text-align: right;\n",
       "    }\n",
       "</style>\n",
       "<table border=\"1\" class=\"dataframe\">\n",
       "  <thead>\n",
       "    <tr style=\"text-align: right;\">\n",
       "      <th></th>\n",
       "      <th>ticker</th>\n",
       "      <th>year</th>\n",
       "      <th>preprocessed_content</th>\n",
       "    </tr>\n",
       "    <tr>\n",
       "      <th>filename</th>\n",
       "      <th></th>\n",
       "      <th></th>\n",
       "      <th></th>\n",
       "    </tr>\n",
       "  </thead>\n",
       "  <tbody>\n",
       "    <tr>\n",
       "      <th>ASX_ATCO_2019.pdf</th>\n",
       "      <td>ATCO</td>\n",
       "      <td>2019</td>\n",
       "      <td>annual_report cover ceo section contain vision...</td>\n",
       "    </tr>\n",
       "  </tbody>\n",
       "</table>\n",
       "<p>1545 rows × 6 columns</p>\n",
       "</div>"
      ],
      "text/plain": [
       "                  ticker  year   \n",
       "filename                         \n",
       "ASX_ATCO_2019.pdf   ATCO  2019  \\\n",
       "\n",
       "                                                preprocessed_content  \n",
       "filename                                                              \n",
       "ASX_ATCO_2019.pdf  annual_report cover ceo section contain vision...  "
      ]
     },
     "execution_count": 15,
     "metadata": {},
     "output_type": "execute_result"
    }
   ],
   "source": [
    "collab_data_result.head(10)"
   ]
  }
 ],
 "metadata": {
  "kernelspec": {
   "display_name": ".venv",
   "language": "python",
   "name": "python3"
  },
  "language_info": {
   "codemirror_mode": {
    "name": "ipython",
    "version": 3
   },
   "file_extension": ".py",
   "mimetype": "text/x-python",
   "name": "python",
   "nbconvert_exporter": "python",
   "pygments_lexer": "ipython3",
   "version": "3.11.3"
  },
  "orig_nbformat": 4
 },
 "nbformat": 4,
 "nbformat_minor": 2
}
