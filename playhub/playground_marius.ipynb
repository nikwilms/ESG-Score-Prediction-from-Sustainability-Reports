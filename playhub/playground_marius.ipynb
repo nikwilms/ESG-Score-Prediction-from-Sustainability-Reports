{
 "cells": [
  {
   "cell_type": "code",
   "execution_count": 1,
   "metadata": {},
   "outputs": [],
   "source": [
    "import sys \n",
    "sys.path.append('../')"
   ]
  },
  {
   "cell_type": "code",
   "execution_count": 2,
   "metadata": {},
   "outputs": [
    {
     "name": "stdout",
     "output_type": "stream",
     "text": [
      "Using TensorFlow backend\n"
     ]
    }
   ],
   "source": [
    "from models.LSTM.LSTM_tune import run_tuner\n",
    "from models.LSTM.LSTM_tune import build_model"
   ]
  },
  {
   "cell_type": "code",
   "execution_count": 2,
   "metadata": {},
   "outputs": [
    {
     "name": "stdout",
     "output_type": "stream",
     "text": [
      "Using TensorFlow backend\n"
     ]
    },
    {
     "name": "stderr",
     "output_type": "stream",
     "text": [
      "/Users/neuefische/repos/ESG-Score-Prediction-from-Sustainability-Reports/.venv/lib/python3.11/site-packages/tqdm/auto.py:21: TqdmWarning: IProgress not found. Please update jupyter and ipywidgets. See https://ipywidgets.readthedocs.io/en/stable/user_install.html\n",
      "  from .autonotebook import tqdm as notebook_tqdm\n"
     ]
    }
   ],
   "source": [
    "import pandas as pd\n",
    "from models.LSTM.LSTM import train_lstm_model"
   ]
  },
  {
   "cell_type": "code",
   "execution_count": 3,
   "metadata": {},
   "outputs": [
    {
     "name": "stderr",
     "output_type": "stream",
     "text": [
      "/var/folders/q4/1vtck34d7h12n065tcl6nwkm0000gn/T/ipykernel_33371/746980295.py:1: UserWarning: Could not infer format, so each element will be parsed individually, falling back to `dateutil`. To ensure parsing is consistent and as-expected, please specify a format.\n",
      "  ready_to_model_df = pd.read_csv('../data/ready_to_model/ready_to_model_df.csv', index_col=0, parse_dates=True,sep=',')\n",
      "/var/folders/q4/1vtck34d7h12n065tcl6nwkm0000gn/T/ipykernel_33371/746980295.py:2: UserWarning: Could not infer format, so each element will be parsed individually, falling back to `dateutil`. To ensure parsing is consistent and as-expected, please specify a format.\n",
      "  df_with_target = pd.read_csv('../data/SP500_ESG_Score_average_per_year.csv', index_col=0, parse_dates=True,sep=',')\n"
     ]
    }
   ],
   "source": [
    "ready_to_model_df = pd.read_csv('../data/ready_to_model/ready_to_model_df.csv', index_col=0, parse_dates=True,sep=',')\n",
    "df_with_target = pd.read_csv('../data/SP500_ESG_Score_average_per_year.csv', index_col=0, parse_dates=True,sep=',')"
   ]
  },
  {
   "cell_type": "code",
   "execution_count": 4,
   "metadata": {},
   "outputs": [
    {
     "data": {
      "text/html": [
       "<div>\n",
       "<style scoped>\n",
       "    .dataframe tbody tr th:only-of-type {\n",
       "        vertical-align: middle;\n",
       "    }\n",
       "\n",
       "    .dataframe tbody tr th {\n",
       "        vertical-align: top;\n",
       "    }\n",
       "\n",
       "    .dataframe thead th {\n",
       "        text-align: right;\n",
       "    }\n",
       "</style>\n",
       "<table border=\"1\" class=\"dataframe\">\n",
       "  <thead>\n",
       "    <tr style=\"text-align: right;\">\n",
       "      <th></th>\n",
       "      <th>year</th>\n",
       "      <th>Company_Symbol</th>\n",
       "      <th>Total-Score</th>\n",
       "      <th>E-Score</th>\n",
       "      <th>S-Score</th>\n",
       "      <th>G-Score</th>\n",
       "    </tr>\n",
       "  </thead>\n",
       "  <tbody>\n",
       "    <tr>\n",
       "      <th>0</th>\n",
       "      <td>2014</td>\n",
       "      <td>MMM</td>\n",
       "      <td>30.49</td>\n",
       "      <td>10.72</td>\n",
       "      <td>10.79</td>\n",
       "      <td>8.84</td>\n",
       "    </tr>\n",
       "    <tr>\n",
       "      <th>1</th>\n",
       "      <td>2014</td>\n",
       "      <td>ABT</td>\n",
       "      <td>30.18</td>\n",
       "      <td>3.71</td>\n",
       "      <td>15.83</td>\n",
       "      <td>10.59</td>\n",
       "    </tr>\n",
       "    <tr>\n",
       "      <th>2</th>\n",
       "      <td>2014</td>\n",
       "      <td>ABBV</td>\n",
       "      <td>30.67</td>\n",
       "      <td>1.12</td>\n",
       "      <td>17.38</td>\n",
       "      <td>10.30</td>\n",
       "    </tr>\n",
       "    <tr>\n",
       "      <th>3</th>\n",
       "      <td>2014</td>\n",
       "      <td>ACN</td>\n",
       "      <td>15.68</td>\n",
       "      <td>1.03</td>\n",
       "      <td>8.42</td>\n",
       "      <td>5.81</td>\n",
       "    </tr>\n",
       "    <tr>\n",
       "      <th>4</th>\n",
       "      <td>2014</td>\n",
       "      <td>ATVI</td>\n",
       "      <td>17.80</td>\n",
       "      <td>0.17</td>\n",
       "      <td>11.06</td>\n",
       "      <td>6.36</td>\n",
       "    </tr>\n",
       "    <tr>\n",
       "      <th>...</th>\n",
       "      <td>...</td>\n",
       "      <td>...</td>\n",
       "      <td>...</td>\n",
       "      <td>...</td>\n",
       "      <td>...</td>\n",
       "      <td>...</td>\n",
       "    </tr>\n",
       "    <tr>\n",
       "      <th>1507</th>\n",
       "      <td>2023</td>\n",
       "      <td>WYNN</td>\n",
       "      <td>26.49</td>\n",
       "      <td>3.55</td>\n",
       "      <td>11.98</td>\n",
       "      <td>10.96</td>\n",
       "    </tr>\n",
       "    <tr>\n",
       "      <th>1508</th>\n",
       "      <td>2023</td>\n",
       "      <td>XEL</td>\n",
       "      <td>23.80</td>\n",
       "      <td>12.87</td>\n",
       "      <td>6.75</td>\n",
       "      <td>4.18</td>\n",
       "    </tr>\n",
       "    <tr>\n",
       "      <th>1509</th>\n",
       "      <td>2023</td>\n",
       "      <td>XRAY</td>\n",
       "      <td>15.78</td>\n",
       "      <td>2.21</td>\n",
       "      <td>6.86</td>\n",
       "      <td>6.71</td>\n",
       "    </tr>\n",
       "    <tr>\n",
       "      <th>1510</th>\n",
       "      <td>2023</td>\n",
       "      <td>XYL</td>\n",
       "      <td>16.04</td>\n",
       "      <td>3.56</td>\n",
       "      <td>7.40</td>\n",
       "      <td>5.08</td>\n",
       "    </tr>\n",
       "    <tr>\n",
       "      <th>1511</th>\n",
       "      <td>2023</td>\n",
       "      <td>ZBH</td>\n",
       "      <td>27.30</td>\n",
       "      <td>4.46</td>\n",
       "      <td>14.60</td>\n",
       "      <td>8.24</td>\n",
       "    </tr>\n",
       "  </tbody>\n",
       "</table>\n",
       "<p>3991 rows × 6 columns</p>\n",
       "</div>"
      ],
      "text/plain": [
       "      year Company_Symbol  Total-Score  E-Score  S-Score  G-Score\n",
       "0     2014            MMM        30.49    10.72    10.79     8.84\n",
       "1     2014            ABT        30.18     3.71    15.83    10.59\n",
       "2     2014           ABBV        30.67     1.12    17.38    10.30\n",
       "3     2014            ACN        15.68     1.03     8.42     5.81\n",
       "4     2014           ATVI        17.80     0.17    11.06     6.36\n",
       "...    ...            ...          ...      ...      ...      ...\n",
       "1507  2023           WYNN        26.49     3.55    11.98    10.96\n",
       "1508  2023            XEL        23.80    12.87     6.75     4.18\n",
       "1509  2023           XRAY        15.78     2.21     6.86     6.71\n",
       "1510  2023            XYL        16.04     3.56     7.40     5.08\n",
       "1511  2023            ZBH        27.30     4.46    14.60     8.24\n",
       "\n",
       "[3991 rows x 6 columns]"
      ]
     },
     "execution_count": 4,
     "metadata": {},
     "output_type": "execute_result"
    }
   ],
   "source": [
    "df_with_target"
   ]
  },
  {
   "cell_type": "code",
   "execution_count": 5,
   "metadata": {},
   "outputs": [
    {
     "name": "stdout",
     "output_type": "stream",
     "text": [
      "Trial 5 Complete [00h 00m 43s]\n",
      "val_loss: 50.08248774210612\n",
      "\n",
      "Best val_loss So Far: 50.08248774210612\n",
      "Total elapsed time: 00h 02m 06s\n",
      "Reloading Tuner from my_dir/helloworld/tuner0.json\n"
     ]
    },
    {
     "name": "stdout",
     "output_type": "stream",
     "text": [
      "Epoch 1/50\n",
      "22/22 [==============================] - 2s 27ms/step - loss: 232.9512 - val_loss: 60.2988\n",
      "Epoch 2/50\n",
      "22/22 [==============================] - 0s 10ms/step - loss: 60.3110 - val_loss: 57.8840\n",
      "Epoch 3/50\n",
      "22/22 [==============================] - 0s 10ms/step - loss: 57.7048 - val_loss: 58.0797\n",
      "Epoch 4/50\n",
      "22/22 [==============================] - 0s 10ms/step - loss: 58.1592 - val_loss: 57.7623\n",
      "Epoch 5/50\n",
      "22/22 [==============================] - 0s 10ms/step - loss: 57.9158 - val_loss: 57.8411\n",
      "Epoch 6/50\n",
      "22/22 [==============================] - 0s 10ms/step - loss: 57.8121 - val_loss: 57.5931\n",
      "Epoch 7/50\n",
      "22/22 [==============================] - 0s 10ms/step - loss: 57.4903 - val_loss: 57.4405\n",
      "Epoch 8/50\n",
      "22/22 [==============================] - 0s 10ms/step - loss: 57.4842 - val_loss: 57.0444\n",
      "Epoch 9/50\n",
      "22/22 [==============================] - 0s 11ms/step - loss: 57.1031 - val_loss: 56.3949\n",
      "Epoch 10/50\n",
      "22/22 [==============================] - 0s 10ms/step - loss: 55.1443 - val_loss: 55.5049\n",
      "Epoch 11/50\n",
      "22/22 [==============================] - 0s 10ms/step - loss: 54.2648 - val_loss: 54.4397\n",
      "Epoch 12/50\n",
      "22/22 [==============================] - 0s 10ms/step - loss: 52.5785 - val_loss: 53.1642\n",
      "Epoch 13/50\n",
      "22/22 [==============================] - 0s 10ms/step - loss: 50.2177 - val_loss: 54.6046\n",
      "Epoch 14/50\n",
      "22/22 [==============================] - 0s 11ms/step - loss: 50.1213 - val_loss: 52.1845\n",
      "Epoch 15/50\n",
      "22/22 [==============================] - 0s 11ms/step - loss: 48.8432 - val_loss: 51.6925\n",
      "Epoch 16/50\n",
      "22/22 [==============================] - 0s 11ms/step - loss: 47.6201 - val_loss: 51.6336\n",
      "Epoch 17/50\n",
      "22/22 [==============================] - 0s 11ms/step - loss: 47.1322 - val_loss: 50.7335\n",
      "Epoch 18/50\n",
      "22/22 [==============================] - 0s 11ms/step - loss: 46.8188 - val_loss: 51.2863\n",
      "Epoch 19/50\n",
      "22/22 [==============================] - 0s 11ms/step - loss: 46.9081 - val_loss: 51.2549\n",
      "Epoch 20/50\n",
      "22/22 [==============================] - 0s 10ms/step - loss: 44.3039 - val_loss: 50.4663\n",
      "Epoch 21/50\n",
      "22/22 [==============================] - 0s 10ms/step - loss: 44.0233 - val_loss: 50.3977\n",
      "Epoch 22/50\n",
      "22/22 [==============================] - 0s 10ms/step - loss: 44.2556 - val_loss: 50.2353\n",
      "Epoch 23/50\n",
      "22/22 [==============================] - 0s 10ms/step - loss: 41.6651 - val_loss: 50.4749\n",
      "Epoch 24/50\n",
      "22/22 [==============================] - 0s 10ms/step - loss: 41.9371 - val_loss: 50.9217\n",
      "Epoch 25/50\n",
      "22/22 [==============================] - 0s 10ms/step - loss: 39.9063 - val_loss: 51.1451\n",
      "Epoch 26/50\n",
      "22/22 [==============================] - 0s 10ms/step - loss: 40.0474 - val_loss: 49.7067\n",
      "Epoch 27/50\n",
      "22/22 [==============================] - 0s 12ms/step - loss: 38.7813 - val_loss: 50.2358\n",
      "Epoch 28/50\n",
      "22/22 [==============================] - 0s 11ms/step - loss: 40.4849 - val_loss: 49.6314\n",
      "Epoch 29/50\n",
      "22/22 [==============================] - 0s 11ms/step - loss: 38.8854 - val_loss: 50.0354\n",
      "Epoch 30/50\n",
      "22/22 [==============================] - 0s 12ms/step - loss: 36.9437 - val_loss: 49.5475\n",
      "Epoch 31/50\n",
      "22/22 [==============================] - 0s 10ms/step - loss: 36.0616 - val_loss: 51.3196\n",
      "Epoch 32/50\n",
      "22/22 [==============================] - 0s 10ms/step - loss: 34.8565 - val_loss: 51.5537\n",
      "Epoch 33/50\n",
      "22/22 [==============================] - 0s 12ms/step - loss: 35.4595 - val_loss: 49.9128\n",
      "Epoch 34/50\n",
      "22/22 [==============================] - 0s 11ms/step - loss: 35.9757 - val_loss: 53.8800\n",
      "Epoch 35/50\n",
      "22/22 [==============================] - 0s 15ms/step - loss: 33.2248 - val_loss: 52.6939\n",
      "Epoch 36/50\n",
      "22/22 [==============================] - 0s 13ms/step - loss: 32.6987 - val_loss: 50.0621\n",
      "Epoch 37/50\n",
      "22/22 [==============================] - 0s 11ms/step - loss: 32.4149 - val_loss: 51.4008\n",
      "Epoch 38/50\n",
      "22/22 [==============================] - 0s 10ms/step - loss: 31.0625 - val_loss: 52.4713\n",
      "Epoch 39/50\n",
      "22/22 [==============================] - 0s 10ms/step - loss: 32.7172 - val_loss: 51.0350\n",
      "Epoch 40/50\n",
      "22/22 [==============================] - 0s 10ms/step - loss: 30.3573 - val_loss: 52.1063\n",
      "Epoch 41/50\n",
      "22/22 [==============================] - 0s 11ms/step - loss: 32.5045 - val_loss: 50.2547\n",
      "Epoch 42/50\n",
      "22/22 [==============================] - 0s 10ms/step - loss: 30.7282 - val_loss: 52.7799\n",
      "Epoch 43/50\n",
      "22/22 [==============================] - 0s 10ms/step - loss: 29.2404 - val_loss: 51.2598\n",
      "Epoch 44/50\n",
      "22/22 [==============================] - 0s 10ms/step - loss: 27.2697 - val_loss: 51.8275\n",
      "Epoch 45/50\n",
      "22/22 [==============================] - 0s 10ms/step - loss: 27.3962 - val_loss: 51.5468\n",
      "Epoch 46/50\n",
      "22/22 [==============================] - 0s 12ms/step - loss: 28.3942 - val_loss: 50.5303\n",
      "Epoch 47/50\n",
      "22/22 [==============================] - 0s 11ms/step - loss: 26.8801 - val_loss: 52.1135\n",
      "Epoch 48/50\n",
      "22/22 [==============================] - 0s 10ms/step - loss: 26.8538 - val_loss: 51.7945\n",
      "Epoch 49/50\n",
      "22/22 [==============================] - 0s 10ms/step - loss: 24.7197 - val_loss: 52.3271\n",
      "Epoch 50/50\n",
      "22/22 [==============================] - 0s 10ms/step - loss: 26.2950 - val_loss: 51.6336\n",
      "22/22 [==============================] - 0s 3ms/step\n",
      "6/6 [==============================] - 0s 3ms/step\n",
      "Train RMSE: 4.416\n",
      "Test RMSE: 7.186\n"
     ]
    },
    {
     "data": {
      "text/plain": [
       "(<keras.src.engine.sequential.Sequential at 0x2d8c9d0d0>,\n",
       " 4.41558895492543,\n",
       " 7.185654221044464)"
      ]
     },
     "execution_count": 5,
     "metadata": {},
     "output_type": "execute_result"
    }
   ],
   "source": [
    "train_lstm_model(ready_to_model_df, df_with_target, 'total_score', 768, 50, 32)\n"
   ]
  },
  {
   "cell_type": "code",
   "execution_count": null,
   "metadata": {},
   "outputs": [],
   "source": [
    "# Assuming `model` is your trained model, and you have X_train, y_train, X_test, y_test datasets\n",
    "evaluate_model(model, X_train, y_train, X_test, y_test)\n"
   ]
  }
 ],
 "metadata": {
  "kernelspec": {
   "display_name": ".venv",
   "language": "python",
   "name": "python3"
  },
  "language_info": {
   "codemirror_mode": {
    "name": "ipython",
    "version": 3
   },
   "file_extension": ".py",
   "mimetype": "text/x-python",
   "name": "python",
   "nbconvert_exporter": "python",
   "pygments_lexer": "ipython3",
   "version": "3.11.3"
  },
  "orig_nbformat": 4
 },
 "nbformat": 4,
 "nbformat_minor": 2
}
