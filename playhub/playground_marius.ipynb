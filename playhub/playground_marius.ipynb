{
 "cells": [
  {
   "cell_type": "code",
   "execution_count": 2,
   "metadata": {},
   "outputs": [
    {
     "name": "stdout",
     "output_type": "stream",
     "text": [
      "Using TensorFlow backend\n"
     ]
    },
    {
     "name": "stderr",
     "output_type": "stream",
     "text": [
      "/var/folders/q4/1vtck34d7h12n065tcl6nwkm0000gn/T/ipykernel_78357/3678026765.py:7: UserWarning: Could not infer format, so each element will be parsed individually, falling back to `dateutil`. To ensure parsing is consistent and as-expected, please specify a format.\n",
      "  ready_to_model_df = pd.read_csv('../data/ready_to_model/ready_to_model_df.csv', index_col=0, parse_dates=True,sep=',')\n",
      "/var/folders/q4/1vtck34d7h12n065tcl6nwkm0000gn/T/ipykernel_78357/3678026765.py:8: UserWarning: Could not infer format, so each element will be parsed individually, falling back to `dateutil`. To ensure parsing is consistent and as-expected, please specify a format.\n",
      "  df_with_target = pd.read_csv('../data/SP500_ESG_Score_average_per_year.csv', index_col=0, parse_dates=True,sep=',')\n"
     ]
    }
   ],
   "source": [
    "import sys \n",
    "sys.path.append('../')\n",
    "from models.LSTM.LSTM_tune import run_tuner\n",
    "from models.LSTM.LSTM_tune import build_model\n",
    "import pandas as pd\n",
    "from models.LSTM.LSTM import train_lstm_model\n",
    "ready_to_model_df = pd.read_csv('../data/ready_to_model/ready_to_model_df.csv', index_col=0, parse_dates=True,sep=',')\n",
    "df_with_target = pd.read_csv('../data/SP500_ESG_Score_average_per_year.csv', index_col=0, parse_dates=True,sep=',')"
   ]
  },
  {
   "cell_type": "code",
   "execution_count": 3,
   "metadata": {},
   "outputs": [
    {
     "name": "stdout",
     "output_type": "stream",
     "text": [
      "Trial 40 Complete [00h 00m 17s]\n",
      "val_loss: 0.8769150773684183\n",
      "\n",
      "Best val_loss So Far: 0.8646927277247111\n",
      "Total elapsed time: 00h 11m 18s\n",
      "Best hyperparameters found: \n",
      "Units 1:  352\n",
      "Units 2:  224\n",
      "Dropout 1:  0.1\n",
      "Dropout 2:  0.2\n",
      "Learning Rate:  0.001\n",
      "Model: \"sequential_1\"\n",
      "_________________________________________________________________\n",
      " Layer (type)                Output Shape              Param #   \n",
      "=================================================================\n",
      " lstm_2 (LSTM)               (None, 1, 352)            1578368   \n",
      "                                                                 \n",
      " dropout_2 (Dropout)         (None, 1, 352)            0         \n",
      "                                                                 \n",
      " lstm_3 (LSTM)               (None, 224)               516992    \n",
      "                                                                 \n",
      " dropout_3 (Dropout)         (None, 224)               0         \n",
      "                                                                 \n",
      " dense_1 (Dense)             (None, 1)                 225       \n",
      "                                                                 \n",
      "=================================================================\n",
      "Total params: 2095585 (7.99 MB)\n",
      "Trainable params: 2095585 (7.99 MB)\n",
      "Non-trainable params: 0 (0.00 Byte)\n",
      "_________________________________________________________________\n",
      "Model: \"sequential_1\"\n",
      "_________________________________________________________________\n",
      " Layer (type)                Output Shape              Param #   \n",
      "=================================================================\n",
      " lstm_2 (LSTM)               (None, 1, 352)            1578368   \n",
      "                                                                 \n",
      " dropout_2 (Dropout)         (None, 1, 352)            0         \n",
      "                                                                 \n",
      " lstm_3 (LSTM)               (None, 224)               516992    \n",
      "                                                                 \n",
      " dropout_3 (Dropout)         (None, 224)               0         \n",
      "                                                                 \n",
      " dense_1 (Dense)             (None, 1)                 225       \n",
      "                                                                 \n",
      "=================================================================\n",
      "Total params: 2095585 (7.99 MB)\n",
      "Trainable params: 2095585 (7.99 MB)\n",
      "Non-trainable params: 0 (0.00 Byte)\n",
      "_________________________________________________________________\n"
     ]
    },
    {
     "ename": "ValueError",
     "evalue": "Cannot assign value to variable ' lstm_2/lstm_cell/kernel:0': Shape mismatch.The variable shape (768, 1408), and the assigned value shape (768, 896) are incompatible.",
     "output_type": "error",
     "traceback": [
      "\u001b[0;31m---------------------------------------------------------------------------\u001b[0m",
      "\u001b[0;31mValueError\u001b[0m                                Traceback (most recent call last)",
      "\u001b[1;32m/Users/neuefische/repos/ESG-Score-Prediction-from-Sustainability-Reports/playhub/playground_marius.ipynb Cell 2\u001b[0m line \u001b[0;36m1\n\u001b[0;32m----> <a href='vscode-notebook-cell:/Users/neuefische/repos/ESG-Score-Prediction-from-Sustainability-Reports/playhub/playground_marius.ipynb#W1sZmlsZQ%3D%3D?line=0'>1</a>\u001b[0m train_lstm_model(ready_to_model_df, df_with_target, \u001b[39m'\u001b[39;49m\u001b[39mtotal_score\u001b[39;49m\u001b[39m'\u001b[39;49m, \u001b[39m768\u001b[39;49m, \u001b[39m50\u001b[39;49m, \u001b[39m64\u001b[39;49m)\n",
      "File \u001b[0;32m~/repos/ESG-Score-Prediction-from-Sustainability-Reports/playhub/../models/LSTM/LSTM.py:162\u001b[0m, in \u001b[0;36mtrain_lstm_model\u001b[0;34m(ready_to_model_df, df_with_target, target_column, embedding_dim, num_epochs, batch_size)\u001b[0m\n\u001b[1;32m    160\u001b[0m weights_path \u001b[39m=\u001b[39m checkpoint_path\n\u001b[1;32m    161\u001b[0m \u001b[39massert\u001b[39;00m os\u001b[39m.\u001b[39mpath\u001b[39m.\u001b[39mexists(weights_path), \u001b[39mf\u001b[39m\u001b[39m\"\u001b[39m\u001b[39mNo saved model weights file found at: \u001b[39m\u001b[39m{\u001b[39;00mweights_path\u001b[39m}\u001b[39;00m\u001b[39m\"\u001b[39m\n\u001b[0;32m--> 162\u001b[0m model\u001b[39m.\u001b[39;49mload_weights(weights_path)\n\u001b[1;32m    164\u001b[0m predictions_train \u001b[39m=\u001b[39m model\u001b[39m.\u001b[39mpredict(X_train)\n\u001b[1;32m    165\u001b[0m predictions_val \u001b[39m=\u001b[39m model\u001b[39m.\u001b[39mpredict(X_val)\n",
      "File \u001b[0;32m~/repos/ESG-Score-Prediction-from-Sustainability-Reports/.venv/lib/python3.11/site-packages/keras/src/utils/traceback_utils.py:70\u001b[0m, in \u001b[0;36mfilter_traceback.<locals>.error_handler\u001b[0;34m(*args, **kwargs)\u001b[0m\n\u001b[1;32m     67\u001b[0m     filtered_tb \u001b[39m=\u001b[39m _process_traceback_frames(e\u001b[39m.\u001b[39m__traceback__)\n\u001b[1;32m     68\u001b[0m     \u001b[39m# To get the full stack trace, call:\u001b[39;00m\n\u001b[1;32m     69\u001b[0m     \u001b[39m# `tf.debugging.disable_traceback_filtering()`\u001b[39;00m\n\u001b[0;32m---> 70\u001b[0m     \u001b[39mraise\u001b[39;00m e\u001b[39m.\u001b[39mwith_traceback(filtered_tb) \u001b[39mfrom\u001b[39;00m \u001b[39mNone\u001b[39;00m\n\u001b[1;32m     71\u001b[0m \u001b[39mfinally\u001b[39;00m:\n\u001b[1;32m     72\u001b[0m     \u001b[39mdel\u001b[39;00m filtered_tb\n",
      "File \u001b[0;32m~/repos/ESG-Score-Prediction-from-Sustainability-Reports/.venv/lib/python3.11/site-packages/keras/src/backend.py:4361\u001b[0m, in \u001b[0;36m_assign_value_to_variable\u001b[0;34m(variable, value)\u001b[0m\n\u001b[1;32m   4358\u001b[0m     variable\u001b[39m.\u001b[39massign(d_value)\n\u001b[1;32m   4359\u001b[0m \u001b[39melse\u001b[39;00m:\n\u001b[1;32m   4360\u001b[0m     \u001b[39m# For the normal tf.Variable assign\u001b[39;00m\n\u001b[0;32m-> 4361\u001b[0m     variable\u001b[39m.\u001b[39;49massign(value)\n",
      "\u001b[0;31mValueError\u001b[0m: Cannot assign value to variable ' lstm_2/lstm_cell/kernel:0': Shape mismatch.The variable shape (768, 1408), and the assigned value shape (768, 896) are incompatible."
     ]
    }
   ],
   "source": [
    "train_lstm_model(ready_to_model_df, df_with_target, 'total_score', 768, 50, 64)\n"
   ]
  }
 ],
 "metadata": {
  "kernelspec": {
   "display_name": ".venv",
   "language": "python",
   "name": "python3"
  },
  "language_info": {
   "codemirror_mode": {
    "name": "ipython",
    "version": 3
   },
   "file_extension": ".py",
   "mimetype": "text/x-python",
   "name": "python",
   "nbconvert_exporter": "python",
   "pygments_lexer": "ipython3",
   "version": "3.11.3"
  },
  "orig_nbformat": 4
 },
 "nbformat": 4,
 "nbformat_minor": 2
}
