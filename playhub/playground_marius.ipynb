{
 "cells": [
  {
   "cell_type": "code",
   "execution_count": 31,
   "metadata": {},
   "outputs": [
    {
     "name": "stderr",
     "output_type": "stream",
     "text": [
      "/var/folders/q4/1vtck34d7h12n065tcl6nwkm0000gn/T/ipykernel_17709/477745057.py:4: UserWarning: Could not infer format, so each element will be parsed individually, falling back to `dateutil`. To ensure parsing is consistent and as-expected, please specify a format.\n",
      "  df_scores = pd.read_csv('../../data/SP500_EGS_Score_avarage_per_year.csv', index_col=0, parse_dates=True,sep=',')\n",
      "/var/folders/q4/1vtck34d7h12n065tcl6nwkm0000gn/T/ipykernel_17709/477745057.py:14: UserWarning: Could not infer format, so each element will be parsed individually, falling back to `dateutil`. To ensure parsing is consistent and as-expected, please specify a format.\n",
      "  df = pd.read_csv('../../data/extracted_text_sustainability_reports.csv', index_col=0, parse_dates=True,sep=',')\n"
     ]
    }
   ],
   "source": [
    "import pandas as pd\n",
    "import numpy as np\n",
    "\n",
    "df_scores = pd.read_csv('../../data/SP500_EGS_Score_avarage_per_year.csv', index_col=0, parse_dates=True,sep=',')\n",
    "\n",
    "# all lower case\n",
    "\n",
    "df_scores.columns = map(str.lower, df_scores.columns)\n",
    "\n",
    "# - to _\n",
    "\n",
    "df_scores.columns = df_scores.columns.str.replace('-', '_')\n",
    "\n",
    "df = pd.read_csv('../../data/extracted_text_sustainability_reports.csv', index_col=0, parse_dates=True,sep=',')"
   ]
  },
  {
   "cell_type": "code",
   "execution_count": 1,
   "metadata": {},
   "outputs": [
    {
     "ename": "ModuleNotFoundError",
     "evalue": "No module named 'merge_dataframes'",
     "output_type": "error",
     "traceback": [
      "\u001b[0;31m---------------------------------------------------------------------------\u001b[0m",
      "\u001b[0;31mModuleNotFoundError\u001b[0m                       Traceback (most recent call last)",
      "\u001b[1;32m/Users/nikitawilms/Documents/ffm-ds-23-2/ESG-Score-Prediction-from-Sustainability-Reports/playhub/playground_marius.ipynb Cell 2\u001b[0m line \u001b[0;36m4\n\u001b[1;32m      <a href='vscode-notebook-cell:/Users/nikitawilms/Documents/ffm-ds-23-2/ESG-Score-Prediction-from-Sustainability-Reports/playhub/playground_marius.ipynb#W1sZmlsZQ%3D%3D?line=0'>1</a>\u001b[0m \u001b[39mimport\u001b[39;00m \u001b[39msys\u001b[39;00m \n\u001b[1;32m      <a href='vscode-notebook-cell:/Users/nikitawilms/Documents/ffm-ds-23-2/ESG-Score-Prediction-from-Sustainability-Reports/playhub/playground_marius.ipynb#W1sZmlsZQ%3D%3D?line=1'>2</a>\u001b[0m sys\u001b[39m.\u001b[39mpath\u001b[39m.\u001b[39mappend(\u001b[39m'\u001b[39m\u001b[39m../../functions/\u001b[39m\u001b[39m'\u001b[39m)\n\u001b[0;32m----> <a href='vscode-notebook-cell:/Users/nikitawilms/Documents/ffm-ds-23-2/ESG-Score-Prediction-from-Sustainability-Reports/playhub/playground_marius.ipynb#W1sZmlsZQ%3D%3D?line=3'>4</a>\u001b[0m \u001b[39mfrom\u001b[39;00m \u001b[39mmerge_dataframes\u001b[39;00m \u001b[39mimport\u001b[39;00m merge_dataframes\n\u001b[1;32m      <a href='vscode-notebook-cell:/Users/nikitawilms/Documents/ffm-ds-23-2/ESG-Score-Prediction-from-Sustainability-Reports/playhub/playground_marius.ipynb#W1sZmlsZQ%3D%3D?line=5'>6</a>\u001b[0m merge_dataframes(df, df_scores)\n",
      "\u001b[0;31mModuleNotFoundError\u001b[0m: No module named 'merge_dataframes'"
     ]
    }
   ],
   "source": [
    "import sys \n",
    "sys.path.append('../../functions/')\n",
    "\n",
    "from merge_dataframes import merge_dataframes\n",
    "\n",
    "merge_dataframes(df, df_scores)\n"
   ]
  },
  {
   "cell_type": "code",
   "execution_count": 1,
   "metadata": {},
   "outputs": [
    {
     "name": "stderr",
     "output_type": "stream",
     "text": [
      "/var/folders/t5/tjfw6fh92wvd7nqk0dkpf15h0000gn/T/ipykernel_35903/2702742867.py:3: UserWarning: Could not infer format, so each element will be parsed individually, falling back to `dateutil`. To ensure parsing is consistent and as-expected, please specify a format.\n",
      "  collab_data = pd.read_csv('../data/preprocessed_data_text_format.csv', index_col=0, parse_dates=True,sep=',')\n"
     ]
    }
   ],
   "source": [
    "import pandas as pd\n",
    "\n",
    "collab_data = pd.read_csv('../data/preprocessed_data_text_format.csv', index_col=0, parse_dates=True,sep=',')\n",
    "\n",
    "import sys \n",
    "sys.path.append('../')"
   ]
  },
  {
   "cell_type": "code",
   "execution_count": 3,
   "metadata": {},
   "outputs": [
    {
     "name": "stdout",
     "output_type": "stream",
     "text": [
      "<class 'pandas.core.frame.DataFrame'>\n",
      "Index: 1223 entries, ASX_ATCO_2019.pdf to NYSE_TGT_2019.pdf\n",
      "Data columns (total 4 columns):\n",
      " #   Column                Non-Null Count  Dtype \n",
      "---  ------                --------------  ----- \n",
      " 0   ticker                1223 non-null   object\n",
      " 1   year                  1223 non-null   int64 \n",
      " 2   content               1223 non-null   object\n",
      " 3   preprocessed_content  1223 non-null   object\n",
      "dtypes: int64(1), object(3)\n",
      "memory usage: 47.8+ KB\n"
     ]
    }
   ],
   "source": [
    "collab_data.head()\n",
    "collab_data.info()"
   ]
  },
  {
   "cell_type": "code",
   "execution_count": 2,
   "metadata": {},
   "outputs": [],
   "source": [
    "from helpers.ngrams.detect_ngrams import detect_ngrams\n",
    "collab_data_test = collab_data.head(1)"
   ]
  },
  {
   "cell_type": "code",
   "execution_count": 3,
   "metadata": {},
   "outputs": [
    {
     "name": "stderr",
     "output_type": "stream",
     "text": [
      "/Users/nikitawilms/Documents/ffm-ds-23-2/ESG-Score-Prediction-from-Sustainability-Reports/playhub/../helpers/ngrams/detect_ngrams.py:37: SettingWithCopyWarning: \n",
      "A value is trying to be set on a copy of a slice from a DataFrame\n",
      "\n",
      "See the caveats in the documentation: https://pandas.pydata.org/pandas-docs/stable/user_guide/indexing.html#returning-a-view-versus-a-copy\n",
      "  df.drop(columns=['content'], inplace=True)\n"
     ]
    }
   ],
   "source": [
    "collab_data_result, bigram_model, trigram_model = detect_ngrams(collab_data_test)"
   ]
  },
  {
   "cell_type": "code",
   "execution_count": 4,
   "metadata": {},
   "outputs": [
    {
     "data": {
      "text/html": [
       "<div>\n",
       "<style scoped>\n",
       "    .dataframe tbody tr th:only-of-type {\n",
       "        vertical-align: middle;\n",
       "    }\n",
       "\n",
       "    .dataframe tbody tr th {\n",
       "        vertical-align: top;\n",
       "    }\n",
       "\n",
       "    .dataframe thead th {\n",
       "        text-align: right;\n",
       "    }\n",
       "</style>\n",
       "<table border=\"1\" class=\"dataframe\">\n",
       "  <thead>\n",
       "    <tr style=\"text-align: right;\">\n",
       "      <th></th>\n",
       "      <th>ticker</th>\n",
       "      <th>year</th>\n",
       "      <th>preprocessed_content</th>\n",
       "    </tr>\n",
       "    <tr>\n",
       "      <th>filename</th>\n",
       "      <th></th>\n",
       "      <th></th>\n",
       "      <th></th>\n",
       "    </tr>\n",
       "  </thead>\n",
       "  <tbody>\n",
       "    <tr>\n",
       "      <th>ASX_ATCO_2019.pdf</th>\n",
       "      <td>ATCO</td>\n",
       "      <td>2019</td>\n",
       "      <td>annual report cover ceo section contain vision...</td>\n",
       "    </tr>\n",
       "  </tbody>\n",
       "</table>\n",
       "</div>"
      ],
      "text/plain": [
       "                  ticker  year   \n",
       "filename                         \n",
       "ASX_ATCO_2019.pdf   ATCO  2019  \\\n",
       "\n",
       "                                                preprocessed_content  \n",
       "filename                                                              \n",
       "ASX_ATCO_2019.pdf  annual report cover ceo section contain vision...  "
      ]
     },
     "execution_count": 4,
     "metadata": {},
     "output_type": "execute_result"
    }
   ],
   "source": [
    "collab_data_result.head(1)"
   ]
  },
  {
   "cell_type": "code",
   "execution_count": 4,
   "metadata": {},
   "outputs": [
    {
     "name": "stderr",
     "output_type": "stream",
     "text": [
      "/var/folders/t5/tjfw6fh92wvd7nqk0dkpf15h0000gn/T/ipykernel_35903/2276629394.py:2: SettingWithCopyWarning: \n",
      "A value is trying to be set on a copy of a slice from a DataFrame.\n",
      "Try using .loc[row_indexer,col_indexer] = value instead\n",
      "\n",
      "See the caveats in the documentation: https://pandas.pydata.org/pandas-docs/stable/user_guide/indexing.html#returning-a-view-versus-a-copy\n",
      "  collab_data_result['preprocessed_content'] = collab_data_result['preprocessed_content'].apply(lambda x: add_ngrams(x, bigram_model, trigram_model))\n"
     ]
    }
   ],
   "source": [
    "from helpers.ngrams.add_ngrams import add_ngrams\n",
    "collab_data_result['preprocessed_content'] = collab_data_result['preprocessed_content'].apply(lambda x: add_ngrams(x, bigram_model, trigram_model))\n"
   ]
  },
  {
   "cell_type": "code",
   "execution_count": 5,
   "metadata": {},
   "outputs": [
    {
     "data": {
      "text/html": [
       "<div>\n",
       "<style scoped>\n",
       "    .dataframe tbody tr th:only-of-type {\n",
       "        vertical-align: middle;\n",
       "    }\n",
       "\n",
       "    .dataframe tbody tr th {\n",
       "        vertical-align: top;\n",
       "    }\n",
       "\n",
       "    .dataframe thead th {\n",
       "        text-align: right;\n",
       "    }\n",
       "</style>\n",
       "<table border=\"1\" class=\"dataframe\">\n",
       "  <thead>\n",
       "    <tr style=\"text-align: right;\">\n",
       "      <th></th>\n",
       "      <th>ticker</th>\n",
       "      <th>year</th>\n",
       "      <th>preprocessed_content</th>\n",
       "    </tr>\n",
       "    <tr>\n",
       "      <th>filename</th>\n",
       "      <th></th>\n",
       "      <th></th>\n",
       "      <th></th>\n",
       "    </tr>\n",
       "  </thead>\n",
       "  <tbody>\n",
       "    <tr>\n",
       "      <th>ASX_ATCO_2019.pdf</th>\n",
       "      <td>ATCO</td>\n",
       "      <td>2019</td>\n",
       "      <td>annual_report cover ceo section contain vision...</td>\n",
       "    </tr>\n",
       "  </tbody>\n",
       "</table>\n",
       "</div>"
      ],
      "text/plain": [
       "                  ticker  year   \n",
       "filename                         \n",
       "ASX_ATCO_2019.pdf   ATCO  2019  \\\n",
       "\n",
       "                                                preprocessed_content  \n",
       "filename                                                              \n",
       "ASX_ATCO_2019.pdf  annual_report cover ceo section contain vision...  "
      ]
     },
     "execution_count": 5,
     "metadata": {},
     "output_type": "execute_result"
    }
   ],
   "source": [
    "collab_data_result.head(10)"
   ]
  },
  {
   "cell_type": "code",
   "execution_count": 16,
   "metadata": {},
   "outputs": [],
   "source": [
    "import sys \n",
    "sys.path.append('../')"
   ]
  },
  {
   "cell_type": "code",
   "execution_count": 17,
   "metadata": {},
   "outputs": [],
   "source": [
    "from helpers.topic_modelling.generate_dtm import create_dtm\n",
    "from helpers.topic_modelling.generate_tfidf import create_tfidf\n",
    "from helpers.topic_modelling.generate_hashing_vectorizer import create_hashing_vectorizer"
   ]
  },
  {
   "cell_type": "code",
   "execution_count": 19,
   "metadata": {},
   "outputs": [
    {
     "ename": "AttributeError",
     "evalue": "'HashingVectorizer' object has no attribute 'get_feature_names_out'",
     "output_type": "error",
     "traceback": [
      "\u001b[0;31m---------------------------------------------------------------------------\u001b[0m",
      "\u001b[0;31mAttributeError\u001b[0m                            Traceback (most recent call last)",
      "\u001b[1;32m/Users/nikitawilms/Documents/ffm-ds-23-2/ESG-Score-Prediction-from-Sustainability-Reports/playhub/playground_marius.ipynb Cell 12\u001b[0m line \u001b[0;36m3\n\u001b[1;32m      <a href='vscode-notebook-cell:/Users/nikitawilms/Documents/ffm-ds-23-2/ESG-Score-Prediction-from-Sustainability-Reports/playhub/playground_marius.ipynb#X14sZmlsZQ%3D%3D?line=0'>1</a>\u001b[0m \u001b[39m#df_dtm = create_dtm(collab_data_result, min_df=0.05, max_df=1)\u001b[39;00m\n\u001b[1;32m      <a href='vscode-notebook-cell:/Users/nikitawilms/Documents/ffm-ds-23-2/ESG-Score-Prediction-from-Sustainability-Reports/playhub/playground_marius.ipynb#X14sZmlsZQ%3D%3D?line=1'>2</a>\u001b[0m \u001b[39m#df_tfidf = create_tfidf(collab_data_result, min_df=0.05, max_df=0.95)\u001b[39;00m\n\u001b[0;32m----> <a href='vscode-notebook-cell:/Users/nikitawilms/Documents/ffm-ds-23-2/ESG-Score-Prediction-from-Sustainability-Reports/playhub/playground_marius.ipynb#X14sZmlsZQ%3D%3D?line=2'>3</a>\u001b[0m hash_vec \u001b[39m=\u001b[39m create_hashing_vectorizer(collab_data_result)\n",
      "File \u001b[0;32m~/Documents/ffm-ds-23-2/ESG-Score-Prediction-from-Sustainability-Reports/playhub/../helpers/topic_modelling/generate_hashing_vectorizer.py:20\u001b[0m, in \u001b[0;36mcreate_hashing_vectorizer\u001b[0;34m(df, n_features)\u001b[0m\n\u001b[1;32m     16\u001b[0m hashing_vectorizer \u001b[39m=\u001b[39m HashingVectorizer(n_features\u001b[39m=\u001b[39mn_features)\n\u001b[1;32m     17\u001b[0m dtm_matrix \u001b[39m=\u001b[39m hashing_vectorizer\u001b[39m.\u001b[39mfit_transform(df[\u001b[39m\"\u001b[39m\u001b[39mpreprocessed_content\u001b[39m\u001b[39m\"\u001b[39m])\n\u001b[1;32m     18\u001b[0m dtm \u001b[39m=\u001b[39m pd\u001b[39m.\u001b[39mDataFrame(\n\u001b[1;32m     19\u001b[0m     dtm_matrix\u001b[39m.\u001b[39mtoarray(),\n\u001b[0;32m---> 20\u001b[0m     columns\u001b[39m=\u001b[39mhashing_vectorizer\u001b[39m.\u001b[39;49mget_feature_names_out(),\n\u001b[1;32m     21\u001b[0m     index\u001b[39m=\u001b[39mdf\u001b[39m.\u001b[39mindex,\n\u001b[1;32m     22\u001b[0m )\n\u001b[1;32m     23\u001b[0m \u001b[39mreturn\u001b[39;00m dtm\n",
      "\u001b[0;31mAttributeError\u001b[0m: 'HashingVectorizer' object has no attribute 'get_feature_names_out'"
     ]
    }
   ],
   "source": [
    "#df_dtm = create_dtm(collab_data_result, min_df=0.05, max_df=1)\n",
    "#df_tfidf = create_tfidf(collab_data_result, min_df=0.05, max_df=0.95)\n",
    "hash_vec = create_hashing_vectorizer(collab_data_result)"
   ]
  },
  {
   "cell_type": "code",
   "execution_count": 14,
   "metadata": {},
   "outputs": [
    {
     "data": {
      "text/html": [
       "<div>\n",
       "<style scoped>\n",
       "    .dataframe tbody tr th:only-of-type {\n",
       "        vertical-align: middle;\n",
       "    }\n",
       "\n",
       "    .dataframe tbody tr th {\n",
       "        vertical-align: top;\n",
       "    }\n",
       "\n",
       "    .dataframe thead th {\n",
       "        text-align: right;\n",
       "    }\n",
       "</style>\n",
       "<table border=\"1\" class=\"dataframe\">\n",
       "  <thead>\n",
       "    <tr style=\"text-align: right;\">\n",
       "      <th></th>\n",
       "      <th>include</th>\n",
       "      <th>year</th>\n",
       "      <th>share</th>\n",
       "      <th>asset</th>\n",
       "      <th>customer</th>\n",
       "      <th>risk</th>\n",
       "      <th>employee</th>\n",
       "      <th>increase</th>\n",
       "      <th>value</th>\n",
       "      <th>company</th>\n",
       "      <th>...</th>\n",
       "      <th>ethnic</th>\n",
       "      <th>preven</th>\n",
       "      <th>etween</th>\n",
       "      <th>presume</th>\n",
       "      <th>evaluat</th>\n",
       "      <th>evaluated</th>\n",
       "      <th>evaluaterisk</th>\n",
       "      <th>presid</th>\n",
       "      <th>preset</th>\n",
       "      <th>zone</th>\n",
       "    </tr>\n",
       "    <tr>\n",
       "      <th>filename</th>\n",
       "      <th></th>\n",
       "      <th></th>\n",
       "      <th></th>\n",
       "      <th></th>\n",
       "      <th></th>\n",
       "      <th></th>\n",
       "      <th></th>\n",
       "      <th></th>\n",
       "      <th></th>\n",
       "      <th></th>\n",
       "      <th></th>\n",
       "      <th></th>\n",
       "      <th></th>\n",
       "      <th></th>\n",
       "      <th></th>\n",
       "      <th></th>\n",
       "      <th></th>\n",
       "      <th></th>\n",
       "      <th></th>\n",
       "      <th></th>\n",
       "      <th></th>\n",
       "    </tr>\n",
       "  </thead>\n",
       "  <tbody>\n",
       "    <tr>\n",
       "      <th>ASX_ATCO_2019.pdf</th>\n",
       "      <td>0.212285</td>\n",
       "      <td>0.195835</td>\n",
       "      <td>0.195835</td>\n",
       "      <td>0.169202</td>\n",
       "      <td>0.168418</td>\n",
       "      <td>0.161368</td>\n",
       "      <td>0.160585</td>\n",
       "      <td>0.155102</td>\n",
       "      <td>0.151968</td>\n",
       "      <td>0.140218</td>\n",
       "      <td>...</td>\n",
       "      <td>0.000783</td>\n",
       "      <td>0.000783</td>\n",
       "      <td>0.000783</td>\n",
       "      <td>0.000783</td>\n",
       "      <td>0.000783</td>\n",
       "      <td>0.000783</td>\n",
       "      <td>0.000783</td>\n",
       "      <td>0.000783</td>\n",
       "      <td>0.000783</td>\n",
       "      <td>0.000783</td>\n",
       "    </tr>\n",
       "  </tbody>\n",
       "</table>\n",
       "<p>1 rows × 4515 columns</p>\n",
       "</div>"
      ],
      "text/plain": [
       "                    include      year     share     asset  customer      risk   \n",
       "filename                                                                        \n",
       "ASX_ATCO_2019.pdf  0.212285  0.195835  0.195835  0.169202  0.168418  0.161368  \\\n",
       "\n",
       "                   employee  increase     value   company  ...    ethnic   \n",
       "filename                                                   ...             \n",
       "ASX_ATCO_2019.pdf  0.160585  0.155102  0.151968  0.140218  ...  0.000783  \\\n",
       "\n",
       "                     preven    etween   presume   evaluat  evaluated   \n",
       "filename                                                               \n",
       "ASX_ATCO_2019.pdf  0.000783  0.000783  0.000783  0.000783   0.000783  \\\n",
       "\n",
       "                   evaluaterisk    presid    preset      zone  \n",
       "filename                                                       \n",
       "ASX_ATCO_2019.pdf      0.000783  0.000783  0.000783  0.000783  \n",
       "\n",
       "[1 rows x 4515 columns]"
      ]
     },
     "metadata": {},
     "output_type": "display_data"
    }
   ],
   "source": [
    "# sort dtm columns by largest value\n",
    "\n",
    "#df_dtm = df_dtm.reindex(df_dtm.sum().sort_values(ascending=False).index, axis=1)\n",
    "\n",
    "\n",
    "df_tfidf = df_tfidf.reindex(df_tfidf.sum().sort_values(ascending=False).index, axis=1)\n",
    "display(df_tfidf)"
   ]
  },
  {
   "cell_type": "code",
   "execution_count": 15,
   "metadata": {},
   "outputs": [
    {
     "data": {
      "text/html": [
       "<div>\n",
       "<style scoped>\n",
       "    .dataframe tbody tr th:only-of-type {\n",
       "        vertical-align: middle;\n",
       "    }\n",
       "\n",
       "    .dataframe tbody tr th {\n",
       "        vertical-align: top;\n",
       "    }\n",
       "\n",
       "    .dataframe thead th {\n",
       "        text-align: right;\n",
       "    }\n",
       "</style>\n",
       "<table border=\"1\" class=\"dataframe\">\n",
       "  <thead>\n",
       "    <tr style=\"text-align: right;\">\n",
       "      <th></th>\n",
       "      <th>include</th>\n",
       "      <th>year</th>\n",
       "      <th>share</th>\n",
       "      <th>asset</th>\n",
       "      <th>customer</th>\n",
       "      <th>risk</th>\n",
       "      <th>employee</th>\n",
       "      <th>increase</th>\n",
       "      <th>value</th>\n",
       "      <th>company</th>\n",
       "      <th>...</th>\n",
       "      <th>ethnic</th>\n",
       "      <th>preven</th>\n",
       "      <th>etween</th>\n",
       "      <th>presume</th>\n",
       "      <th>evaluat</th>\n",
       "      <th>evaluated</th>\n",
       "      <th>evaluaterisk</th>\n",
       "      <th>presid</th>\n",
       "      <th>preset</th>\n",
       "      <th>zone</th>\n",
       "    </tr>\n",
       "    <tr>\n",
       "      <th>filename</th>\n",
       "      <th></th>\n",
       "      <th></th>\n",
       "      <th></th>\n",
       "      <th></th>\n",
       "      <th></th>\n",
       "      <th></th>\n",
       "      <th></th>\n",
       "      <th></th>\n",
       "      <th></th>\n",
       "      <th></th>\n",
       "      <th></th>\n",
       "      <th></th>\n",
       "      <th></th>\n",
       "      <th></th>\n",
       "      <th></th>\n",
       "      <th></th>\n",
       "      <th></th>\n",
       "      <th></th>\n",
       "      <th></th>\n",
       "      <th></th>\n",
       "      <th></th>\n",
       "    </tr>\n",
       "  </thead>\n",
       "  <tbody>\n",
       "    <tr>\n",
       "      <th>ASX_ATCO_2019.pdf</th>\n",
       "      <td>0.212285</td>\n",
       "      <td>0.195835</td>\n",
       "      <td>0.195835</td>\n",
       "      <td>0.169202</td>\n",
       "      <td>0.168418</td>\n",
       "      <td>0.161368</td>\n",
       "      <td>0.160585</td>\n",
       "      <td>0.155102</td>\n",
       "      <td>0.151968</td>\n",
       "      <td>0.140218</td>\n",
       "      <td>...</td>\n",
       "      <td>0.000783</td>\n",
       "      <td>0.000783</td>\n",
       "      <td>0.000783</td>\n",
       "      <td>0.000783</td>\n",
       "      <td>0.000783</td>\n",
       "      <td>0.000783</td>\n",
       "      <td>0.000783</td>\n",
       "      <td>0.000783</td>\n",
       "      <td>0.000783</td>\n",
       "      <td>0.000783</td>\n",
       "    </tr>\n",
       "  </tbody>\n",
       "</table>\n",
       "<p>1 rows × 4515 columns</p>\n",
       "</div>"
      ],
      "text/plain": [
       "                    include      year     share     asset  customer      risk   \n",
       "filename                                                                        \n",
       "ASX_ATCO_2019.pdf  0.212285  0.195835  0.195835  0.169202  0.168418  0.161368  \\\n",
       "\n",
       "                   employee  increase     value   company  ...    ethnic   \n",
       "filename                                                   ...             \n",
       "ASX_ATCO_2019.pdf  0.160585  0.155102  0.151968  0.140218  ...  0.000783  \\\n",
       "\n",
       "                     preven    etween   presume   evaluat  evaluated   \n",
       "filename                                                               \n",
       "ASX_ATCO_2019.pdf  0.000783  0.000783  0.000783  0.000783   0.000783  \\\n",
       "\n",
       "                   evaluaterisk    presid    preset      zone  \n",
       "filename                                                       \n",
       "ASX_ATCO_2019.pdf      0.000783  0.000783  0.000783  0.000783  \n",
       "\n",
       "[1 rows x 4515 columns]"
      ]
     },
     "execution_count": 15,
     "metadata": {},
     "output_type": "execute_result"
    }
   ],
   "source": [
    "df_tfidf"
   ]
  }
 ],
 "metadata": {
  "kernelspec": {
   "display_name": ".venv",
   "language": "python",
   "name": "python3"
  },
  "language_info": {
   "codemirror_mode": {
    "name": "ipython",
    "version": 3
   },
   "file_extension": ".py",
   "mimetype": "text/x-python",
   "name": "python",
   "nbconvert_exporter": "python",
   "pygments_lexer": "ipython3",
   "version": "3.11.3"
  },
  "orig_nbformat": 4
 },
 "nbformat": 4,
 "nbformat_minor": 2
}
