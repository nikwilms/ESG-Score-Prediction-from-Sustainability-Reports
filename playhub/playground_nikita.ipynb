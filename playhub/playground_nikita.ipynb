{
 "cells": [
  {
   "cell_type": "code",
   "execution_count": null,
   "metadata": {},
   "outputs": [],
   "source": [
    "import pandas as pd\n",
    "import numpy as np\n",
    "\n",
    "df = pd.read_csv(\n",
    "    \"../../data/SP500_EGS_Score_avarage_per_year.csv\",\n",
    "    index_col=0,\n",
    "    parse_dates=True,\n",
    "    sep=\",\",\n",
    ")"
   ]
  },
  {
   "cell_type": "code",
   "execution_count": null,
   "metadata": {},
   "outputs": [],
   "source": [
    "df.head(20)"
   ]
  },
  {
   "cell_type": "code",
   "execution_count": null,
   "metadata": {},
   "outputs": [],
   "source": [
    "# all lower case\n",
    "\n",
    "df.columns = map(str.lower, df.columns)\n",
    "\n",
    "# - to _\n",
    "\n",
    "df.columns = df.columns.str.replace(\"-\", \"_\")"
   ]
  },
  {
   "cell_type": "code",
   "execution_count": null,
   "metadata": {},
   "outputs": [],
   "source": [
    "len(df.company_symbol.unique())"
   ]
  },
  {
   "cell_type": "code",
   "execution_count": null,
   "metadata": {},
   "outputs": [],
   "source": [
    "import sys\n",
    "\n",
    "sys.path.append(\"../\")"
   ]
  },
  {
   "cell_type": "code",
   "execution_count": null,
   "metadata": {},
   "outputs": [],
   "source": [
    "from helpers.text_preprocessing.preprocess_text import preprocess_text"
   ]
  },
  {
   "cell_type": "code",
   "execution_count": null,
   "metadata": {},
   "outputs": [],
   "source": [
    "import pandas as pd\n",
    "\n",
    "# Load or create your DataFrame (replace 'your_data.csv' with the path to your data file)\n",
    "df = pd.read_csv(\n",
    "    \"../data/extracted_text_sustainability_reports.csv\",\n",
    "    index_col=0,\n",
    "    parse_dates=True,\n",
    "    sep=\",\",\n",
    ")"
   ]
  },
  {
   "cell_type": "code",
   "execution_count": null,
   "metadata": {},
   "outputs": [],
   "source": [
    "# Preprocess the text and get the preprocessed DataFrame\n",
    "preprocessed_df = preprocess_text(df)"
   ]
  },
  {
   "cell_type": "code",
   "execution_count": null,
   "metadata": {},
   "outputs": [],
   "source": [
    "import optuna\n",
    "import pandas as pd\n",
    "import matplotlib.pyplot as plt\n",
    "import plotly\n",
    "from gensim import corpora\n",
    "import mlflow"
   ]
  },
  {
   "cell_type": "code",
   "execution_count": null,
   "metadata": {},
   "outputs": [],
   "source": [
    "import sys\n",
    "\n",
    "sys.path.append(\"../\")"
   ]
  },
  {
   "cell_type": "code",
   "execution_count": null,
   "metadata": {},
   "outputs": [],
   "source": [
    "from models.LDA_optuna_tuning.tune_lda_optuna import train_lda, compute_coherence\n",
    "from models.LDA_optuna_tuning.call_optuna_tune import (\n",
    "    preprocess_data,\n",
    "    execute_optuna_study,\n",
    ")"
   ]
  },
  {
   "cell_type": "code",
   "execution_count": null,
   "metadata": {},
   "outputs": [],
   "source": [
    "df = pd.read_csv(\n",
    "    \"../data/preprocessed_data_text_format.csv\", index_col=0, parse_dates=True, sep=\",\"\n",
    ")"
   ]
  },
  {
   "cell_type": "code",
   "execution_count": null,
   "metadata": {},
   "outputs": [],
   "source": [
    "df = df.head(200)"
   ]
  },
  {
   "cell_type": "code",
   "execution_count": null,
   "metadata": {},
   "outputs": [],
   "source": [
    "# write the preprocessed data to csv\n",
    "df.to_csv(\"../data/preprocessed_data_text_format_200.csv\")"
   ]
  },
  {
   "cell_type": "code",
   "execution_count": null,
   "metadata": {},
   "outputs": [],
   "source": [
    "preprocessed_stats = {\n",
    "    \"Number of Missing Values\": df[\"preprocessed_content\"].isna().sum(),\n",
    "    \"Number of Unique Texts\": df[\"preprocessed_content\"].nunique(),\n",
    "    \"Sample Texts\": df[\"preprocessed_content\"].sample(5).tolist(),\n",
    "}\n",
    "\n",
    "preprocessed_stats"
   ]
  },
  {
   "cell_type": "code",
   "execution_count": null,
   "metadata": {},
   "outputs": [],
   "source": [
    "df"
   ]
  },
  {
   "cell_type": "code",
   "execution_count": null,
   "metadata": {},
   "outputs": [],
   "source": [
    "if mlflow.active_run():\n",
    "    mlflow.end_run()\n",
    "execute_optuna_study(df, n_trials=200)"
   ]
  },
  {
   "cell_type": "code",
   "execution_count": null,
   "metadata": {},
   "outputs": [],
   "source": [
    "import yfinance as yf"
   ]
  },
  {
   "cell_type": "code",
   "execution_count": null,
   "metadata": {},
   "outputs": [],
   "source": [
    "# Create a ticker object\n",
    "tesla = yf.Ticker(\"TSLA\")\n",
    "\n",
    "# To fetch row names from financials and put them in a list\n",
    "financials_rows = tesla.financials.index.tolist()\n",
    "print(\"Financials Rows:\", financials_rows)\n",
    "\n",
    "# To fetch row names from cashflow and put them in a list\n",
    "cashflow_rows = tesla.cashflow.index.tolist()\n",
    "print(\"Cashflow Rows:\", cashflow_rows)\n",
    "\n",
    "# To fetch row names from balance sheet and put them in a list\n",
    "balance_rows = tesla.balance_sheet.index.tolist()\n",
    "print(\"Balance Rows:\", balance_rows)\n",
    "\n",
    "print(tesla.info)"
   ]
  },
  {
   "cell_type": "code",
   "execution_count": null,
   "metadata": {},
   "outputs": [],
   "source": [
    "import pandas as pd\n",
    "from collections import Counter\n",
    "\n",
    "df = pd.read_csv(\n",
    "    \"../data/ready_to_model/ready_to_model_df.csv\",\n",
    "    index_col=0,\n",
    "    parse_dates=True,\n",
    "    sep=\",\",\n",
    ")"
   ]
  },
  {
   "cell_type": "code",
   "execution_count": null,
   "metadata": {},
   "outputs": [],
   "source": [
    "# Filter out any non-string values in the 'preprocessed_content' column\n",
    "df[\"preprocessed_content\"] = df[\"preprocessed_content\"].apply(\n",
    "    lambda x: x if isinstance(x, str) else \"\"\n",
    ")\n",
    "\n",
    "# Tokenize the 'preprocessed_content' and flatten the list\n",
    "all_words = [word for content in df[\"preprocessed_content\"] for word in content.split()]\n",
    "\n",
    "# Count the frequency of each word\n",
    "counter = Counter(all_words)\n",
    "\n",
    "# Display the 10 most common and 10 least common words\n",
    "most_common_words = counter.most_common(300)\n",
    "least_common_words = [word for word, count in counter.items() if count <= 2]\n",
    "\n",
    "\n",
    "print(\"Most common words\", most_common_words)\n",
    "print(\"Least common words\", least_common_words)\n",
    "print(len(most_common_words))\n",
    "print(len(least_common_words))"
   ]
  },
  {
   "cell_type": "code",
   "execution_count": 1,
   "metadata": {},
   "outputs": [],
   "source": [
    "from sklearn.model_selection import train_test_split, KFold\n",
    "\n",
    "import tpot2\n",
    "import sklearn\n",
    "import numpy as np\n",
    "import pandas as pd"
   ]
  },
  {
   "cell_type": "code",
   "execution_count": 2,
   "metadata": {},
   "outputs": [],
   "source": [
    "df = pd.read_csv(\"../data/ready_to_model/df_cleaned_with_yfinance.csv\")\n",
    "df_sample = df.sample(100, random_state=100)"
   ]
  },
  {
   "cell_type": "code",
   "execution_count": null,
   "metadata": {},
   "outputs": [],
   "source": [
    "df.head()"
   ]
  },
  {
   "cell_type": "code",
   "execution_count": 3,
   "metadata": {},
   "outputs": [],
   "source": [
    "# columns to drop\n",
    "columns_to_drop = [\n",
    "    \"e_score\",\n",
    "    \"s_score\",\n",
    "    \"g_score\",\n",
    "    \"unnamed: 0\",\n",
    "    \"filename\",\n",
    "    \"ticker\",\n",
    "    \"year\",\n",
    "    \"preprocessed_content\",\n",
    "    \"ner_entities\",\n",
    "    \"company_symbol\",\n",
    "    \"total_score\",\n",
    "]\n",
    "\n",
    "# Separate features and target\n",
    "y = df[\"total_score\"]\n",
    "X = df.drop(columns=columns_to_drop)"
   ]
  },
  {
   "cell_type": "code",
   "execution_count": 4,
   "metadata": {},
   "outputs": [],
   "source": [
    "# drop the last two rows\n",
    "X = X.iloc[:-2, :]"
   ]
  },
  {
   "cell_type": "code",
   "execution_count": 5,
   "metadata": {},
   "outputs": [],
   "source": [
    "y = y.iloc[:-2]"
   ]
  },
  {
   "cell_type": "code",
   "execution_count": 6,
   "metadata": {},
   "outputs": [
    {
     "data": {
      "text/html": [
       "<div>\n",
       "<style scoped>\n",
       "    .dataframe tbody tr th:only-of-type {\n",
       "        vertical-align: middle;\n",
       "    }\n",
       "\n",
       "    .dataframe tbody tr th {\n",
       "        vertical-align: top;\n",
       "    }\n",
       "\n",
       "    .dataframe thead th {\n",
       "        text-align: right;\n",
       "    }\n",
       "</style>\n",
       "<table border=\"1\" class=\"dataframe\">\n",
       "  <thead>\n",
       "    <tr style=\"text-align: right;\">\n",
       "      <th></th>\n",
       "      <th>Unnamed: 0</th>\n",
       "      <th>topic_0</th>\n",
       "      <th>topic_1</th>\n",
       "      <th>topic_2</th>\n",
       "      <th>topic_3</th>\n",
       "      <th>topic_4</th>\n",
       "      <th>topic_5</th>\n",
       "      <th>topic_6</th>\n",
       "      <th>topic_7</th>\n",
       "      <th>topic_8</th>\n",
       "      <th>...</th>\n",
       "      <th>balance_Accumulated Depreciation</th>\n",
       "      <th>balance_Gross PPE</th>\n",
       "      <th>balance_Other Properties</th>\n",
       "      <th>balance_Machinery Furniture Equipment</th>\n",
       "      <th>balance_Current Assets</th>\n",
       "      <th>balance_Other Current Assets</th>\n",
       "      <th>balance_Receivables</th>\n",
       "      <th>balance_Accounts Receivable</th>\n",
       "      <th>balance_Cash Cash Equivalents And Short Term Investments</th>\n",
       "      <th>balance_Cash And Cash Equivalents</th>\n",
       "    </tr>\n",
       "  </thead>\n",
       "  <tbody>\n",
       "    <tr>\n",
       "      <th>0</th>\n",
       "      <td>0</td>\n",
       "      <td>0.001218</td>\n",
       "      <td>0.001870</td>\n",
       "      <td>0.002429</td>\n",
       "      <td>0.185920</td>\n",
       "      <td>0.003068</td>\n",
       "      <td>0.002446</td>\n",
       "      <td>0.002079</td>\n",
       "      <td>0.004457</td>\n",
       "      <td>0.002653</td>\n",
       "      <td>...</td>\n",
       "      <td>-2.413200e+09</td>\n",
       "      <td>5.228600e+09</td>\n",
       "      <td>7.463000e+08</td>\n",
       "      <td>2.622400e+09</td>\n",
       "      <td>5.330500e+09</td>\n",
       "      <td>478100000.0</td>\n",
       "      <td>2.978300e+09</td>\n",
       "      <td>2.261500e+09</td>\n",
       "      <td>1.472700e+09</td>\n",
       "      <td>1.472700e+09</td>\n",
       "    </tr>\n",
       "    <tr>\n",
       "      <th>1</th>\n",
       "      <td>1</td>\n",
       "      <td>0.000938</td>\n",
       "      <td>0.002150</td>\n",
       "      <td>0.001672</td>\n",
       "      <td>0.037319</td>\n",
       "      <td>0.000956</td>\n",
       "      <td>0.001582</td>\n",
       "      <td>0.000889</td>\n",
       "      <td>0.001315</td>\n",
       "      <td>0.001176</td>\n",
       "      <td>...</td>\n",
       "      <td>-9.779120e+08</td>\n",
       "      <td>2.139470e+09</td>\n",
       "      <td>4.126740e+08</td>\n",
       "      <td>8.163310e+08</td>\n",
       "      <td>NaN</td>\n",
       "      <td>NaN</td>\n",
       "      <td>7.948855e+09</td>\n",
       "      <td>6.701959e+09</td>\n",
       "      <td>NaN</td>\n",
       "      <td>2.521655e+10</td>\n",
       "    </tr>\n",
       "    <tr>\n",
       "      <th>2</th>\n",
       "      <td>2</td>\n",
       "      <td>0.001615</td>\n",
       "      <td>0.003504</td>\n",
       "      <td>0.003851</td>\n",
       "      <td>0.122123</td>\n",
       "      <td>0.012733</td>\n",
       "      <td>0.710308</td>\n",
       "      <td>0.002722</td>\n",
       "      <td>0.005965</td>\n",
       "      <td>0.081098</td>\n",
       "      <td>...</td>\n",
       "      <td>-5.416770e+08</td>\n",
       "      <td>9.470280e+08</td>\n",
       "      <td>9.470280e+08</td>\n",
       "      <td>3.826760e+08</td>\n",
       "      <td>6.635045e+09</td>\n",
       "      <td>108801000.0</td>\n",
       "      <td>3.810286e+09</td>\n",
       "      <td>3.810286e+09</td>\n",
       "      <td>1.728692e+09</td>\n",
       "      <td>1.728692e+09</td>\n",
       "    </tr>\n",
       "    <tr>\n",
       "      <th>3</th>\n",
       "      <td>3</td>\n",
       "      <td>0.000771</td>\n",
       "      <td>0.000802</td>\n",
       "      <td>0.000955</td>\n",
       "      <td>0.001158</td>\n",
       "      <td>0.000978</td>\n",
       "      <td>0.632143</td>\n",
       "      <td>0.000848</td>\n",
       "      <td>0.000936</td>\n",
       "      <td>0.000806</td>\n",
       "      <td>...</td>\n",
       "      <td>NaN</td>\n",
       "      <td>NaN</td>\n",
       "      <td>NaN</td>\n",
       "      <td>NaN</td>\n",
       "      <td>NaN</td>\n",
       "      <td>NaN</td>\n",
       "      <td>NaN</td>\n",
       "      <td>NaN</td>\n",
       "      <td>NaN</td>\n",
       "      <td>NaN</td>\n",
       "    </tr>\n",
       "    <tr>\n",
       "      <th>4</th>\n",
       "      <td>4</td>\n",
       "      <td>0.001340</td>\n",
       "      <td>0.001617</td>\n",
       "      <td>0.001802</td>\n",
       "      <td>0.637962</td>\n",
       "      <td>0.001676</td>\n",
       "      <td>0.243458</td>\n",
       "      <td>0.001693</td>\n",
       "      <td>0.003728</td>\n",
       "      <td>0.001563</td>\n",
       "      <td>...</td>\n",
       "      <td>-2.117000e+08</td>\n",
       "      <td>8.993000e+08</td>\n",
       "      <td>1.560000e+07</td>\n",
       "      <td>2.030000e+08</td>\n",
       "      <td>3.600600e+09</td>\n",
       "      <td>65400000.0</td>\n",
       "      <td>8.077000e+08</td>\n",
       "      <td>8.077000e+08</td>\n",
       "      <td>2.551700e+09</td>\n",
       "      <td>1.319100e+09</td>\n",
       "    </tr>\n",
       "    <tr>\n",
       "      <th>...</th>\n",
       "      <td>...</td>\n",
       "      <td>...</td>\n",
       "      <td>...</td>\n",
       "      <td>...</td>\n",
       "      <td>...</td>\n",
       "      <td>...</td>\n",
       "      <td>...</td>\n",
       "      <td>...</td>\n",
       "      <td>...</td>\n",
       "      <td>...</td>\n",
       "      <td>...</td>\n",
       "      <td>...</td>\n",
       "      <td>...</td>\n",
       "      <td>...</td>\n",
       "      <td>...</td>\n",
       "      <td>...</td>\n",
       "      <td>...</td>\n",
       "      <td>...</td>\n",
       "      <td>...</td>\n",
       "      <td>...</td>\n",
       "      <td>...</td>\n",
       "    </tr>\n",
       "    <tr>\n",
       "      <th>842</th>\n",
       "      <td>842</td>\n",
       "      <td>0.000242</td>\n",
       "      <td>0.000364</td>\n",
       "      <td>0.000372</td>\n",
       "      <td>0.000452</td>\n",
       "      <td>0.000292</td>\n",
       "      <td>0.000323</td>\n",
       "      <td>0.000341</td>\n",
       "      <td>0.000364</td>\n",
       "      <td>0.000253</td>\n",
       "      <td>...</td>\n",
       "      <td>-5.526380e+08</td>\n",
       "      <td>5.745470e+08</td>\n",
       "      <td>5.745470e+08</td>\n",
       "      <td>6.695770e+08</td>\n",
       "      <td>1.422425e+09</td>\n",
       "      <td>115436000.0</td>\n",
       "      <td>3.950710e+08</td>\n",
       "      <td>3.950710e+08</td>\n",
       "      <td>3.758800e+08</td>\n",
       "      <td>3.758800e+08</td>\n",
       "    </tr>\n",
       "    <tr>\n",
       "      <th>843</th>\n",
       "      <td>843</td>\n",
       "      <td>0.001257</td>\n",
       "      <td>0.001116</td>\n",
       "      <td>0.001339</td>\n",
       "      <td>0.002035</td>\n",
       "      <td>0.000916</td>\n",
       "      <td>0.001633</td>\n",
       "      <td>0.001734</td>\n",
       "      <td>0.001064</td>\n",
       "      <td>0.156478</td>\n",
       "      <td>...</td>\n",
       "      <td>-3.698000e+09</td>\n",
       "      <td>2.814000e+09</td>\n",
       "      <td>2.814000e+09</td>\n",
       "      <td>NaN</td>\n",
       "      <td>NaN</td>\n",
       "      <td>NaN</td>\n",
       "      <td>2.704000e+09</td>\n",
       "      <td>3.282000e+09</td>\n",
       "      <td>NaN</td>\n",
       "      <td>3.466000e+09</td>\n",
       "    </tr>\n",
       "    <tr>\n",
       "      <th>844</th>\n",
       "      <td>844</td>\n",
       "      <td>0.003077</td>\n",
       "      <td>0.339887</td>\n",
       "      <td>0.003480</td>\n",
       "      <td>0.050167</td>\n",
       "      <td>0.003389</td>\n",
       "      <td>0.015454</td>\n",
       "      <td>0.006424</td>\n",
       "      <td>0.004994</td>\n",
       "      <td>0.003117</td>\n",
       "      <td>...</td>\n",
       "      <td>NaN</td>\n",
       "      <td>NaN</td>\n",
       "      <td>NaN</td>\n",
       "      <td>NaN</td>\n",
       "      <td>NaN</td>\n",
       "      <td>NaN</td>\n",
       "      <td>NaN</td>\n",
       "      <td>NaN</td>\n",
       "      <td>NaN</td>\n",
       "      <td>1.214700e+10</td>\n",
       "    </tr>\n",
       "    <tr>\n",
       "      <th>845</th>\n",
       "      <td>845</td>\n",
       "      <td>0.001088</td>\n",
       "      <td>0.775492</td>\n",
       "      <td>0.001835</td>\n",
       "      <td>0.053042</td>\n",
       "      <td>0.001516</td>\n",
       "      <td>0.002567</td>\n",
       "      <td>0.001855</td>\n",
       "      <td>0.001733</td>\n",
       "      <td>0.001633</td>\n",
       "      <td>...</td>\n",
       "      <td>-1.068800e+10</td>\n",
       "      <td>2.906200e+10</td>\n",
       "      <td>1.513000e+09</td>\n",
       "      <td>NaN</td>\n",
       "      <td>5.974000e+09</td>\n",
       "      <td>NaN</td>\n",
       "      <td>1.086000e+09</td>\n",
       "      <td>1.086000e+09</td>\n",
       "      <td>4.072000e+09</td>\n",
       "      <td>2.548000e+09</td>\n",
       "    </tr>\n",
       "    <tr>\n",
       "      <th>846</th>\n",
       "      <td>846</td>\n",
       "      <td>0.000381</td>\n",
       "      <td>0.000420</td>\n",
       "      <td>0.000601</td>\n",
       "      <td>0.000633</td>\n",
       "      <td>0.000474</td>\n",
       "      <td>0.000628</td>\n",
       "      <td>0.000921</td>\n",
       "      <td>0.812677</td>\n",
       "      <td>0.000392</td>\n",
       "      <td>...</td>\n",
       "      <td>NaN</td>\n",
       "      <td>NaN</td>\n",
       "      <td>NaN</td>\n",
       "      <td>NaN</td>\n",
       "      <td>NaN</td>\n",
       "      <td>NaN</td>\n",
       "      <td>NaN</td>\n",
       "      <td>NaN</td>\n",
       "      <td>NaN</td>\n",
       "      <td>NaN</td>\n",
       "    </tr>\n",
       "  </tbody>\n",
       "</table>\n",
       "<p>847 rows × 1326 columns</p>\n",
       "</div>"
      ],
      "text/plain": [
       "     Unnamed: 0   topic_0   topic_1   topic_2   topic_3   topic_4   topic_5  \\\n",
       "0             0  0.001218  0.001870  0.002429  0.185920  0.003068  0.002446   \n",
       "1             1  0.000938  0.002150  0.001672  0.037319  0.000956  0.001582   \n",
       "2             2  0.001615  0.003504  0.003851  0.122123  0.012733  0.710308   \n",
       "3             3  0.000771  0.000802  0.000955  0.001158  0.000978  0.632143   \n",
       "4             4  0.001340  0.001617  0.001802  0.637962  0.001676  0.243458   \n",
       "..          ...       ...       ...       ...       ...       ...       ...   \n",
       "842         842  0.000242  0.000364  0.000372  0.000452  0.000292  0.000323   \n",
       "843         843  0.001257  0.001116  0.001339  0.002035  0.000916  0.001633   \n",
       "844         844  0.003077  0.339887  0.003480  0.050167  0.003389  0.015454   \n",
       "845         845  0.001088  0.775492  0.001835  0.053042  0.001516  0.002567   \n",
       "846         846  0.000381  0.000420  0.000601  0.000633  0.000474  0.000628   \n",
       "\n",
       "      topic_6   topic_7   topic_8  ...  balance_Accumulated Depreciation  \\\n",
       "0    0.002079  0.004457  0.002653  ...                     -2.413200e+09   \n",
       "1    0.000889  0.001315  0.001176  ...                     -9.779120e+08   \n",
       "2    0.002722  0.005965  0.081098  ...                     -5.416770e+08   \n",
       "3    0.000848  0.000936  0.000806  ...                               NaN   \n",
       "4    0.001693  0.003728  0.001563  ...                     -2.117000e+08   \n",
       "..        ...       ...       ...  ...                               ...   \n",
       "842  0.000341  0.000364  0.000253  ...                     -5.526380e+08   \n",
       "843  0.001734  0.001064  0.156478  ...                     -3.698000e+09   \n",
       "844  0.006424  0.004994  0.003117  ...                               NaN   \n",
       "845  0.001855  0.001733  0.001633  ...                     -1.068800e+10   \n",
       "846  0.000921  0.812677  0.000392  ...                               NaN   \n",
       "\n",
       "     balance_Gross PPE  balance_Other Properties  \\\n",
       "0         5.228600e+09              7.463000e+08   \n",
       "1         2.139470e+09              4.126740e+08   \n",
       "2         9.470280e+08              9.470280e+08   \n",
       "3                  NaN                       NaN   \n",
       "4         8.993000e+08              1.560000e+07   \n",
       "..                 ...                       ...   \n",
       "842       5.745470e+08              5.745470e+08   \n",
       "843       2.814000e+09              2.814000e+09   \n",
       "844                NaN                       NaN   \n",
       "845       2.906200e+10              1.513000e+09   \n",
       "846                NaN                       NaN   \n",
       "\n",
       "     balance_Machinery Furniture Equipment  balance_Current Assets  \\\n",
       "0                             2.622400e+09            5.330500e+09   \n",
       "1                             8.163310e+08                     NaN   \n",
       "2                             3.826760e+08            6.635045e+09   \n",
       "3                                      NaN                     NaN   \n",
       "4                             2.030000e+08            3.600600e+09   \n",
       "..                                     ...                     ...   \n",
       "842                           6.695770e+08            1.422425e+09   \n",
       "843                                    NaN                     NaN   \n",
       "844                                    NaN                     NaN   \n",
       "845                                    NaN            5.974000e+09   \n",
       "846                                    NaN                     NaN   \n",
       "\n",
       "     balance_Other Current Assets  balance_Receivables  \\\n",
       "0                     478100000.0         2.978300e+09   \n",
       "1                             NaN         7.948855e+09   \n",
       "2                     108801000.0         3.810286e+09   \n",
       "3                             NaN                  NaN   \n",
       "4                      65400000.0         8.077000e+08   \n",
       "..                            ...                  ...   \n",
       "842                   115436000.0         3.950710e+08   \n",
       "843                           NaN         2.704000e+09   \n",
       "844                           NaN                  NaN   \n",
       "845                           NaN         1.086000e+09   \n",
       "846                           NaN                  NaN   \n",
       "\n",
       "     balance_Accounts Receivable  \\\n",
       "0                   2.261500e+09   \n",
       "1                   6.701959e+09   \n",
       "2                   3.810286e+09   \n",
       "3                            NaN   \n",
       "4                   8.077000e+08   \n",
       "..                           ...   \n",
       "842                 3.950710e+08   \n",
       "843                 3.282000e+09   \n",
       "844                          NaN   \n",
       "845                 1.086000e+09   \n",
       "846                          NaN   \n",
       "\n",
       "     balance_Cash Cash Equivalents And Short Term Investments  \\\n",
       "0                                         1.472700e+09          \n",
       "1                                                  NaN          \n",
       "2                                         1.728692e+09          \n",
       "3                                                  NaN          \n",
       "4                                         2.551700e+09          \n",
       "..                                                 ...          \n",
       "842                                       3.758800e+08          \n",
       "843                                                NaN          \n",
       "844                                                NaN          \n",
       "845                                       4.072000e+09          \n",
       "846                                                NaN          \n",
       "\n",
       "     balance_Cash And Cash Equivalents  \n",
       "0                         1.472700e+09  \n",
       "1                         2.521655e+10  \n",
       "2                         1.728692e+09  \n",
       "3                                  NaN  \n",
       "4                         1.319100e+09  \n",
       "..                                 ...  \n",
       "842                       3.758800e+08  \n",
       "843                       3.466000e+09  \n",
       "844                       1.214700e+10  \n",
       "845                       2.548000e+09  \n",
       "846                                NaN  \n",
       "\n",
       "[847 rows x 1326 columns]"
      ]
     },
     "execution_count": 6,
     "metadata": {},
     "output_type": "execute_result"
    }
   ],
   "source": [
    "X"
   ]
  },
  {
   "cell_type": "code",
   "execution_count": 7,
   "metadata": {},
   "outputs": [
    {
     "data": {
      "text/plain": [
       "0      15.30\n",
       "1      27.66\n",
       "2      18.13\n",
       "3      18.25\n",
       "4      21.07\n",
       "       ...  \n",
       "842    28.98\n",
       "843    18.73\n",
       "844    21.70\n",
       "845    30.41\n",
       "846    19.73\n",
       "Name: total_score, Length: 847, dtype: float64"
      ]
     },
     "execution_count": 7,
     "metadata": {},
     "output_type": "execute_result"
    }
   ],
   "source": [
    "y"
   ]
  },
  {
   "cell_type": "code",
   "execution_count": 8,
   "metadata": {},
   "outputs": [],
   "source": [
    "# Split the data into training and test sets\n",
    "X_train, X_test, y_train, y_test = train_test_split(\n",
    "    X, y, test_size=0.25, random_state=100\n",
    ")"
   ]
  },
  {
   "cell_type": "code",
   "execution_count": null,
   "metadata": {},
   "outputs": [],
   "source": [
    "scorer = sklearn.metrics.get_scorer(\"neg_mean_squared_error\")\n",
    "\n",
    "# Initialize TPOT2 regressor with K-Fold cross-validation\n",
    "est = tpot2.TPOTEstimatorSteadyState(\n",
    "    n_jobs=6,\n",
    "    cv=KFold(n_splits=5),  # 5-Fold cross-validation\n",
    "    verbose=2,\n",
    "    classification=False,\n",
    "    scorers=[scorer],\n",
    "    scorers_weights=[1],\n",
    "    max_eval_time_seconds=60 * 10,\n",
    "    max_time_seconds=60 * 90,\n",
    ")\n",
    "\n",
    "# Fit the model\n",
    "est.fit(X_train, y_train)\n",
    "print('Done fitting/training TPOT2 session.')\n",
    "\n",
    "\n",
    "df_individuals = est.evaluated_individuals\n",
    "\n",
    "# Convert the 'mean_squared_error' column to numeric, errors='coerce' will replace non-numeric with NaN\n",
    "df_individuals['mean_squared_error'] = pd.to_numeric(df_individuals['mean_squared_error'], errors='coerce')\n",
    "\n",
    "# Drop NaN values\n",
    "filtered_df = df_individuals.dropna(subset=['mean_squared_error'])\n",
    "\n",
    "# Sort the DataFrame by 'mean_squared_error' and get the top 10\n",
    "top_10_mse = filtered_df.nlargest(10, 'mean_squared_error')\n",
    "\n",
    "print(est.pareto_front)\n",
    "print(top_10_mse)\n",
    "print(est.get_params())\n",
    "\n"
   ]
  },
  {
   "cell_type": "code",
   "execution_count": null,
   "metadata": {},
   "outputs": [],
   "source": [
    "top_10_mse"
   ]
  },
  {
   "cell_type": "code",
   "execution_count": null,
   "metadata": {},
   "outputs": [],
   "source": [
    "top_30_mse = filtered_df.nlargest(30, 'mean_squared_error')\n"
   ]
  },
  {
   "cell_type": "code",
   "execution_count": null,
   "metadata": {},
   "outputs": [],
   "source": [
    "# save the top 30 models to csv\n",
    "top_30_mse.to_csv(\"../data/model_data/top_30_mse.csv\")"
   ]
  },
  {
   "cell_type": "code",
   "execution_count": null,
   "metadata": {},
   "outputs": [],
   "source": [
    "top_30_mse"
   ]
  },
  {
   "cell_type": "code",
   "execution_count": 9,
   "metadata": {},
   "outputs": [],
   "source": [
    "import sys\n",
    "\n",
    "sys.path.append(\"../\")"
   ]
  },
  {
   "cell_type": "code",
   "execution_count": 10,
   "metadata": {},
   "outputs": [],
   "source": [
    "from models.XGBoost.train_and_evaluate_model import train_and_evaluate_model\n",
    "from models.XGBoost.tune_xgb_hyperparameters import tune_xgb_hyperparameters\n"
   ]
  },
  {
   "cell_type": "code",
   "execution_count": 11,
   "metadata": {},
   "outputs": [
    {
     "name": "stdout",
     "output_type": "stream",
     "text": [
      "Unnamed: 0                                                    int64\n",
      "topic_0                                                     float64\n",
      "topic_1                                                     float64\n",
      "topic_2                                                     float64\n",
      "topic_3                                                     float64\n",
      "                                                             ...   \n",
      "balance_Other Current Assets                                float64\n",
      "balance_Receivables                                         float64\n",
      "balance_Accounts Receivable                                 float64\n",
      "balance_Cash Cash Equivalents And Short Term Investments    float64\n",
      "balance_Cash And Cash Equivalents                           float64\n",
      "Length: 1326, dtype: object\n"
     ]
    }
   ],
   "source": [
    "print(X_train.dtypes)\n"
   ]
  },
  {
   "cell_type": "code",
   "execution_count": null,
   "metadata": {},
   "outputs": [],
   "source": [
    "X_train = X_train.apply(pd.to_numeric, errors='ignore')\n"
   ]
  },
  {
   "cell_type": "code",
   "execution_count": null,
   "metadata": {},
   "outputs": [],
   "source": [
    "best_params = tune_xgb_hyperparameters(X_train, y_train, n_trials=30)\n"
   ]
  },
  {
   "cell_type": "code",
   "execution_count": null,
   "metadata": {},
   "outputs": [],
   "source": [
    "final_model, mse = train_and_evaluate_model(X_train, y_train, X_test, y_test, best_params)"
   ]
  },
  {
   "cell_type": "code",
   "execution_count": null,
   "metadata": {},
   "outputs": [],
   "source": [
    "df"
   ]
  },
  {
   "cell_type": "code",
   "execution_count": null,
   "metadata": {},
   "outputs": [],
   "source": [
    "import yfinance as yf\n",
    "import pandas as pd\n",
    "\n",
    "def fetch_and_merge_data(df):\n",
    "    # Create an empty list to store fetched data\n",
    "    fetched_data = []\n",
    "    \n",
    "    for i, row in df.iterrows():\n",
    "        ticker = row['ticker']\n",
    "        year = row['year']\n",
    "        \n",
    "        # Initialize the Yahoo Finance object\n",
    "        yf_ticker = yf.Ticker(ticker)\n",
    "        \n",
    "        # Fetch financials, cashflow, balance, and info\n",
    "        financials = yf_ticker.financials\n",
    "        cashflow = yf_ticker.cashflow\n",
    "        balance = yf_ticker.balance_sheet\n",
    "        info = yf_ticker.info  # This returns a dictionary\n",
    "        \n",
    "        # Filter only numerical values from info\n",
    "        numerical_info = {k: v for k, v in info.items() if isinstance(v, (int, float))}\n",
    "        \n",
    "        # Filter data to match the specific year\n",
    "        financials = financials.loc[:, pd.to_datetime(financials.columns).year == year]\n",
    "        cashflow = cashflow.loc[:, pd.to_datetime(cashflow.columns).year == year]\n",
    "        balance = balance.loc[:, pd.to_datetime(balance.columns).year == year]\n",
    "        \n",
    "        # Create a DataFrame from the numerical info\n",
    "        info_df = pd.DataFrame([numerical_info])\n",
    "        \n",
    "        # Merge these new data points into a single DataFrame\n",
    "        merged_data = pd.concat([financials, cashflow, balance, info_df], axis=1)\n",
    "        \n",
    "        # Add 'ticker' and 'year' columns\n",
    "        merged_data['ticker'] = ticker\n",
    "        merged_data['year'] = year\n",
    "        \n",
    "        # Append this merged data to the fetched_data list\n",
    "        fetched_data.append(merged_data.reset_index(drop=True))\n",
    "        \n",
    "    # Concatenate all fetched data into a new DataFrame\n",
    "    new_data = pd.concat(fetched_data, axis=0, ignore_index=True)\n",
    "    \n",
    "    # Finally, merge the new_data DataFrame with the original DataFrame\n",
    "    final_df = pd.merge(df, new_data, on=['ticker', 'year'], how='left')\n",
    "    \n",
    "    return final_df\n"
   ]
  },
  {
   "cell_type": "code",
   "execution_count": null,
   "metadata": {},
   "outputs": [],
   "source": [
    "from concurrent.futures import ThreadPoolExecutor\n",
    "import yfinance as yf\n",
    "import pandas as pd\n",
    "\n",
    "\n",
    "def fetch_data_for_row(named_tuple_row):\n",
    "    ticker = \"Unknown\"  # Initialize with a default value\n",
    "    year = \"Unknown\"    # Initialize with a default value\n",
    "    \n",
    "    try:\n",
    "        ticker = named_tuple_row.ticker\n",
    "        year = named_tuple_row.year\n",
    "\n",
    "        yf_ticker = yf.Ticker(ticker)\n",
    "        financials = yf_ticker.financials\n",
    "        cashflow = yf_ticker.cashflow\n",
    "        balance = yf_ticker.balance_sheet\n",
    "        info = {k: v for k, v in yf_ticker.info.items() if isinstance(v, (int, float))}\n",
    "\n",
    "        financials = financials.loc[:, pd.to_datetime(financials.columns).year == year].transpose()\n",
    "        cashflow = cashflow.loc[:, pd.to_datetime(cashflow.columns).year == year].transpose()\n",
    "        balance = balance.loc[:, pd.to_datetime(balance.columns).year == year].transpose()\n",
    "        info_df = pd.DataFrame([info])\n",
    "\n",
    "        financials.columns = 'financials_' + financials.columns.astype(str)\n",
    "        cashflow.columns = 'cashflow_' + cashflow.columns.astype(str)\n",
    "        balance.columns = 'balance_' + balance.columns.astype(str)\n",
    "        info_df.columns = 'info_' + info_df.columns.astype(str)\n",
    "\n",
    "        merged_data = pd.concat([financials, cashflow, balance, info_df], axis=1)\n",
    "        merged_data['ticker'] = ticker\n",
    "        merged_data['year'] = year\n",
    "\n",
    "        return merged_data.reset_index(drop=True)\n",
    "    except Exception as e:\n",
    "        print(f\"An error occurred in fetch_data_for_row for ticker: {ticker} and year: {year}. Error: {e}\")\n",
    "        return pd.DataFrame()\n",
    "\n",
    "\n",
    "\n",
    "def fetch_and_merge_data(df):\n",
    "    try:\n",
    "        # Initialize an empty list to store fetched data\n",
    "        fetched_data_list = []\n",
    "        \n",
    "        with ThreadPoolExecutor() as executor:\n",
    "            fetched_data_list = list(executor.map(fetch_data_for_row, df.itertuples(index=False)))\n",
    "\n",
    "        # Concatenate all the fetched data\n",
    "        new_data = pd.concat([data.iloc[[0]] for data in fetched_data_list if not data.empty], ignore_index=True)\n",
    "\n",
    "        # Debug: Print the shape and columns of new_data\n",
    "        print(f\"new_data shape: {new_data.shape}, columns: {new_data.columns}\")\n",
    "\n",
    "        # Merge new_data with df based on 'ticker' and 'year'\n",
    "        final_df = pd.merge(df, new_data, on=['ticker', 'year'], how='left')\n",
    "\n",
    "        return final_df\n",
    "    except Exception as e:\n",
    "        print(f\"An error occurred in fetch_and_merge_data: {e}\")\n",
    "        return df  # Return the original DataFrame as a fallback\n",
    "\n",
    "\n",
    "\n",
    "\n",
    "# Example usage\n",
    "# df = pd.DataFrame({'ticker': ['AAPL', 'GOOGL'], 'year': [2020, 2021]})\n",
    "# final_df = fetch_and_merge_data(df)\n"
   ]
  },
  {
   "cell_type": "code",
   "execution_count": null,
   "metadata": {},
   "outputs": [],
   "source": [
    "df"
   ]
  },
  {
   "cell_type": "code",
   "execution_count": null,
   "metadata": {},
   "outputs": [],
   "source": [
    "final_df = fetch_and_merge_data(df)"
   ]
  },
  {
   "cell_type": "code",
   "execution_count": null,
   "metadata": {},
   "outputs": [],
   "source": [
    "df = final_df"
   ]
  },
  {
   "cell_type": "code",
   "execution_count": null,
   "metadata": {},
   "outputs": [],
   "source": [
    "final_df.sample(10)"
   ]
  },
  {
   "cell_type": "code",
   "execution_count": null,
   "metadata": {},
   "outputs": [],
   "source": [
    "# Calculate the percentage of missing values for each column\n",
    "missing_percent = df_cleaned.isnull().mean() * 100\n",
    "\n",
    "# Sort the columns by percentage of missing values in descending order\n",
    "missing_percent_sorted = missing_percent.sort_values(ascending=False)\n",
    "\n",
    "# Show the sorted series\n",
    "print(missing_percent_sorted)\n"
   ]
  },
  {
   "cell_type": "code",
   "execution_count": null,
   "metadata": {},
   "outputs": [],
   "source": [
    "nan_count = final_df.isna().sum()\n"
   ]
  },
  {
   "cell_type": "code",
   "execution_count": null,
   "metadata": {},
   "outputs": [],
   "source": [
    "def remove_columns_with_nans(df, threshold=800):\n",
    "    nan_count = final_df.isna().sum()\n",
    "    columns_to_remove = nan_count[nan_count > threshold].index.tolist()\n",
    "    df_cleaned = final_df.drop(columns=columns_to_remove)\n",
    "    return df_cleaned"
   ]
  },
  {
   "cell_type": "code",
   "execution_count": null,
   "metadata": {},
   "outputs": [],
   "source": [
    "df_cleaned = remove_columns_with_nans(df, threshold=300)\n"
   ]
  },
  {
   "cell_type": "code",
   "execution_count": null,
   "metadata": {},
   "outputs": [],
   "source": [
    "df_cleaned\n",
    "\n"
   ]
  },
  {
   "cell_type": "code",
   "execution_count": null,
   "metadata": {},
   "outputs": [],
   "source": [
    "df_cleaned.to_csv(\"../data/ready_to_model/df_cleaned_with_yfinance.csv\")"
   ]
  },
  {
   "cell_type": "code",
   "execution_count": null,
   "metadata": {},
   "outputs": [],
   "source": [
    "# Sorting columns by the number of NaN values (in descending order)\n",
    "sorted_nan_count = nan_count.sort_values(ascending=False)\n",
    "\n",
    "print(sorted_nan_count.value_counts())"
   ]
  }
 ],
 "metadata": {
  "kernelspec": {
   "display_name": ".venv",
   "language": "python",
   "name": "python3"
  },
  "language_info": {
   "codemirror_mode": {
    "name": "ipython",
    "version": 3
   },
   "file_extension": ".py",
   "mimetype": "text/x-python",
   "name": "python",
   "nbconvert_exporter": "python",
   "pygments_lexer": "ipython3",
   "version": "3.11.3"
  },
  "orig_nbformat": 4
 },
 "nbformat": 4,
 "nbformat_minor": 2
}
