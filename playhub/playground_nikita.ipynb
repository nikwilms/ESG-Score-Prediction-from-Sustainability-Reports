{
 "cells": [
  {
   "cell_type": "code",
   "execution_count": 14,
   "metadata": {},
   "outputs": [
    {
     "name": "stderr",
     "output_type": "stream",
     "text": [
      "/var/folders/q4/1vtck34d7h12n065tcl6nwkm0000gn/T/ipykernel_31805/1195792824.py:4: UserWarning: Could not infer format, so each element will be parsed individually, falling back to `dateutil`. To ensure parsing is consistent and as-expected, please specify a format.\n",
      "  df = pd.read_csv('../../data/SP500_EGS_Score_avarage_per_year.csv', index_col=0, parse_dates=True,sep=',')\n"
     ]
    }
   ],
   "source": [
    "import pandas as pd\n",
    "import numpy as np\n",
    "\n",
    "df = pd.read_csv('../../data/SP500_EGS_Score_avarage_per_year.csv', index_col=0, parse_dates=True,sep=',')"
   ]
  },
  {
   "cell_type": "code",
   "execution_count": 15,
   "metadata": {},
   "outputs": [
    {
     "data": {
      "text/html": [
       "<div>\n",
       "<style scoped>\n",
       "    .dataframe tbody tr th:only-of-type {\n",
       "        vertical-align: middle;\n",
       "    }\n",
       "\n",
       "    .dataframe tbody tr th {\n",
       "        vertical-align: top;\n",
       "    }\n",
       "\n",
       "    .dataframe thead th {\n",
       "        text-align: right;\n",
       "    }\n",
       "</style>\n",
       "<table border=\"1\" class=\"dataframe\">\n",
       "  <thead>\n",
       "    <tr style=\"text-align: right;\">\n",
       "      <th></th>\n",
       "      <th>year</th>\n",
       "      <th>Company_Symbol</th>\n",
       "      <th>Total-Score</th>\n",
       "      <th>E-Score</th>\n",
       "      <th>S-Score</th>\n",
       "      <th>G-Score</th>\n",
       "    </tr>\n",
       "  </thead>\n",
       "  <tbody>\n",
       "    <tr>\n",
       "      <th>0</th>\n",
       "      <td>2014</td>\n",
       "      <td>A</td>\n",
       "      <td>72.50</td>\n",
       "      <td>83.00</td>\n",
       "      <td>73.00</td>\n",
       "      <td>63.00</td>\n",
       "    </tr>\n",
       "    <tr>\n",
       "      <th>1</th>\n",
       "      <td>2014</td>\n",
       "      <td>AAL</td>\n",
       "      <td>72.75</td>\n",
       "      <td>77.00</td>\n",
       "      <td>67.00</td>\n",
       "      <td>75.25</td>\n",
       "    </tr>\n",
       "    <tr>\n",
       "      <th>2</th>\n",
       "      <td>2014</td>\n",
       "      <td>AAPL</td>\n",
       "      <td>60.75</td>\n",
       "      <td>74.00</td>\n",
       "      <td>45.00</td>\n",
       "      <td>62.00</td>\n",
       "    </tr>\n",
       "    <tr>\n",
       "      <th>3</th>\n",
       "      <td>2014</td>\n",
       "      <td>ABBV</td>\n",
       "      <td>64.50</td>\n",
       "      <td>70.25</td>\n",
       "      <td>60.25</td>\n",
       "      <td>67.50</td>\n",
       "    </tr>\n",
       "    <tr>\n",
       "      <th>4</th>\n",
       "      <td>2014</td>\n",
       "      <td>ABT</td>\n",
       "      <td>64.00</td>\n",
       "      <td>71.00</td>\n",
       "      <td>57.00</td>\n",
       "      <td>69.00</td>\n",
       "    </tr>\n",
       "    <tr>\n",
       "      <th>5</th>\n",
       "      <td>2014</td>\n",
       "      <td>ACGL</td>\n",
       "      <td>46.00</td>\n",
       "      <td>34.00</td>\n",
       "      <td>54.00</td>\n",
       "      <td>47.50</td>\n",
       "    </tr>\n",
       "    <tr>\n",
       "      <th>6</th>\n",
       "      <td>2014</td>\n",
       "      <td>ACN</td>\n",
       "      <td>72.00</td>\n",
       "      <td>77.00</td>\n",
       "      <td>66.00</td>\n",
       "      <td>78.00</td>\n",
       "    </tr>\n",
       "    <tr>\n",
       "      <th>7</th>\n",
       "      <td>2014</td>\n",
       "      <td>ADBE</td>\n",
       "      <td>70.00</td>\n",
       "      <td>75.00</td>\n",
       "      <td>71.00</td>\n",
       "      <td>63.00</td>\n",
       "    </tr>\n",
       "    <tr>\n",
       "      <th>8</th>\n",
       "      <td>2014</td>\n",
       "      <td>ADI</td>\n",
       "      <td>65.50</td>\n",
       "      <td>64.75</td>\n",
       "      <td>66.00</td>\n",
       "      <td>66.00</td>\n",
       "    </tr>\n",
       "    <tr>\n",
       "      <th>9</th>\n",
       "      <td>2014</td>\n",
       "      <td>ADM</td>\n",
       "      <td>52.25</td>\n",
       "      <td>56.50</td>\n",
       "      <td>41.75</td>\n",
       "      <td>62.50</td>\n",
       "    </tr>\n",
       "    <tr>\n",
       "      <th>10</th>\n",
       "      <td>2014</td>\n",
       "      <td>ADP</td>\n",
       "      <td>56.00</td>\n",
       "      <td>52.00</td>\n",
       "      <td>54.00</td>\n",
       "      <td>64.00</td>\n",
       "    </tr>\n",
       "    <tr>\n",
       "      <th>11</th>\n",
       "      <td>2014</td>\n",
       "      <td>ADSK</td>\n",
       "      <td>69.00</td>\n",
       "      <td>78.00</td>\n",
       "      <td>59.00</td>\n",
       "      <td>76.00</td>\n",
       "    </tr>\n",
       "    <tr>\n",
       "      <th>12</th>\n",
       "      <td>2014</td>\n",
       "      <td>AEE</td>\n",
       "      <td>60.75</td>\n",
       "      <td>47.00</td>\n",
       "      <td>67.00</td>\n",
       "      <td>78.00</td>\n",
       "    </tr>\n",
       "    <tr>\n",
       "      <th>13</th>\n",
       "      <td>2014</td>\n",
       "      <td>AEP</td>\n",
       "      <td>62.00</td>\n",
       "      <td>46.00</td>\n",
       "      <td>68.75</td>\n",
       "      <td>81.00</td>\n",
       "    </tr>\n",
       "    <tr>\n",
       "      <th>14</th>\n",
       "      <td>2014</td>\n",
       "      <td>AES</td>\n",
       "      <td>53.75</td>\n",
       "      <td>47.00</td>\n",
       "      <td>57.00</td>\n",
       "      <td>65.00</td>\n",
       "    </tr>\n",
       "    <tr>\n",
       "      <th>15</th>\n",
       "      <td>2014</td>\n",
       "      <td>AFL</td>\n",
       "      <td>56.75</td>\n",
       "      <td>51.00</td>\n",
       "      <td>64.50</td>\n",
       "      <td>53.75</td>\n",
       "    </tr>\n",
       "    <tr>\n",
       "      <th>16</th>\n",
       "      <td>2014</td>\n",
       "      <td>AIG</td>\n",
       "      <td>50.75</td>\n",
       "      <td>42.25</td>\n",
       "      <td>59.75</td>\n",
       "      <td>49.75</td>\n",
       "    </tr>\n",
       "    <tr>\n",
       "      <th>17</th>\n",
       "      <td>2014</td>\n",
       "      <td>AIZ</td>\n",
       "      <td>50.25</td>\n",
       "      <td>40.00</td>\n",
       "      <td>61.25</td>\n",
       "      <td>49.00</td>\n",
       "    </tr>\n",
       "    <tr>\n",
       "      <th>18</th>\n",
       "      <td>2014</td>\n",
       "      <td>AJG</td>\n",
       "      <td>52.00</td>\n",
       "      <td>41.00</td>\n",
       "      <td>61.00</td>\n",
       "      <td>52.00</td>\n",
       "    </tr>\n",
       "    <tr>\n",
       "      <th>19</th>\n",
       "      <td>2014</td>\n",
       "      <td>AKAM</td>\n",
       "      <td>56.00</td>\n",
       "      <td>60.00</td>\n",
       "      <td>49.00</td>\n",
       "      <td>65.00</td>\n",
       "    </tr>\n",
       "  </tbody>\n",
       "</table>\n",
       "</div>"
      ],
      "text/plain": [
       "    year Company_Symbol  Total-Score  E-Score  S-Score  G-Score\n",
       "0   2014              A        72.50    83.00    73.00    63.00\n",
       "1   2014            AAL        72.75    77.00    67.00    75.25\n",
       "2   2014           AAPL        60.75    74.00    45.00    62.00\n",
       "3   2014           ABBV        64.50    70.25    60.25    67.50\n",
       "4   2014            ABT        64.00    71.00    57.00    69.00\n",
       "5   2014           ACGL        46.00    34.00    54.00    47.50\n",
       "6   2014            ACN        72.00    77.00    66.00    78.00\n",
       "7   2014           ADBE        70.00    75.00    71.00    63.00\n",
       "8   2014            ADI        65.50    64.75    66.00    66.00\n",
       "9   2014            ADM        52.25    56.50    41.75    62.50\n",
       "10  2014            ADP        56.00    52.00    54.00    64.00\n",
       "11  2014           ADSK        69.00    78.00    59.00    76.00\n",
       "12  2014            AEE        60.75    47.00    67.00    78.00\n",
       "13  2014            AEP        62.00    46.00    68.75    81.00\n",
       "14  2014            AES        53.75    47.00    57.00    65.00\n",
       "15  2014            AFL        56.75    51.00    64.50    53.75\n",
       "16  2014            AIG        50.75    42.25    59.75    49.75\n",
       "17  2014            AIZ        50.25    40.00    61.25    49.00\n",
       "18  2014            AJG        52.00    41.00    61.00    52.00\n",
       "19  2014           AKAM        56.00    60.00    49.00    65.00"
      ]
     },
     "execution_count": 15,
     "metadata": {},
     "output_type": "execute_result"
    }
   ],
   "source": [
    "df.head(20)"
   ]
  },
  {
   "cell_type": "code",
   "execution_count": 16,
   "metadata": {},
   "outputs": [],
   "source": [
    "# all lower case\n",
    "\n",
    "df.columns = map(str.lower, df.columns)\n",
    "\n",
    "# - to _\n",
    "\n",
    "df.columns = df.columns.str.replace('-', '_')"
   ]
  },
  {
   "cell_type": "code",
   "execution_count": 21,
   "metadata": {},
   "outputs": [
    {
     "data": {
      "text/plain": [
       "441"
      ]
     },
     "execution_count": 21,
     "metadata": {},
     "output_type": "execute_result"
    }
   ],
   "source": [
    "len(df.company_symbol.unique())\n"
   ]
  },
  {
   "cell_type": "code",
   "execution_count": 2,
   "metadata": {},
   "outputs": [],
   "source": [
    "import sys \n",
    "sys.path.append('../')"
   ]
  },
  {
   "cell_type": "code",
   "execution_count": 4,
   "metadata": {},
   "outputs": [],
   "source": [
    "from helpers.text_preprocessing.preprocess_text import preprocess_text"
   ]
  },
  {
   "cell_type": "code",
   "execution_count": 5,
   "metadata": {},
   "outputs": [
    {
     "name": "stderr",
     "output_type": "stream",
     "text": [
      "/var/folders/t5/tjfw6fh92wvd7nqk0dkpf15h0000gn/T/ipykernel_40193/1936642105.py:4: UserWarning: Could not infer format, so each element will be parsed individually, falling back to `dateutil`. To ensure parsing is consistent and as-expected, please specify a format.\n",
      "  df = pd.read_csv('../data/extracted_text_sustainability_reports.csv', index_col=0, parse_dates=True,sep=',')\n"
     ]
    }
   ],
   "source": [
    "import pandas as pd\n",
    "\n",
    "# Load or create your DataFrame (replace 'your_data.csv' with the path to your data file)\n",
    "df = pd.read_csv('../data/extracted_text_sustainability_reports.csv', index_col=0, parse_dates=True,sep=',')\n"
   ]
  },
  {
   "cell_type": "code",
   "execution_count": 9,
   "metadata": {},
   "outputs": [
    {
     "ename": "KeyboardInterrupt",
     "evalue": "",
     "output_type": "error",
     "traceback": [
      "\u001b[0;31m---------------------------------------------------------------------------\u001b[0m",
      "\u001b[0;31mKeyboardInterrupt\u001b[0m                         Traceback (most recent call last)",
      "\u001b[1;32m/Users/nikitawilms/Documents/ffm-ds-23-2/ESG-Score-Prediction-from-Sustainability-Reports/playhub/playground_nikita.ipynb Cell 8\u001b[0m line \u001b[0;36m2\n\u001b[1;32m      <a href='vscode-notebook-cell:/Users/nikitawilms/Documents/ffm-ds-23-2/ESG-Score-Prediction-from-Sustainability-Reports/playhub/playground_nikita.ipynb#X10sZmlsZQ%3D%3D?line=0'>1</a>\u001b[0m \u001b[39m# Preprocess the text and get the preprocessed DataFrame\u001b[39;00m\n\u001b[0;32m----> <a href='vscode-notebook-cell:/Users/nikitawilms/Documents/ffm-ds-23-2/ESG-Score-Prediction-from-Sustainability-Reports/playhub/playground_nikita.ipynb#X10sZmlsZQ%3D%3D?line=1'>2</a>\u001b[0m preprocessed_df \u001b[39m=\u001b[39m preprocess_text(df)\n",
      "File \u001b[0;32m~/Documents/ffm-ds-23-2/ESG-Score-Prediction-from-Sustainability-Reports/playhub/../helpers/text_preprocessing/preprocess_text.py:89\u001b[0m, in \u001b[0;36mpreprocess_text\u001b[0;34m(df)\u001b[0m\n\u001b[1;32m     86\u001b[0m parallel \u001b[39m=\u001b[39m joblib\u001b[39m.\u001b[39mParallel(n_jobs\u001b[39m=\u001b[39mnum_cores, backend\u001b[39m=\u001b[39m\u001b[39m\"\u001b[39m\u001b[39mmultiprocessing\u001b[39m\u001b[39m\"\u001b[39m)\n\u001b[1;32m     88\u001b[0m \u001b[39m# Use joblib to parallelize the preprocessing step\u001b[39;00m\n\u001b[0;32m---> 89\u001b[0m preprocessed_texts \u001b[39m=\u001b[39m parallel(\n\u001b[1;32m     90\u001b[0m     joblib\u001b[39m.\u001b[39;49mdelayed(preprocess_with_spacy)(text) \u001b[39mfor\u001b[39;49;00m text \u001b[39min\u001b[39;49;00m df[\u001b[39m\"\u001b[39;49m\u001b[39mcontent\u001b[39;49m\u001b[39m\"\u001b[39;49m]\n\u001b[1;32m     91\u001b[0m )\n\u001b[1;32m     93\u001b[0m \u001b[39m# Add the preprocessed texts to the DataFrame\u001b[39;00m\n\u001b[1;32m     94\u001b[0m df[\u001b[39m\"\u001b[39m\u001b[39mpreprocessed_content\u001b[39m\u001b[39m\"\u001b[39m] \u001b[39m=\u001b[39m preprocessed_texts\n",
      "File \u001b[0;32m~/Documents/ffm-ds-23-2/ESG-Score-Prediction-from-Sustainability-Reports/.venv/lib/python3.11/site-packages/joblib/parallel.py:1952\u001b[0m, in \u001b[0;36mParallel.__call__\u001b[0;34m(self, iterable)\u001b[0m\n\u001b[1;32m   1946\u001b[0m \u001b[39m# The first item from the output is blank, but it makes the interpreter\u001b[39;00m\n\u001b[1;32m   1947\u001b[0m \u001b[39m# progress until it enters the Try/Except block of the generator and\u001b[39;00m\n\u001b[1;32m   1948\u001b[0m \u001b[39m# reach the first `yield` statement. This starts the aynchronous\u001b[39;00m\n\u001b[1;32m   1949\u001b[0m \u001b[39m# dispatch of the tasks to the workers.\u001b[39;00m\n\u001b[1;32m   1950\u001b[0m \u001b[39mnext\u001b[39m(output)\n\u001b[0;32m-> 1952\u001b[0m \u001b[39mreturn\u001b[39;00m output \u001b[39mif\u001b[39;00m \u001b[39mself\u001b[39m\u001b[39m.\u001b[39mreturn_generator \u001b[39melse\u001b[39;00m \u001b[39mlist\u001b[39;49m(output)\n",
      "File \u001b[0;32m~/Documents/ffm-ds-23-2/ESG-Score-Prediction-from-Sustainability-Reports/.venv/lib/python3.11/site-packages/joblib/parallel.py:1595\u001b[0m, in \u001b[0;36mParallel._get_outputs\u001b[0;34m(self, iterator, pre_dispatch)\u001b[0m\n\u001b[1;32m   1592\u001b[0m     \u001b[39myield\u001b[39;00m\n\u001b[1;32m   1594\u001b[0m     \u001b[39mwith\u001b[39;00m \u001b[39mself\u001b[39m\u001b[39m.\u001b[39m_backend\u001b[39m.\u001b[39mretrieval_context():\n\u001b[0;32m-> 1595\u001b[0m         \u001b[39myield from\u001b[39;00m \u001b[39mself\u001b[39m\u001b[39m.\u001b[39m_retrieve()\n\u001b[1;32m   1597\u001b[0m \u001b[39mexcept\u001b[39;00m \u001b[39mGeneratorExit\u001b[39;00m:\n\u001b[1;32m   1598\u001b[0m     \u001b[39m# The generator has been garbage collected before being fully\u001b[39;00m\n\u001b[1;32m   1599\u001b[0m     \u001b[39m# consumed. This aborts the remaining tasks if possible and warn\u001b[39;00m\n\u001b[1;32m   1600\u001b[0m     \u001b[39m# the user if necessary.\u001b[39;00m\n\u001b[1;32m   1601\u001b[0m     \u001b[39mself\u001b[39m\u001b[39m.\u001b[39m_exception \u001b[39m=\u001b[39m \u001b[39mTrue\u001b[39;00m\n",
      "File \u001b[0;32m~/Documents/ffm-ds-23-2/ESG-Score-Prediction-from-Sustainability-Reports/.venv/lib/python3.11/site-packages/joblib/parallel.py:1707\u001b[0m, in \u001b[0;36mParallel._retrieve\u001b[0;34m(self)\u001b[0m\n\u001b[1;32m   1702\u001b[0m \u001b[39m# If the next job is not ready for retrieval yet, we just wait for\u001b[39;00m\n\u001b[1;32m   1703\u001b[0m \u001b[39m# async callbacks to progress.\u001b[39;00m\n\u001b[1;32m   1704\u001b[0m \u001b[39mif\u001b[39;00m ((\u001b[39mlen\u001b[39m(\u001b[39mself\u001b[39m\u001b[39m.\u001b[39m_jobs) \u001b[39m==\u001b[39m \u001b[39m0\u001b[39m) \u001b[39mor\u001b[39;00m\n\u001b[1;32m   1705\u001b[0m     (\u001b[39mself\u001b[39m\u001b[39m.\u001b[39m_jobs[\u001b[39m0\u001b[39m]\u001b[39m.\u001b[39mget_status(\n\u001b[1;32m   1706\u001b[0m         timeout\u001b[39m=\u001b[39m\u001b[39mself\u001b[39m\u001b[39m.\u001b[39mtimeout) \u001b[39m==\u001b[39m TASK_PENDING)):\n\u001b[0;32m-> 1707\u001b[0m     time\u001b[39m.\u001b[39msleep(\u001b[39m0.01\u001b[39m)\n\u001b[1;32m   1708\u001b[0m     \u001b[39mcontinue\u001b[39;00m\n\u001b[1;32m   1710\u001b[0m \u001b[39m# We need to be careful: the job list can be filling up as\u001b[39;00m\n\u001b[1;32m   1711\u001b[0m \u001b[39m# we empty it and Python list are not thread-safe by\u001b[39;00m\n\u001b[1;32m   1712\u001b[0m \u001b[39m# default hence the use of the lock\u001b[39;00m\n",
      "\u001b[0;31mKeyboardInterrupt\u001b[0m: "
     ]
    }
   ],
   "source": [
    "# Preprocess the text and get the preprocessed DataFrame\n",
    "preprocessed_df = preprocess_text(df)\n"
   ]
  },
  {
   "cell_type": "code",
   "execution_count": 4,
   "metadata": {},
   "outputs": [],
   "source": [
    "import optuna\n",
    "import pandas as pd"
   ]
  },
  {
   "cell_type": "code",
   "execution_count": 1,
   "metadata": {},
   "outputs": [],
   "source": [
    "import sys \n",
    "sys.path.append('../')"
   ]
  },
  {
   "cell_type": "code",
   "execution_count": 2,
   "metadata": {},
   "outputs": [
    {
     "name": "stderr",
     "output_type": "stream",
     "text": [
      "/Users/nikitawilms/Documents/ffm-ds-23-2/ESG-Score-Prediction-from-Sustainability-Reports/.venv/lib/python3.11/site-packages/tqdm/auto.py:21: TqdmWarning: IProgress not found. Please update jupyter and ipywidgets. See https://ipywidgets.readthedocs.io/en/stable/user_install.html\n",
      "  from .autonotebook import tqdm as notebook_tqdm\n"
     ]
    }
   ],
   "source": [
    "from models.tune_lda_optuna import objective"
   ]
  },
  {
   "cell_type": "code",
   "execution_count": 5,
   "metadata": {},
   "outputs": [
    {
     "name": "stderr",
     "output_type": "stream",
     "text": [
      "[I 2023-09-22 11:53:46,691] A new study created in memory with name: no-name-a2670b26-3357-427b-91c0-54fcbbe93fa6\n",
      "[I 2023-09-22 11:54:10,262] Trial 0 finished with value: 0.2853055212458038 and parameters: {'alpha': 0.42904030853419445, 'eta': 0.9076827272848358, 'num_topics': 49}. Best is trial 0 with value: 0.2853055212458038.\n",
      "[I 2023-09-22 11:54:30,473] Trial 1 finished with value: 0.2730020269524943 and parameters: {'alpha': 0.9290461036772423, 'eta': 0.3479815817404321, 'num_topics': 41}. Best is trial 0 with value: 0.2853055212458038.\n",
      "[I 2023-09-22 11:54:44,352] Trial 2 finished with value: 0.34817380824530203 and parameters: {'alpha': 0.5830509296739542, 'eta': 0.11411557776153286, 'num_topics': 10}. Best is trial 2 with value: 0.34817380824530203.\n",
      "[I 2023-09-22 11:55:05,597] Trial 3 finished with value: 0.2735244679626074 and parameters: {'alpha': 0.19874439532939148, 'eta': 0.4153924432443916, 'num_topics': 45}. Best is trial 2 with value: 0.34817380824530203.\n",
      "[I 2023-09-22 11:55:27,573] Trial 4 finished with value: 0.2670916864491239 and parameters: {'alpha': 0.8091761177642217, 'eta': 0.0543024605905174, 'num_topics': 49}. Best is trial 2 with value: 0.34817380824530203.\n",
      "[I 2023-09-22 11:55:47,306] Trial 5 finished with value: 0.3334988547652315 and parameters: {'alpha': 0.12242938080183723, 'eta': 0.08602561890051078, 'num_topics': 23}. Best is trial 2 with value: 0.34817380824530203.\n",
      "[I 2023-09-22 11:56:03,637] Trial 6 finished with value: 0.3123687223705739 and parameters: {'alpha': 0.014316197441144832, 'eta': 0.9919441317182369, 'num_topics': 15}. Best is trial 2 with value: 0.34817380824530203.\n",
      "[I 2023-09-22 11:56:17,991] Trial 7 finished with value: 0.329603788188709 and parameters: {'alpha': 0.5284255742164935, 'eta': 0.17408513519037402, 'num_topics': 12}. Best is trial 2 with value: 0.34817380824530203.\n",
      "[I 2023-09-22 11:56:32,143] Trial 8 finished with value: 0.3386954705414642 and parameters: {'alpha': 0.6457516573032769, 'eta': 0.060220044234568115, 'num_topics': 10}. Best is trial 2 with value: 0.34817380824530203.\n",
      "[I 2023-09-22 11:56:47,796] Trial 9 finished with value: 0.321366869953684 and parameters: {'alpha': 0.4288484458919123, 'eta': 0.021724679514599048, 'num_topics': 14}. Best is trial 2 with value: 0.34817380824530203.\n",
      "[I 2023-09-22 11:57:08,683] Trial 10 finished with value: 0.2898487802033527 and parameters: {'alpha': 0.7255206979275641, 'eta': 0.5488761875231531, 'num_topics': 32}. Best is trial 2 with value: 0.34817380824530203.\n",
      "[I 2023-09-22 11:57:28,897] Trial 11 finished with value: 0.33792935467031504 and parameters: {'alpha': 0.6316772643840263, 'eta': 0.2252430145832171, 'num_topics': 22}. Best is trial 2 with value: 0.34817380824530203.\n",
      "[I 2023-09-22 11:57:43,372] Trial 12 finished with value: 0.34710936908398143 and parameters: {'alpha': 0.6009754887583902, 'eta': 0.19768638137040342, 'num_topics': 10}. Best is trial 2 with value: 0.34817380824530203.\n",
      "[I 2023-09-22 11:58:02,878] Trial 13 finished with value: 0.31608405068277134 and parameters: {'alpha': 0.9977906976558106, 'eta': 0.25181326602986537, 'num_topics': 19}. Best is trial 2 with value: 0.34817380824530203.\n",
      "[I 2023-09-22 11:58:23,930] Trial 14 finished with value: 0.3047926166402632 and parameters: {'alpha': 0.48915060419183576, 'eta': 0.3024787025833501, 'num_topics': 31}. Best is trial 2 with value: 0.34817380824530203.\n",
      "[I 2023-09-22 11:58:45,166] Trial 15 finished with value: 0.3105920993938019 and parameters: {'alpha': 0.3168079783532054, 'eta': 0.1684576584093689, 'num_topics': 25}. Best is trial 2 with value: 0.34817380824530203.\n",
      "[I 2023-09-22 11:59:06,346] Trial 16 finished with value: 0.2847162727928064 and parameters: {'alpha': 0.5915166258938638, 'eta': 0.4804341920559642, 'num_topics': 37}. Best is trial 2 with value: 0.34817380824530203.\n",
      "[I 2023-09-22 11:59:26,334] Trial 17 finished with value: 0.3134555195041906 and parameters: {'alpha': 0.7934534167209487, 'eta': 0.14603061339460852, 'num_topics': 18}. Best is trial 2 with value: 0.34817380824530203.\n",
      "[I 2023-09-22 11:59:45,994] Trial 18 finished with value: 0.3239638467137788 and parameters: {'alpha': 0.36753985421612756, 'eta': 0.32940494332942405, 'num_topics': 17}. Best is trial 2 with value: 0.34817380824530203.\n",
      "[I 2023-09-22 12:00:00,741] Trial 19 finished with value: 0.34635835885132 and parameters: {'alpha': 0.5221622720503124, 'eta': 0.13837678351102686, 'num_topics': 10}. Best is trial 2 with value: 0.34817380824530203.\n",
      "[I 2023-09-22 12:00:21,217] Trial 20 finished with value: 0.3186037684706534 and parameters: {'alpha': 0.6889326106339033, 'eta': 0.023161492757812235, 'num_topics': 25}. Best is trial 2 with value: 0.34817380824530203.\n",
      "[I 2023-09-22 12:00:35,751] Trial 21 finished with value: 0.34503556526156637 and parameters: {'alpha': 0.5659484042184719, 'eta': 0.16141610090545044, 'num_topics': 10}. Best is trial 2 with value: 0.34817380824530203.\n",
      "[I 2023-09-22 12:00:52,063] Trial 22 finished with value: 0.30080071646006795 and parameters: {'alpha': 0.518976899573441, 'eta': 0.2513365543197553, 'num_topics': 13}. Best is trial 2 with value: 0.34817380824530203.\n",
      "[I 2023-09-22 12:01:06,936] Trial 23 finished with value: 0.3476069820002961 and parameters: {'alpha': 0.5965440995241211, 'eta': 0.12459580215139396, 'num_topics': 10}. Best is trial 2 with value: 0.34817380824530203.\n",
      "[I 2023-09-22 12:01:27,168] Trial 24 finished with value: 0.3149962006418782 and parameters: {'alpha': 0.6282912301893507, 'eta': 0.09692093322483761, 'num_topics': 20}. Best is trial 2 with value: 0.34817380824530203.\n",
      "[I 2023-09-22 12:01:44,979] Trial 25 finished with value: 0.3214632785299847 and parameters: {'alpha': 0.712246636423012, 'eta': 0.21857131643956548, 'num_topics': 16}. Best is trial 2 with value: 0.34817380824530203.\n",
      "[I 2023-09-22 12:02:06,036] Trial 26 finished with value: 0.3209073618110309 and parameters: {'alpha': 0.5933441719613075, 'eta': 0.11086935912684008, 'num_topics': 27}. Best is trial 2 with value: 0.34817380824530203.\n",
      "[I 2023-09-22 12:02:22,220] Trial 27 finished with value: 0.31066057768421457 and parameters: {'alpha': 0.45019640732750865, 'eta': 0.02209877186233311, 'num_topics': 13}. Best is trial 2 with value: 0.34817380824530203.\n",
      "[I 2023-09-22 12:02:40,010] Trial 28 finished with value: 0.3206766695676283 and parameters: {'alpha': 0.7637311662345196, 'eta': 0.2923531603692289, 'num_topics': 16}. Best is trial 2 with value: 0.34817380824530203.\n",
      "[I 2023-09-22 12:03:01,284] Trial 29 finished with value: 0.30355788203806733 and parameters: {'alpha': 0.4050924135023448, 'eta': 0.5736407845932352, 'num_topics': 34}. Best is trial 2 with value: 0.34817380824530203.\n",
      "[I 2023-09-22 12:03:21,440] Trial 30 finished with value: 0.3151750703350885 and parameters: {'alpha': 0.6827207601416097, 'eta': 0.6383465606293303, 'num_topics': 21}. Best is trial 2 with value: 0.34817380824530203.\n",
      "[I 2023-09-22 12:03:36,314] Trial 31 finished with value: 0.30830444358806425 and parameters: {'alpha': 0.5269460610221827, 'eta': 0.11024485720243553, 'num_topics': 11}. Best is trial 2 with value: 0.34817380824530203.\n",
      "[I 2023-09-22 12:03:51,190] Trial 32 finished with value: 0.34503556526156637 and parameters: {'alpha': 0.4909363807788351, 'eta': 0.19334082333019847, 'num_topics': 10}. Best is trial 2 with value: 0.34817380824530203.\n",
      "[I 2023-09-22 12:04:07,762] Trial 33 finished with value: 0.30421298983493505 and parameters: {'alpha': 0.5686173843485895, 'eta': 0.3912286054833919, 'num_topics': 13}. Best is trial 2 with value: 0.34817380824530203.\n",
      "[I 2023-09-22 12:04:24,265] Trial 34 finished with value: 0.3216879058903365 and parameters: {'alpha': 0.6492819300422397, 'eta': 0.12460383273909786, 'num_topics': 14}. Best is trial 2 with value: 0.34817380824530203.\n",
      "[I 2023-09-22 12:04:46,487] Trial 35 finished with value: 0.28540018715277615 and parameters: {'alpha': 0.47503847681309147, 'eta': 0.07305597433551775, 'num_topics': 42}. Best is trial 2 with value: 0.34817380824530203.\n",
      "[I 2023-09-22 12:05:04,442] Trial 36 finished with value: 0.321094866097303 and parameters: {'alpha': 0.5643275904829447, 'eta': 0.27591612880193056, 'num_topics': 16}. Best is trial 2 with value: 0.34817380824530203.\n",
      "[I 2023-09-22 12:05:19,313] Trial 37 finished with value: 0.3553036398801374 and parameters: {'alpha': 0.7518365088890125, 'eta': 0.3522833814009433, 'num_topics': 10}. Best is trial 37 with value: 0.3553036398801374.\n",
      "[I 2023-09-22 12:05:41,366] Trial 38 finished with value: 0.24901252148496988 and parameters: {'alpha': 0.8686719315738555, 'eta': 0.3752874480919145, 'num_topics': 47}. Best is trial 37 with value: 0.3553036398801374.\n",
      "[I 2023-09-22 12:05:56,559] Trial 39 finished with value: 0.33170626920317886 and parameters: {'alpha': 0.7439505714752841, 'eta': 0.20701540225426096, 'num_topics': 12}. Best is trial 37 with value: 0.3553036398801374.\n",
      "[I 2023-09-22 12:06:16,398] Trial 40 finished with value: 0.3183693756525773 and parameters: {'alpha': 0.8098148105425776, 'eta': 0.3444366406136733, 'num_topics': 18}. Best is trial 37 with value: 0.3553036398801374.\n",
      "[I 2023-09-22 12:06:31,259] Trial 41 finished with value: 0.34503556526156637 and parameters: {'alpha': 0.6264118766810615, 'eta': 0.14933923370429575, 'num_topics': 10}. Best is trial 37 with value: 0.3553036398801374.\n",
      "[I 2023-09-22 12:06:46,236] Trial 42 finished with value: 0.33197899355730703 and parameters: {'alpha': 0.6705787334046545, 'eta': 0.06985245026124377, 'num_topics': 12}. Best is trial 37 with value: 0.3553036398801374.\n",
      "[I 2023-09-22 12:07:03,722] Trial 43 finished with value: 0.29204904140467924 and parameters: {'alpha': 0.7093005425984997, 'eta': 0.20563775602549872, 'num_topics': 15}. Best is trial 37 with value: 0.3553036398801374.\n",
      "[I 2023-09-22 12:07:18,820] Trial 44 finished with value: 0.3066364215807168 and parameters: {'alpha': 0.5239029266123826, 'eta': 0.2692948935117645, 'num_topics': 11}. Best is trial 37 with value: 0.3553036398801374.\n",
      "[I 2023-09-22 12:07:34,990] Trial 45 finished with value: 0.31958798141618366 and parameters: {'alpha': 0.6093528028501742, 'eta': 0.12822565646849957, 'num_topics': 14}. Best is trial 37 with value: 0.3553036398801374.\n",
      "[I 2023-09-22 12:07:49,563] Trial 46 finished with value: 0.34503556526156637 and parameters: {'alpha': 0.5548647130094979, 'eta': 0.18312109413924854, 'num_topics': 10}. Best is trial 37 with value: 0.3553036398801374.\n",
      "[I 2023-09-22 12:08:04,635] Trial 47 finished with value: 0.33197899355730703 and parameters: {'alpha': 0.6563898717995568, 'eta': 0.06721755089347872, 'num_topics': 12}. Best is trial 37 with value: 0.3553036398801374.\n",
      "[I 2023-09-22 12:08:21,719] Trial 48 finished with value: 0.2908688612758122 and parameters: {'alpha': 0.5980762404757574, 'eta': 0.3154809722014259, 'num_topics': 15}. Best is trial 37 with value: 0.3553036398801374.\n",
      "[I 2023-09-22 12:08:43,490] Trial 49 finished with value: 0.28517484466794335 and parameters: {'alpha': 0.7447972304576681, 'eta': 0.23249635555140394, 'num_topics': 38}. Best is trial 37 with value: 0.3553036398801374.\n",
      "[I 2023-09-22 12:09:04,795] Trial 50 finished with value: 0.31820979774858743 and parameters: {'alpha': 0.4783283209830053, 'eta': 0.157884759598852, 'num_topics': 28}. Best is trial 37 with value: 0.3553036398801374.\n",
      "[I 2023-09-22 12:09:20,006] Trial 51 finished with value: 0.34503556526156637 and parameters: {'alpha': 0.5551322703672241, 'eta': 0.16064430223064943, 'num_topics': 10}. Best is trial 37 with value: 0.3553036398801374.\n",
      "[I 2023-09-22 12:09:35,129] Trial 52 finished with value: 0.3295979292696975 and parameters: {'alpha': 0.6496451864960346, 'eta': 0.10202290804013278, 'num_topics': 12}. Best is trial 37 with value: 0.3553036398801374.\n",
      "[I 2023-09-22 12:09:50,088] Trial 53 finished with value: 0.3405240264083384 and parameters: {'alpha': 0.5862061948707782, 'eta': 0.04939705016386271, 'num_topics': 10}. Best is trial 37 with value: 0.3553036398801374.\n",
      "[I 2023-09-22 12:10:10,298] Trial 54 finished with value: 0.3194294643941827 and parameters: {'alpha': 0.5347070050656129, 'eta': 0.24826108777583564, 'num_topics': 18}. Best is trial 37 with value: 0.3553036398801374.\n",
      "[I 2023-09-22 12:10:26,870] Trial 55 finished with value: 0.32091322556168606 and parameters: {'alpha': 0.4379882850098321, 'eta': 0.18202320218694096, 'num_topics': 14}. Best is trial 37 with value: 0.3553036398801374.\n",
      "[I 2023-09-22 12:10:42,268] Trial 56 finished with value: 0.3293995871072983 and parameters: {'alpha': 0.621793416945934, 'eta': 0.14798847008930135, 'num_topics': 12}. Best is trial 37 with value: 0.3553036398801374.\n",
      "[I 2023-09-22 12:11:03,889] Trial 57 finished with value: 0.31972997449108936 and parameters: {'alpha': 0.6846303583221722, 'eta': 0.030900204486981983, 'num_topics': 23}. Best is trial 37 with value: 0.3553036398801374.\n",
      "[I 2023-09-22 12:11:23,980] Trial 58 finished with value: 0.32805495515236316 and parameters: {'alpha': 0.5036642223792469, 'eta': 0.22999502244399322, 'num_topics': 17}. Best is trial 37 with value: 0.3553036398801374.\n",
      "[I 2023-09-22 12:11:41,051] Trial 59 finished with value: 0.3237106569696309 and parameters: {'alpha': 0.5823300268505375, 'eta': 0.09078852243590213, 'num_topics': 14}. Best is trial 37 with value: 0.3553036398801374.\n",
      "[I 2023-09-22 12:12:04,612] Trial 60 finished with value: 0.3142110332219147 and parameters: {'alpha': 0.548903234583983, 'eta': 0.011137522233343133, 'num_topics': 20}. Best is trial 37 with value: 0.3553036398801374.\n",
      "[I 2023-09-22 12:12:20,031] Trial 61 finished with value: 0.3473114621079031 and parameters: {'alpha': 0.4849874172959011, 'eta': 0.18652478363326214, 'num_topics': 10}. Best is trial 37 with value: 0.3553036398801374.\n",
      "[I 2023-09-22 12:12:35,330] Trial 62 finished with value: 0.301190604340631 and parameters: {'alpha': 0.5019870672627963, 'eta': 0.133121880103777, 'num_topics': 11}. Best is trial 37 with value: 0.3553036398801374.\n",
      "[I 2023-09-22 12:12:52,882] Trial 63 finished with value: 0.31815000502018714 and parameters: {'alpha': 0.38730410060520704, 'eta': 0.18825308882463113, 'num_topics': 13}. Best is trial 37 with value: 0.3553036398801374.\n",
      "[I 2023-09-22 12:13:11,011] Trial 64 finished with value: 0.30055253148798317 and parameters: {'alpha': 0.45567108322320216, 'eta': 0.3018824133974203, 'num_topics': 11}. Best is trial 37 with value: 0.3553036398801374.\n",
      "[I 2023-09-22 12:13:26,935] Trial 65 finished with value: 0.34982356731404773 and parameters: {'alpha': 0.607382423047361, 'eta': 0.2680091110025858, 'num_topics': 10}. Best is trial 37 with value: 0.3553036398801374.\n",
      "[I 2023-09-22 12:13:47,648] Trial 66 finished with value: 0.29017758951236755 and parameters: {'alpha': 0.6286477920196072, 'eta': 0.26330909218031234, 'num_topics': 15}. Best is trial 37 with value: 0.3553036398801374.\n",
      "[I 2023-09-22 12:14:05,618] Trial 67 finished with value: 0.3003720739631794 and parameters: {'alpha': 0.7029638155329548, 'eta': 0.22963359550729392, 'num_topics': 13}. Best is trial 37 with value: 0.3553036398801374.\n",
      "[I 2023-09-22 12:14:21,105] Trial 68 finished with value: 0.2940883666414566 and parameters: {'alpha': 0.529081906412727, 'eta': 0.3329249677468311, 'num_topics': 11}. Best is trial 37 with value: 0.3553036398801374.\n",
      "[I 2023-09-22 12:14:36,212] Trial 69 finished with value: 0.3451134057398062 and parameters: {'alpha': 0.5985426397985397, 'eta': 0.2803411452936061, 'num_topics': 10}. Best is trial 37 with value: 0.3553036398801374.\n",
      "[I 2023-09-22 12:14:56,471] Trial 70 finished with value: 0.33626945577174294 and parameters: {'alpha': 0.6631842113439814, 'eta': 0.09917729663381164, 'num_topics': 17}. Best is trial 37 with value: 0.3553036398801374.\n",
      "[I 2023-09-22 12:15:11,548] Trial 71 finished with value: 0.3451134057398062 and parameters: {'alpha': 0.6077150978818153, 'eta': 0.2876066993401938, 'num_topics': 10}. Best is trial 37 with value: 0.3553036398801374.\n",
      "[I 2023-09-22 12:15:26,629] Trial 72 finished with value: 0.3308965255659673 and parameters: {'alpha': 0.5783490010550776, 'eta': 0.2033776422557937, 'num_topics': 12}. Best is trial 37 with value: 0.3553036398801374.\n",
      "[I 2023-09-22 12:15:42,910] Trial 73 finished with value: 0.2972249766046178 and parameters: {'alpha': 0.6074379719832803, 'eta': 0.24935575669190685, 'num_topics': 13}. Best is trial 37 with value: 0.3553036398801374.\n",
      "[I 2023-09-22 12:15:57,943] Trial 74 finished with value: 0.30067248266663266 and parameters: {'alpha': 0.47387486425490505, 'eta': 0.1750470974625882, 'num_topics': 11}. Best is trial 37 with value: 0.3553036398801374.\n",
      "[I 2023-09-22 12:16:15,929] Trial 75 finished with value: 0.28782831895504596 and parameters: {'alpha': 0.5142824329672434, 'eta': 0.28526165562447464, 'num_topics': 15}. Best is trial 37 with value: 0.3553036398801374.\n",
      "[I 2023-09-22 12:16:38,833] Trial 76 finished with value: 0.27596109557571075 and parameters: {'alpha': 0.6474136992131728, 'eta': 0.11733883809417137, 'num_topics': 50}. Best is trial 37 with value: 0.3553036398801374.\n",
      "[I 2023-09-22 12:16:53,896] Trial 77 finished with value: 0.3517838673219786 and parameters: {'alpha': 0.5526537722606445, 'eta': 0.21140409648278133, 'num_topics': 10}. Best is trial 37 with value: 0.3553036398801374.\n",
      "[I 2023-09-22 12:17:15,601] Trial 78 finished with value: 0.30522678220411376 and parameters: {'alpha': 0.42394124861715826, 'eta': 0.21379899647178444, 'num_topics': 33}. Best is trial 37 with value: 0.3553036398801374.\n",
      "[I 2023-09-22 12:17:31,955] Trial 79 finished with value: 0.3164906819940787 and parameters: {'alpha': 0.547548257811364, 'eta': 0.14278406606549487, 'num_topics': 13}. Best is trial 37 with value: 0.3553036398801374.\n",
      "[I 2023-09-22 12:17:47,357] Trial 80 finished with value: 0.30067248266663266 and parameters: {'alpha': 0.4938812590855169, 'eta': 0.17444919129385555, 'num_topics': 11}. Best is trial 37 with value: 0.3553036398801374.\n",
      "[I 2023-09-22 12:18:03,286] Trial 81 finished with value: 0.3468430986821939 and parameters: {'alpha': 0.5732414072173126, 'eta': 0.3219686652513346, 'num_topics': 10}. Best is trial 37 with value: 0.3553036398801374.\n",
      "[I 2023-09-22 12:18:20,641] Trial 82 finished with value: 0.3322301459305808 and parameters: {'alpha': 0.5702975171234322, 'eta': 0.23738846905445685, 'num_topics': 12}. Best is trial 37 with value: 0.3553036398801374.\n",
      "[I 2023-09-22 12:18:37,352] Trial 83 finished with value: 0.34512373856718703 and parameters: {'alpha': 0.5399214785734829, 'eta': 0.35423428066615414, 'num_topics': 10}. Best is trial 37 with value: 0.3553036398801374.\n",
      "[I 2023-09-22 12:18:56,572] Trial 84 finished with value: 0.31681683658708065 and parameters: {'alpha': 0.6340719164697934, 'eta': 0.4180262401338696, 'num_topics': 14}. Best is trial 37 with value: 0.3553036398801374.\n",
      "[I 2023-09-22 12:19:12,486] Trial 85 finished with value: 0.29924901207312615 and parameters: {'alpha': 0.6857086503481211, 'eta': 0.3152470811672053, 'num_topics': 11}. Best is trial 37 with value: 0.3553036398801374.\n",
      "[I 2023-09-22 12:19:30,270] Trial 86 finished with value: 0.32797804465467545 and parameters: {'alpha': 0.4613861177760602, 'eta': 0.19776186982508828, 'num_topics': 12}. Best is trial 37 with value: 0.3553036398801374.\n",
      "[I 2023-09-22 12:19:50,343] Trial 87 finished with value: 0.3209382139668737 and parameters: {'alpha': 0.5714499168306805, 'eta': 0.25620488754478793, 'num_topics': 16}. Best is trial 37 with value: 0.3553036398801374.\n",
      "[I 2023-09-22 12:20:06,474] Trial 88 finished with value: 0.3530163630733289 and parameters: {'alpha': 0.5082755212318275, 'eta': 0.08323844866814617, 'num_topics': 10}. Best is trial 37 with value: 0.3553036398801374.\n",
      "[I 2023-09-22 12:20:23,125] Trial 89 finished with value: 0.3499383899347226 and parameters: {'alpha': 0.7251091102411171, 'eta': 0.08852282473414692, 'num_topics': 10}. Best is trial 37 with value: 0.3553036398801374.\n",
      "[I 2023-09-22 12:20:40,790] Trial 90 finished with value: 0.3124400134314961 and parameters: {'alpha': 0.7243695105089737, 'eta': 0.05587711471054204, 'num_topics': 13}. Best is trial 37 with value: 0.3553036398801374.\n",
      "[I 2023-09-22 12:20:57,141] Trial 91 finished with value: 0.34559598334280256 and parameters: {'alpha': 0.5043790423951187, 'eta': 0.07869414701890592, 'num_topics': 10}. Best is trial 37 with value: 0.3553036398801374.\n",
      "[I 2023-09-22 12:21:14,076] Trial 92 finished with value: 0.3018450465678263 and parameters: {'alpha': 0.6149770588421118, 'eta': 0.1164423361567985, 'num_topics': 11}. Best is trial 37 with value: 0.3553036398801374.\n",
      "[I 2023-09-22 12:21:29,739] Trial 93 finished with value: 0.33163670368901293 and parameters: {'alpha': 0.6405851408412953, 'eta': 0.08643473630795112, 'num_topics': 12}. Best is trial 37 with value: 0.3553036398801374.\n",
      "[I 2023-09-22 12:21:45,300] Trial 94 finished with value: 0.34685101465554846 and parameters: {'alpha': 0.667916872712873, 'eta': 0.13133189951121937, 'num_topics': 10}. Best is trial 37 with value: 0.3553036398801374.\n",
      "[I 2023-09-22 12:22:01,977] Trial 95 finished with value: 0.3177590555743092 and parameters: {'alpha': 0.7771729483774406, 'eta': 0.13311718604215467, 'num_topics': 14}. Best is trial 37 with value: 0.3553036398801374.\n",
      "[I 2023-09-22 12:22:17,800] Trial 96 finished with value: 0.29958207244000684 and parameters: {'alpha': 0.6663429794927546, 'eta': 0.14881603999929394, 'num_topics': 11}. Best is trial 37 with value: 0.3553036398801374.\n",
      "[I 2023-09-22 12:22:32,793] Trial 97 finished with value: 0.3505052161797285 and parameters: {'alpha': 0.6932855874481324, 'eta': 0.04946131793776121, 'num_topics': 10}. Best is trial 37 with value: 0.3553036398801374.\n",
      "[I 2023-09-22 12:22:49,546] Trial 98 finished with value: 0.3124400134314961 and parameters: {'alpha': 0.7093129415626811, 'eta': 0.055553980406981326, 'num_topics': 13}. Best is trial 37 with value: 0.3553036398801374.\n",
      "[I 2023-09-22 12:23:11,431] Trial 99 finished with value: 0.2835151839586825 and parameters: {'alpha': 0.7362976545867421, 'eta': 0.038100360778715016, 'num_topics': 37}. Best is trial 37 with value: 0.3553036398801374.\n"
     ]
    },
    {
     "name": "stdout",
     "output_type": "stream",
     "text": [
      "The best parameters are {'alpha': 0.7518365088890125, 'eta': 0.3522833814009433, 'num_topics': 10} with a coherence score of 0.3553036398801374\n"
     ]
    }
   ],
   "source": [
    "# Create a study object and specify the direction is 'maximize'.\n",
    "study = optuna.create_study(direction=\"maximize\")\n",
    "\n",
    "# Optimize the study.\n",
    "study.optimize(objective, n_trials=100)\n",
    "\n",
    "# Results\n",
    "best_params = study.best_params\n",
    "best_score = study.best_value\n",
    "\n",
    "print(f\"The best parameters are {best_params} with a coherence score of {best_score}\")"
   ]
  },
  {
   "cell_type": "code",
   "execution_count": 13,
   "metadata": {},
   "outputs": [],
   "source": [
    "import plotly"
   ]
  },
  {
   "cell_type": "code",
   "execution_count": 17,
   "metadata": {},
   "outputs": [
    {
     "ename": "ImportError",
     "evalue": "Tried to import 'plotly' but failed. Please make sure that the package is installed correctly to use this feature. Actual error: No module named 'plotly'.",
     "output_type": "error",
     "traceback": [
      "\u001b[0;31m---------------------------------------------------------------------------\u001b[0m",
      "\u001b[0;31mModuleNotFoundError\u001b[0m                       Traceback (most recent call last)",
      "File \u001b[0;32m~/Documents/ffm-ds-23-2/ESG-Score-Prediction-from-Sustainability-Reports/.venv/lib/python3.11/site-packages/optuna/visualization/_plotly_imports.py:7\u001b[0m\n\u001b[1;32m      6\u001b[0m \u001b[39mwith\u001b[39;00m try_import() \u001b[39mas\u001b[39;00m _imports:\n\u001b[0;32m----> 7\u001b[0m     \u001b[39mimport\u001b[39;00m \u001b[39mplotly\u001b[39;00m\n\u001b[1;32m      8\u001b[0m     \u001b[39mfrom\u001b[39;00m \u001b[39mplotly\u001b[39;00m \u001b[39mimport\u001b[39;00m __version__ \u001b[39mas\u001b[39;00m plotly_version\n",
      "\u001b[0;31mModuleNotFoundError\u001b[0m: No module named 'plotly'",
      "\nThe above exception was the direct cause of the following exception:\n",
      "\u001b[0;31mImportError\u001b[0m                               Traceback (most recent call last)",
      "\u001b[1;32m/Users/nikitawilms/Documents/ffm-ds-23-2/ESG-Score-Prediction-from-Sustainability-Reports/playhub/playground_nikita.ipynb Cell 14\u001b[0m line \u001b[0;36m3\n\u001b[1;32m      <a href='vscode-notebook-cell:/Users/nikitawilms/Documents/ffm-ds-23-2/ESG-Score-Prediction-from-Sustainability-Reports/playhub/playground_nikita.ipynb#X15sZmlsZQ%3D%3D?line=0'>1</a>\u001b[0m \u001b[39m# The best parameters are {'alpha': 0.7518365088890125, 'eta': 0.3522833814009433, 'num_topics': 10} with a coherence score of 0.3553036398801374\u001b[39;00m\n\u001b[0;32m----> <a href='vscode-notebook-cell:/Users/nikitawilms/Documents/ffm-ds-23-2/ESG-Score-Prediction-from-Sustainability-Reports/playhub/playground_nikita.ipynb#X15sZmlsZQ%3D%3D?line=2'>3</a>\u001b[0m optuna\u001b[39m.\u001b[39;49mvisualization\u001b[39m.\u001b[39;49mplot_contour(study)\n",
      "File \u001b[0;32m~/Documents/ffm-ds-23-2/ESG-Score-Prediction-from-Sustainability-Reports/.venv/lib/python3.11/site-packages/optuna/visualization/_contour.py:110\u001b[0m, in \u001b[0;36mplot_contour\u001b[0;34m(study, params, target, target_name)\u001b[0m\n\u001b[1;32m     55\u001b[0m \u001b[39mdef\u001b[39;00m \u001b[39mplot_contour\u001b[39m(\n\u001b[1;32m     56\u001b[0m     study: Study,\n\u001b[1;32m     57\u001b[0m     params: \u001b[39mlist\u001b[39m[\u001b[39mstr\u001b[39m] \u001b[39m|\u001b[39m \u001b[39mNone\u001b[39;00m \u001b[39m=\u001b[39m \u001b[39mNone\u001b[39;00m,\n\u001b[0;32m   (...)\u001b[0m\n\u001b[1;32m     60\u001b[0m     target_name: \u001b[39mstr\u001b[39m \u001b[39m=\u001b[39m \u001b[39m\"\u001b[39m\u001b[39mObjective Value\u001b[39m\u001b[39m\"\u001b[39m,\n\u001b[1;32m     61\u001b[0m ) \u001b[39m-\u001b[39m\u001b[39m>\u001b[39m \u001b[39m\"\u001b[39m\u001b[39mgo.Figure\u001b[39m\u001b[39m\"\u001b[39m:\n\u001b[1;32m     62\u001b[0m \u001b[39m    \u001b[39m\u001b[39m\"\"\"Plot the parameter relationship as contour plot in a study.\u001b[39;00m\n\u001b[1;32m     63\u001b[0m \n\u001b[1;32m     64\u001b[0m \u001b[39m    Note that, if a parameter contains missing values, a trial with missing values is not plotted.\u001b[39;00m\n\u001b[0;32m   (...)\u001b[0m\n\u001b[1;32m    107\u001b[0m \u001b[39m        of :class:`~optuna.study.Study` is ``minimize``.\u001b[39;00m\n\u001b[1;32m    108\u001b[0m \u001b[39m    \"\"\"\u001b[39;00m\n\u001b[0;32m--> 110\u001b[0m     _imports\u001b[39m.\u001b[39;49mcheck()\n\u001b[1;32m    111\u001b[0m     info \u001b[39m=\u001b[39m _get_contour_info(study, params, target, target_name)\n\u001b[1;32m    112\u001b[0m     \u001b[39mreturn\u001b[39;00m _get_contour_plot(info)\n",
      "File \u001b[0;32m~/Documents/ffm-ds-23-2/ESG-Score-Prediction-from-Sustainability-Reports/.venv/lib/python3.11/site-packages/optuna/_imports.py:89\u001b[0m, in \u001b[0;36m_DeferredImportExceptionContextManager.check\u001b[0;34m(self)\u001b[0m\n\u001b[1;32m     87\u001b[0m \u001b[39mif\u001b[39;00m \u001b[39mself\u001b[39m\u001b[39m.\u001b[39m_deferred \u001b[39mis\u001b[39;00m \u001b[39mnot\u001b[39;00m \u001b[39mNone\u001b[39;00m:\n\u001b[1;32m     88\u001b[0m     exc_value, message \u001b[39m=\u001b[39m \u001b[39mself\u001b[39m\u001b[39m.\u001b[39m_deferred\n\u001b[0;32m---> 89\u001b[0m     \u001b[39mraise\u001b[39;00m \u001b[39mImportError\u001b[39;00m(message) \u001b[39mfrom\u001b[39;00m \u001b[39mexc_value\u001b[39;00m\n",
      "\u001b[0;31mImportError\u001b[0m: Tried to import 'plotly' but failed. Please make sure that the package is installed correctly to use this feature. Actual error: No module named 'plotly'."
     ]
    }
   ],
   "source": [
    "# The best parameters are {'alpha': 0.7518365088890125, 'eta': 0.3522833814009433, 'num_topics': 10} with a coherence score of 0.3553036398801374\n",
    "\n",
    "optuna.visualization.plot_contour(study)"
   ]
  },
  {
   "cell_type": "code",
   "execution_count": 18,
   "metadata": {},
   "outputs": [
    {
     "ename": "ImportError",
     "evalue": "Tried to import 'plotly' but failed. Please make sure that the package is installed correctly to use this feature. Actual error: No module named 'plotly'.",
     "output_type": "error",
     "traceback": [
      "\u001b[0;31m---------------------------------------------------------------------------\u001b[0m",
      "\u001b[0;31mModuleNotFoundError\u001b[0m                       Traceback (most recent call last)",
      "File \u001b[0;32m~/Documents/ffm-ds-23-2/ESG-Score-Prediction-from-Sustainability-Reports/.venv/lib/python3.11/site-packages/optuna/visualization/_plotly_imports.py:7\u001b[0m\n\u001b[1;32m      6\u001b[0m \u001b[39mwith\u001b[39;00m try_import() \u001b[39mas\u001b[39;00m _imports:\n\u001b[0;32m----> 7\u001b[0m     \u001b[39mimport\u001b[39;00m \u001b[39mplotly\u001b[39;00m\n\u001b[1;32m      8\u001b[0m     \u001b[39mfrom\u001b[39;00m \u001b[39mplotly\u001b[39;00m \u001b[39mimport\u001b[39;00m __version__ \u001b[39mas\u001b[39;00m plotly_version\n",
      "\u001b[0;31mModuleNotFoundError\u001b[0m: No module named 'plotly'",
      "\nThe above exception was the direct cause of the following exception:\n",
      "\u001b[0;31mImportError\u001b[0m                               Traceback (most recent call last)",
      "\u001b[1;32m/Users/nikitawilms/Documents/ffm-ds-23-2/ESG-Score-Prediction-from-Sustainability-Reports/playhub/playground_nikita.ipynb Cell 15\u001b[0m line \u001b[0;36m1\n\u001b[0;32m----> <a href='vscode-notebook-cell:/Users/nikitawilms/Documents/ffm-ds-23-2/ESG-Score-Prediction-from-Sustainability-Reports/playhub/playground_nikita.ipynb#X20sZmlsZQ%3D%3D?line=0'>1</a>\u001b[0m optuna\u001b[39m.\u001b[39;49mvisualization\u001b[39m.\u001b[39;49mplot_param_importances(study)\n",
      "File \u001b[0;32m~/Documents/ffm-ds-23-2/ESG-Score-Prediction-from-Sustainability-Reports/.venv/lib/python3.11/site-packages/optuna/visualization/_param_importances.py:137\u001b[0m, in \u001b[0;36mplot_param_importances\u001b[0;34m(study, evaluator, params, target, target_name)\u001b[0m\n\u001b[1;32m     73\u001b[0m \u001b[39mdef\u001b[39;00m \u001b[39mplot_param_importances\u001b[39m(\n\u001b[1;32m     74\u001b[0m     study: Study,\n\u001b[1;32m     75\u001b[0m     evaluator: BaseImportanceEvaluator \u001b[39m|\u001b[39m \u001b[39mNone\u001b[39;00m \u001b[39m=\u001b[39m \u001b[39mNone\u001b[39;00m,\n\u001b[0;32m   (...)\u001b[0m\n\u001b[1;32m     79\u001b[0m     target_name: \u001b[39mstr\u001b[39m \u001b[39m=\u001b[39m \u001b[39m\"\u001b[39m\u001b[39mObjective Value\u001b[39m\u001b[39m\"\u001b[39m,\n\u001b[1;32m     80\u001b[0m ) \u001b[39m-\u001b[39m\u001b[39m>\u001b[39m \u001b[39m\"\u001b[39m\u001b[39mgo.Figure\u001b[39m\u001b[39m\"\u001b[39m:\n\u001b[1;32m     81\u001b[0m \u001b[39m    \u001b[39m\u001b[39m\"\"\"Plot hyperparameter importances.\u001b[39;00m\n\u001b[1;32m     82\u001b[0m \n\u001b[1;32m     83\u001b[0m \u001b[39m    Example:\u001b[39;00m\n\u001b[0;32m   (...)\u001b[0m\n\u001b[1;32m    134\u001b[0m \u001b[39m        A :class:`plotly.graph_objs.Figure` object.\u001b[39;00m\n\u001b[1;32m    135\u001b[0m \u001b[39m    \"\"\"\u001b[39;00m\n\u001b[0;32m--> 137\u001b[0m     _imports\u001b[39m.\u001b[39;49mcheck()\n\u001b[1;32m    139\u001b[0m     importances_info \u001b[39m=\u001b[39m _get_importances_info(study, evaluator, params, target, target_name)\n\u001b[1;32m    140\u001b[0m     hover_template \u001b[39m=\u001b[39m _get_hover_template(importances_info, study)\n",
      "File \u001b[0;32m~/Documents/ffm-ds-23-2/ESG-Score-Prediction-from-Sustainability-Reports/.venv/lib/python3.11/site-packages/optuna/_imports.py:89\u001b[0m, in \u001b[0;36m_DeferredImportExceptionContextManager.check\u001b[0;34m(self)\u001b[0m\n\u001b[1;32m     87\u001b[0m \u001b[39mif\u001b[39;00m \u001b[39mself\u001b[39m\u001b[39m.\u001b[39m_deferred \u001b[39mis\u001b[39;00m \u001b[39mnot\u001b[39;00m \u001b[39mNone\u001b[39;00m:\n\u001b[1;32m     88\u001b[0m     exc_value, message \u001b[39m=\u001b[39m \u001b[39mself\u001b[39m\u001b[39m.\u001b[39m_deferred\n\u001b[0;32m---> 89\u001b[0m     \u001b[39mraise\u001b[39;00m \u001b[39mImportError\u001b[39;00m(message) \u001b[39mfrom\u001b[39;00m \u001b[39mexc_value\u001b[39;00m\n",
      "\u001b[0;31mImportError\u001b[0m: Tried to import 'plotly' but failed. Please make sure that the package is installed correctly to use this feature. Actual error: No module named 'plotly'."
     ]
    }
   ],
   "source": [
    "optuna.visualization.plot_param_importances(study)\n"
   ]
  }
 ],
 "metadata": {
  "kernelspec": {
   "display_name": ".venv",
   "language": "python",
   "name": "python3"
  },
  "language_info": {
   "codemirror_mode": {
    "name": "ipython",
    "version": 3
   },
   "file_extension": ".py",
   "mimetype": "text/x-python",
   "name": "python",
   "nbconvert_exporter": "python",
   "pygments_lexer": "ipython3",
   "version": "3.11.3"
  },
  "orig_nbformat": 4
 },
 "nbformat": 4,
 "nbformat_minor": 2
}
