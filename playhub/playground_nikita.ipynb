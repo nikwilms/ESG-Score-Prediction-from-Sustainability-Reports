{
 "cells": [
  {
   "cell_type": "code",
   "execution_count": null,
   "metadata": {},
   "outputs": [],
   "source": [
    "import pandas as pd\n",
    "import numpy as np\n",
    "\n",
    "df = pd.read_csv('../../data/SP500_EGS_Score_avarage_per_year.csv', index_col=0, parse_dates=True,sep=',')"
   ]
  },
  {
   "cell_type": "code",
   "execution_count": null,
   "metadata": {},
   "outputs": [],
   "source": [
    "df.head(20)"
   ]
  },
  {
   "cell_type": "code",
   "execution_count": null,
   "metadata": {},
   "outputs": [],
   "source": [
    "# all lower case\n",
    "\n",
    "df.columns = map(str.lower, df.columns)\n",
    "\n",
    "# - to _\n",
    "\n",
    "df.columns = df.columns.str.replace('-', '_')"
   ]
  },
  {
   "cell_type": "code",
   "execution_count": null,
   "metadata": {},
   "outputs": [],
   "source": [
    "len(df.company_symbol.unique())\n"
   ]
  },
  {
   "cell_type": "code",
   "execution_count": null,
   "metadata": {},
   "outputs": [],
   "source": [
    "import sys \n",
    "sys.path.append('../')"
   ]
  },
  {
   "cell_type": "code",
   "execution_count": null,
   "metadata": {},
   "outputs": [],
   "source": [
    "from helpers.text_preprocessing.preprocess_text import preprocess_text"
   ]
  },
  {
   "cell_type": "code",
   "execution_count": null,
   "metadata": {},
   "outputs": [],
   "source": [
    "import pandas as pd\n",
    "\n",
    "# Load or create your DataFrame (replace 'your_data.csv' with the path to your data file)\n",
    "df = pd.read_csv('../data/extracted_text_sustainability_reports.csv', index_col=0, parse_dates=True,sep=',')\n"
   ]
  },
  {
   "cell_type": "code",
   "execution_count": null,
   "metadata": {},
   "outputs": [],
   "source": [
    "# Preprocess the text and get the preprocessed DataFrame\n",
    "preprocessed_df = preprocess_text(df)\n"
   ]
  },
  {
   "cell_type": "code",
   "execution_count": 1,
   "metadata": {},
   "outputs": [
    {
     "name": "stderr",
     "output_type": "stream",
     "text": [
      "/Users/nikitawilms/Documents/ffm-ds-23-2/ESG-Score-Prediction-from-Sustainability-Reports/.venv/lib/python3.11/site-packages/tqdm/auto.py:21: TqdmWarning: IProgress not found. Please update jupyter and ipywidgets. See https://ipywidgets.readthedocs.io/en/stable/user_install.html\n",
      "  from .autonotebook import tqdm as notebook_tqdm\n"
     ]
    }
   ],
   "source": [
    "import optuna\n",
    "import pandas as pd\n",
    "import matplotlib.pyplot as plt\n",
    "import plotly \n",
    "from gensim import corpora\n",
    "import mlflow\n"
   ]
  },
  {
   "cell_type": "code",
   "execution_count": 2,
   "metadata": {},
   "outputs": [],
   "source": [
    "import sys \n",
    "sys.path.append('../')"
   ]
  },
  {
   "cell_type": "code",
   "execution_count": 3,
   "metadata": {},
   "outputs": [],
   "source": [
    "from models.LDA_optuna_tuning.tune_lda_optuna import train_lda, compute_coherence\n",
    "from models.LDA_optuna_tuning.call_optuna_tune import preprocess_data, execute_optuna_study"
   ]
  },
  {
   "cell_type": "code",
   "execution_count": 4,
   "metadata": {},
   "outputs": [
    {
     "name": "stderr",
     "output_type": "stream",
     "text": [
      "/var/folders/t5/tjfw6fh92wvd7nqk0dkpf15h0000gn/T/ipykernel_29893/2642038775.py:1: UserWarning: Could not infer format, so each element will be parsed individually, falling back to `dateutil`. To ensure parsing is consistent and as-expected, please specify a format.\n",
      "  df = pd.read_csv('../data/preprocessed_data_text_format.csv', index_col=0, parse_dates=True,sep=',')\n"
     ]
    }
   ],
   "source": [
    "df = pd.read_csv('../data/preprocessed_data_text_format.csv', index_col=0, parse_dates=True,sep=',')"
   ]
  },
  {
   "cell_type": "code",
   "execution_count": 5,
   "metadata": {},
   "outputs": [],
   "source": [
    "df = df.head(200)"
   ]
  },
  {
   "cell_type": "code",
   "execution_count": 6,
   "metadata": {},
   "outputs": [],
   "source": [
    "# write the preprocessed data to csv\n",
    "df.to_csv('../data/preprocessed_data_text_format_200.csv')"
   ]
  },
  {
   "cell_type": "code",
   "execution_count": 7,
   "metadata": {},
   "outputs": [
    {
     "data": {
      "text/plain": [
       "{'Number of Missing Values': 0,\n",
       " 'Number of Unique Texts': 200,\n",
       " 'Sample Texts': ['content introduction give content introduction critical year sustainability put climate change centre global priority ongoing implication pandemic disrupt business government highlight area inequality set principle focus area progress ambitious target new sit find material sustainability principle project post pandemic post world sustainability continue agenda role financial service particular asset manager play sustainable future huge influence good bad invest wrong thing perpetuate cycle course century massive increase carbon industry commensurate damage planet result warming cycle try reverse invest company understand technology business model thrive low carbon environment invest well future company concerned climate change focusse loss biodiversity impact recent year recognise live unequal world place example steam technological advance global population internet access follow think key takeaway conference give continue focus climate change require think successful world recognise track add country commitment world help limit global temperature increase degree think high awareness awareness need translate action believe track think carbon misprice come long tail unknown charge damage create believe reprice carbon asset government see try figure action myriad subsidy available winter fuel allowance elderly implement carbon tax alternative energy source attractive well energy mix time kind action need come heighten awareness announce charitable partnership tell bit mean excited meet team fantastic vision able part world electricity internet implement design kit provide solar electricity satellite connection internet engage community help build kit invest time energy ripple effect look abrdn hub open spot high inequality great force begin address huge digital divide able create ripple effect fantastic thing abrdn important new brand identity stand stand technology stand make world well place stand opportunity people exciting excited introduction video touch diversity inclusion immense pressure organisation influence real diversity inclusion enable fair work provide increase access opportunity important issue like judge action space year influence vote director feel focusse create right outcome opportunity employment arena year moment truth help business reflect challenge diversity example hire new promote new visible appointment choice leadership diverse proud get senior woman absolute good candidate job inclusion lead well team different perspective uncomfortable conversation feel uncomfortable different change problem business job advance company create positive change growth company answer new question need good brain talent inclusive operating manner people feel contribute great discovery filter block result lack diversity job create environment people access contribute successful business look strategic priority number priority thing unite company enable well investment financial return depend client need understand answer question investment goal client suitable investment deliver objective investor enable well investment thing connect new abrdn well investment focus time client want need aspiration apply talent technology meet exceed right client sustainable pattern growth ambition contribute world specific framework useful sign ongoing commitment principle valuable commitment different area alignment allow advocate organisation sign report track progress deepen understanding principle have great commonality report metric essential introduction introduction introduction year review ethnic minority target operation sector reduction operational emission compare woman score introduction year review strategy governance reduce carbon intensity asset invest commit manage line net initiative signatory specific engagement investee company esg create confidence vital integrity transparency operate business protect reputation interest stakeholder build reflect expectation investee company ethical conduct responsible tax crime privacy information security sustainable investing sustainable procurement governance create confidence create confidence build trust enhance transparency conduct ethical conduct global code conduct describe principle standard hold ask employee consider decision action code assess list good practice example employee receive training content meaning code require confirm read agree abide principle introduce face face scenario base training involve posing discuss ethical issue resolve employee concern encourage report manager concern raise normal reporting line manage confidential speak hotline web reporting available employee like raise concern concern raise take victimisation harassment discrimination bullying tolerate consider disciplinary matter advertise hotline supplier use way concern raise investigate outcome result change process appropriate disciplinary measure dismissal audit committee oversight whistleblowing arrangement chair act whistleblowing champion ethical conduct extend treat client mean product service communicate position act dissatisfaction element service detailed commitment client highlight interest effective management conflict interest core good ethical conduct key aspect global regulatory legislative conduct risk agenda ensure appropriate step take identify prevent conflict interest policy procedure address conflict arise personal account deal gift hospitality information exchange voting investor abrdn employee require complete conflict interest learn module year tailor training target specific business area role training design enhance employee understanding detail individual responsibility relation conflict interest recent module complete abrdn employee addition colleague require complete annual attestation relate personal account deal potential conflict interest conduct colleague complete code conduct training call whistleblowing hotline investigation carry want understand colleague feel availability report channel openness manager receive employee concern issue increase remote working carry pulse survey find respondent agree sufficient channel opportunity raise concern agree manager create environment team member share concern issue office location responsible tax responsible tax large business important contribution public finance payment taxis pay taxis tax authority collect behalf wide range country globe taxis relate business operation client people asset manage administer want operate tax matter recognise importance stakeholder client employee shareholder contribution society approach tax align strategy create sustainable clientled growth clear principle align standard behaviour expect colleague find approach report taxis pay contribution total tax contribution taxis colllecte account need stakeholder way manage tax affair work hmrc tax authoritiespurpose seek apply aggressive interpretation tax legislation undertake transaction sole main purpose creation tax benefit great intend legislation operate strong governance framework manage control tax tax development discuss tax policy regulation development tax authority government international organisation ensure sustainable effective development tax rule compliance ensure meet tax compliance report obligation crime crime ackle financial crime adhere law regulation prevent harm people society tolerance approach bribery corruption money laundering terrorist financing provide colleague tool enable aware financial crime risk know look understand company responsibility policy procedure financial policy correspond procedure aim prevent detect money laundering standard comply include maintain appropriate record minimum prescribe period policy cover bribery form direct indirect political contribution facilitation payment risk appetite senior manager overall responsibility ensure adherence gift hospitality policy register design support avoidance actual perceive conflict interest gift hospitality threshold register monitor department hospitality gift value define limit require specific approval reject special circumstance justify exception operate guideline record keeping approval procedure appropriate behaviour internal control system monitor review implementation procedure design prevent money laundering bribery improvement necessary internal control system procedure subject regular audits provide assurance effective counter bribery corruption training provide training format colleague include annual mandatory learn module financial crime tailor face face training key department hub intranet colleague need know include raise concern whistleblowing mechanism company wide network compliance manager local region client diligence verify client investment funding allow include certify document formal search known suspect terrorist list expose list external screening provider client subject enhance diligence sign client client country business product great risk money laundering terrorism financing gather depth understanding client business investment objective activity ongoing monitoring identify suspicious activity colleague believe client activity suspicious report designate investigative paper prompt review approach ensure list capture pep sanction screen approach study ackle fraud significant increase fraudulent investment product offer client selling fraudulent investment pension product use cold call technique target victim attempt pressurise make quick decision price comparison website social medium advertising search optimisation method attract victim want action raise awareness support client impact scam produce victim assistance document set attempt recover fund report scam protect information future take action bring fraudulent email domain website report phone number fraudster police number take notify add warning website working group share good practice tackle investment scam hope help prevent privacy privacy colleague day day job collect use personal information vital demonstrate process information line statutory obligation privacy datum protection law internal policy pillar approach help understand responsibility obligation enable collate evidence compliance conduct necessary assessment potential privacy risk track local compliance line team require minimum standard colleague foundation approach new hub intranet practical information tool support colleague supplement mandatory annual online training hub provide information local data protection law colleague responsibility late datum protection news globe place data protection champion business strengthen local awareness embed evidence compliance external web base solution manage enable horizon scanning new law change exist law central repository analysis collation evidence compliance provide holistic consolidated view personal datum processing business support assessment require identify manage privacy relate risk associate new change exist business process solution policy standard new company wide implement clear set minimum standard meet line team evidence compliance applicable local law data protection policy sign biannual basis exception policy address line team require attest high risk area client face operational team client shareholder colleague understand personal datum process purpose publish relevant privacy notice external website support collateral include product literature explain personal information collect purpose use personal information share personal information protect personal information right individual personal information collect use exercise right standard information security information security vital step protect company client employee information cyber attack data breach form mis use robust framework base information security policy cover aspect cyber security include governance policy technical standard management regulatory requirement incident management security responsibility oversight policy lead regular reporting board level governing committee policy framework combination risk framework provide structure internal control system manage risk confidentiality integrity availability information system resilience protection department drive organisation focus security resilience provide guidance oversight information security business resilience drive risk aware culture central function global responsibility include cyber risk threat intelligence monitor network infrastructure exception sign breach respond cyber security incident framework consistent approach incident crisis management global organisation framework apply incident short term low impact location specific incident potential strategic crisis impact operation multiple region teaching advise colleague help understand security responsibility security risk relevant business policy risk oversee framework management risk addition lead work assess supplier ensure control procedure appropriate protect information datum deliver resilient service business resilience incident management business continuity disaster recovery crucial risk management likelihood disastrous event cyber attack low able respond protect good interest client shareholder staff ensure ongoing operation business team responsible resilience continuity framework process include underlie analysis support certification design ensure organisation continue function operational interruption training awareness raise privacy information cyber security learn training module mandatory employee include temporary employee contractor theme phishe continue key risk area external threat intelligence source confirm phishe remain primary mean gain foothold compromise organisation focus phishe resilience conduct regular exercise simulate phishing attack deliver focusse training employee ensure stay vigilant know recognise report suspicious email technical security control meet need client key stakeholder create benefit economy society environment focus follow area investment process integrate appraise factor investment process aim generate good long term outcome client sustainable factor material investment investment ability contribute environment society high quality research include understanding factor form basis investment decision carry detailed thematic analysis allow understand investment make create detailed knowledge financial business driver metric risk opportunity impact business driver metric include relate factor mitigate action take address risk investment activity step steward deliver long term sustainable value consistent client objective active engaged owner asset invest engagement seek improve financial resilience performance investment share insight ownership experience geography asset class important engagement activity lead improvement investment concern issue raise address engagement lifecycle encounter significant disagreement investment matter relate factor result escalate engagement activity way collaborative engagement decide join investor seek achiev similar change public statement feel beneficial view know view clear client wide stakeholder voting believe voting company meeting important activity invest behalf client believe concern relate factor significant unable elicit change believe necessary mitigate risk divest investment client journey define act client interest deliver stewardship esg principle report action meet interest reporting aim demonstrate outcome orientate stewardship responsible investment activity undertake report exposure portfolio manage behalf client transparent disclosure allow client understand portfolio hold account consideration factor action hold account allocate client capital corporate influence advance policy regulation industry standard deliver well future client environment society important role development public policy industry standard general practice want ensure develop manner align good interest client stakeholder delivery good outcome action collaboration investor membership trade body sustainable investing graphic follow page engagement categorise interlinked area engagement lifecycle ongoing diligence frequent interaction lead analyst responsible oversight investment attend member relevant investment team react event impact single investment selection singular investment design seek change view enhance value investment result focus particular esg theme climate change diversity inclusion modern slavery identify specific concern issue raise responsible investment concern acknowledge responsible investment credible plan address concern plan execute address concern plan execute concern addressedrespondacknowledgereview sustainable investing sustainable procurement purchase good service large number supplier want work supplier share commitment sustainability programme sustainable procurement activity design help create long term positive impact business society pledge work supplier spend ask place net target expectation supplier pay fair wage live wage accreditation exist diverse supplier base want work diverse supplier encourage opportunity diverse business minority own sme engage supplier diversity commitment agree focus invest underserve community manage material sustainability risk refresh risk assessment diligence question ensure focus material sustainability risk supplier work term sector geography ask identify manage issue climate change biodiversity human right diversity inclusion fair wage standard expect supplier work launch set principle require party follow business expect demand supply chain include comply applicable law regulation protect human right provide safe place work minimise direct indirect environmental impact expect party adhere high standard behaviour ask colleague share supplier key area focus environmental social perspective like support achieve aim measure progress pledge establish baseline understanding supplier base place target sustainable procurement working group meet review progress push evolve impact sustainability cornerstone work expectation partner pplier clear sustainability important encourage embed ethos work practice parti sustainable procurement create impact create impact take real world action tackle clima biodiversity create impact progress climate change operational climate change consumption biodiversity couple year represent big shift awareness understanding impact climate change biodiversity loss protest new regulation extreme weather event globe gathering leader area impact influence want drive change help tackle interlinked crisis investor responsibility deliver positive financial outcome client contribute sustainability world live change start clear target strategy reduce environmental impact collaborate drive positive change support transition net operation carbon neutral offset operational emission committed manage line net initiative reduce carbon intensity asset invest progress implement biodiversity improvement real estate investment fund carbon intensity publish progress launch climate focusse fund enable client achieve climate goalswe pledge work supplier spend ask place net target involve contribute range climate industry initiative change change aim lead example strive high standard expect investee company supportive goal member initiative commit decarbonisation support journey net real world impact set ambitious interim science base target achieve reduction operational emission baseline year late climate science deem necessary meet goal important step target tackle material aspect footprint energy use office business travel nature work change work home likely last feature incorporate emission footprint reduction target outline strategy reduce emission achieve efficiency measure estate focus site high natural gas use change fleet improvement refrigerant gas usage strategy reduce emission efficiency measure estate focus site high use emission reduction focusse reduce business travel influence reduction emission associate colleague work home reduce offset residual emission accredit project include work home emission want empower colleague individual action pioneer partner available colleague understand carbon footprint company wide challenge reduce employee benefit scheme provide option electric car leasing environmental champion colleague lead network purpose encourage inspire environmental practice abrdn share blog make sustainable choice organise volunteer day local community want work supplier supportive aim commit engage supplier equate spend ask set net alignment plan operational gas rail work home gas rail work home distribution reduce operational emission operational emmission assure annual basis information available definition document change operational network goal drive positive environmental change abrdn objective conserve environment connect inspire action collaborate colleague champion pawprint sprint excited encourage colleague reduce carbon footprint member select challenge sprint volunteer global greenspace site help improve biodiversity plant plant great positive impact space bring local community wildlife abrdn study pawprint app available employee simple way understand personal emission reduce give valuable information work home emission help develop complete picture colleague energy use end set challenge colleague ask slight change day result carbon saving send mascot bear international office change turn heating thermostat switch plant base meal earn colleague point translate save carbon end challenge carbon saving equate travel office represent tonne carbon save tonne change positive change know enable client well investor achieve climate goal big role play encourage net economy set target reduce carbon intensity asset invest baseline support net ambition deliver believe real world decarbonisation decarbonise portfolio divest avoid carbon intensive asset quick likely carbon problem little impact real world transition net achieve focus invest transition leader climate solution engagement corporate influence ambition action investment continue invest company high carbon footprint credible lead transition strategy reduce emission engage high finance emitter equity credit holding seek transparency progress clear transition milestone relevant standard net benchmark input assess progress recognise action key line divest company year consider insufficient progress transition milestone set line mandate new low carbon solution help shape world future play big invest company idea help solve climate crisis look innovative solution company main pillar source power clean energy renewable build sustainable infrastructure green building transport sustainable transport system fuel efficiency use industrial efficiency specialist material investment real estate let use site mile delivery service place panel provide electricity electricity operation carbon neutral tenant benefit reduce energy tariff market rate benefit premium energy rent recharge oday commit manage line net goal aim increase time specific client mandate focusse get aggregate carbon intensity reduction target integration carbon analysis investment process case study company invest provide computer aid design software reduce material construction building enhanced design improve energy efficiency building construct danish animal nutrition company invest research come climate solution develop new product call clean cow feed additive reduce methane account emission passenger vehicle need capital firm grow impact reduce emission real estate asset generate mwh energy solar save tonne carbon change investment climate change take place consider important climate conference signing focus keep agree goal alive take programme event highlight action investor help achieve real world decarbonisation underline urgent need strong climate policy support net direct investing involve participate discussion climate scenario decarbonise portfolio real world impact deliver breakout session explore solution net path workstream participate panel discuss good practice net pension provider additional session climate scenario analysis conference see opportunity pledge practice avert climate catastrophe role recognise important pillar climate agenda investor company achieve remain dependent exist policy framework need ambitious binding climate commitment national government support widespread political buy durable legislation high carbon pricing expectation highlight article chance reflection outcome conference share review positive signal send intention willingness strong action current bind policy pledge expect result average temperature rise sufficient provide right incentive net align investing read climate approach ask climate relate report consumption consumption consumption non renewable resource generation waste add environmental crisis reduce use energy material possible operation target remove single use plastic waste landfill business focusse minimise use non renewable resource procure cut sheet paper source take approach big step reduce use single use plastic commit remove single use plastic office feasible tackle material source single use item continue seek way reduce send waste landfill office manage waste work property owner large site consumption ensure consider water investment approach investment analysis assess water risk understand investment operation water reliant addition seek investment company provide solution global shortage water consider follow key driver water resource dependency understanding water risk lie investment value chain understand financial implication water resource security understand contextual geographic issue create water risk response assess investment resilience risk mitigation strategy engagement encourage sustainable practice give share nature water complex mix social environmental value involve abrdn aim capture risk engagement target discussion expose sector press strong disclosure water risk enable well adaptation mitigation response oting shareholder resolution engagement limited success use influence escalation voting support shareholder resolution investment choose invest implication society planet spotlight water valuable resource vulnerable effect climate change population rise world demand water rise mean water resource grow threat pollution increase urbanisation power generation food production need help assess water risk focus key area risk include potential disaster drought flooding physical risk include lack sufficient infrastructure decline water supply risk policy change government increase tariff pose threat risk include exposure violation relate water pollution sanitation consumer trust risk affect company licence operate addition water treat free commodity business face financial cost real price water account business operation biodiversity face unprecedented species extinction rate species risk connect include work charity partner project benefit nature habitat launch community greenspace project aim local environment crucial individual wellbee pandemic read project progress page way support biodiversity partnership support accredit offset project help people engage protect nature support habitat wildlife restoration turn promote wellbee build community help wildlife ecosystem thrive generation come business pledge support global biodiversity hotspot renewable wind solar power project investment aim ensure minimise harm look benefit enhance local environment community include enhance biodiversity biodiversity investment approach biodiversity human activity cause worldwide decrease biodiversity action include deforestation encroachment wildlife habitat intensify agriculture acceleration climate change deforestation imminent direct threat biodiversity particular focus risk opportunity associate core commodity beef soy wood palm oil drive majority world deforestation give long term focus diligent consider environmental risk investment pursue opportunity generate positive impact loss biodiversity acute risk sector pharmaceutical drug development agriculture food infrastructure forestry pulp paper mining fishery agriculture impact sector less extent consider biodiversity relation investment opportunity agricultural practice practice sustainable agriculture negative outcome mitigate biodiversity enhance sustainable agriculture good stewardship natural capital base result number benefit business include enhance yield cost saving improve product quality creation new product business line circular economy solution valuable drive innovation waste management encourage sustainable consumption pattern reduce reliance natural resource legal regulatory business fail integrate biodiversity consideration operation run risk potential lawsuit fine risk heighten government regulator request disclosure reporting biodiversity impact reputational damage corporate reputation stem variety stakeholder medium campaign non governmental organisation shareholder resolution firm perceive change client preference affect ability operate increase financial risk investor result fail ecosystem service natural resource inaccessible lead production disruption result broad supply chain disruption price volatility ensure consider biodiversity investment approach investment analysis recognise investment high biodiversity risk dependent ecosystem high impact ecosystem poor risk management result crystallisation legal regulatory reputational operational risk contrast robust biodiversity management ability unlock opportunity assess biodiversity risk understand investment operation potential impact addition seek investment company provide solution respond opportunity engagement encourage sustainable practice corporate engagement essential outline expectation support biodiversity strategy expect investment seek preserve natural habitat prudent approach natural resource expect appropriate policy risk management system clear strategy target environmental issue biodiversity oting shareholder resolution engagement limit success use influence escalation voting support shareholder resolution biodiversity biodiversity activity investment real estate property wild flower area implement plan property wildlife friendly hedging shrubbery implement hotel implement box implement tolerrant planter implement sustainable planting implement plannedcase study office complex comprising building tenanted entire complex build level underground car parking heart aim environmental improvement project encourage wildlife urban development instal planter complex situate underground car park location availability natural resource limited aim introduce maximum planting possibility sustainable method goal attract nature possible add wildlife home log pile aim attract bee butterfly insect nesting bird decide incorporate social value element agreement tenant donate annual tree charity place reception project complete early despit limitation site structure bring planting take see overa increase wildlife activity site positive comment receive site tenant overall presentation improve environment create site urban location donate source receive local centre tenant agree donate tree local charity property habitat survey implement pond property compost area implement recycle garden furniture develop number project investment real estate manage biodiversity collaborating change see positive statement protection planet vital support system look second phase turn positive statement actionable framework path recovery nature key milestone statement include askforce nature relate launch widespread support financial institution corporate government civil society aim improve company disclosure nature relate risk opportunity enable asset manager well assessment investment impact biodiversity crisis drive well disclosure join global multi disciplinary consultative group institution member country commit halt reverse deforestation country represent world remain forested area release proposal deforestation free product aim prevent coffee cocoa cattle palm oil soy wood derive product leather chocolate furniture enter market legal free deforestation create opportunity create opportunity create opportunity enable well outcome community world aim lead diversity inclusion purpose break barrier focus increase gender ethnic representation ensure people background value include stage career social mobility action plan drive activity abrdn extend supply chain thinking investor champion fair work help people achieve financial stability look tothe future confidence challenge company set clear expectation take action voting engagement action lead executive team use datum drive inclusion framework help positive impact operation enable client well investor achieve lot recognise progress diversity inclusion diversity inclusion priority inclusion diverse talent approach investor customer work human right safety wellbee development network engagement hour accredit invest graduate intake come diversity ethnic minority progress woman ear equality social progress inclusion define diversity make background visible invisible characteristic think work experience bring client define inclusion workplace culture create diversity thrive framework focus priority abrdn diverse inclusive place work use datum identify diversity representation workforce plan right action lead executive team oversee set target commitment refresh corporate target reach previous target schedule new gender ethnicity representation target challenge make progress approach align good practice active member investor lead initiative executive leader responsible drive inclusion annual people objective link remuneration annual performance scorecard target refresh holistic governance process leadership team set publishe diversity inclusion commitment specific need region vector colleague people manager diversity inclusion annual performance goal share update progress level quarterly basis help ensure stay track deliver commitment target arget arget leadership workforce targetsenior leadership targetglobal workforce targetboard ethnic progress gender ethnicity target assure annual basis information available definition document link priority purpose aim enable client well investor invest make positive impact operation help create well future commitment diversity inclusion vital understand need stakeholder mean embed commitment talent process brand supplier partner choose way engage company invest way work pandemic bring way work centre show diverse way working hinder productivity careful consideration need sure people feel connect involve flexible working journey help rapid transition need respond pandemic priority listen work people shape blend way include value day want people feel involved safe belong perform good client conversation interaction play create environment focus build capability awareness drive conversation active allyship create safe space enable colleague think influence environment share experience curious learn develop diverse talent eam effectiveness come diverse thinking experience high perform people career stage background lead well decision fresh idea important people diversity form thrive mean honest need encourage conversation focusse area underrepresentation gender ethnicity social mobility success parent leave policy implement inclusive parental leave programme replace primary secondary caregiver leave pay family bonding leave equalise pay leave entitlement expand special leave policy support colleague manage commitment work give carer armed force family foster carer bereaved parent colleague want career break volunteer people use policy date take parent leave identiye inclusion gender employee network engage policy development process ensure consider diverse range family inclusion award win research series abrdn equality century highlight recommendation business policymaker society help address barrier progress economic participation ensure man access paternity leave reduce tax second earner sole parent consider quantity quality female work strengthen performance resilience overall economy report high quality datum win prestigious trade medium outlet show excellence research sustainability credential investor case study act inclusion introduce lead parent leave policy entitle colleague gender welcome new child week pay leave recognize abrdn name global leader employee sponsor parental leave provision lead way come parent leave policy statutory minimum requirement industry norm vital step support new family type gender employee network engage policy development process ensure consider diverse range family policy enable gender leave support route parenthood include adoption surrogacy birth year begin benefit colleague inclusion data drive progress investor recognise need quality comparable datum enable strategy deliver client lead growth important operation ensure key diversity target assure committed make datum available global regional level enable target action gender diversity social inclusion minority ethnic representation external index enable comparison benchmarke industry group encourage year submit time feature return participant social talent attract develop diverse talent consider diversity talent process level company manage diverse team encourage innovation balanced insightful decision introduce measure recruitment process inclusive people background career stage recognise implement emergent good practice possible exist measure include augmented write tool ensure job advert free diversified platform advertise available role include specific diversity partnership improved datum track identify historic drop point underrepresented group expand interviewer role training consist colleague represent diverse perspective region requirement executive search partner provide gender diverse shortlist data drive progress focusse key area gender ethnic diversity social mobility committed transparency disclose key figure annual report spotlight early career oday environment challenge worker young people start career work diversify find recruit talent group partner external organisation help access diverse talent share view gender race social inclusion interconnect include girl graduate intake come diversity partnership monitor retention trainee enter organisation cohort stay abrdn move pursue new project future study attain rank programme ranking apprenticeship employer apprenticeship base direct review early career colleague graduate increase increaseattende non university minority social talent rainee entry defer attend state school attend non minority ethnic woman come diversity partnership increase increasewoman come diversity study step response increase challenge cause pandemic introduce help young people age risk long term unemployment recognise need help want thing step focus provide inclusive opportunity align overall diversity inclusion principle provide opportunity young people ensure role extend minimum month period young people join regular intake employment benefit access learning development programme view enable group join inclusive way well true spirit programme intent important participate government funding primary incentive provide positive opportunity young people experience challenge circumstance level continue woman returner programme encourage woman spend extended time workplace investment role second programme underway operation function develop new approach identify talent mid career stage call future programme inclusivity core programme design opt philosophy core additional independent datum support talent calibration discussion support development programme mid career colleague available include session run woman colleague woman participate session year senior level continue work select strategic partner value diversity inclusion way aware need improve diversity senior level organisation challenge confront industry supplementary target senior leader measure representation woman executive succession plan ensure gender diversity form core succession conversation know future success depend ensure broad range perspective experience background represent executive search partner contractual obligation provide gender diverse social talent social talent case study leader drive progress adviser vector take lead member askforce commission lead improve socio economic diversity senior level financial professional service group mission challenge lack career progression come non professional background explore intersection protect characteristic include gender race great success financial service industry diversity inclusion include abrdn need continue progress social mobility askforce great share progress learn member work take research askforce understand impact social mobility career help create lasting change beneficial industry member askforce approach investor overview big social impact investment process serve client ensure product service integrate social factor inclusive outset believe diversity inclusion important driver long term business success resilience social factor consider diverse build consideration proprietary tool target key risk opportunity company engage practical tool comb variety available datum source help assess company set investment parameter sustainability product support original macro research analyse economic government policy market intersect assess likely macro risk happen output support decision making view strategic asset allocation regional approach recognize importance adopt regional approach diversity inclusion region face different risk opportunity regulatory market practice targeted approach enable big impact press progress speak investee company diversity inclusion encourage progress level member take voting action company agm insufficient diversity focusse improve diversity widest sense strengthen voting policy include recommendation review call director ethnic minority background board focus engagement voting nomination committee chair house research support idea european country lead way gender equality national level regulation make difficult uniform approach investor result identify market great investment exposure set expectation investee company market outline voting intention company meet expectation write letter chair board outline future voting intention request information approach diversity inclusion recognise work inclusion move different pace vary company company write holding start set minimum expectation female director set stretching expectation view long term opportunity drive change region diversity inclusion stand agenda item engagement company relation level representa tion translate business escalation measure use client vote great diversity take action resolution align establish regional expectation approach investor membership corporate influence action business pledge play unlock equal economic opportunity community face historic present day injustice disclose datum encourage company disclosure allow track measure progress great diversity organisation invest race ethnicity gender voting action gender representation board female representation vote chair nomination committee case require diversity target meet financial statement instance chair female identify challenge relate corporate disclosure improvement transparency clear metric target necessary short term align aim achieve woman man gender split executive team company operational target align set clear expectation investee company outline interim disclosure target line initiative align aim achieve woman man gender split executive team company customer cial customer support vulnerable customer strategy enable client well investor recognise customer need access product service meet specific need essential recognise element traditional offering inclusive conduct represent opportunity outcome available governance framework reflect focus support customer include deal vulnerability vector ceo lead relate action abrdn start identify group need priority care ensure customer leave customer marginalise experience challenge accessibility relate health life event capability vital able tailor service recognise vulnerability static customer specific short term need require long term support engage multiple channel recognise considerable proportion customer value traditional servicing prefer pick phone respond email build strategy vector invest bespoke training ensure colleague equip support identify requirement priority care specific focus colleague customer facing customer support role focus extend recruitment process look ensure future colleague prepared provide inclusive service customer essential communication transparent control place ensure product represent reality govern framework able support customer additional visual need large font braille update sign language language interpretation necessary adaptation need customer dissatisfied service ensure unreasonable barrier place raise concern switch provider customer good interest forefront thinking prioritise customer need conflict interest differ view include signpost external support service appropriate support initiative aim increase general financial literacy support informed investment decision making principle form key charitable giving strategy abrdn fund project help people overcome barrier realise potential create well future family work living wage hour believe fair work colleague pay minimum wage committed act modern slavery human right investor colleague represent global workforce accredit company receive live hour accreditation employer enable colleague partner plan secure clear work pattern key element fair work live hour mean provide minimum week notice shift work guarantee payment shift cancel window ensure supplier work premise sponsor investor toolkit publication highlight benefit live wage employment engage portfolio company living wage support engagement letter prepare company encourage accredited supporter goal increase proportion fair work home city align goal end poverty recognition work area shortlist abrdn award work right engage global business focusse ensure instance modern slavery human right issue supply chain build specific question modern slavery fair work pay procurement tender process expect party work meet enhance standard number policy statement demonstrate approach identify mitigate modern slavery risk expert internal stakeholder industry body consult policy development document available employee party stakeholder include supplier business partner clear expect supplier assess party deem high risk modern slavery commit continue review supplier way appropriate action identify high risk robust framework place ensure instance modern slavery escalate remedied result action tailor individual circumstance vary support supplier positive change end relationship investor recognise impact human right issue investment role play drive progress drive social change strong investment case promote human right assess risk opportunity human right issue core approach year high quality research key element investment process include human right research investment analyst portfolio manager asset class regular engagement essential understand management human right risk opportunity engagement allow gain insight communicate expectation stakeholder equity investment exercise influence vote shareholder meeting expect company invest thing work understand actual potential impact human right establish system ensure respect human right ake appropriate action remedy infringement human right human right approach role investor underpin core belief consider human right risk opportunity integral investment process achieve desire outcome client fulfil human right responsibility require ongoing engagement work influence positive change uphold human right rely voluntary agreement weak regulation improved corporate practice strong regulation need support human right human right challenge complex persistent meaningful last change require multi stakeholder approach include business investor government civil society academia right global investor position influence drive positive change prioritise engagement company issuer situation business model activity high potential adverse human right impact believe gap human right policy implementation identify human right environment operate context high risk company issuer know history adverse human right impact affect group right holder representative raise significant concern active engagement dialogue help guide company good practice address human right issue firm unwilling engage insufficient progress look way increase leverage join collaborative industry group resort divestment decision company fail meet expectation case study food retailer follow successful ruling shop floor workforce woman compare male dominate warehouse pursuit equal pay large private sector equal pay claim mean company sector liable pay hundred million pound work determined equal value speak late sustainability strategy food retailer look employee key success business spotlight remain sector remain develop area focus material potential financial impact right holder wide stakeholder continue engage labour intensive business encourage pro active provide extend disclosure issue safety wellbee safety wellbee working future opportunity shape future workplace emphasis want office place connect coach collaborate mean develop well physical space colleague move team new space upgrade colleague client experience meet high environmental standard office undergo exciting new renovation experience past year embed inclusivity work culture mean expand special leave policy support colleague commitment work step take foundation feedback colleague lead network anonymous survey datum wellbee colleague work low risk physical environment safety risk assessment conduct work activity regular audits conduct external party premise aim reportable accident risk control point audit accident incident investigate pandemic impose new challenge return office require update policy space safe secure line local requirement introduce app daily completion attend office desk booking system monitor capacity governance process senior leader continue monitor development global operation prioritise colleague safety implement blended approach work recognise home working environment differ office immediate response pandemic available local currency equivalent colleague purchase home work equipment online workstation training assessment module employee complete ensure homeworking office set correct empower people manager work team devise flexible solution balance need client personal need easy change work pattern promote different leave option carer leave time work meet responsibility supply access counselling colleague family virtual appointment colleague remind importance take break work holiday monitor year try ensure appropriate rest process remain place colleague complete mandatory training health safety committee meet year review safety performance region local wellbeing activity yoga class lunchtime fitness class campaign promote open discussion mental health work offering design support colleague wellbeing know colleague sometim need time work colleague month sick leave pay week absence apply salary total working day schedule take sick day cover employee site workplace accident site fatality track increase virtual digital learning usage provide online demonstration colleague virtual learning programme recommend net promoter score resource available online learning platform popular topic relate resilience wellbeing digital datum software application upskille colleague engage developmental content expand offering empower serve client continue run learn module align regulatory commitment colleague provide mandatory learning link financial sector run annual training line regulation colleague complete code conduct training learning programme target base career stage range school leaver senior leader invest stage journey spend total develop new outline vision leadership different level talent process succession recruitment development performance management learn development approach learning reflect commitment blend working colleague classroom digital job learning activity support key objective develop skill capability support business strategy support colleague build successful career create engagement organisation aim colleague tool resource need control development valuable contribution strategy story reflect increase engagement colleague take advantage launch academy academy help colleague develop skill mind set need ensure equip support client digital world help colleague harness datum well decision development colleague complete code conduct training development level global mentoring programme offer colleague opportunity find mentor business share skill experience mentor use algorithm base development interest preference match mentee appropriate mentor increase number colleague involve mentor partnership champion reverse mentor senior leader mentor member network promote race multiculturalawareness programme design develop deep insight experience minority ethnic colleague guide decision action member executive team leader global leadership group participate success programme extend reverse mentor colleague ethnicity engagement lead progress member represent colleague region network partner company progress issue matter people year bring insight network forum discussion strategic priority company include new brand premise strategy talent acquisition sponsorship global group employee affinity support armed force community include veteran reservist family friend serve personnel balance gender inclusion network focusse key pillar support challenge grow ally network focusse provide inclusive welcoming safe space colleague look involve learn engage community network aim raise awareness break stigma mental health specific network capability focusse mental health physical wellbeing mental disabilitycase study network personal vector ceo sponsor network active recognise skill capability colleague support armed force global employee network focusse promote inclusion business represent vital colleague engagement long stand commitment diversity inclusion commend chair ethic committee year illustrate commitment diversity inclusion involvement senior leader drive wide change focusse support career provide opportunity develop build network big impact company local community employee network passionate embrace ethnicity multiculturalism engagement study virtual imagination session example engagement design office colleague join virtual imagination session collate idea future blend work abrdn design process influence engagement incorporate feedback session physical space include wellness centre expand cycling facility flexible collaboration space colleague share invaluable feedback experience return office lay foundation work today colleague voice represent design way work work physical environment work network influence corporate decision making designate annual engagement plan meeting hold chair employee network basis global session host ceo executive leadership team meeting feedback present colleague engagement activity action identify own senior leader charitable give give time people different demographic isolate disconnect society want connect people opportunity community natural world combination powerful partnership colleague engagement focusse support project achieve measurable social environmental impact support people volunteer local community engage charitable partner organisation close heart colleague entitle pay volunteering day number incentive provide match funding external fundraising payroll charitable give give giving create connection connect people community natural world progress approach volunteer global impact provide colleague pay day volunteeringtotal charitable volunteer fund project contribute social charitable give progress charity support fund biodiversity improvement local greenspace announce new powerful partnership charitable give progress charitable give approach give strategy abrdn direct funding charity globe director provide oversight guidance charitable giving activity aim create fair impactful charity partnership align strategy engage colleague use skill benefit society focus strategy theme omorrow generation distil main category people giving strategy make significant social environmental impact local community globe recognise charitable giving key overall sustainability strategy method external impact role active investor ambition increase impact powerful partnership colleague engagement core thinking charitable give approach omorrow generation powerful partnership commitment significant funding partner support help transformative impact enable technology innovation people help people overcome barrier gain access opportunity align education employment financial protect nature address climate change colleague meaningful connection partnersengage colleague skill base volunteeringenhance colleague fundraise company matching initiative charitable give people announce new powerful partnership mission bridge digital divide improve connectivity inclusion disconnected community partnership align attribute brand tangible example invest bold brave charity invest people inaccessible child global population access internet partner community build solar powered internet kiosk fit screen load lead educational software child learn access digital educational resource improve future connect provide free password hotspot device course year partnership fund build new abrdn provide access internet education child adult ethos community focusse build community community mean ongoing ownership maintenance drive community partnership triple number people able access scale build planning team create job opportunity people schedule abrdn build community build continue course launch hub mentor programme colleague opportunity hand impact way virtual initiative connect people share skill idea cso member community support daily running local hub hub build year expand programme enable colleague develop meaningful connection local community partner bridge digital divide improve connectivity disconnected community education opportunitie new abrdn support education opportunity people disconnected community create new abrdn provide access digital educational resource charitable give people partner community build solar powered internet kiosk fit screen load lead educational software local greenspace ongoing community greenspace project aim local environment crucial individual wellbeing pandemic provide funding volunteer greenspace group help carry biodiversity project engage local community space range cemetery small orchard funding direct live willow play structure pond live roof wildflower meadow home bee bat bird colleague volunteer site carry practical task provide skill base support help group build social medium presence colleague enable pay volunteering day see people volunteer greenspace hour charitable give funding volunteering abrdn create ripple effect park increase community awareness support improve space lead additional funding volunteering hour charitable give support biodiversity local community tree plant seeding fruit tree pollinator pond living roof living willow structure evolve change bring pandemic pandemic provide great motivation colleague engage volunteering local community support localise restriction engage charity partner find opportunity people impact welcome colleague share detail passionate outside office involve online hub supply detail late volunteering opportunity available colleague company policy match fundraising payroll giving pay volunteering leave want encourage people local community volunteering leave policy extend time spend usual working hour embrace blended way work office opportunity colleague engage virtual involve sharing skill mentor champion business see team take hire employment event ongoing mentoring programme world people spend hour volunteering match fundraising empower colleague engage organisation heart joint fundraising equal different charitable cause charitable give olunteere people impact charitable give olunteering spend time social welfare emergency relief biodiversity wellbee education hour volunteer total joint fundraising different charitable cause support match fundraising charitable give global impact global impact giving strategy global target global impact support individual charity translate beneficiary globe continue employability partnership rust support creased financial literacy aboriginal young people help develop echno logy encourage colleague engage charitable giving region direct volunteering influence giving direct partnership make real difference example work hire programme support ung people develop employability skill help aro und gain employment vision continue build connect ion grow number powerful partnership globe funding distribution charitable give global impact material sustainabilty issue progress target operation investment sustainability investment give rating accreditation sustainability commitment material sustainability issue datum approach materiality understand prioritise sustainability issue important stakeholder business undertake recent materiality review output help shape strategy approach tailor reporting highlight area interest stakeholder produce materiality update pandemic continue inform expectation outcome play significant thinking move link material sustainability issue priority change review conduct priority moderatebiodiversityfinancial datum security arget pledge ear issue goal progress net operation climate change sdg reduce operational scope interim target reduction operation climate change sdg reduce operational scope supplier represent procurement spend set netzero change sdg continue engage supplier offset emission align offset change sdg carbon neutral reduce total kwh use climate change reduction reduce carbon footprint time climate change sdg reduction renewable electricity office operate climate change electricity procure green tariff avoid use single use plastic office consumption sdg large single use plastic waste remove site manage waste contract send waste landfill consumption sdg place main waste contract reduce carbon intensity asset invest baseline climate change sdg new target increase manage line net change sdg committed manage line net achieve net emission global manage investment real estate climate change sdg progress detail annual update report manage investment procurement responsibility use renewable electricityongoe climate change sdg achieve manage investment estate aim improve biodiversityongoe biodiversity sdg implement improvement range wildflower area pond progress target arget pledge ear issue sdg linkage progress female male gender senior leadership diversity inclusion human capital developmentsdg female male female male senior leadership woman company inclusion female company additional member identify ethnic minority diversity inclusion human capital developmentsdg identifie ethnic minority continue drive gender ethnicity social inclusion action plan ongoing inclusion human capital developmentsdg rank gender equality index rank indexsdg support fair pay landscape inequality inclusionsdg shortlist living wage trailblazer award support new application progress target cover employee record investment relate investigation consumer initiate complaint private civil litigation regulatory proceeding cover employee record investment relate investigation consumer initiate complaint private civil litigation regulatory proceeding corruption breach number bribery corruption breach legal loss relate marketing communication otal loss result legal proceeding associate marketing communication financial product relate information new return client legal loss relate financial behaviour otal monetary loss result legal proceeding associate fraud insider trading anti trust anti competitive behaviour market manipulation malpractice related financial industry law regulation call notification result investigation completion training include attestation compliance code percentage employee agree comply code conduct global tax contribution esg specific engagement otal meeting discuss corporate governance right stakeholder climate corporate behaviour management oting otal resolution shareholder meeting client share vote meeting vote abstention number resolution vote resolution vote management recommendation resolution vote management abstention oting environment social resolution number resolution vote resolution support resolution vote percentage abstention climate relate resolution vote climate relate resolution support inclusion resolution vote inclusion resolution support supportive majority resolution case drafting preclude vote favour make request inappropriate impractical company implement example resolution concern diversity inclusion account limit impose local law collection use datum relate protect characteristic tonne emission natural gas fluorinate gas fleet diesel location base tonne emission purchase electricity market base tonne emission purchase electricity location base tonne indirect emission business air travel electricity transmission distribution loss electricity consumption party datum centre market base tonne indirect emission business air travel electricity transmission distribution loss electricity consumption party datum centre business flight pkm travel business flight travel provider rail pkm travel business rail journey travel provider pkm travel car business claim expense otal business pkm travel business rail journey travel provider otal emission location base tonne otal emission continue business otal emission scope total income tonne global combine emission reporting year metric tonne unit currency total revenue otal emission aumm tonne location base reporting year otal energy consumption mwh otal energy consumption electricity natural gas stationary diesel consumption mwh otal energy consumption electricity natural gas stationary diesel electricity mwh otal electricity consumption natural gas mwh otal natural gas consumption mwh otal mwh consume district heating stationary diesel mwh otal mwh consume stationary diesel renewable tariff mwh otal kwh green renewable tariff procure electricity green tariff otal kwh green renewable tariff procure energy tonne otal waste consume large office investment note total calculate add emission company portfolio divide revenue multiply portfolio weight datum strategy emission datum year lag carbon footprinting report reflect corporate emission intensity relate japanese equity portfolio reflect calculation restructuring note consider emission company sector material datum gap inconsistency incorporate portfolio level reporting total active total exclude interpret change time important understand driver carbon intensity number increase fall revenue absolute emission decline regional average change fund closure new fund launch increase exposure carbon intensive company believe credible transition leader lead short term increase expect reduce time example note year previous report increase european equity capture shift utilit company credible climate strategy year reporting see significant reduction fund strategy include thematic screening sustainability investment multi asset otal find sustainable manager female representation arget arget arget ethnic representation regional datum arget disability colleague disclose non heterosexual colleague disclosure rate colleague disclosure rate state accurate end datum encompass active staff exclude contractor ned ethnicity sexuality disability note metric include staff member base location able collect diversity datum accurate end datum encompass active staff exclude contractor ned representation strategy fix investment asset ethnic attend non come diversity partnership representation representation representation ethnic representation come diversity partnership representation ethnic representation attend state school come diversity partnership state accurate end datum encompass active staff exclude contractor ned ethnicity sexuality disability note metric include staff member base location able collect diversity datum provide investment decision making role determine job family product product specialist early career datum relevant state datum datum female representation ethnicity asian black mixed ethnicity white ethnicity disclose ethnic representation regional datum female representation ethnicity asian black mixed ethnicity hispanic latino ethnicity disclose ethnic representation datum female representation employee otal global number employee personnel region datum year old percentage employee age year old percentage employee age year old year old percentage employee age year old ceo median worker pay median worker pay percentile total remuneration employee woman executive woman employ company team woman management position revenue generate woman management position follow area company investment adviser vector management percentage manager woman base voluntary disclosure rate woman upper pay quartile percentage woman upper pay quartile second pay quartile percentage woman second pay quartile pay quartile percentage woman pay quartile woman low pay quartile percentage woman low pay quartile median gender pay gap median gender pay gap company domestic operation employee pension scheme percentage employee company pension scheme datum cover employee share ownership percentage employee payroll contribute employee share option representation number employee belong staff association staff representative union percentage total number employee employee turnover number employee leave company past year percentage total number employee turnover number employee leave company past year percentage total number employee involuntary turnover number employee leave company past year percentage total number employee time role time workforce female time time percentage employee time employee number contractor percentage total number development employee cover performance appraisal employee cover performance appraisal training spend external spend employee training include support degree qualification job specific training programme employee training hour hour average number hour employee participate training employee receive training average number hour employee participate training training hour female hour average number hour training provide female employee basis safety rate average number sick day percentage total day schedule rate data coverage employee measure absentee rate accident employee number accident company result harm employee fatality number contractor employee giving spend otal contribution include cash time kind give otal volunteer time hour otal number hour employee log volunteer time otal charity support otal number charitable organisation accreditation supplier real assessment low risk include gresb real assessment measure fund esg performance award green star reach absolute level performance report figure percentage fund achieve green commitment support black candidate industry offer summer internship cohort summer launch encourage business aim woman board participate crack research involve mentor scheme year sign investor code conduct representation vision investor lead initiative achieve gender balance executive leadership company committed advance goal operation engagement investor member group engage contemporary corporate governance issue lead presentation member parliamentarian covenant commit support recognise value serve regular military family contribute business country membership non profit organisation enable connect corporate governance matter involve letter ceo signatory open letter encourage progress minority ethnic representation series specific committed action include target measurement listen black professional networking professional development black professional work colleague involve set organisation global benchmark gender equality create drive transparency provide investor standardised information company advance woman workplace include year row member collaborative working group support initiative sign annual engagement letter encourage improvement animal welfare practice corporate behaviour signatory participate annual disclosure corporate entity collaborative initiative asset owner manager engage high carbon emitter influence increase disclosure encourage positive behaviour relation climate risk management help create voluntary carbon market pioneer carbon finance community development project work offset operational greenhouse gas emission member coalition aim ensure physical climate risk integrate investment decision corporate join corporate action coalition aim establish measurable commitment address racial justice social change publish datum encourage found member forum active meet engage emerge corporate governance topic member lead representative body institutional investor involve work investor coalition inception setup chapter firm work deliver programme help undergraduate advantaged background pursue career investment saving industry member enable institutional emerge market investor support good governance promote sustainable development improve investment performance government company invest work gender equality rank research rank public company name good company pay parental leave support lead academic research corporate governance issue sponsor annual corporate finance prize member association involve risk initiative help drive change animal agriculture sector work investor produce analyse datum world large protein producer manufacturer help minimise risk maximise profit member involve collaborative engagement company involve animal derive food production singaporewe corporate member involve mentor programme provide speaker participate event multi stakeholder working group comprise investor policy maker company academia seek way allocate capital fair climate transition signatory support transition low carbon economy support impact worker find lead project aim use leverage investor improve efficacy corporate action identify provide remedy victim modern slavery supply chain engagement activity focus company operate gateway leadership provide training career opportunity promote ethnic minority student colleague represent business speaker event girl aim inform young woman financial service industry build professional network provide summer internship opportunity member oversee organise coordinate series programme promote finance positive change support path programme found member bring global governance representative major global investor consider emerge governance issue development government signatory annual statement call government action strengthen climate relate policy commitment gresb enable report performance benchmark fund asset member member coalition investor asset owner company aim address workforce labour issue champion fair work practice rank review gender representation team signatory pledge increase gender balance senior management population industry ask participant support effort drive reduction annual greenhouse gas emission tonne current projection end decade pledge new action year goal member iigcc involve number work group include contribute chair sub group member representative body asset owner manager represent committee member lead association represent regulated fund ici seek encourage adherence high ethical standard advance interest fund shareholder director adviser provide employment opportunity young people number year coalition employer support hire young jobseeker industry programme member collective action platform include investor aim investor responsibility respect human right practice coalition support frameworkwe signatory investor statement support report objective encourage company report line collaborative forum member major investor engage investor roundtable emergent governance issue labour human right practice company member asset manager owner proactive approach manage climate change risk opportunity engage work group help develop good practice approach affiliate investment lead initiative form develop framework corporate governance standard institutional investor apacmodelle find prevent initiative aim use leverage investor improve efficacy corporate action identify provide remedy victim modern slavery supply chain engagement activity focus company operate region oung people accreditation recognise organisation employer choice attract retain develop young people company recognise accreditation dedicate create pathway positive outcome young people develop talent commitment signatory statement support transition low carbon economy run objective incorporate transition research engagement living hour accreditation living employer mean pay employee supplier work premise live wage provide guarantee hour leadership group order continue influence good practice tackle issue insecure work member initiative enable asset manager client work collaboration achieve net pledge support goal partner eco tech business monitor emission home work empower people understand carbon footprint member coalition national sub national government business organisation work advance transition unabated coal power generation clean energy member forum demonstrate support development good practice guidance relate climate change contribute work group case study review upcoming guidance documentation signatory support network investor work promote sustainable investment incorporation environmental social governance consideration work proud found signatory race demonstrate commitment attract ethnic minority talent remove barrier order retain develop diverse group talented people member association champion responsible investing sustainable finance allow contribute think leadership emergent industry development region seo programme aim support ethnic minority woman university student graduate role mentor skill development support range collaborative engagement voting policy research activity sign engagement issue sponsor investor oolkit publication membership group signal support good stewardship corporate governance ultimate objective enable company secure performance long term organisation sign pledge commit social mobility heart purpose pledge undertake action key area outreach create recruitment strategy attract people range background create access commitment askforce support tcfd framework global standard climate disclosure produce annual disclosure line recommendation pillar arget askforce relate join observer group aim help financial institution shift finance destructive activity nature base solution encourage organisation support military community inspire organisation committed support veteran reservist family quality employment force friendly policy wide community charity partnership european sustainable member european industry body engage attendance event consultation sponsorship conference early adopter objective improve ongoing engagement housing association enable transparent disclosure supporter asset owner lead initiative sponsor research enable lead insight relate company readiness transition low carbon economy sustainable member industry body involve engage attendance event consultation sponsorship conference signatory encourage business rim adopt sustainable responsible policy report implementation partnership global financial sector mobilize private sector finance sustainable development sign encourage strong climate action statement ensure social implication climate change consider design generate decision useful datum investor wide range workforce issue cover company direct operation supply chain investor signatory participant annual corporate disclosure change ratio employer progress minority ethnic representation level commitment include specific action black inclusion oung organisation announce support aim young people aged opportunity work study train economic impact support second colleague help secure employer commitment',\n",
       "  'sustainability sustainable tomorrow letter strategic sustainability goal sustainability link drive environmental solidify social solidify supplier diversity governance solidify client support client support support support client gement position intersection capit market technology allow approach environmental social governance issue unique vantage point provide important role support success global economy act key market constituent asset owner corporate navigate complexity volve landscape corporate sustainability strategy sign solidify business resilience commit advance meaningful sustainability effort rever negative effect climate change environmental footprint deliver market innovation support net future commit deepen culture diversity equity inclusion solidify position destinatio world lead talent continue lea good practice governance policy effort produce tangible result achieve carbon neutrality fifth year net emission target approve ence base initiative recognize party validator sustainability effort inclusive workplace policy expand community impact globe establish thoughtful partnership aim diversi fye entrepreneurship create accessible pathway wealth capital market create eff ort reflect renew corporate purpose advance economic progress new organizational structure implement end strengthen ability create great impact new divisional structure align business foundational shift shape global financial system decade incl ude modernization market development comp lex ecosystem face corporate investor increase need financial system adv ance anti financial crime technology invest market infrastructure innovation ensure capital market resilient ntinue power opportunity world empower client navigate capital market sustainability journey additionall drive global fight comprehensive suite solution design help stay seek abuse financial system gain page follow tell complete story abo achievement inspire come successful sustainability initiat ive uphold long term groundwork lay recent year help confident continue build momentum let past achievement fuel future success deliver great impact client community world core global technology company serve capital market industry diverse offering datum analytic software service enable client optimize execute business vision confidence announce implement new organizational structure align business foundational shift drive evolution global financial system order amplify strategy align company evolve client need result identify new reporting segment align new divisional structure align business segment secular trend include development ecosystem aim deliver client increase growth key pillar liquidity transparency integrity financial maintain comprehensive modernizing market underlying infrastructure amplify liquiditydevelopment enhance transparency connect corporate investorscore advance economic progress long trust fabric global financial systemvalue deliver world lead platform improve liquidity transparency integrity global economy align define revenue transaction base expense core gement increase employee employee growth business operate country world significant operation define employee location location comprise total employee population operate country world gement company landmark beginning electronic exchange migrate exchange cloud year continue reima gine technology serve global market continue success rely commitment inclusive growth drive innovation empower employee order rewrite future rew rite way work confident new corporat structure energized lie head foundational corpo rate value encourage employee live breathe day conduct internal hackathon ideathon crowdsourcing event foster growth innovative idea organization culture innovation technology leadership align support progress stakehol der scale drive compelling value clie create broad positive externality announce multi year partnership accelerate cloud journey evolve innovative technology modern cloud native blueprint standardize infrastructure world market page information market migration time recognize contributio technology business regulatory partner hat help possible proud effort earn recognition company commit shift sustainable inclusive capital arket serve foundational corporate value encourage employee live day recognize fast gement certification employee training issue behalf addressable spend own supplier director add member add hearing executive team participate train growth number sustainable debt instrument list sustainable proud continue commitment objective initiative earn recognition lead organization esg relate recognitio include consecutive year nominate advance company base reporting analytic base initiative verify publish science base target achieve net gement carbon point increase represent minority representation managerial level achieve carbon neutrality time establish found partner initiative join publish inaugural sustainability launch sign data management reporting audit trail disclosure software launch questionnaire produce inaugural reportacquire majority stake launch program approve establish publish inaugural establish mandatory diversity training manager launch questionnaire signatory report timenear long term science base target approve saas base analytic report platform implement map alignment corporate objective name launch gement score improve multiple rating agency reflect continue commitm ent advance good practice provide takeholder timely transparent reporti low risk low risk low indicate high level environmental disclosure indicate high level social disclosure indicate strong overnance framework low governance scoring range category indicate corporate governance practice igne shareholder interest percentile include seventh consecutive base comprehensiveness awareness management environmental risk demonstration environman tal leadership recognize leadersh corporate transparency performance climate changeab percentile award note rating use affiliate datum logo trademark service mark index name constitute sponsorship endo rsement recommendation promotion service datum property information provid provide warranty name logo trademark service mark gement commit oversee integ ration principle practice ente rprise percent nominee exper ience environmental social matter include man capital management strengthen review oversight sustainability initiative formal responsibilit oversight policy program receive regular reporting key relate matter internal corporate executive leader comprise geographic ally diverse representative multiple business unit corporate serve cent ral coordinate body strategy regular report strategy corporate whic report responsible execution sustainability communicate performance metric ambition annual relate index filing survey collabo rating stakeholder organization ensure timely accurate datum gathering process comprise independen corporate comprise leader corporate strategy report unit expert compliance gement nominee experience environmental social matter report continue commitment advance sustainability disclosure enhance annualize reporting commitment reflecte score upgrade leading rating agency transparent disclosure cornerstone strategy datum include report note datum gathering process require stakeholder engagement validation organization datum base estimation assumption additional disclosure ovided conclusion reach environmental social datum disclose report verify limited level assurance detail report framework standard addition publ ish publish report effort conduct climate scenario analysis evaluate climate relate risk opportunity imp act business time analysis help assess resiliency climate relate risk prioritize itigation strategy enhance identify transition ortunitie join relate support development new disclosure framework foc biodiversity relate risk opportun itie representation participation sele group relate organization support goal consistent transparent reporting leader hip association membership represent range val align value deem essential key membership right report index core sdg gement lead report framework rating agency consider industry identify high priority esg topicsgather feedback internal survey internal external stakeholder determine relative importance reaffirm high priority topic pose great risk opportunity materiality similar term refer topic find relevant business base recent materiality assessment reference materiality diff erent separate materiality und erstood context security law context finan cial statement financial reporting topic issue describe material report consider material reporting purpose committed advance long term strategy advocacy oversight engage internal external stakeholder leve matter ongoing basis deepen corporate community effort further commitment great sustainability climate change awareness addi tion provide frequent robust reporting effo work identify emerge trend encourage employee participate initiative engage client stakeho lder pursue esg relate opportunity support progress corporate issuer conduct materiality identify prioritize topic influential business important stakeholder facilitate team commence organization wide assessment priority esg topic sustainability strategy approach governa nce report assessment weigh relevance wide universe topic identify impactful lead report fram ework rating assessment benchmarke exercise interview internal external stakehold relate topic identify assessment relevant business assessment deter mine topic high priority ted topic financial core gement financial support sized enterprise gement signatory supporter initiative view accountability stakeholder mark good governance critical component operational success seek manage business goal deliver sustainable long term value wide array stakeholder include shareholder year engage diverse set stakeholder variety topic engage interest relate workshop meeting survey educational resource tool product advisory service investable indexesesg index asset manager invest policy client strategy board management oversight olicy program development disclosure guidance governmental outreach employee volunteer give resource woman represent minority entrepreneur diverse investor intranet meeting town hall survey network focus group training development program review whistleblower internal newsletterspeople culture include alignment cultur corporate strategy effort shape corporate ulture succession planning talent development diversity equity inclusion initiative future work corporate executive leader member discussion decision making relate topic include human capital management key environmental policy program strategy trategy report public policy debate active education engagement elect leade associationsnasdaq advocacy focus policy affect capital market investable index webinar meeting event datum analytic index asset manager invest policy strategy investing trend risk portfolio impact asset owner call meeting presentation investor roadshow conference investment stewardship team investor perception studyinvestor priority policy program devel opment disclosure people culture gement dvance solidify solidify business resilience drive sustainable growth manage reduce long term risk advance practice entire organization reduce environmental impact address climate risk reduce environmental footprint create workplace culture belong inclusion attract training retain diverse workforce maintain robust corporate governance policy practicessupport support client provide relevant insight innovative technology design help navigate evolve ecosystem minimize complexity friction client navigate ecosystem marketplace technology solution report tool data analytic capabilitiesenable enable positive outcome economic societal impact inherent solution service wide business operation financial complex market societal challenge comprehensive suite solution aim combat financial crime market provide exchange emerge marketplace critical ecosystem participant capital market institutional grade technology impact community purpose lead initiative drive economic progress approach focus manage busine relate risk opportunity corresponding impact organization acr oss operation focus impact world relate product service support client ective wide economic societal impact part business oper ation gement organizational perspective approach focus solidify business resilience drive sustainable growth minimize environmental footprint focus market lead innovation net future solidify position destination talent include deepen culture diversity equity inclusion build organization provide people tool platform maximize impact world continue lead advance governance good practice relate organization support stakeholder ecosystem advance governance practice support position intersection market technology provide unique perspective ecosystem evolve offer compelling opportunity support client navigate sustainability journey suite relate solution design minimize complexity reduce friction esg focus capability suite encompass wide range marketplace technology datum analytic product solution client leverage develop execute advance strategy platform drive comprehensive program support overarch corporate purpose advance economic progress strategy work focus reimagine investor engagement diversify entrepreneurship foster financial education inclusion position intersection market technology provide unique perspective ecosystem gement financial financial crime complex global challenge link economic societal challenge range poor investor education limit banking option terrorism financing human traf ficking estimate percent global launder criminal year acquisition leverage innovative technology capability support financial institution wide financial ecosystem detect financial crime increase effectiveness root inancial crime business drive positive economic societal benefit associate uncovering mitigate crimi nal activity financial crime support finance provide solution marketplace regulator financial institution expand ability financial institution detect fin ancial crime launch new capability crypto digi tal asset provide group direct training regul ator financial institution emerge behavior fraud market abuse crypto product conduit financial inclusivity great opportunity addition own ope rating exchange division provide exchange emerge marketplace critical ecosystem participant capital market digital asset institutional grade technology base market expertise road test technology mod ernize market drive sustainable trust inancial network attract high quality internat ional liquidity fuel job growth advance economic progress marketplace technology deploy ore emerge economy majority stake ownership world carbon credit platform ineere carbon removal bring supplier net negative tec hnologie company residual emission gne effort accelerate carbon market maturity partner base provide trading technology help unlock price transparen liquidity voluntary carbon market empower ing buyer acquire high quality carbon credit specific requirement initiate partnership increase access quality technology base carbon removal credit support development dynamic carbon portfolio address grow demand voluntary carbon aim modernize infrastructure demand tomorrow market announce multi year partnership rvice migrate north american exchange cloud market migration performance boost high standard esiliency security capacity migration offer client migration blueprint enable combine public cloud edge computing modernize operation prove agility adjust industry dynamic count rie region demonstrate support upg rade operation cloud saas base financial solution financial institution marketplace technology deploy emerge economy sdg gement sustainable goal public commitment sustainable development responsible business practice begin conference found signatory peer peer learn platform explore exchange collaboration investor regulator company enhance corporate transparency performance issue encourage sustainable investment proud participant non binding pact encourage business adopt sustainable responsible practice report progress advance achievement goal sdg sdg global goal target adopt aim achieve well sustainable future help guide sustainability strategy connect effort ambitious global agenda conduct assessment identify sdg believe likely great impact leverage sdg mapping disclosure guidance assess alignment sdg relation high priority topic identify corporate objective activity product service industry identify prioritize sdg likely direct impact report progress corporate commercial objective support sdg committed manage busine operation advance stainable sdg identify llowe goal likely rect impact give nature business achieve gender equality empower woman achieve great balance gender workforce increase percentage woman workforce launch program design develop female talent address systemic barrier face represent community effort generate sustain wealth portfolio pro gram focus tackle overlooked barrier eople color woman color participate capital market provide wide range support indigenous founde entrepreneur strong focus woman support list company implementat ion outreach education establish relationship orga nization support list company hoose meet recommend board diversity objective search qualified diverse board ready andidate gement sustain inclusive sustainable economic growth productive employment decent work sized lead shift sustainable inclus capital market platform company list growth medium sized enter prise inclusive fee structure maintain large percentage small cap exchange host ipo focus event person virtual objective improve inclusion access knowledge entre preneurship provide hour education entrepreneur support small business emergi economy resilient infrastructure promote inclusive sustainable industrialization foster sized market drive sustainable trust financial network attract international quidity fuel job growth advance economic progress sdg target platform infrastructure meet demand omorrow market carbon market maturity reduce inequality country achieve great balance gender race nderrepresente group workforce composition level increase percentage underrepresented group workforce graduate second cohort rogram partner choice diverse supplier achieve goal increase percent dressable diverse own supplier sustainability link amendment credit acility reinforce commitment supplier diversi support improve inclusion access knowledge entrepr eneurship serve entrepreneur minority ounder female founder support diversity inclusion transparency institutional asset management landscape launch question naire give asset manager opportunity provide narrative commentary firm initiative permit reporting statistic portfolio team financial build safe ecosystem protect investor ommunitie institution nefarious activity help fuel system create equitable opportunity broad set inv estor financial improve monitoring global financial market institution provide advanced soluti fraud market abuse detection prevention drive education regulation monitor good practice financial institution investor refer spending discretion select provider good service benef source event include avoidance doubt money spend money spend supplier relation contract work authori zation gement sustainable consumption production patte support client manage climate risk stakeholder engagement transparent reporting disclosure platform corporate package approve provide public company market complimentary stainability reporting support launch urgent action combat climate change support carbon neutrality carbon net program science base target review approve sbti implement encourage supplier reduce emission disclosure set science base target engage engaged supplier disclose environme ntal datum resu lting recognition inclusion sustainability link amendment cred facility reinforce commitment supplier science base target accelerate maturity carbon sustainability relate initiative platform world carbon credit platform ngineere carbon removal aim enable visibility transparency inv estor voluntary designation connect issuer environmental social sustainable bond investor market highlight sustainable investment opportunity investor green social sustainable investment agenda lead shift sustainable inclusive capital market platform integrate criterion index methodology index design design criterion overlay broad investment thesis offer investor stakeholder easy acce wide range unique comprehensive datum set strengthen mean implementation revitali participate represent key association partnership continue effort advance sustainability strateg consistent transparent reporting purpose base initiative ent nitiative dvisory ity gement link complete sustainability link amendment revolve credit facility sustainability link credit facility amendment tie certain fee credit facility performance esg relate key performance indicator environmental social borrowing cost increase decrease depend achievement environmental reinforce commitment sdg encourage supplier set science base target help address global existential issue climate change commitment address sdg reinforce social focus increase percentage spend own supplier empower people background support community represent kpi percent own supplier spend cover purchase good service capital good certify own business increase addressable spend diverse own supplier percentage point year baseline percent base description supplier spend cover purchase good service capital good set commit set science base target supplier spend cover purchase good service capital good set commit set science base target gement solidify drive sustainable growth solidify committed advance progress net future achieve carbon neutrality fifth year row net emission target verify approve initiative set roadmap nea long term emission reduction strategy corporate sustainability strategy drive minimize climate impact exposure organizational climate risk remain focused look business identify way bring measurable change climate impact look reaffirm commitment minimize environmental footprint solidify business long term climate risk office achieve green certification complete implementation recognize international global energy consumption procure pre negotiate renewable power contractsthe sbti verify publish science base target achieve net achieve climate recognize supplier engagement leadership supplier set committed set science base target end climate strategy endeavor reduce greenhouse gas emission mitigate corporate climate biodiversity risk exposure promote awareness supply chain strategy drive separate link environmental program neutrality program calculate annual carbon footprint procure renewable power investing high quality carbon offset achieve carbon neutrality fifth consecutive year net program drive initiative design optimize reduce emission entire business operation supply chain aim achieve short term long term net science base target verify approve initiative execute program focus solidify climate metric target reduce neutralize emission align corporate strategy support reach net target prioritizing natural resource management engage supply chainsolidifye target reduction energy consumption energy demand correspond emission business operation supply chain high priority emission relate energy consumption global organization area control impact change operation strategy policy fifth consecutive year calculate emission line comprehensive review applicable upstream downstream emission perform address continue navigate manage evolve climate disclosure requirement standard continue improve quality datum reliant assumption key priority carbon neutrality net program reduce energy consumption correspond emission waste generation global operation thoughtful sustainable initiative strategy engage value chain report relevant material emission set science base target procure renewable energy office space datum center portfolio purchase project year old feed power energy distribution network operation replace fossil fuel electricity power consume mitigate release atmosphere purchase high quality nature base project focus carbon removal biodiversity neutralize associate emission relate category mitigate release atmosphere achieve carbon neutrality continuous effort drive emission contribute sustainable world execute initiative follow page base target long term science base emission reduction target approve sbti addition sbti verify publish net science base target validate science base target focus net program implement multiple program drive emission work achieve ambitious target program work parallel carbon neutrality program reduce overall emission aim neutralize remain emission work net company strategy market base emission scope supplier spend set science base target absolute emissionsreduction absolute emission reduction absolute emissionsmaintain minimum absolute emission reductionrenewable electricity continue procure renewable electricity lier set commit set science target core emission recalculate add category order align approve base year accord locatio base method quantifie emission average energy generation emission factor define location include local sub national national boundary scope location base emission recalculate prior report emission recalculate location base emission implement new upd ate emission methodology location specific emission factor location ther average emission factor emission recalculate add category order align approve base accord market ase method quantifie emission base emission emit generator reporter electricity bundle instrument unbundled instrument chart right summarize global datum office space datum center onsite combust ion upstream good service capital good fuel energy relate activity waste generation compost diversion business travel employee commuting tream downstream lease asset investment report period chart right reflect breakd category emissio follow methodology enhancement report improve transparency datum scope move corporate card gasoline purchase scope include steam district heating result increase market base emission include acquisitional operational datum acquire acquire base base purchase capital activity generate business employee commute lease asset asset investment total total percentage total core total market base emission energy renewable source conduct annual review energy consumption emission evaluate energy reduction sustainability initiative track internal goal new science base target procure renewable electricity office space datum center portfolio source renewable electricity major focus integral feature site selection process new office data center location lease negotiation electricit contract pre negotiate renewable energy contract account annual global consumption virtual power purchasing agreement account total consumption remain electricity acquire pre negotiate renewable energy contract purchase rec meet quality requirement include have correspond requisite attestation verification provide new renewable energy grid consume office year old high priority give project operation year stimulate demand new renewable energy project local power grid result reduce market base emission exclude steam district heating annual basis total energy consumption decrease optimize leasing strategy improve data quality procure renewable electricity office space datum center portfolio note scope scope category lease emission datum restate mov indirect natural gas diesel relate emissi align good practice gross emission datum ope rator renewable energy supply factor apply net emission datum center operator newable energy supply factor purc hase apply scope location base emission recalcu late prior report emission recalculate location base emi ssion implement new update emission methodology location specific emission factor location ther average emission factor emission recalculate add category category order align approve base year scope pre purchase chart reflect summary neutralize emission location base emission mitigationsnet mwh chart total operational spending recent reporting year energy sell reporting period source factor calculator energy conversion possible actual energy consump tion include calculation proportional share termine occupy square footage energy datum estimate base office location amenity square footage headcount energy consumption datum collect follow method list priority year actual datum space consumption year actual datum entire building space locate proportionate consumption calculate occupy square footage building datum unavailable estimate calculat assumption office location amenity space square footage headcount purchase negotiate contract reduce follow table show energy intensity absolute energy consumption time employee energy consumption mwh number time energy intensity time include fuel electricity heating cooling headcount energy intensity calculate ratio absolute energy consumption number time employee increase employee energ intensity decline reduction energy consumption focus reduce emission reach science base target strive ensure eutralize residual emission transition net carbon neutrality program plan establish long term strategy estimate residual emission build portfolio high quality engin eere carbon dioxide removal project prove permanence certify endorse standard offset remain emission ward achieve science base net target utilize combin ation high quality nature base carbon offset project preserve enhance carbon storage strengthen biodiver ity global forest network verify endorse andard purchase carbon offset neutralize residual emission project mmarize project use biomass residue sequester carbon dioxide biochar use soil amendment crop run charcoal operation emission control northeast region addition biochar help improve soil water retention soil project support social development program local farmer restoration project aim tackle climate change restor protect ecosystem enhance biodiver ity offer local people sustainable source come addition peatland preservation project aim reforest program community lead agroforestry fire break implementation intensi reforestation team grow sapling nursery conduct regular maintenance rate tree survival project aim recover degraded grassland afforestation activity project plan promote connectivity stem improve soil quality enhance biodiversity reduce freshwater withdrawal project generate benefit local population provide emplo opportunity education reserveperuthe project aim conserve high biomass density opical forest deforestation sector locate region projec locate key biodiversity area area high ecological sociocultural significance reduce align strategy support reach reduce emission meet ambitious long term science base target require initiative reach business operation review corporate strategy effort align exist process policy support environmental ambition commit prioritize environmental effort ensure sustainability consider major operation help drive progress sustainable future implement govern portfolio major contributor carbon footprint follow structure inform recognize lead international standard purpose provide framework assist achieve environmental goal consistent review evaluation improvement environmental performance key process cover include environmental requirement site selection new office datum center include access renewable energy access mass transit location green energy certification green leasing clause global standard design performance operational maintenance procedure policy sustainable procurement energy efficiency standard supplier sustainability strategy commit wellbeing employee community operate design office space office space global office space square foot office location certify office percentage point increase aim key office green certify sustainable efficiency overall sustainability real estate portfolio continue key focus continue sustainable leasing strategy assess factor easy access mass transit guarantee certifiable renewable energy supply thoughtful rightsizing portfolio travel significant contributor emission business operation return pre pandemic level experience increase business travel approach level similar continue engage travel partner explore strategy opportunity reduce business travel emission category business travel include emission plane train hire vehicle taxi car service hotel stay strategy encourage employee return office result increase employee commute emission continue mitigate emission hybrid work program sustainable leasing strategy lease space public transport provide employee benefit design encourage use public transport continue improve mature carbon footprint datum source process carbon footprint analysis innovative technology seek well understanding emission correspond datum source effort reduce reliance assumption continue evolve stay date late resource good practice have entire scope emission verify limited assurance reduction recycling compost diversion key priority operation management facility office space lifecycle build process focus reduce waste reuse product sustainable procurement product require maintain facility employee process include green leasing term landlord waste management office construction renovation product procurement maintenance cleaning office decommissioning implement program reduce waste improve data accuracy landfill diversion rate include continue achieve green certification office space include implement policy sustainable product procurement reuse product recycle implement ensure focus sustainable operational purchasing strategy construction office decommissioning conduct waste audits key office gain great detail waste generate divert landfill page datum waste consumption bring employee passionate environment publish regular knowledge base resource work drive sustainable initiative local office community aim instill culture environmental advocacy action educational session focus sustainable practice informative webinar community outreach support commitment create positive change company neighboring community drive achieve long term net goal bring employee passionate environment publish regular knowledge base resource work drive sustainable initiative local office community commit supplier spend cover purchase good service capital good set science base target company take action measure reduce climate risk supply engage supply chain main contributor carbon footprint account total emission evaluate engage key supplier entire value chain key reach net target emission supplier decrease percent improve data quality process mature acquire company transition system expect rely assumption encourage supplier adopt sustainability environmental practice line publish ask new supplier exist supplier attest confirm policy practice consistent extent adhere applicable standard extent practical feasible expect supplier provide information support reporting transparency commitment relate sustainability environmental impact corporate member begin request supplier disclose environmental datum survey effort recognize supplier place percent company take action measure reduce climate risk supply chain set target request supplier respond survey include supplier supplier near term science base emission reduction target approve pledge supplier spend cover purchase good service capital good set science base target year end supplier set commit set science base target request supplier respond survey encourage set science base target sdg supplier set committed set science base target year end undertake company wide engagement assess nature relate risk opportunity evaluate business responsibility sit organization analyze impact dependency nature office space lease look reduce natural resource consumption wide externality generate operation undertake tracking commercial water waste usage output result conservation initiative sustainability certification building incorporate restriction greenfield site waste recycling renewable energy procurement wide emission reduction activity water consume water office space lease commercial office building datum center significant impact water system water conservation initiative pursue align goal aim reduce consumption resource category achieve obtain green certification install water efficient infrastructure reduce wastewater reduce water consumption sustainable leasing strategy reduce reliance old water efficient equipment consider factor supply chain source decision initiative decrease water consumption compare page additional detail water consumption taskforce nature relate organization come establish build pillar principle follow structure governance strategy risk management metric target join support development new disclosure framework focus nature biodiversity support market lead approach develop framework rigorous easy adopt business financial institution decrease water consumption water conservation initiative core people foundational success focus effort build lead global employe brand attract hire retain bes talent allow serve market current nee evolve meet new one launch tell unique story work grow share mission vision value unwavering purpose advance economic progress work office home guide principle align inspire day offer current future employee roadmap learn difference achieve goal advance career remain dedicated foster inclusive equitable environment colleague bring true self meaningful work thrive supportive vibrant community executive launch design career websitelaunche training class employeesexecutive team participation training increase percent addressable spend diverse own supplier diverse supplier add supplier diversity initiative represent supplier spendtie component senior leadership team executive compensation goal program design develop female talent solidify responsible ensure equitable employment career development practice company foster culture inclusion belong focus educate employee diversity topic include optional diversity training employee require inclusive leadership training manager global manager complete training training focus learn good practice tactic create inclusive environment expand training non manager population general employee complete hour conscious training manager complete hour training course design drive awareness opportunity inclusion allyship advocacy percent executive team participate training see percentage point increase female population multi cultural employee strive gain percentage point representation female underrepresented employee establish executive focus diversity executive level commit hold senior leadership responsible business participation diversity development effort continue endeavor tie component executive compensation achieve company diversity equity inclusion goal goal include drive culture inclusion ensure woman employee diverse background participate formal mentoring program foster diversity post high role interview diverse slate candidate continue focus increase diversity executive succession plan company commitment achieve great diversity workforce time reach goal present qualified female candidate candidate slate role addition surpass goal percentage point increase diverse executive succession candidate increase diversity succession candidate percentage point plan continue initiative adopt new initiative increase culture inclusion workplace include broaden mentor program introduce renew focus sponsorship examine key people process hiring development performance management advancement ensure equitable allow employee similar access develop advance career response examination launch new program design develop high potential female talent match small cohort participant senior executive woman career coaching sponsorship global employee network dedicate employee interest latino culture heritage asian platform support empower community member professional development social engagement bring employee passionate sustainability make positive impact environment planet provide platform connection collaboration employee affinity interest african african american west indian culture employee disability family member disability interest accessibility topic network enable administrative professional geography demographic collaborate share topic good practice interest employee represent employee family ally network employee identify parent caregiver aim foster workplace employee feel confident rewarding career commit family network colleague enthusiastic group seek bring like minded individual foster sense community software professional pace technology environment network bring employee serve serve military military family supporter woman bring woman ally provide community growth learn opportunity networking visibility support advancement woman information visit culture webpage network key component diversity strategy provide forum employee come share topic interest open wish participate celebrate diversity foster sense inclusion belong strengthen culture network aim empower employee succeed initiative promote advancement provide networking opportunity build mentorship advocacy support community participant network represent employee population employee network support executive leadership team employee network executive sponsor continue provide transparent disclosure global workforce disclosure ethnicity available indicate social datum table report exclude employee non own consolidated subsidiary commit equitable pay people workforce commitment embed multifacete compensation program program system place establish review pay hire promotion role change company annual process place run regression analysis gender race ethnicity assess employee base pay total compensation base bonus equity appropriate action base system annual process core core asian hispanic undisclosed asian hispanic undisclosed asian undisclosed note report foll report standard race ethnicity report merican rican american hispanic note total add round close tenth decimal point number number exclude include acquire undisclosed binary undisclosed binary undisclose binary female undisclosed binary undisclosed include employee non own con olidate subsidiary exclude percentage calc ulation people primary driver success commit attract talent retaining develop motivate employee add new professional development opportunity new platform leverage artificial intelligence bring internal job opportunity short term developmental project employee launch enterprise technology platform provide enable customize career development recommendation planning resource employee hub provide recommendation training program mentor informal networking short term gig employee find project opportunity day day role develop skill encourage mobility visibility internal open job requisition performance objective create manager measure term managerial effectiveness outcome include manager year end performance evaluation support development employee important transition career new entrant organization develop professional manager team senior leader global organization continue assess current state talent define skill need achieve strategic goal set performance objective measure individual growth provide opportunity skill development utilize process advance talent identify talent need make extensive use people analytic datum follow area measure employee performance strategic workforce planning identify flight risk critical role uncover individual organizational skill gap program establish enhance job performance professional growth employee program employee ask create professional development plan year concert manager record plan performance management software addition provide mechanism ongoing feedback year manager assess employee write mid year period complete formal year end performance review end calendar year introduce point manager assessment employee behavior relative year end review reinforce importance culture party meet discuss write assessment record performance evaluation employee formal personnel record serve factor consideration internal job transfer advancement decision goal purpose performance review ensure employee clear understanding expect manager align activity employee spective goal annual oal discuss employee job performance individual performance objective skill dev elopment inform employee knowledge skill acquire improve grow present job lateral role advance employee receive performance rating tab indicate percentage employee receive performance rating write comment performance reporting period calculation include time regular employee hir exclude rio employee note optional level employee bove conduct annual executive succession planning advancement exercise help align senior ployee right opportunity mitigat risk event unexpected turn output review pilot wide talent rev iew process employee population exe cutive level direct report rate performance potential identify high potential high perf orme talent development need plan close gap achieve strategic goal introduce global amework promotion process consistent transparent evel development individual career development operate philosophy professional development happen learn job developmental relationship coaching mentoring formal training offer variety professional development experience multiple channel mode support diverse learn style invest professional development employee create dedicated internal website serve central point dozen career resource resource include offer access professional person online employee development program job specific training provide tuition assistance employee enrol degree grant academic program hold internal career fair career networking program provide mentoring technology organization recognize build critical cut edge technical financial skill paramount relationship institution high education corporate institution recognize critical role people manager play develop retain talent offer dozen leadership management development program level leader firm launch ceo facilitator series webcast provide practical advice leader level organization wide range people management topic launch flagship potential program focus prepare mid level manager future leadership role curriculum base build business acuman leadership skill peer networking senior leader job shadow opportunity provide training employee program manager customize developmental program underrepresented talent include executive mentoring accelerate leadership development program graduate second cohort serve member black african american community expand serve additional member underrepresented community professional development table highlight average number trai ning hour time employee average number training hour average employee spend train total hour employee train include time regular employee exclude employee core attract recruit retain talent ntinue invest build good class employe brand candidate experience launch design areer website provide well candidate exp erience result initiative experience percent increase conversion number website visitor apply role increase site traffic increase spend career website fourth quarter compare fourth quarter people candidate experience introduce pillar support work shape make change people pillar help ntiate talent competitor explain offer employee present compelling reason people join awareness build effort dive rsify candidate pool attend large conference black people technology attendee partnership ineer host event eache black hispanic student stitute educate student ternship program career opportunity reach goal minimize diverse empl oyee attrition keep represent minor ity voluntary attrition rate effort plan cont inue talent attraction recruitment effort increase partnership diversity organizat ion minority search firm school ensure continue increase diverse slate qualified candidate senior leadership engagement amplify voice plan expand effort create content tell unique story create brand awareness attract talent number rate number employee new hire attrition percentage calculation exclude verafin empl oyee internal timing datum integration turnover low employee participate engagement survey recommend great place proud work feel belong believe advance believe people background equal opportunity succeed diversity equity inclusion work resource align support culture engagement strategy continue conduct employee sentiment survey realize significant improvement category include leadership management culture compare average score past year seek drive progress employee engagement multitude way focus role manager manager direct report receive custom engagement report team contain anonymous aggregate response team member team compare industry average team high low average partner manager leader identify area opportunity develop action plan instance focus career development communication recognition maintain employee recognition program include peer peer recognition reward peer manager award recognition point exchange good service award publish entire company mean social feed recognition amplify continue build knowledge culture focus economic growth prosperity crystallize culture publish inside look work employee thrive work company goal renew video series highlight internal talent storytelle series feature individual showcase cultivate corporate culture series serve tool reach potential talent company employee participate engagement survey engagement score demonstrate high level employee engagement review initiative identify opportunity improve employee engagement survey question point scale employee choose option good align feedback offer comment section encourage free form response question employee wish provide context comment review aggregate share applicable recognize value importance health wellbeing understand impact health wellbeing productivity employee engagement recognize important role leader play create culture wellbeing belong employee engagement survey measure manager care wellbeing see favorable score past month recognize importance invest people employee family community important offer holistic suite program benefit resource know meet employee life career journey employee focus prioritize health build wealth care family grow career connect community program help prioritize focus wellbeing prioritize health different healthcare need offer diverse set benefit wellbee program optimize health include medical dental vision coverage health care flexible spending account app membership access digital sleep improvement program build wealth addition base salary incentive plan committed reward employee contribution help prosperous future following program employee stock purchase plan short term long term disability match student loan program employee perk care family recognize value employee life offer following program support employee family life fertility coverage pay parental leave adoption surrogacy assistance optional pet insurance grow career robust learning opportunity tuition reimbursement enable employee advance capability grow connect community encourage employee engage support empower local community robust network employee resource group charitable matching program pay time volunteer design inclusive representative diverse need employee ability evolve meet change need workforce example response pandemic enhancement caregiver support childcare hybrid work schedule flex day introduce flex day year dedicate day employee care mental health wellbeing program stay result positive feedback employee continue focus enhance culture belong wellbee information employee benefit visit website testimonial make impact purposeful work cool work project immense global impact know effort change thing world motivate great work diverse team folk world travel place product action see user engage produce create deep level commitment world opportunity talk friend family discuss great opportunity organization big market tech operation huge legal presence people sale critical system responsible innovative dynamic work environment think make unique compare employer work intersection software development finance learn part need understand business customer sure develop function need successful financial industry move keep toe bore wellbee mother raise boy time organization speak awesome work life balance make possible team family mentality benefit flex day hybrid working easy focus priority home work diversity recognize increase use diverse supplier enable create value business diverse supply chain strengthen operation support community enhance client experience supplier crucial component commitment equity diversity inclusion work qualified business own diverse individual group member community people disability woman veteran encourage supplier promote diverse inclusive workplace engage diverse own business reflect extend commitment grow diversity supply chain engage new supplier exist supplier attest confirm policy practice consistent extent adhere applicable standard set multi year supplier diversity goal term spend number diverse supplier demonstrate dedication build long term sustainable growth program set goal increase percent addressable spend diverse own supplier goal perform achieve diverse supplier spend work supplier diversity organization exercise policy contingent worker program leverage configuration retail purchase platform promote diverse supplier initiative add new diverse supplier represent supplier spend demonstrate dedication grow goal increase percent addressable spend own business percentage point increase number addressable own supplier baseline new diverse supplier add represent supplier spend solidify sound corporate governance structure key help create strong economy encourage equitable opportunity contribute sustainable world help stakeholder reach potential commitment governance start continue lead strong governance framework motivate implement good practice achieve strategic objective communicate oversee culture compliance risk management believe stand recognize tradition principle ethical look governance practice transparent disclosure overall effectiveness benefit stakeholder include shareholder employee client community awardsesg focus investor diverse member add hear director add formal climate risk assessment utilize guidance lead reporting governance framework focus interest shareholder design promote governance transparency ensure necessary tool review evaluate business operation decision independent management good interest shareholder goal align interest shareholder director management comply exceed requirement applicable law governance framework establish practice follow respect oversight corporate sustainability include program environmental social initiative corporate strategy long term value creation capital allocation risk management include risk relate information security protection market human capital management program corporate culture initiative ethic program corporate governance structure principle practice refreshment executive succession planning executive compensation compliance local regulation law business line geographic region host investor engagement exceed year year goal increase investor engagement addition maintain low risk rating governance significant rating agency include target disclosure emphasize commitment transparency prioritization relate topic continue program director education topic aim continue effort focused value diversity evaluate new candidate seek incorporate wide range attribute follow matrix provide accordance applicable list requireman include director number director demographic african american asian disclose demographic core give relevance business industry associate risk provide brief description approach policy following financial design meet exceed applicable standard include guidel ine publish european regulator embrace good governance strive hold high ethical standard interaction support promote meaningful implementation business further use automation analytic support compliance program rive effectiveness reduce risk complete update related policy mor engage employee address evolution business enhance employee training program additional focus target topic program base industry lead practice lead support cross functional diverse team oversight udit external compliance expert consult provide value base guidance heighten compliance risk awareness strengthen decision making drive und business performance pillar ment onse conjunction policy procedure standard handb ook outline responsibility expect icer director employee conduct business accordance high standard ethic compliance applicable time time employee include princip executive officer principal financial officer controller principal accounting officer worker conduct work behalf separate contain supplemental provision applicable director ethical value reinforce employee trainin communication include town hall topic specific webinar embed governance transparency integrity ethical bus iness practice series robust policy document available download leader strive create ethical culture employee understand commitment integrity foundational feel comfortable raise issue concern training employee require complete training certification annual basis initial boarding training topic include ethic financial control employee require time hire set period complete certification attest accuracy financial conflict interest disclosure require maintain current ongoing basis comply comply compliance information security privacy policy include limit policy insider trading personal security trading policy relate anti corruption sanction trade control provide specialized training hire employee cover service offer scope applicable law training provide overview goal regulation describe rationale service requirement explain measure apply policy instruction adopt ensure service offer compliance requirement broker dealer group provide annual training register representative broker dealer subsidiary training provide overview stage anti money laundering describe regulatory framework requirement outline key aspect program include guidance identify red flag report suspicious activity hire employee require complete ethic compliance training initial boarding town hall event webinar provide detailed training employee quarterly basis lifting pandemic travel restriction increase office attendance training augment person training event cornerstone ethic program employee contractor party business multiple channel raise ethic compliance concern allegation misconduct channel include contact dedicated communication channel report whistleblower hotline allow individual anonymous report line operate party hotline provider enable communicate individual report issue anonymous basis include specific investigation procedure notify appropriate business management include appropriate compliance function conduct investigation resolve matter close matter employee require complete training certification annual basis initial boarding training topic include ethic money control core core core individual report concern addition individual contact email physical mail foster ethical culture employee support report unethical behavior provide multiple channel disclose misconduct element program line enable anonymous whistleblowing require applicable law regulation operate party require protect anonymity reporting individual request individual receive regular report activity line support employee allow disclosure trade secret confidence relevant government authority fear retaliation confidentiality intellectual property agreement employee sign employee contact appropriate regulator law enforcement government authority authorize applicable law notify advance pursue internal reporting channel tolerate retaliation provide legal protection afford applicable law regulation individual report allege misconduct violation law anti corruption program implement enterprise global level risk base manner anti corruption program include policy procedure monitoring periodic risk assessment align lead practice standard include publish operation set relevant policy tolerance violation bribery corruption law year business relate review update approve executive management update document communicate employee certify annual basis conduct screening vendor agent corruption risk monitor payment include vendor payment employee reimburse expense compliance supplier outline expectation include expectation relate bribery corruption believe fundamental dignity human right individual live work fear oppression coercion emphasize responsibility integrity value base decision making set standard conduct business moral principle principle standard shape interaction fellow employee client supplier community market world community stakeholder foundational company enable continue success reflect obligation global company incorporate corporate policy program specific requirement principle practice discrimination global company operation country endeavor model principle operate serve role model business fundamental respect human right inform client engagement work perform good service purchase engage local business community corporate citizen learn community live work seek new way empower economic social wellbeing limited number employee population cover collective bargaining agreement represent union work council engage employee association discuss issue health safety remuneration work hour training career development mentorship work time flexibility equal opportunity communicate information relate freedom association medium include employee handbook policy intranet employee network group periodic town hall meeting virtual person email core core core collaborate independent party initiate formal human right assessment consistent assessment focus outline current expectation financial institution regard human right build internal understanding human right undertake initial high level gap analysis current policy practice recommendation good practice follow completion assessment evaluate level potential human right risk exposure high priority area identify party assessment confirm risk exposure low understand supply chain complex evolve global human right condition change continue vigilant human right diligence evaluate process technology enable enhance current risk monitoring capability future money self regulatory organization operator regulate financial system exchange clearinghouse central security depository committed ensure market operate facilitate financial crime include money laundering terrorism financing applicable regional policy require compliance law regulation apply business cover operation include conduct require know customer diligence monitor transaction report suspicious activity commit detect deter money laundering terrorism financing follow onboarding conduct continuous screening prospect customer supplier compliance watchlist include terrorist terrorism financing list retain record relate party diligence transaction monitoring report accordance record retention procedure mandate employee reserve record documentation relate existent potential investigation anti corruption sanction trade control financial crime law include email voicemail text message paper document record file electronic document record file member exchange require place diligence program screen client market participant accordance applicable law regulation addition legal requirement relate implement risk base anti financial crime framework key business segment augment compliance program global enterprise implement comprehensive policy screen program enable compliance economic sanction apply business include screen customer vendor business partner applicable sanction list publish jurisdiction operate appoint senior level employee oversee sanction compliance program review sanction compliance policy deliver mandatory high level sanction compliance training employee plan provide target depth training employee function operate market maintain robust surveillance team monitor market potential suspicious trading activity compliance market rule surveillance team use sophisticated software leverage model analytic identify suspect risk escalate review cooperate financial supervisory authority exchange address suspect violation deter identify prosecute unlawful activity affect security market license technology regulator financial firm help monitor market activity believe important employee stay informed late development anti financial crime money laundering provide regular update training session topic aim continue enhance information public website anti financial crime privacy program core core core integral risk management responsible coordinate protection core business operation information real world cyber threat employing technology policy process education program sound design technique organization report centralize organization manage isd team responsible perform coordinate security assessment vulnerability scan internal external party application implement maintain information security relate policy standard middleware vulnerability management addition special project designate compliance effort support datum privacy protection effort configure infrastructure application run accordance configuration policy process standard development internal tool solution drive efficiency enhance monitoring visibility operational metric compliance operate monitor security event log network system application database create log file known unknown event monitoring threat technology stack peer organization provide recommendation secure vulnerable population context emerge threat collaboration responsible coordinate include compliance effort relate european global privacy law regulation support compliance program appoint independent european regulated business entity annual basis team review update governance document present revise document review approval receive quarterly report additional report need cybersecurity information security matter regular reporting include cybersecurity dashboard contain information cybersecurity governance process status project strengthen internal cybersecurity ongoing prevention mitigation effort security feature product service provide customer result security breach simulation discuss recent cybersecurity integral risk management industry emerge threat landscape team continue execute outline strategic vision associate goal cybersecurity global operation year period end complete project tie process create present govern global enterprise infrastructure support key global information security process include technology personnel location datum center conform requirement certify process scope certification include supplier risk personnel corporate equipment connectivity production infrastructure scope variety product undergo annual audit final report available customer non disclosure agreement procedure set relevant company policy personnel expect protect secure confidentiality non public information receive access create connection work company expectation include adhere law regulation non disclosure agreement restrict use datum include personal datum require measure safeguard limit disclosure information policy require personnel limit use information technology asset laptop phone device permit activity avoid put datum risk report suspect improper use potential disclosure datum numerous policy place safeguard technology use include policy committed secure non public datum business operation include information generate performance service datum provide party include customer vendor business partner employee stakeholder commitment reflect culture security policy procedure datum system processing activity mechanism monitor information system datum use security awareness role base training provide staff datum protection team skilled information security technology professional design protect maintain information system employee contractor service provider require sign confidentiality agreement prohibit disclose confidential information learn course employment performance service committed secure non public datum business operation provide training information security employee regular basis include annual mandatory training information security awareness privacy provide tailor information security training session multiple audience trade company require adhere exchange include audit independent public accountant register public accounting firm provide section audits ethical standard company operation subject audit organize business base portfolio audit entity comprise audit universe cover risk base rotational basis medium year low year confirm entity subject audit year period annual risk assessment perform identify categorize prioritize business process risk assess inherent residual risk business process fraud consider audit perform govern incident include security incident cause cause interruption reduction quality availability production service primary goal policy restore normal service operation possible provide timely accurate communication relevant stakeholder minimize adverse impact incident business operation quality provide service employ multi layered team structure manage incident establish role escalation procedure appreciate special obligation apply process personal datum individual right privacy personal datum protection reflect unique risk potential harm pose mishandling misuse personal datum privacy program build foundation information security program apply special governance policy procedure training use handling processing personal datum performance activity impact privacy right determine jurisdiction operate privacy compliance program design enable adherence law regulation applicable personal datum process include applicable post contractual commitment customer vendor counterpartie support principle maintain comprehensive consistent set information security documentation requirement intend protect security reliability integrity accuracy confidentiality availability information asset document record security control personnel responsibility establish protect information information system accidental unauthorized access modification interference disclosure destruction include policy apply personnel time time employee contractor work training requirement require employee complete annual privacy training certify compliance privacy policy include privacy compliance onboarde training new hire addition provide role base privacy training team training include privacy awareness roadshow person training european office information read document duty shareholder employee market participate public policy debate oversight public policy advocacy practice follow industry good practice internal set priority review activity convene active senior management participation quarterly basis function procedure manage level maintain vigorous global employee education program respect jurisdictional prohibition pay play support political campaign fund believe responsibility use voice educate policymaker regulator advocacy focus policy affect capital market concentrate effort education utilize modest program know fund employee contribution support federal campaign govern board employee vote disbursement respect european operation focus advocacy program active education engagement elect leader key policymaker policy follow prevail jurisdictional law preclude monetary contribution political party candidate designee maintain membership number association globe serve important partner industry client employee include risk role risk oversight consistent leadership structure management have day day responsibility assess manage company risk exposure have ultimate responsibility oversee risk management focus significant risk face company assist meet responsibility receive regular report relate operational compliance company risk appetite review deviation management provide update year risk arise pandemic include respect cybersecurity remote work arrangement customer implementation operation exchange potential corporate performance issue set company risk appetite boundary management operate achieve corporate objective addition review approve risk policy mandate requirement define employee risk management role responsibility enterprise oversee framework support implementation aggregate report risk information employ approach manage risk objective consistent identification assessment monitoring measurement significant risk company classify risk follow broad category risk earning capital arise change business environment adverse business decision improper implementation decision lack responsiveness change business environment risk risk financial position ability operate investment decision financial risk management practice particular relate market credit capital liquidity risk operational risk risk arise people process system external cause include thing risk relate transaction error financial misstatement technology information security include cybersecurity engagement party maintain business continuity risk exposure civil criminal consequence include regulatory penalty fine forfeiture litigation conduct business operation include thing risk relate datum privacy intellectual property financial crime employment law environmental risk risk arise perceive actual shortcoming management matter management day day responsibility manage risk arise activity include make decision state delegate authority ensure employee understand responsibility manage risk line risk management model establish internal control guidance standard implement policy line risk management model line consist business unit expert team corporate support unit execute core process control second line consist risk control oversight team set policy establish framework manage risk line provide independent review second line include senior executive assist risk oversight role ensure framework appropriate function intend level risk assume consistent strategy risk appetite limit scope management risk committee address specific risk geographic area subsidiary risk management committee include representative subject matter expert monitor current emerge risk purview ensure appropriate level risk risk management committee facilitate timely escalation issue escalate critical issue risk management committee include following oversee global regulatory capital framework regulate entity level regulatory capital risk identifie monitor address regulatory corporate compliance risk oversee technology risk strategic product application oversee business continuity resiliency relate risk manage approve grmc outline core component include business continuity disaster recovery crisis management program implement local basis support company resilience maintain critical operation minimize impact operational physical disruption market client market participant shareholder employee regulator effort take align industry good practice classify risk relate risk evaluate climate risk affect product service value chain operation investment perform detailed evaluation focus type risk likely increase direct cost interrupt primary business function exposure physical transition driver transition driver present significant risk opportunity business strategy financial planning time horizon consider accordance recommendation examine resiliency current strategy conduct climate scenario analyse process assess exposure physical transition climate relate risk opportunity deem have potential influence business strategy financial planning update enhance climate scenario analysis apply recent transition scenario include net align scenario apply late physical scenario include new climate relate hazard water stress cyclone physical scenario analysis update analysis entire global portfolio office datum center include new site perform analysis climate maturity key supplier customer climate scenario analysis validate significant climate risk opportunity stem transition risk mandatory climate report requirement transition low emission technology verify science base target expect help mitigate risk aim explore vulnerability operation climate hazard identify report project possible financial impact relate business disruption identify cost mitigation risk assessment develop formal climate risk assessment utilize guidance lead reporting framework assessment solicit feedback exposure physical transition climate risk exposure stem key vendor climate risk assessment continue perform evolve alignment prominent climate report framework low carbon transition plan key strategy effort mitigate business risk associate climate change plan extensive include improve mature information information evaluate climate risk affect product service value chain operation investment core core footprint analysis process align corporate strategy support reach science base target implement identify energy efficiency strategy purchase renewable electricity pursue green building certification engage supply chain supplier policy contain standard rule process follow engage supplier provide good service include policy relate pre contract supplier diligence ongoing monitoring existin supplier relationship institute risk base approach perform diligence prospective supplier diligence procedure include public record screen evaluation relevant subject matter expert periodic assessment perform party deem provide critical good service assessment include evaluation party control relevant service provide whi include limit control relat information system security periodic supplier risk assessment include risk domain address environmental risk modern slavery diversity administer detail legal review process contract enter company accordance internal process conduct risk assessment vendor process datum include customer datum access system work legal department applicable vendor appropriate contractual protection relate information security information engage section subsidiary responsibility global taxpayer calculate report pay company corporate income taxis goal minimize organizational tax risk exposure stay current tax law change implement robust control process avoid aggressive tax planning strategy prevent pay fair share taxis contribute economic success country operate engage transaction sufficient economic substance invest tax haven purpose tax avoidance year end disclose total cash contribution income taxis pay year pay taxis corporate income taxis detail summary country apply global subsidiary describe principle form foundation approach tax governance expand suite launch functionality report taxonomy alignment project finance issuer green sustainable bond reach coverage issuer security globallysecuritie software provider receive certification revise certify programgovernance solution launch issue corc behalf supplier represent year year increase number sustainable debt instrument list grow volume list bond grow risk modelling client base increase year provide insight analytic software advisory service product company stakeholder expectation evolve company recognize good sustainability strategy mean good busine employee client supplier investor regulat party product strategy appreciate diversi need leverage unique position intersection investor corporate regulator drive long term value client entire ecosystem deep appreciation challenge opportunity corporate face navigate evol ving demand capital market engagement inve tor increase demand develop disclose engage broadening set esg focused strategy mance metric role help client understand devel opment advocate behalf provide insight strengthen program strategy enhance eir disclosure communication investor market seek reduce complexity frictio client experience demand drive market base pragmatic nature solution support client position serve corporate investment community strive achieve relate objective work corporate investment community addition work regulator standard setter create virtuous cycle serve corporate community lifecycle help public company navigate capital market evolve private company progress public company engage type company navigate diverse complex shareholder landscape asset owner asset manager face complex dynamic landscape serve investment community range workflow datum analytic capability help manage portfolio enhance asset allocation decision make process foster leverage research capability internal subject matter expertise engage support client create share good practice lead insight market scale impact good million employee customer supplier corporate investor economy product service discuss incl ude component comprehensive list total offering launch organic growth initiative service solution pair compa consultative expertise help analyze sess action good practice program goal attract long term capital enhance value practice staff investor rating agency analyst sustaina bility consultant decade collective experience individual run sustainability program ouse organization service include climate strategy development footprinting support engagement strategy investor engagement advice esg climate repo development support transformative year practice double headcount meet client demand consultative service headcount growth focus individual key skill set include banking investing house corporate rating agency esg standard setter mark year expand headcount region pla continue prioritize private public customer need climate relate disclosure footprinting capital attraction strategy goal target setting regulatory environm ent heighten disclosure requirement region align resource competency help client navigate stakeholder demand data management reporting audit trail disclosure software llow company simplify reporting optimize workflow facilitate report framework research rating organization help disclo progress variety metric multiple stakeholder continue advancement evolution drive customer demand tool industry leader number framework research rating organization provide software provider rec eive certification revise release fie program platform add new framework rating organization preparation upcoming regulation create report help support client organization access share document organizational stakeholder ort plan continue update platform atest regulatory framework help client mitigate ris accelerate effort acquire expand suit end end sustainab ility reporting software streamline way collect analyze share datum plat form source truth rporate sustainability datum dashboard track measure progress set goal enable sustainabili team run data collection campaign site location department review proc send task reminder flag variation erate audit trail build report capability low business leverage granular datum internal external report platform continue evolve regular update improve user experience include add new feature dashboard datum collect ion home page role base overview plan continue release new feature foc improve metric connect multiple datum sourc allow increased autonomy client uild report branding leverage datum collect organization increase connectivity help client aggregate granular dat populate report disclose body csrd party rater ranker package approve provide public company complimentary sustainability reporting support year consultation work combine comprehensive capability form integrated workflow datum management platform scalable product purpose build company size level sustainability climate journey solution strong corporate governance framework cornerstone sound program provide suite technology advisory service board leadership team work peak performance facilitate major decision advance strategic vision drive stakeholder value solution drive governance excellence bring efficiency governance compliance program foster trust relationship board leadership team launch inclusive community board member executive leader educator offer good practice insight late governance topic esg advisory council publish research evolve role board relate matter drive action accountability boardroom continue grow engaged community bring governance workflow tool service customer help enable effective person remote board meeting discussion addition world carbon credit platform engineer carbon removal solution bring supplier net negative technology company residual emission high integrity carbon removal line guidance net provide company need tool effort reach net target crediting program focus durable carbon removal minimum year storage time obtain endorsement issue corc behalf supplier represent tonne remove atmosphere issuance equal growth new supplier join platform bring total number supplier country launch new removal method number sale channel firm trader sell corc client grow year increase transparency carbon removal market improvement trust transparency corc key factor need build global market carbon removal function market bring efficiency necessary price signal stakeholder give strong demand corporate buyer high quality carbon removal plan expand volume issue retire corc platform aim launch additional carbon removal method subject scientific review approval corc issue behalf supplier increase issuance supplier originate ensure high credit level integrity robust principle science base carbon removal verification authorize manage include project eligibilit rule quantification carbon removal validation verification rule condition issuance retirement credit chair professor director independent non executive mean employee risk modeling risk modelling catastrophe independent multi vendor risk model solution reinsurance firm bring multiple catastrophe risk model provider independent platform lower barrier entry model vendor provide ease access increase choice market platform power open source make possible client access deploy wide range model need multiple modelling platform broad range catastrophe risk model multiple geography peril include flood earthquake hurricane windstorm bushfire exposure management team evaluate apply model align business need risk modelling catastrophe client base increase fuel desire insurer improve view risk complex peril flooding grow demand risk management community tool assess climate relate physical risk catastrophe model contain climate condition event play valuable role regard modelling catastrophe provide access model combine science engineering probabilistic modelling help client quantify financial impact climate change term damage property cause natural catastrophe event business segment provide insight analytic software advisory service product company mission help client navigate capital market focus provide transparency sustainable climate strategy shareholder advisory service ownership benchmarking advance company understanding shareholder esg preference service produce research sustainable investing trend proprietary research corporate climate disclosure trend plan expand foundation provide company insight analytic tool monitor trend assess competitive positioning benchmarking disclosure craft disclosure company strive meet increase demand investor global regulator categorize product service nancial reporting introduce version establish exchange benchmark follow listing index future contract responsible version lead share index base consist trade security follow systematic criteria base screen security fail criterion exclude market cap weight index liquidity constituent result suitable underlying benchmark derivative product addition design structured product warrant index bond option exchange trade fund non standardized derivative product composition index evaluate year beginning expand derivative offering listing option base manage dozen index integrate criterion index methodology achieve variety way index design design criterion overlay broad investment thesis index large tracking fund include create version flagship index offer launch nordic market response increase demand sustainable investment extensive growth issuer investor search green performance indicator equity market aim enable visibility transparency investor voluntary designation support sustainable company company commit transition increase visibility transparency credibility investor business stakeholder available company nordic stock exchange financial ecosystem anticipate upcoming sustainability climate relate regulation increase interest green equity classification company investor nordic exchange launch classification standard reference exist model highlight importance help investor assess company generate revenue product service contribute positive environmental outcome available daq nordic stock exchange sustainable launch late global platform aim increase transparency social sustainable bond connect issuer sustainable bond investor empower evaluate impact inform investment decision sustainable bond platform allow issuer ustainable bond sustainable bond datum accessible investor stakeholder investor turn use platform evaluate track create impact report base issuer bond reporting database simplifie sustainable nveste intuitive easy use solution allow investor discover compare sustainable bond generate impact report platform rovide issuer level information allocation launch functionality report taxonomy alignment project finance issuer green sustainable bond furt reach coverage issuer security investor sustainable bond repo rte impact investment proceed allocate expect thi trend continue see large incorporation issuer report sustainable bond dat investment diligence total number ainable bond country represent sustainable market comprise dedicated segment list green social sustainability sustainability nke bond structured product commercial paper sustainable debt market design highli ght sustainable investment opportunity investor green social sustainable investment agenda open type issuer look issue ecuritie meet listing criterion base green social bond princi ple sustainability link bond principle icma act secretariat sustainable market issuer figure restate result double count issuer debt instrument seve ral market account macro economic factor negative effect nordic debt market sustainable debt market continue grow increase importance sustainability financial market num ber sustainable debt instrument list grow list bond grow growth drive new large issuer ine market inaugural danish sovereign green bond list agen wide adoption sustainability link bond nordic region sustainability link bond allow issuer lack large capex set ambitious sustain ability target join broad sustainable debt market spur overall ket growth come year allow new sector participate growth number sustainable debt instrument list sdg data solution offer investor stakeholder easy access wide range comprehensive datum set accompany detailed product description sell point use case platform enable user find data set relevant specific provide investor visibility impact investment datum set product range assist customer project impact customer level demand datum drive customer broad rating understanding granular detail different aspect customer rating representative picture company complete picture granular datum set start remain grow segment add new data set product party provider add sustainable bond network datum platform continue look unique datum partner add solution base feedback need customer plan integrate datum broad datum marketplace easy implement platform measure global sustainability effect portfolio individual security intuitive dashboard investor manager access real life effect investment alternative suit individual sustainability goal tool give investor insight positive negative flag company holding depend criterion set customer see grow demand regulatory solution multiple dataset provide insight core impact business investment opportunity sdg dataset signal allow investor evaluate company alignment sdg framework add functionality help customer meet requirement addition launch product group bank provide overlay retail customer continue invest product look add overlay improve datum quality lead institutional investment database analytic platform acquire meet increase demand transparent standardized datum stakeholder launch multiple initiativ provide centralized resource collaboration consultant asset manager asset owner key industry organization partner key industr parter enhance platform breadth datum categorize product service nancial reporting launch questionnaire pow robust investment research provide opportunity asset manager articulate approach com pelling proof point questionnaire expand major enhancement proxy voting datum design understand process add question alignment sdg introduce new climate section irm product level date active product provide response question naire firm provide firm level info rmation datum triple questionnaire rewrite reflect incre ase value datum increase importance datum investing landscape begin collect datum collaboratio questionnaire give asset manager opportunity provide narrative commentary firm initiative statistic partnership create new diversity metric temp late datum collection capability private market report solution datum include information diversity metric investment company firm ownership inve committee member investment professional aggregate diversity metric board senior management fund portfolio company client coordinate event leverage expertise research capability publish think leadership range relevant topic unite knowledge insight support corporate investor community seek accelerate sustainable inclusive growth example research educational material right gather late update insight inspiration thing esg facilitate continuous dialogue investor issuer stakeholder topic cover include strategy quarterly white paper author share insight episode publish facilitate sharing good practice esg panel discussion industry event lead encourage innovation progress sustainability insight demystify rater improve score early reporter year mark constant change remain committed strategic initiative thoughtful partnership deliver impact investment accelerate effort strengthen footprint move close sustainable prosperous future hour volunteer partnership organization support partnership organization select entrepreneur serve hour education provide small business emerge economy support dedicate create lasting positive change community serve employee pride active community initiative commit support community live work volunteer initiative provide employee pay day year volunteer charitable concern community project addition organize team event company wide day service encourage advantage benefit match charitable donation employee contractor certain circumstance calendar year signature engagement program help connect employee cause charity community support program empower employee volunteer participate individual team event employee donor generate impact charitable community recipient employee volunteer hour deepen commitment advance economic progress make market work benefit people society address systemic barrier face represent community effort generate sustain wealth past year continue tremendous stride mission reimage investor engagement diversify entrepreneurship grow network partner select partnership organization service offer partnership provide wide range support indigenous founder entrepreneur strong focus woman effort fill piece strategic initiative portfolio program focus tackle overlook barrier people color woman color participate capital market select partnership organization organization act different front challenge create new set role model educational activation conduct community base research create strong investor identity underrepresented community information general counsel sign letter urge increase budget non profit corporation establish seek ensure equal access justice law sdg independent non profit build well path entrepreneur establish support improve inclusion access knowledge entrepreneurship deliver free education country meet real time need entrepreneur translate need actionable datum share policy maker academic institution world build opportunity entrepreneur inception support entrepreneur half female entrepreneur color serve entrepreneur provide hour education support small business emerge economy committed advance education entrepreneur world support entrepreneur relate education look year ongoing commitment accessible entrepreneurial education increase number entrepreneur serve education baseline entrepreneur addition commit provide hand support founder concentrate sdg program target group entrepreneur receive individualized business mentoring coaching training resource help set hit celebrate critical company growth milestone participant accelerate focused program goal subsequent year maintain number intend achieve prioritize partnership support social entrepreneur deepen storytelling graduate current past cohort inspire new applicant apply program information visit website ommunity emission difference location base location base market base market base total location base purchase activity generate business employee commute investment total total emission datum calculate accordance guideline meaningful percentage increase scope emission substantial gross total increase emission remain mini mal increase methodology enhancement move corporate card gasoline purchase include applicable business operation category category include gible good service category category include tangible intangible good service category travel datum limit provide party travel vendor datum gathering process improve include datum provide party travel vendor corporate card spend total scope integrate location base emission market base emission lease asset include emission asset lease company include lease asset include emission operat ion asset lease entity scope location base emission recal culate prior report emission recalculate location base emission implement new update emission methodology location specific emission factor location average mission factor emission recalculate add category order align approve base year ommunity intensity table show emission time emp loyee dollar emission emission location base purchase asset investment total total note category include ible intangible good service scope category include tangible service scope location base emission lculate prior report emission recalculate location base emission implement new update emission methodology location specific emission factor location average emission fact emission recalculate add category order align sbti appro base year ommunity energy consumption decrease ptimize leasing strategy improve datum quality table break energy consumption non renewable fuel total pre negotiate renewable renewable include direct indirect fuel consume steam heating datum available table show breakdown region total energy use category mwh scope total total ommunity table break total ene rgy consumption country purchase significant portion electricity pre negotiate renewable source remain procure renewable energy ertificate rec result net market base scope emission electricity align science base target goal procure renewable electricity mwh mwh mwh scope base ommunity mwh mwh mwh scope base total table break company total energ use category mwh scope total total ommunity mwh scope total total total ommunity table represent disposal treatman waste generate global operation weight weight compost total note implement program audit waste key office poss ible actual waste include calculat ion proportional share determine occupy square footage waste datum unavailable estimate base average square foot waste collect waste audits waste affect office reope increase employee count acquisitio begin quantify waste incinerate list land fill consumption datum represent table obtain utility provider landlord datacenter operator water emission total office space water consumption datum available aggregate entire building portion water calculate base percentage occupy space building water consumption datum obtain office location datum calculate assumption base number employee square footage office infrastructure building green certification building icable datacenter water consumption datum aggregate operator available portion water calculate base percentage rack datacenter occupy water consumption datum obtai datacenter location datum calculate assumpt ion base number rack occupy infrastructure building tification building applicable water consumption decrease well datum quality recording techni que ommunity datum indicate social datum table excl ude employee non own consolidated subsid iarie time male employee time female employee time undisclosed employee time non binary employee total number time employee time male employee time female employee total number time employee employee non own consolidated subsidiari total employee note datum page use traditional gender category male female require report government reporting manner represent position issue respect gender binary exclude verafin employee acquire report ommunity employee contract male employee contract female employee contract undisclosed employee contract non binary employee total permanent contract employee fix term temporary contract male fix term temporary contract female total fix term temporary contract employee include verafin employee exclude verafin employee fix term temporary contract employee ploye limited period time male female total number employee male female total number employee male female total number employee total number undisclosed employee total number non binary employee include verafin employee ommunity career disclose senior entry note total add round close tenth decimal point calculation exclude employee define regular employee direct report binary bin ary management level employee revenue generating func calculation exclude employee management level employee relate calculation exclude employee ommunity asian black hispanic native undisclosed note total add round close tenth decimal point calculation exclude employee asian black hispanic native undisclosed note total add round close tenth decimal point ommunity table represent global workforce age workforce age race ethnicity year year year year year year year female undisclose note total add round close tenth decimal point report year year yea asian black hispanic native disclose note total add round close tenth decimal point ommunity turnover rate involuntary calculation exclude verafin employee int ernal timing datum integration female undisclosed non binary exclude verafin employee int ernal timing datum integration senior entry calculation exclude verafin employee int ernal timing datum integration asian black hispanic native undisclosed ommunity year year year calculation exclude verafin employee undisclosed non binary report exclude verafin employee new senior entry calculation exclude verafin employee asian black hispanic native undisclosed calculation exclude verafin employee new open position fill calculation exclude verafin employee ommunity female employee entitle pay parental leave male employee entitle pay parental eave undisclosed non binary employee lead pay parental leave female employee take pay parental leave male employee take pay parental leave female employee return work pay end male employee return work pay parent end female employee return work pay leave end employ month return work male employee return work pay parent end employ month return work return work retention rate female employee return work leave return work retention rate male employee return work leave ommunity employee tax pay total ommunity sdg target align achieve gender equality empower woman girl ensure woman effective participation equal opportunity leadership level decision making political economic public lifediversity sustain inclusive sustainable economic growt productive employment decent work development orient policy ort productive activity decent job creation entr epreneurship creativity innovation encourage growth medium sized ent erprise include access financial servicescapital infrastructure resilient infrastructure promote inclusive sustainable industrialization foster increase access small scale industrial enterprise particular develop untrie financial service include affordable credit int egration value chain market sustainable resilient infrastruct development develop country technological technical support african countr develop country landlocke developin country small island develop reduce inequality empower promote social econo mic political inclusion age sex disability race ethnicity origin religion onomic statusdiversity improve regulation monitoring global financial market institution strengthen implementation regulationanti financial production ensure sustainable consumption production encourage company large tran national company adopt sustainable practice integrate sustainability information repo rte platform corporate urgent action combat climate change integrate climate change measure policy strategy plan engage improve education awareness raising human institutional capacity climate change mitigat ion adaptation impact reduction early platform goal strengthen mean implementation revitalize ship sustainable enhance complement multi stakeholder nership mobilize share knowledge expertise techno logy financial resource support achievem ent country rticular develop countriesesg sustainable opment goal ommunity verify greenhouse gas emission include applicable upstream downstream emission energy consumption social datum relate employee workforce turnover hire limited level assurance detail scope standard conclusion find assurance statement right available download relate prepare accordance contract term commission provide independent assurance greenhouse gas emission inventory social metric restatement assurance criterion limited level assurance materiality verification procedure base greenhouse gas emission verification procedure base curren good practise accordance assurance engagement cover activity operation global operation follow requirement verify onformance report methodology select dataset sustainable corporate accounting reporting standard revise edition refer wbcsd evaluate accuracy reliability datum information select indicator list scope emission emission verify consist category category category generate category category category category category investment year emission category list assurance engagement exclude datum information supplier contractor mention responsibility disclaim liability responsibility explain end footnote responsibility collect aggregate analyse present datum information maintain effective internal control system inventory derive approve remain responsibility opinion base approach effect matter describe come attention cause believe material respect requirement criterion list disclose accurate reliable performance datum information summarize opinion express form basis limited level materiality extent evidence gathering limit assurance engagement reasonable assurance engagement limit assurance engagement focus aggregate datum check source datum site level assurance obtain limit assurance engagement low han assurance obtain reaso nable assurance engagement perform calculate business travel emission consistent data stream non conformance material table summary emission emission emission category category category activity category generate category category employee category lease asset category category investment mwh location base market base define wbcsd table summary restate emission emission emission location base market base define wbcsd verify verify datum information provide file receive assurance engagement carry accordance verification procedure follow task undertake evidence gather process assurance engagement interview relevant employee organization responsible manage emission energy social datum record assess energy social datum management system confirm design prevent significant error mission mis verify historical emission energy social datum record aggregated level calendar year confirm adherence implement maintain comprehensive management system meet accreditation requirement gas requirement greenhouse gas validation verification body use accreditation form recognition assessment requirement body provide audit certification management system demand requirement comply issue ensure selection qualified individual base qualification training experience outcome verification certification assessment review senior management ensure approach apply rigorous transparent sign date behalf reference affiliate subsidiary respective officer employee agent err clause assume responsibility liable person loss damage expense cause reliance inf ormation advice document provide person sign contract relevant entity provision information advice case responsibility liability ter condition set contract english version valid version assume responsibility version translate language valid publish refer reproduce entirety copyright ommunity verify addressable spend base own supplier supplier spend cover purchase service capital good sbti target reasonable level assur ance detail scope standard conclusion find assurance atement right available download relate supplier calendar year prepare accordance contract term commission provide independent assurance addressable spend base diverse supplier supplier spend cover purchase good service capital good initiative target calendar year assurance undertake reasonable level assurance materiality verification procedure verification procedure base current good practise accordance assurance criterion cover accuracy reliability datum information select indicator list addressable diverse percent supplier cover purchase good service capital good base spend ability select provider good service company own operate individual group underrepresented underserved group tier tier direct spend supplier target supplier set commit set line guidance supplier customer engagement target define target responsibility disclaim liability responsibility explaine end footnote responsibility collect aggregate analyse present datum information maintain effective internal control system derive approve remain responsibility opinion base approach believe material respect requirement criterion list disclose accurate reliable performance datum information summarize table opinion express form basis reasonable level assurance materiality table summary supplier spend diverse supplier supplier spend cover purchase good service capital good science base target assurance engagement carry accordance verification procedure follow task undertake evidence gather process assurance engagement interview relevant staff responsible manage report related datum information complete strategic assessment risk analysis determine adequate sample recalculate sample source confirm accuracy conformance assurance criterion verify historical datum record standard implement maintain comprehensive management system meet accreditation requirement gas greenhouse gas validation verification body use accreditation form recognition assessment requirement body provide audit certification management system demand requirement comply issue ensure selection qualified individual base qualification training experience outcome verification certification assessment review senior management ensure approach apply rigorous transparent assurance provider reporting additional work undertake compromise independence impartiality sign date behalf reference affiliate subsidiary respective officer employee agent refer clause assume responsibility liable person loss damag expense cause reliance information advice document provide person sign contr act relevant entity provision information advice case responsibility liability term condition set contract english version valid rsion assume responsibility version translate language valid publish refer reproduce entirety copyright ommunity financial money address company policy procedure training place ensure effective establishment implementation company culture oppose money laundering terrorism financing address quality integrity oversight topic refer diversity factor gender sexual orientation race ethnicity country origin nationality cultural background board nomination process quality director relevant industry experience level board independence management oversight sustainability topic level address company approach management risk opportunity surround ethical conduct business include fraud corruption bribery facilitation payment fiduciary responsibility behavior ethical component topic address ability model integrity provide service satisfy high professional ethical standard industry mean avoid conflict interest misrepresentation bias negligence train employee implement policy code procedure topic address quality company whistleblower program place allow anonymous reporting employee supplier customer expose information misconduct activity deem illegal illicit unsafe waste fraud address company involvement community power bring measurable change community operate business topic include measure promote community investment positive social impact charitable giving address company action tool manage customer online strategy sale distribution channel customer satisfaction customer protection address company management risk relate collection retention use sensitive confidential proprietary customer datum topic refer management risk relate use identifiable information customer datum secondary purpose include marketing include social issue arise company approach collect datum obtain consent manage customer expectation data issue arise incident datum breach identifiable information customer datum expose address company strategy policy practice relate infrastructure employee training mechanism ensure security customer datum address company commitment action decarbonize business model near long term topic address process identify assess manage climate relate issue integrate financial strategy planning overall risk management include implementation climate relate recommendation topic address management mitigation energy consumption greenhouse gas emission company control include company ability set achieve science base net target line goal topic address approach manage environmental risk supply chain include effort engage supplier environmental performance additional disclosure policy program practice statement available webpage ommunity address company ability ensure culture hiring promotion practice embrace uilding diverse inclusive workforce initiative support dive rse workforce include managerial board level responsibility diver ity initiative target recruitment network group mentorship program iversity monitoring training diversity topic address company effort promote supplier diversity address engagement activity center enhance collabo ration communication employee improve work contribution include mechanism grow employee contentment ccomplishment satisfaction motivation job associate satisfaction measurement metric address company ability create maintain safe healthy workplace vironment topic encompass financial physical mental incorporate corporate culture work life balance compensation benefit relate training product address company approach integrate business segment promotion product service provide add sustainab ility value sustainable ndice social bond service service aim drive stro governance risk practice compare standard product service address program reward financial performance operational ellence effective strategic leadership achievement business unit objective performance material sustainability topic topic refer company ability use compensation entive compete talent build effective lea dership team address practice initiative process aim attract etaine talent support employee develop skill necessa succeed current role include regular feedbac support career planning degree certification program lea dership training address company ability foster culture innovation drive productivity value customer topic include company abil ity leverage technology datum deliver insight invest employee learn lead technology skill address company policy procedure prevent discrimination harassment ability uphold accept labor standard workp lace include compliance labor law acce pted norm standard include limit ensure basic human right relate child labor force labor exploitive labor discri mination policy pay equality basic worker right topic add resse human right diligence process mitigation mediation action address company impact nature action commitment mitigat topic include company approach water consum ption waste management recycling biodiversity land use include implementation forthcoming recommendation topic address approach assess manage nature relate risk supply chain address approach political contribution lobbying include bility provide public disclosure political activity politic involvement lobby political expense political contribution lobbying spend address company responsibility risk management include oversight strategic direction policy procedure place execute implement licie topic include framework identify manage financial operational legal regulatory cur rent emerge technology climate nature business strategic isk address approach manage social risk supply chain topic include policy procedure relate responsible procurement practic topic human right labor right modern slavery human trafficking medium sized enterprise address effort enable small medium sized enterprise sme grow provide access capital market company accessible information pertain governance stakeholde environmental performance supply chain include adheren lead sustainability framework standard regulatory legislative disclosure mandate ommunity report focus operation indicate report use qualitative description quantitative metric describe policy prog ram practice performance note standard metric prepare report continue evolve base manageman assumption believe reasonable time preparation consider guarantee addition historical current sustainability relate statement base andard measure progress internal control process continue evolve assumption subject change future information opinion contain report provide date subject change notice undertake update revise statem ent information include issue ident ifie material purpose document consider material report purpose context disclosure term material distinct confuse suc term define reporting purpose information datum report cover own operate business addre performance operation supplier ontractor note report include information topic hav identify significant impact topic relate matter base materiality assess ment information significant impact process page report fin ancial information present dollar othe rwise note report contain forward look statement relat ing operation base manage current expectation estimate projectio actual conduct activity development implementation continuation program policy initiative discuss ecaste report differ future projection estimate actual result number vary statement set communication contain look statement involve number risk uncertainty report contain look statement relate operation base management current expectation estimate projection matter describe report word phrase aim expect intend plan target believe seek goal objective strategy opportuni tie similar expression intend identify forward oking statement caution reader look info rmation guarantee future performance hat actual result differ contain look information rward look statement include limit statement climate sustainabil ity policy program product initiative projection relate future financial result total shareholder return growth trading volume product service order backlog taxis achie vement synergy target statement closing implementation date benefit certain acq uisition divestiture strategic restruc turing technology leveraging capital return initiative statement integration recent acquisition statement historical fact look statement involve number risk uncertainty factor bey ond control factor include limited ability implement rategic initiative economic political market conditi fluctuation government industry regulatio interest rate risk global competition factor detail filing include recent quarterly report form available investor relation bsite website undertake obligation update look statement result new information future event wise intend use website means disclose material non public info rmation comply disclosure obligation ommunity',\n",
       "  'create table lead spotlight grow risk climate relate message world face challenge extraordinary company step help society overcome obstacle adversity past year world seek solution numerous need relate ongoing pandemic need include access testing ability detect track new variant increase use lifesave treatment option antiviral therapy employee great achievement involved provide answer health challenge support customer patient community ability provide answer heart year corporate responsibility report year say focused aspect fight proud continue contribution help world combat pandemic exemplify receive multiple innovation drug development work support new vaccine therapy aid identify monitoring variant provide increase access testing accomplish make notable progress priority include area great need oncology woman health autoimmune disease achievement considerable right special stop deepen impact environment social governance esg strategy compliance ethic corporate governance practice strengthen eﬀort increase diversity inclusion leadership global organization begin pursue science base target welcome opportunity continuous improvement achieve society goal true power lie intersection diverse global expertise connection help create breakthrough transformative approach world prominent health care challenge drive health care employee improve health improve life action ground science technology innovation commitment act integrity pandemic challenge hearten confidence tomorrow bring ready pursue answer people believe right thing honor recognize place work respected lead company world influential publication organization value recognition insight provide source ongoing eﬀort improve company people campus world lead life science company play important role global health responsibility mission simple improve health improve life mission test employee continue meet challenge accomplish mission relentless pursuit answer answer lifetime pandemic answer disease think untreatable answer tomorrow health challenge emerge world source advance health power clear confident decision global team leverage science technology innovation help health institution doctor pharmaceutical biotechnology company patient clear confident decision day year mission drive decision action pledge adhere mission maintain sustainable prod uctive operation employee safe support benefit planet environment ecosystem improve health improve life strategy world class diagnostic solution bring innovative medicine patient use technology improve delivery care create meaningful long term value stakeholder diagnostic drug development capability datum digitization business intensify customer focus fortify position oncology leader short long term high growth patient encounter week oﬀice mission drive employee approve novel drug therapeutic product include increase adjust compare country presence service people community multiple innovation include test collection kit child age home kit enable individual young year age test self collection test select patient service center select identify monitor variant spike confirm case sample sequence patient service center oﬀere testing observe self collection average day time result pickup perform test capacity day antibody test upfront cost test home collection kit meet clinical guideline learn leadership pandemic visit test volume capacity capacity subject suﬀicient equipment supply subject change company people cornerstone governance philosophy qualified refreshment process drive composition balance skill experience diversity expertise provide strong broad oversight practical experience strategic vision continue develop recruit diverse pool director candidate align increase diversity inclusion eﬀort employee leadership ceo operate phd phd people community learn commitment strong corporate governance practice click embrace responsibility matter create lead strategic direction key topic comprise cross functional senior management member assist set overall strategy recommend policy practice disclosure correspond year yearsaverage tenure director year year yearsaverage directorsesg include people provide leadership guidance support establish deliver short long term initiative strategy commitment positive global impact business unit geography function examine operation term environment employee health safety corporate social responsibility corporate governance sustainability relevant public policy matter include conduct determined material focus area establish sustainability driver key function action assessed organize enterprise safety energy water emission datum aggregated report earn following sustainability ranking respected party body base achieve follow safety governance accomplishment work relate injury rate employee process establish evolve mapping related governance report future publish corporate responsibility report aﬀirme exist der industry lead organization strive leverage global reach good people customer community live work daily impact hold accountable high standard aspire meet exceed form establish robust governance framework implement key leader organization strategic direction purposeful focus key topic importance stakeholder great impact early stage positive impact meaningful change set world outline year corporate responsibility report company mission improve health life commitment important component mission look near term eﬀort prioritize establish metric milestone drive progress key initiative science base target process strengthen solidify diversity inclusion framework priority positive impact company stem people know employee work tremendous dedication good world matter people community assessment report disclosure enhance reporting core focus executive leadership team lead global life science company understand importance transparent outline important relate business impact conduct identify prioritize issue reflect significant environmental social governance impact stakeholder identify issue assess importance alignment applicable principle criterion outline reputable standard include assessment result inform corporate responsibility strategy report review report disclosure click commit uncompromise integrity relate patient customer supplier vendor community operate provide service culture integrity compliance permeate operation year history continue future subject comply broad range regulation global market operate compliance program focus regulation relate health care fraud abuse anti kickback physician self referral government reimbursement anti bribery anti corruption anti human traﬀicking trade sanction design promote honest ethical conduct address compliance applicable governmental law rule regulation deter wrongdoing fair accurate timely disclosure concern violation designate report addition corporate compliance department assist connection implementation administration compliance program report corporate compliance department partner business team advance delivery world class service innovation integrity promote practice comply law regulation high ethical standard corporate compliance department support identify assess remediate risk foster culture commitment compliance accountability employee view charter click view click company people foundation eﬀective compliance program include clear understandable accessible write policy guideline outline compliance principle standard employee oﬀicer director agent representative consultant vendor contractor commit document translate language provide employee post public website review click guide business practice alignment principle set maintain contain policy variety topic include health care fraud abuse anti corruption international trade client party expense privacy insider trading conflict interest ethical labor policy available multiple language employee include corruption policy set commitment prohibit bribery improper payment form provide guidance identify red flag report suspicious activity recognize intermediary pose heightened corruption bribery risk result implement rigorous diligence process review entity individual engage interact government oﬀicial behalf review corruption policy investigation speak culture employee play important role maintain active compliance culture encourage speak ask question report concern timely manner employee responsible report actual suspect violation company policy applicable law regulation proactive manner delay urge employee question concern speak manager supervisor seek help resource corporate compliance oﬀer alternative platform report operate independent party vendor platform receive report online portal center available day year provide interpreter support language treat report take appropriate action include investigation discipline training enhancement policy process tolerate retaliation kind direct indirect good faith report actual suspect violation risk assessment integral process improvement identify prioritize health care compliance anti corruption risk labcorp conduct annual risk assessment global regional level corporate compliance department designate audit team develop execute annual audit plan additional audit review conduct result risk assessment auditing report relevant stakeholder remediation plan complete track timely manner company people community give global reach health care system reliance service include ability transport sensitive information medical specimen great eﬀort maintain robust supply chain operation global supplier network cover entire business create common global business responsible implement provide oversight strategic supplier expect foster acknowledge principle responsible employee receive rigorous training application strategic supplier expect business accordance high ethical standard act integrity uphold human right worker treat respect dignity provide safe work condition healthy work environment management system facilitate compliance applicable law company policy global pandemic cause great ays health care non health care supply chain proud report hat supply chain continue operate scale accommodate new demand supplier network make large ansporter good world assure suppli aware expectation operate integrity reliability eﬀiciency view datum commitment relate suppli sustainability click oversight develop supplier outline requirement supplier conduct business responsibl integrity require supplier register supplier portal track supplier operation increase attention supplier code conduct registration supplier allow eﬀicient transparent monitoring supplier significant eﬀort use small business ndor supplier subcontractor possible active small business purchasing program conduct business supplier small enterprise own minority woman veteran disabled individual disadvantaged include minority woman veteran business enterprise supplier bidding process applicable develop process support partner represent diverse underserved community company people community care risk expand require eﬀort manage recognize create enterprise wide approach party risk management have eﬀective party risk management program impact ability grow innovate fulfill mission deploy approach feature implementation central common enterprise risk management program centralization process party risk sessment relate cyber risk compliance anti human traﬀicking foreign party datum privacy creation charter policy standard procedure scalable process allow future exp ansion intake gate process risk domain area esilience esg program address stage relationship lifecycle planning strategy tpr assessment evolve program address remain stage contracting ongoing monitoring management periodic evaluation company people community responsibility address issue human traﬀicking exploit human being policy procedure training place help avoid detect address issue modern slavery human traﬀicking force labor unlawful child labor commercial sexual exploitation unethical illegal labor practice employee agent subcontractor supply chain recognize importance maintain promote fundamental human right operation supply chain derive principle guidance operate program policy provide fair equitable wage benefit condition employment accordance local law employee right freedom association provide humane safe work condition support work environment free human sexual traﬀicking force bond labor unlawful child labor promote workplace free discrimination harassment address human right environmental issue connect mining trading conflict mineral commitment company policy procedure training place help avoid detect address unethical illegal labor practice employee agent vendor supply chain view file combat statement human visit company people community protect information remain important task process deliver result hundred thousand test day generate provide client vast amount clinical trial datum process claim payment datum payer patient customer vendor risk cyber threat need heighten cybersecurity significant evolve process system enable operate reduce risk disruption service transform work environment large segment work response broaden enhance cybersecurity eﬀort mitigate relate opportunistic attack continue improve risk base decision make model well support business outcome enhance crisis management activity protect critical infrastructure expand program assess address security data privacy risk value patient supplier outsource service provider customer treat personal information include limit patient study participant employee strictest confidentiality accordance contractual commitment ethical standard applicable law jurisdiction business include limit personal information maintain collect process store transfer adequate precaution maintain confidentiality personal information access specific authorization authorized permissible purpose minimum personal information necessary purpose access disclose access use disclosure authorize prohibit review privacy policy visit protection information security lead team lead team organize security discipline risk compliance responsible protection electronic datum information system generate transmit store monitor protect system network cybercriminal seek steal sensitive information team develop detailed cybersecurity breach protocol crisis risk management procedure addition address human element deliver cybersecurity training phishe simulation comprehensive multi modal persistent behavior management communication program threat grow sophistication complexity pandemic scale operation accommodat pandemic relate demand scale cybersecurity eﬀort defend potential risk continue evolve cybersecurity infrastructure policy focus datum protection allow reduce time require identify mitigate potential threat labcorp adhere strict internal datum incident management notification procedure require applicable law notify competent supervisory authority datum incident data subject data incident involve personal information assess circumstance notification require report breach personal health information require law state local authority applicable report available obtain people community compliance ability achieve maintain consistent compliance contingent rigorous training development employee provide employee routine training remain compliant critical step trust help health care accuracy integrity annual compliance training include training privacy training require employee stipulate mandatory target training health care fraud abuse topic anti corruption insider trading require select employee population compliance training focus build employee awareness understanding compliance relate matter training highlight include learn develop team click hour datum privacy information security training increase complete cybersecurity datum privacy information security course employee completion rate employee completion rate people diverse global team employee country core ability innovate meet customer need person critical role deli vere mission collective diﬀerence diversity help team achieve exceptional outcome drive health care contribute healthy productive respectful work environment empower sustain create employee unparalleled scientific expertise uncompromise commitment patient evident role fight global pandemic pursuit health care solution area aspire provide inclusive workplace employee thrive set achieve focus area company people community success depend continue capability attract develop retain specialize skilled diverse global workforce industry pandemic present challenge acquire retain talent obstacle global reputation contributor advocate improve health life influence ability attract talented diverse global employee hiring outpace voluntary attrition diversity hiring profile equal internal representation global employee female global management female employee people color management people growth global head count annual increase time time employee employ collective bargaining agreement global headcount supplement contingent labor exceed application employment external employee hire country rate african people hiring people community inclusion evolve solve tomorrow commitment diversity hold organization lead sign diversity inclusion strategy design continue journey evolve workforce inclusive dynamic global workforce change end implement follow action base pillar focused foster inclusive environment strengthen culture launch unconscious bias training program design improve self awareness personal bias people manager manager complete training oﬀere formal mentoring program include reverse program recognize category develop expand leadership development program woman program focus mid level leader senior leader gather woman vice president world virtual event call focus business outcome leadership insight company people launch new leadership development program include program manager level employee business focus solve address strategic business issue leadership development program partnership local university leadership program design tier business school expand total group country chapter erg lead employee volunteer important resource foster cross company connection encourage belong support career development champion employee voice executive sponsorship senior leadership erg create new erg feature section spotlight inclusive leadership leverage cross organizational leadership launch ambassador advocate leadership progress business unit sustain diverse talent pipeline continue attract diverse talent robust talent succession process hire developmental program create environment continue erg growth membership stand latin employee unite purpose advocate network surround community organization launch provide awareness support hispanic latin culture unique composition member span country include have array cultural background diﬀerence year group turn advocacy action follow initiative facilitate series event raise cultural awareness include host speaker engage hispanic latin university student population connect ambassador potential recruit partner operate identify help hispanic latin community address lifesave access bone marrow transplant aspire foster inclusiveness connectedness asian employee ally cultivate sense community drive business result launch chapter member locate launch meaningful activity hold speed networking event connect member level business unit discuss importance mentorship create position focus engagement organization nonprofit local community celebrate milestone year anniver arie erg promote rment empower erg provide powerful forum employee allie share support learn develop group create iverse inclusive environment turn drive engagement innovation overall success understand diﬀerent culture experien background unique impact people community customer company people community people people people roll base preliminary year end datum click view raw datum operator company people community team pandemic impact entire health care ecosystem cause increased stress challenge organization help proud provide significant benefit service particular emphasis improve health relate program support employee safety expand health benefit program add company pay short long term disability insurance coverage hold payroll contribution flat medical dental vision insurance plan benefit cover employee dependent reduce cost monthly insurance contribution year employee earn year provide annual medical plan contribution discount employee spouse partner commit maintain healthy tobacco free lifestyle encourage health wellness education activity provide contribution employee spouse partner include vaccine flu vaccine reimburse fitness relate cost company people community team employee meet unique challenge face patient customer provide impactful answer solution need invest addition merit recognize reward global workforce particular focus frontline worker provide separate global gratitude bonus employee award retention payment employee key global position encourage continued career development market base pay adjustment include raise minimum wage employee hour invest increase base wage additional employee earn year encourage retirement saving plan participation develop team organization pursue answer world critical health care question incumbent support employee work environment put continuous learning development forefront achieve follow training milestone provide course available global learn management system complete hour training consist regulatory technical training match employee mentor large number match date program year history complete hour professional development launch remove access barrier college level coursework life science health care field provide tuition upfront program supplement exist tuition reimbursement program believe good learning come mix formal course program combine mentor coaching ell challenging work project experience approach ref err development framework align belief action oﬀer formal informal mentoring job rotation opportunity temporary assig nment company people community leadership leadership framework call compass guiding expect behavior introduce people leader leadership comprise principle foundation principle demonstrate leader create environment trust respect inclusivity principle define associate behavior describe look action work principle develop relevant time applicable leader level geography demographic see recognizable introduce program process performance management development oﬀering talent review process leadership resource program curriculum available manager year embed leadership development company people grow commit improve health live global community seek action improve environment evolve operation sustainable way health environmental health interconnect strive improve planet health improve health care health patient step evolution join business financial institution commit participate collaboration commit demonstrate intent reduce carbon emission scale intend develop science base target align criterion submit target validation approve target maximum company people community process assess emission develop target action plan scope emission result activity asset own control impact value chain preparation identify key driver functional area focus improve performance safety comfort employee visitor patient minimize ecological impact associate operation reduce energy use operation waste preferred manner seek improve lifecycle impact purchase asset reduce greenhouse gas emission associate activity manage water consumption lifecycle select manage consumable material people community initiative reduction overall waste decrease energy million revenue hybrid electric vehicle reduce overall greenhouse gas emission recycle waste grow percentage renewable energy total energy usage gigajoule rating rating people increase renewable electricity reduce regulate medical waste generate reduce water consumption establish follow environmental sustainability target base baseline level normalize applicable change operation facility company people community waste reclamation rate people create increase demand operation fleet proud eﬀort reduce environmental impact net overall greenhouse gas emission reduction decrease total energy consume compare significant achievement plan continue evolve operation protect planet respond questionnaire reporting period use knowledge gain participation refine carbon energy reduction strategy include setting carbon reduction goal follow annual inventory complete accordance report dard inventory outline page aim help employee support local project link broad approach sustainability mission help drive local global sustainability eﬀort use pilot eﬀort help grow sustainability eﬀort employee impact lifestyle choice environment oﬀer employee easy opportunity eco conscious choice work home example include member implement polystyrene recycling program installation polystyrene recycling equipment site result eﬀicient handling processing polystyrene waste polystyrene waste collect week collection require mile round trip new recycling equipment polystyrene waste compress small briquette weigh kilogram briquette collect month recycle construction industry implementation equipment pay help reduce emission look plan establish additional reen site globe change rev change emission generate emission market base method reflect emission electricity company purchase diﬀerent electricity generate location base emission datum available time report total update change rev change electricity renewable mobile jet jet renewable energy consumption material reporting year represent consumption purchase electricity company people community change rev change emission scope emission location base emission market base emission scope market datum update portfolio review process business commercial travel limit relate travel restriction change total freshwater withdraw rev water quality permit standard regulation site high global portfolio include global laboratory water use concentrated high high water stress area water datum actual datum utility bill global self report estimation site water include lease people community ton change rev incinerate landfille incinerate landfille incinerate landfille incinerate landfille nonhazardous waste report laboratory time come year plan expand number site capture report datum hazardous waste report global laboratory hazardous waste produce omestic site medical waste report global laboratory define people rating annual corporate responsibility report update internal external stakeholder reporting channel prepare annual submission independent party assessor sustainability program share energy emission datum accordance information environmental operation risk investment current rating specific program place improve score time response public information accessible website addition answer broad questionnaire provide client specific information request questionnaire cover topic space allow showcase broad social environmental eﬀort enterprise diﬀerent public response cli ent allow company assess performance global supplier provide individual score environment labor human right ethic sustainable procurement overall ranking time publication report achieve bronze rating vehicle recognize opportunity reduce collective impact environment help combat climate change reduce fleet environmental impact plan continue increase hybrid electric fleet acquisition increase fleet collective mpg year pandemic increase daily test volume demand fleet speciman pickup supply delivery fleet ability scale transportation logistic assure test specimen critical supply deliver timely secure manner create sustainable fleet key energy conservation emission reduction eﬀort increase hybrid electric vehicle use vehicle increase fleet fuel eﬀiciency mpg decrease total gasoline fuel use gallon company people review identify risk create scenario determine potential outcome base scenario create business continuity plan risk crisis management plan event impede ability business plan review update ongoing basis risk categorize prioritize review business unit level major risk report crisis advisory team appoint site advance team practice event preparation regular basis risk review risk management program lead leadership group examine large systemic issue impact include risk impact reputation brand value identify long term risk physical asset group evaluate preparedness scenario recommend process procedure improve performance risk leader meet examine risk trend determine process measure furt reduce risk organization parallel dedicated risk management eﬀort assess climate change risk opportunity ongoing basis report client customer investor ehs work party consultant help identify long term climate trend implement measure mitigate risk business continuity practice divert specimen network vendor procure equipment employee safe operation run minimize impact event climate world encounter severe frequent natural disaster damaging weather event ability plan identify react help event occur critical focus health safety resilience people patient customer property research community support focus maintain comprehensive program align standardization security resilience business continuity management system requirement program include business continuity disaster recovery assessment planning prepare business technology team respond adverse event crisis management lead response adverse event happen leverage plan respond global regional local event year support continue resilience people patient customer risk opportunity identification process incorporate overall exist risk management framework risk assessment undertake party insurer model catastrophe hurricane earthquake inland flooding storm surge partner provider evaluate local condition implement mitigation measure example risk management team identify certain location wildfire zone instal sprinkler system perimeter facility company people community health safety employee paramount dedicate provide safe work environment lab fleet driver deliver test specimen help enhance safety program consolidate ehs function establish consistent common safety policy procedure area focus operation employee assistance program globe assist employee family event natural disaster adverse event aﬀect safety security eﬀort coordinated crisis management eﬀort appropriate hold work relate injury rate employee flat reduce work relate lost time injury rate employee implement common corporate process allow assess location common expectation performance criterion include establish virtual process address concern provide hour safety training challenge organization able minimize impact staﬀ operation careful planning consistent global implementation precautionary include additional cleaning sanitization social distancing protective equipment facemask face shield respirator increase ork home video communication technology change change total recordable incident rate day restrict transfer company people community global animal welfare policy found commitment respectful humane care use animal research animal research critical require government body development new safe eﬀective medicine device product protect save life people animal treat animal work biomedical research care compassion respect adhere strict standard ethical conduct provide welfare believe take good care animal good science right thing commitment welfare animal work research extend animal relate supplier vet global vendor qualification process adhere regulation applicable relevant include protection animal scientific purpose animal addition regulatory requirement eﬀort commitment animal welfare accreditation animal care site signatory inception agree review commitment animal welfare learn dedicate establishment adherence hig standard care welfare company people community global animal welfare policy embed organization commitment respectful humane care use animal develop launch global training module aim foster conversation sharing good practice animal care site training support adherence commitment respectful humane care use animal research focus continuous improvement animal welfare standard continue advancement principle replacement reduction refinement provide solution global animal care welfare community reflect importance principle support leverage principle example right illustrate commitment challenge hold historical drug development paradigm study design execution example demonstrate willing evolve lead study approach able achieve success work external organization innovation animal welfare provide additional benefit key stakeholder welfare champion influence world animal care welfare external example expand genetic toxicology footprint enable increase capability broaden study capacity investment create sustainable evaluation process root adaptable diﬀerent industry product development pipeline cardiovascular pulmonary provide option potency assessment test suite hopeful expansion allow reduce animal population study reduction bioconcentration biomagnification study carry determine substance potential accumulate concentrate area body increase requirement conduct study broad variety pharmaceutical industrial chemical crop protection product result use significant number fish standard test method require group fish expose diﬀere concentration chemical include control fish dose follow revision justify option test concentration combination control group adopt approach justify reduce use fish mouse scientific drug development study research welfare establish traditional method handle base tail cause unnecessary animal stress lead development cooperative handling technique involve training mouse enter tube walk handler cupped hand easy removal home cage site implement new tunnel cup technique implementation ongoing additional site completion target company people community decentralize clinical trial represent patient centric approach conduct study trial new medical treatment vaccine device reduce patient burden traditional brick mortar study model pioneer year experience technology provide remote accessibility clinical trial participant include remote monitoring key health metric lab test perform home speciman collection kit mobile collection service drug administration virtual phone video visit study participant dct remove barrier slow prevent study conduct past dct trial participation viable option people include remote diverse patient population underrepresented clinical trial limit ability conduct person clinical trial catalyst dct innovation experience combine enhancement infrastructure allow meet additional demand dct spur pandemic result year year increase award dct prove reduce improve oﬀere follow benefit allow increase trial population expand eographic reach participate clinical trial reduce transportation issue patient ccess car public transportation non dct trial patient travel hour reach near study site reduce time commitment enable patient maintain normal day day activity allow patient receive drug delivery home reduce barrier patient physical cognitive impairment allow remote health monitoring quick contac study team drive solution combination online screening remote consent televisit use virtual investigator mobile nurse make possible reach patient broad geographic footprint digital solution allow study sponsor enroll patient time gather datum continuous monitoring optimization make possible bring essential therapeutic market wearable mobile device provide enhance way gather continuous datum patient activity health trial participant perform self assessment equipment heart monitor pulse oximeter ship home virtual support researcher record transmit datum include real time datum enable study site detect signal evaluate patient safety require physical interaction evaluate biological process help understand person health digital biomarker define objective quantifiable physiological behavioral datum collect measure digital device portable wearable implantable digestible sensor continue implement technology advance use digital biomarker eﬀort clinical research care process patient centric risk base eﬀicient personalized informative company people significant opportunity improve health life serve globe community need support combat ongoing pandemic rebuild natural disaster address health education disparity underserved population ability leverage operation good community remain focus corporate philanthropy volunteering eﬀort employee work initiative impact community globe align focus area health welfare education community provide vaccine location second surge case country supply free testing underserve population partnership transport administer vaccine underserve resident vaccination eﬀort underserve patient company people fund construction rainwater harvesting unit unit hold liter rainwater save average liter rainwater year family receive unit local school village council oﬀice benefit individual community aim address financial disparity food insecurity science technology engineering math education underserved mmunitie company employee contribute numerous alified health center hospital foundation community program include list volunteer hour distribute hygiene education kit provide underprivileged child session personality development language computer communication skill contribute provide free health wellness screening education local resident sponsor support program initiative area substance treatment addiction prevention include service underserved youth family experience homelessness support program focus provide health care service uninsured underinsured underserved population local area health care professional fund provide patient education focus cancer diabete woman health support program provide primary care dental behavioral health pharmacy service underserve population include live community individual substance use disorder specialty health need donate pound food help feed family need collect pound toiletry item underserve student raise local employee contribution help coworker impact recycle donate personal electronic redistribution rural community improve technology access seek expand global give program remain committed grow collective impact ross community operate people community establish dation private charitable organization inception undation play important role advance support area health welfare education community underserved population continue grow impact aritable committed work employ world expand global reach address need dispar itie vulnerable population award grant support food pantry summer meal program child provide access health care patient support service underserved broaden accessibility stem education programming oﬀere ongoing support medical research screening program promote healthy lifestyle example contribution include funding support increase access care identify opportunity early intervention prevention debilitate complication improve health equity access people color live diabetes funding support implement serve health lesson goal reach woman color important health message pment funding support expansion program service benefit low income youth tutoring literacy behavioral health service program support educa tion funding support work close gap hispanic family help funding provide meal day youth reside homeless youth center funding support provide free mammogram health education minority community funding provide underserve community great access health care advocate elimination health disparity funding support provide nutritious food community member live food desert end funding support patient navigation program critical support program address health equity prostate cancer black low income man people community code requirement page disclosure organization activity brand product service headquarters people legal form serve organization people employee people chainsuppli chain shi precautionary principle approachthird risk tcfd disclosure initiativesdiversity evolve solve tomorrow challenge operation senior decision maker message key impact risk opportunitie risk tcfd disclosure principle standard norm behaviorlabcorp advice concern ethicsbusiness code requirement page structure delegate tcfd disclosure level responsibility economic environmental social tcfd disclosure stakeholder economic environmental social topic continued high governance body high governance body select high governance conflict interest high governance body set purpose value strategylabcorp collective knowledge high governance message high governance body performanceproxy manage economic environmental social disclosure tcfd disclosure risk management processclimate risk tcfd disclosure economic environmental social tcfd disclosure governance body role sustainability tcfd disclosure critical concern investor relation total number critical stakeholder group code requirement page include consolidated financial define report content topic boundary message material topic report information report reporting period continued recent report reporting cycle annual point question reporttbd report accordance report close alignment possible feasible claim accordance disclosure list unable report time continue seek expand reporting disclosure future content index disclosure statement material topic boundarymateriality assessment report management approach componentslabcorp management approach proxygri code requirement economic value generate implication risk opportunity climate changetcfd disclosure significant indirect economic impact assess risk relate corruption continued training anti corruption policy procedurescode embed compliance material recycle input material energy consumption organizationenergy energy consumption water consumption water code requirement page emission direct emission emission indirect emission emission indirect emission emission emission intensity emission emission tcfd disclosure type disposal method health safety management systembusiness promote keep participation consultation communication occupational health safetyembedde compliance keep develop continued training occupational health safety embed compliance keep develop worker healthembedde compliance keep support code requirement page hour training year employeedevelope upgrade employee skill transition assistance program develop governance body training human right policy procedurespromote embed compliance local community engagement impact assessment development supplier screen social criteriasuppli supplier measure talent recruitment retention eﬀort scientist research development personnel enforcement action take response violation current type number enforcement action response violation policy practice secure customer protect health information record identifiable information keep embed compliance code ethic govern interaction health care professional energy consume energy consume grid electricity percentage energy consume energy consume energy consume energy consume renewable electricity percentage energy consume energy consume measure hazardous pharmaceutical waste total nonhazardous pharmaceutical waste percentage hazardous incinerate hazardous landfille nonhazardous incinerate nonhazardous recycle treat percentage nonhazardous landfilledmetric ton percentage medical waste medical waste incinerate medical waste recycle treat medical waste landfilledmetric ton percentage policy practice address physical risk increase frequency intensity extreme weather event change morbidity mortality rate illness disease associate climate tcfd disclosure total recordable incident rate rate keep day restrict transfer raterate keep continued describe oversight climate relate risk high level direct responsibility climate change reside information climate change issue aﬀecte business continuity lead communicate team report key enterprise ehs risk opportunity progress key initiative include climate relate initiative ceo message management role assess manage climate relate risk high level management position responsibility climate relate issue real real serve comprise senior management personnel direct responsibility set general strategy recommend policy practice disclosure conform strategy put system place deem necessary appropriate monitor matter clo real report matter climate change risk opportunity prioritize manner substantive risk operation assign coordination alignment action broad company goal initiative addition formal process review discuss issue identify exist risk management framework include climate risk use internal methodology rank risk base impact probability mitigation plan issue identify meet criterion elevate high priority specific measure implement mitigate risk capitalize opportunity operation risk report ceo regular basis year risk elevate framework department assess local issue relate climate change carbon pricing compliance impact continuity cost supply chain report leadership assess issue complete survey risk management describe climate relate risk opportunitie organization identify short medium long term identify short medium long term risk involve follow climate relate scenario emerge regulation carbon pricing mechanism acute physical increase severity frequency extreme weather chronic physical rise mean temperature identify follow opportunity involve follow climate relate scenario resource eﬀiciency organizational transition eﬀicient building resource eﬀiciency reduction water usage consumption resource eﬀiciency use eﬀicient mode transportation include increase purchasing hybrid electric vehicle logistic supply chain fleet climate continue describe potential impact diﬀerent scenario include scenario organization business strategy analyze physical impact climate change likely scenario increase severity frequency extreme weather event tool evaluate business resilience risk mitigate crisis response plan risk management procedure business continuity plan create site link crisis management plan review plan ongoing undergoe annual review facility level sis advisory team appoint advance risk ssessment perform practice event likely scenario hold monitoring reporting occur ongoing basis estate meet examine risk trend det ermine process measure reduce increase resilience organization change technology landscape lead conduct scenario analysis evaluate use eﬀicient mode transport uncertain regulatory environment usual scenario minimum value report maximum value report calculate business impact recognize benefit integrate climate relate scenario analysis business strategy scenario planning set process help achieve desire carbon impact climate describe process organization identify assess manage climate relate risk risk integrate organization overall risk managementfor purpose response define substantive risk impact impact company business financial position disrupt delay inhibit ability conduct testing service research definition substantive risk response question present substantive risk consider relate matter fact deem material reasonable investor refer security law similar requirement jurisdiction investor refer disclosure filing include quarterly report current report form discussion material matter describe metric target assess manage relevant climate relate risk establish divisional level goal reduce emission end achieve reduction emission provide annual update metric climate relate risk associate emission energy water waste public report corporate responsibility report join grow group lead company set emission reduction target intend develop target align criterion submit target sbti validation publish approve target maximum month operation grow disclose appropriate scope emission related risksdata outline develop accordance report continued latinonot hispanic race race mid level sale operative final datum finalize base submission timeline contain look statement meaning safe harbor provision amend include limit statement respect company achievement goal relate matter describe addition information operating financial result impact factor business operation general economic market condition look statement subject significant risk uncertainty change base important factor company control factor case aﬀecte future factor aﬀect company ability implement company business strategy establish achieve goal set actual result diﬀer suggest forward look statement result reader caution place undue reliance look statement obligation provide update look statement expectation change look statement qualified entirety cautionary statement information potential factor risk uncertainty aﬀect include company recent subsequent form include case head risk company filing available website',\n",
       "  'today well tomorrow cover image age play new smart comfort companion utilize feeling card compatible web base app enable duck mirror patient care routine express range emotion patient feel help comfort patient cancer treatment journey document refer business company company business company business ronment ronment year old diagnose pediatric cell acut lymphoblastic leukemia treatment admit ﬂac hero qui strength help leukemia treatment future dream care health care industry work laboratory day help patient look graduate high school live healthy fulﬁlle life contribute help child cancer rough ronment distribute child undergo cancer treatment hospital month old diagnose acute lymphoblastic leukemia aft remission year old time receive chemotherapy care say care team treat family say experience today inspire pursue career medical ﬁeld work nurse share story bring hope patient ronment employee log total volunteer work increase year old find stage undiﬀerentiated sarcoma liver undergo month chemotherapy cure complete bachelor degree master degree business inspire car receive join team independent sale agent begin career outside work enjoy spend time wife harlotte explore new exciting place ronment year chief executive think see see event report recount event take place remiss fail address year virus microbe mere bug shut planet extract trillion economy destroy disrupt countless life time company workforce minority female national event take place comment time test decade long commitment corporate value social responsibility business accountab ility equality ethical behavior say ure webinar build culture risis build improve perpetuity guide principle care employee turn care siness date civil right movement mission ﬁght uality racial justice show continu path year include analysis challenge evement teamwork lesson emerge unprecedented unforeseeable read matter consistency oblige relate progress corporate social responsibility goal report report card example performance meet ric progressive corporate governance cybersecurity gender equity volunteerism professional development philanthropic giving green initiative technologi advance supplier diversity community supp ort advent journey complete environmental social governance reporting reﬂecte company hold commit ment authenticity honesty transparency story action family impressive reﬂection work support stakeholder lusive shareholder detail promise emp loyee customer partner community believe responsi ble culture diﬀerentiator set maintain record business success attract retain superior professional welcome diverse inclusive work environment community good intend good community yesterday today future generation know care business decision right thing message ronment decade think leadership take responsibility good corporate citizen support community care environment treat employee distribution rtner policyholder important year advance ball area pertain environmental social governance operationalize key initiative consistent vision report focus accomplishment impossible recognize bring special set challenge pandemic serve highlight importance ﬁnancial strength risk management take decisive action commitment employee independent sale agen policyholder shareholder community thrive way example crisis workforce transi tione work home environment little week time japanese mployee transition work home unable work receive ntinue leave continue pay independent sale agent apply receive interest loan guideline bridge crisis policyholder wer grant grace period pay premium action assist utilize coverage need arise beneﬁtte donation support ﬁrst responder pandemic place importance move digital environment accelerate investment allow eﬃciencie orke home expansion customer self servic reduction use paper design improve customer experience activiti serve lower carbon footprint remain proudest true deﬁning strength character consi stent record right thing employee community concept social responsibility character remain strong good bad time say crisis create character reveal message build online hub design investor learn performance goal strategy take ﬁrst step journey carbon neutrality emission name ﬁrst chief oﬃcer report strategic eﬀort ronment corporate governance extend compliance regulation ethical commitment create well tomorrow stakeholder employee customer community follow high ethical principle true north provide framework continue succeed endix purpose proﬁt ethical company way business accomplis uncompromise corporate governance system build integrity begin founder true governance measure transparency hare responsibility commitment protect stakeholder community diﬀerence product life policyholder engagement employee believe sustainable appr oach business continue increase shareholder value believe make diﬀerence balance purpose member agile team work business process streamline improve product customer treat respect care core treat want treat people want work feel value human employee human matter kind environment continue build executive vice president general counsel ailgate anticipated team build day ﬁlle fun leave right stop quick break festivity endix good good business highlight employee receive ethic training commit raise percentage woman leadership position meet goal employee indicate value ethical company accord name point civic list community company second consecutive year commitment diversity way board member ethnic minority woman board director diverse term ethnicity gender recognize consecutive year insurance company receive honor inception endix code base value constitute teamwork respect fairness honesty integrity responsibility value instill company year duty conduct usiness mind uphold letter spirit code sure company provide kind genuine personal service founder set standard code outline commitment company akeholder fellow employee customer shareholder business partner supp lier community environment regulator code show responsibility stakeholder fulﬁlle ethical way commitment behave ethical trustworthy manner capture guide principle know way uphold tenet represent aspect corporate governance commitment communicate respond know stuﬀ treat everyon respect care problem problem shoot cover customer code business conduct brother leave right found endix commit sustainable future improve life generation come global employee independent sale agent partner share company purpose commitment ethic philanthropy environmental sustainability diverse equitable inclusive workplace aﬂac governance include corporate responsibility oversight board director comprise employee chair chief oﬃcer set sustainability performance objective monitor implementation performance objective oversee progress social environmental goal integrate design framework bring subsidiary wide information feed overall initiative ensure sustainable growth increase interest relate issue launch report relate financial disclosure disclosure commitment ethical decision making begin board director guide principal committee committee provide framework base core value guide manage company good interest employee policyholder investor community maintain active role public policy arena transparency cornerstone communication stakeholder addition comply state federal regulation additional step eliminate obfuscation common corporate governance example company requirement post political activity report commitment transparency engender conﬁdence critical company reputation invest sustainable future invest sustainable future generation endix management multipronged approach invest continue evolve integration process internal scoring system use mixture external internal factor indicator construct rating security score view supplementary datum numerous ﬁnancial metric use credit underwriting analysis low score issuer discuss typical credit conversation determine impact credit quality future cash ﬂow issuer seek engage management team issue manage portfolio possible invest green bond clean energy project continue look similar opportunity meet strict credit underwriting process return requirement portfolio include investment real asset expose potential climate change relate event include ﬂood wildﬁre hurricane investment guarantee internal investment team external manager partner seek mitigate risk rely party expert conduct engineering weather analysis insurance review legal proceeding accordance requirement disclose material legal proceeding ordinary routine litigation incidental business good good business activity cost insurance industry association policyholder billion dollar year mission deter detect respond fraud decrease loss use education system control investigation help eliminate fraud fraud prevention measure protect customer employee investor continue deliver promise right thing launch launch pursue investment opportunity cancer health tech insurtech company engage investment project target late stage venture company initiative enhance value customer create variety innovation see opportunity new growth provide stability customer value shareholder senior vice president compliance right international senior vice resident general counsel left address dience business ethic expert endix senior manager department responsible help craft clear messaging global level cover matter relate company ﬁnancial performance environmental social governance matter include help shape communication strategy reinforce commitment engage investor policyholder regulator open ethical transparent manner attract work year seeing read accolade company receive day clear recognition receive hype representative exceptional company operate level transparency integrity unsurpassed commitment high level ethic say honor keen commitment integrity base career deliver ﬁnancial operational messaging way deﬁne organization worthy name consecutive year establish task promote implement agile way work honor commitment serve customer need addition create facility call support employee new practice release agile tool know develop internal personnel system governance process spread awareness promote agile employee company hold event use internal portal site share video customer engagement important principle team support employee agile practice deliver great value customer say strive well tomorrow thank eﬀort team agile way work generate value variety area example include enhance claim ﬁle premium payment procedure shorten product development time improve service provide independent sale agent continue expand enhance product service provide customer content endix ongoing investment well tomorrow provide critical infor mation global cybersecurity threat recommend action plan protect policyholder information dedicated information security team detect block million attack month protect policyholder ployee conduct cybersecurity drill team ensure policyholder datum protect employee requi red complete privacy security training urity team initiate periodic testing employee attention detail xercise phishe attempt continue world connecte employee make substantial eﬀort pro tect informational asset help accountability model phishe attempt awareness test reduce risk enhance cybersecurity employee pass endix continuous innovation enhance customer experience year help provide ﬁnancial prote ction peace mind company customer highe priority deliver promise serve customer emergency wait belief policyholder policyholder insure get sick hurt process claim wide range customer employee use datum technology info policyholder improve experience expand digital capability website mobile device application implement voice recogniti center step take include team ocuse key area accelerator design meet customer need digital tool incubator explore future opportunity innovation tential startup partner leverage payment app call pay help customer pay cash customer convenience enhancement provision orm impair sign language translation service hear imp air customer convenient retail insurance location call onsulte customer meet representative face face consultation determine possible insurance need artiﬁcial intelligence optical character recognition automate datum entry transaction month team year team gather share good practice foster innovation bring people diﬀerent background generate new idea content endix spend diverse engagement contribute million contribution economy sustain numerous generate multipli eﬀect support addition job supply chain supplier communitie diverse business important economy ﬂac commit support supply chain bolste ring growth program dedicate work supplier conduct utmost integrity fairness respect deﬁne wall support small diverse business increase minority own own own business endix diverse business investment well tomorrow start backyard generate aximum economic impact small diverse company base total economic activity generate direct indirect induce impact support total number job support spend diverse supplier wage support cumulative earning employee job support purchase diverse endix supplier diversity spotlight partner choose diverse selection supplier option broaden company access experience insight idea company active rticipant initiative support development veter own business enterprise economic development ﬁrm represent woman business enter prise minority business enterprise provide immense value incorporate par tnership instrumental provide cost save solution eﬃciencie mailing operation provide relocation service ﬂac incorporated ensure process seamless stress free deliver innovative software help address acqui adopt technology solve challenge assist recognize vendor duplication help consolidate vendor servic possible cpa beneﬁcial partner oﬀering audit account assurance service eﬀort rumental support internal audit department work cial risk management area organization endix employer insurance industry recognize sound fair compensation process big make employer choice ensure equal pay equal work job title hold man woman review account employee position salary ratio skew favor woman executive consider fac compensation executive approve shareholder annual nonbinding shareholder pay vote ﬁrst trade company conduct vote addition consideration annual raise bonus employee individual company performance level integrity equality endix ensure function corporate division operate centralized internal compensation function provide oversight input company management ensure compensation consistent job scope duty responsibility deliver consistency compensation function evaluate new hire job oﬀer promotion compensation adjustment ensure equitable compensation review analysis current prospective job role review model approach ensure equal pay equal work level associate compensation determine base market datum job scope duty responsibility ensure equity gender ethnic minority deﬁned pay structure deﬁned salary structure review update utilize market datum serve framework guardrail compensation administration participation compensation function participate receive compensation survey result multiple recognize compensation consulting ﬁrm survey help analyze market trend base key factor revenue size asset size market value geography headcount annual review process deﬁne annual compensation adjustment process help ensure equity organization review potential compensation adjustment base multiple factor include performance internal equity market level consult service partner recognize compensation consulting ﬁrm assist review compensation practice include competitiveness pay level design structure market trend technical consideration validate consistency legitimacy equitability compensation practice process grievance process commitment transparency level encourage document open door policy formal grievance procedure event employee perceive inequitable pay disparity time employee career process document communicate employee handbook board level review goal objective executive compensation plan evaluate performance executive oﬃcer set compensation level base evaluation review company incentive compensation program determine incentive compensation program encourage excessive risk take evaluate structure compensation policy mitigate risk ensure compensation beneﬁt plan achieve goal objective content endix good good business day invest family meet exceed gender relate goal workplace environment employee value look future take good care people develop crisis strive approach employee feel fulﬁlle love come work day foundati good company culture daily eﬀort prioritize provide workplace encourage diversity equity sion oﬀere program help protect employee health contribute employ overall good business right thing founder say care employee employee care business people focus approach culture strong passion purpose promise quality secret sauce president picture center applaud celebrate year service family original found principle lift ﬁnancial burden suﬀere cancer action culture rooted employee change time hold value continue good society president representative direct center communicate employee learn company improve workplace employee value content people workplace highlight employee feel motivate empower right thing accord receive accreditation award class company committed support work parent child care assistance recognize time commitment diversity award high grade certiﬁcation company promotional eﬀort woman advancement workplace ﬁrst life insurer receive recognition ﬁrst signatory pledge hire promote retain celebrate workplace year recognize latina work award promote balance work child care male employee award exceptional telework pioneer rank world company year content woman workplace dedicate provide opportunity career nhancement woman workforce senior oﬃcer role include vice president senior vice president executive vice senior oﬃcer proud support woman workplace employee female minoritiesof leader leadership role include oﬃcer director senior manager manager supervisor content demographic position row add category exclusive woman hispanic asian native race professional sale total employee heart soul company eep grow family reﬂecte exist compositio diverse workforce level company junior staﬀ senior leader category administrative support worker craft worker skilled operative skilled laborer unskilled service worker technician task ensure employee representative feel safe discuss workplace issue new team focus promote inclusive engage work environment employee feel connect value new team build relationship employee ensure fair working environment standardized practice procedure organization well employee experience appropriate workplace recommendation approachable human resource counseling team keep employee wing content view diversity integral company understand maintain diverse corporate culture transl ate wide variety diﬀerent viewpoint new perspective level company commit attract diverse workforce valuable employee ensure diversity reach level company develop oversee diversity inclusion strategy provide equitable spousal beneﬁts employee policyholder able assign death beneﬁts insurab interest orientation gender identity support communityrecruitment hire new employee ethnic minority woman increase intern ethnic minority woman diversity diversity minority millennialsethnic diversity woman keep promise design enco urage woman advancement workplace assistant manager woman woman empowerment program develop career leadership skill launch way promote woman leadership position mean encourage woman remain advance workplace aﬂac leader design program tenet enhance diversity promotion framework ensure management accountability develop training resource woman encourage diverse work style apply operational evaluation process visibility reveal eﬀort advance woman workplace start woman leadership position grow woman leadership position year schedule track line manager position ﬁlle woman line manager woman year support employee ensure get opportunity need achieve vision training education available female employee learn strength weakness necessary skill take leadership position oﬀer unconscious bias training order help manager understand promote diversity area responsibility content celebrate diﬀerence build inclusivity celebrate highlight physical mental generational social food diversity bring fun way celebrate commitment diversity location arrange slew enlighten festivity host educat ional forum enjoy global sweet learn informative trivium create vision board discuss culture employee drive organization start annual raise awareness educate employee diverse culture lean sport theme activity trivium involve global sport information session share experience employee employee embrace diﬀerence weeklong indulgence italian american dessert employee begin celebration donate backpack school supply local child enjoy weeklong feast tasty snack diﬀerent culture world host town hall meeting location provide opportunity employee learn commitment diversity workplace topic include workplace reform improve work life balance speciﬁc challenge employee face oﬃce host activity include painting class companywide workout interactive scavenger hunt leave right joy employee celebrate culture consecutive year recognize great place work believe invest employee career development work life balance opportunity allow manager participate comprehensive training program learn innovation global business environment program select group opportunity travel headquarters work peer educational opportunity available self development growth department help employee enhance technical professional skill department create awareness promote inclusion work environment community event special initiative incorporate educate company leader include senior management diversity inclusiveness engagement third employee respond share thought area excel note area improvement mentoring program allow employee teach know learn mentor retention employee engagement ethnic feel proud recommend great place work treat dignity respect work value diversity gender race think experience content way ensure employee feel value ready future work upskille reskille provide diﬀerent skill set training program range lean sigma agile training project management executive coaching employee take advantage opportunity develop new skill intention company advance technology invest people remain leader marketplace result commit year improvement elevation current workforce change sigmaagileproject skill training total investment employee skill training program employee future commit ongoing investment valuable resource people skill base class program employee engage health coaching location cost member year engage employee coaching visit chronic condition member cost employee year visit employee coaching visit chronic condition member cost employee year visit encourage employee healthy mind body commitment provide tool resource help employee stay healthy policy include salary continuation parent birth adoption child oﬀer site child care center provide support diﬀerent parenting stage childbirth child care leave balance work parental responsibility oﬀer site child care center ﬁve site ﬁtness center multiple employee health care facility know location support family future step way patient satisfaction service patient biometric value normal range make measurable improvement patient biometric value normal range make measurable improvement content face estimate labor shortage accord research ﬁll gap develop certiﬁcation encourage business support age employee tactic well medical care skill training life extend activity response develop program promote healthy lifestyle employee home oﬃce beneﬁts include woman health program healthy meal option cafeteria ﬁtness program smoke cessation support recognize consecutive year certiﬁcation award good practice assess health management employee evaluation company work strategic way improvement appreciated environment ﬂock keep meal option way promote healthy lifestyle improve longevity balance employee work tackle work style reform initiative program design promote well work life balance maximize organization overall performance acronym program responsible improve work life balance critical area reduction overtime work employee previous year manager employee take annual pay leave employee take maternity paternity leave applicable employee teleworke year parliamentary istry right way right visit learn work reform innovation initiative big picturethink time valuerespect initiativemaintain commitment employee employee skill set equip knowledge help advance career goal program good need employee set foot corporate headquarter program bring trainer remote trainee discuss lesson ask question establish subsidiary promote hiring employee disability employee disability support employee assistance advisor long term career support virtual employee meet career consultant provide mentoring coach résumé writing mock interview career consultation exam proctor talent assessment establish community employee cancer survivor employee act peer support system diﬃcult time member community help employee try balance work treatment addition support activity host panel discussion meeting place call fellow employee provide cancer service information implementation invest career success way speak skill set speak job requirement learn speak skill impact new role culture appreciation celebrate location create unique theme coordinate activity wear hawaiian shirt ropical win cash prize enjoy funnel cake cotton candy ure weeklong carnival style extravaganza employee design celebration great asset employee recognize employee ontribution company year merous way year oﬃce coordinate series activity appreciation family content strive well tomorrow join work assistant manager department wife pregnant child want sure bear responsibility child care bold choice month paternity leave encourage work life balance welcome employee advantage paternity leave month paternity leave unprecedented supervisor support decision believe role model peer understand empathy way work live life work team place importance help struggle receive help struggle fight illness child care caregive team member struggle variety circumstance important understand cooperate work say credit experience change perspective recommend man paternity leave current role leader plan support colleague direct report eﬀort achieve work life balance reportcsr supervisor year service company begin volunteer work serve chairman group ﬁve year commitment community span numerous cause past year serve chair committee help raise cause cause organization give believe volunteering way bring change proud company involve community care let help say say inspire employee empower volunteer organization care involvement philanthropic eﬀort win win employee company diverse group employee come good cause brand shine positive light work tomorrow talent build bright tomorrow invest tomorrow talent cholarship internship program ensure follow commitment diver ity partner community organization school include gender focus institution recruit diverse andidate help employee seek provide assistance obtain master degree university employee obtain area focus opportunity cultivate global perspecti experience country culture hand week pay internship include cor porate housing oﬀere discipline marketing ﬁnance accounting strategic management corporate communication compliance legal intern gain ﬁrs hand exposure work real world career development tool job enrichment opportunit help prepare business career intern receive development engagement session senior leadership philanthropic opportunity philant hropic partner oﬀer employee attend undergraduate program employee seek graduate degree available oﬀer tuition assistance student tend stitute year rotation program ﬁeld ethnic minority hire oﬀer scholarship employee child grandchild include student accept university college trade technical sch student accept undergraduate progr oﬀer graduate year rotation program relate major discipline ﬁeld interest sign provide career development job enrichment opportunity llowe candidate advance generation leader summer student welcome family span ree location headquarters orke business unit bring new tive perspective area project support content believe good future generation take shape way family dedication child family face childhood cancer approach year partnership know take medicine help child cope cancer deliver free charge child assist undergo cancer trea tment investment child family eir future great purpose federal government cancer research funding oward study pediatric cancer believe invest future incl udes child health dedicate provide support hope time reso urce child cancer contribute upport come independent sale agent contribute monthly commission check employee contribute month payroll deduction com mitment future real child help support family thi create value share society base core value support blood eﬀort act charity focus initiative leverage company unique expertise resource meet society need good take look leadership employee rich history fair ethical have positive inﬂuence people community senior vice president chief esg communication oﬃcer left hand chairman iation nonproﬁt organization support variety initiative help child cancer erate play event create well tomorrow philanthropy highlight independent sale agent employee contribute blood independent sale agent contribute commissi check consist month provide community giving contribute nonproﬁt cause include organization support childhood cancer alth education award deserve recipient bereaved relative scholarship program high school student lose parent cancer experience pediatric cancer win content story land plan debut letter young boy name change elementary school stude see american kid internet play introduce experience cancer age familiar trial tribulatio pediatric cancer patient face think duck help comfort difficult time write letter entative request duck bring touch letter decide launch year schedule walk event annual tradition dedicate pediatric cancer awar eness improve cancer cure rate event welcome people event include demonstration play area set child interact duck attendance welcome duck receive president representative direct talk bout debut walk event debut event tradition dedicate pediatric cancer awareness play brother content celebration courage show pediatric cer patient new friend treatment group representative company year discover child deem homeless sleep car hotel multifamily housing uncertain source meal feel action want invest community love start work local school system way provide child food weekend create volunteer purchase nonperishable food item pack paper bag deliver bag school teacher place bag backpack child identiﬁe need school year expand impact student school triple reach food feed soul inspirational message bag love amazing want know circumstance child message let know care say strive well tomorrow think return area feel responsibility big community lead pursuit well quality life health area limited medical provider board president lead charge help secure funding community support aid improved health woman nonproﬁt provide woman health service struggle navigate multiple layer care need survive thrive diagnosis breast gynecological cancer service include counseling wig nutrition ﬁnancial support appointment scheduling support group community service volunteer time serve community investment well tomorrow people love help say leadership role organization committee youth mentor program year high school student provide job search public speak etiquette training prepare year work world connection student program meaningful love fulﬁlling future active serve board aﬃliate strive well tomorrow heart philanthropic activity oversee company eﬀort continuous contribution society big year team work bring year plan successful debut walk event oﬃce coordinate hospital childhood cancer organization deliver duck child pediatric cancer eﬀort duck positive impact pediatric cancer patient quality life mission help cancer family oﬃce value fulﬁlle mission continue contribution society support implementation create share value pediatric cancer support remain pillar social contribution activity look deliver work philanthropic eﬀort content new bead add child necklace symbol bravery medical treatment bead program support child battle illness give opportunity tell eir story symbolic bead child treat blood year program offer encouragement challenge medical treatment independent sale agent devote countless hour help cancer cause close home family diagnose breast cancer year thankful cancer plan save family say start career follow diagnosis positive experience cancer plan preschool teacher child autism heart help child extend childhood cancer initiative community able tour early day independent sale agent know want market cancer center ambassador role available see kid know experience touch want ambassador spot available say plan promote blood food drive renowned cancer treatment center local fundraising event beneﬁte addition involve cause close heart lose son law multiple myeloma passionate help people job independent sale agent philanthropic involvement thankful leadership establish culture give encourage agent involve community service strive well tomorrowcourage know bound content grow watch dad prioritize community service passion give crystalize start work work work year learn ﬁrst hand importance give see employee motivate work involve large look good leader come people take initiative big business think make big diﬀerence say see inspirational impact culture executive vice president voluntary beneﬁts spearhead company partnership include donation patient play new name magazine list strive well tomorrowa duck purpose content serve family child family care serve community child diagnose cancer medical condition travel part receive treatment help face struggle establish donation haven serve environment pediatric patient family live clean comfortable accommodation support child face cancer illness utilize comprehensive support center consultation event relate pediatric cancer location support child family year location support agency employee elect donate salary includi corporate matching donation tion total house manager work family stay ensur experience pleasant possible action robotic companion available participate hospital free charge child age diagnose cancer design provide comfort entertain experience cancer treatment use compatible web base app enable child mirror care routine include medical play lifelike movement range emotion engage treatment journey comfort child interactive music singing soothe heartbeat nuzzling innovative way merge technology comfort child life specialist use social robot generate well result patient assessment evaluation progress goal design inspire expression emotional safety cope strategy patient invest manufacturing delivery debut crowd people walk event distribute hospital childhood cancer organization distribute child free charge hospital childhood cancer organization win soft friendly nurture companion help child cancer feel interactive technology cancer treatment boy play social comfort companion walk event robotic duck debut goal gift diagnose child age content look bravery perseverance child cancer humanity focus film company crea moment documentary showcasing story child cancer feature film documentary spotlight bravery perseverance child impact cancer share small moment park joy change life release moment film premiere strong mind strong body head positive right place body chemo want feel happy want feel change world star celebrate premiere documentary lantic work ployee know take action need highlight forthcoming page eﬀort represent numerous philanthropic eﬀort dertaken year employee today commitment good future commit good employee nown take action location provide backpack risk child collect food donation local food bank employee make community life today tomorrow include numerous philanthropic effort undertake year employee employee team participate raise national nonproﬁt organization dedicate reverse addiction crisis employee model social responsibility kid work child create age appropriate activity backpack child cancer blood disorder thank eﬀort child comfortable time blood employee workforce oﬃce volunteer day period work home sponsor sponsorship hard work employee deserve family enjoy beneﬁts aﬀordable homeownership year decade employee raise fund sale raﬄes event host holiday party complete child cancer receive treatment year family employee host family provide day present child sibling gift aflac employee take baseball diamond help aise fund local charity employee ﬁelde team challenge pull pound ﬁre truck foot fast time motivate story child aﬀecte pediatric cancer team dress superhero soccer baseball player reﬂect passion child raise beneﬁt cure endowment blood employee host collect pound can good nonperishable food item food provide meal face poverty hunger provide home build employee volunteer ﬁve day renovate exist home single mom young girl employee turn passion run good ﬁelde team team ﬁnishe team mile race serve sponsor event raise assist individual family live aﬀecte homelessness year employee host engage employee variety activity earn point translate fund charity partner individual choice employee participate event result nonproﬁts range double receive sponsor consecutive year summer member bipartisan baseball game attendee set fundraising record raise local charity employee pull fire truck foot finish line raise money childh ood cancer research treatment lend hand community young boy smile examine new robotic partner city host community activity provide variety sport health relate activity local family enjoy exercise attendee able cool lemonade proceed pediatric cancer research treatment hold year fundraiser support child cancer classical music concert informative video creation pediatric cancer patient people attend raise way employee contribute company philanthropic eﬀort employee donate portion monthly salary eﬀort participation fundraising program voluntary employee program match total raise employee donation end contribution total tomosnote year support cancer survivor oﬀere online support group know tomosnote share worry experience diﬃcult time tomosnote way cancer survivor feel cancer treatment give community corporate culture employee good citizen create value complete numerous charitable project investment tomorrow give founding commitment treat eryone live year volunteer effort employee corpo rate giving raise awareness fight addiction contribute build activity backpack child receive treatment give minority organization aid provide gift kid employee come difference employee volunteer community mark fold increase log total hour voluntee work contribute organization support minority cause education contribute minority cause include employee give increase show work series feeling card compatible web base app enable duck express range emotion distribute child cancer hospital free charge dedicate cancer prevention education event teach public importance early detection treatment hold time reach people build bright future family employee invest well tomorrow volunteering employee care homeless animal read elderly encourage individual disability deliver meal mentor youth rock baby neonatal intensive care unit big initiative family include home build employee participate build home season give annual celebration volunteer come raise money purchase wrap distribute gift local child receive toy family sign wrap gift distribute mobile classroom help educate public late cancer trea tment innovation year employee share holiday joy child donate toy employee participate year build home build community committed minimize environmental footprint improve community city planet recycle energy consumption reduction great stride year promise promote greener tomorrow build philosophy good environment good business require good corporate citizen ropy green tommorrow today stewardship lead facet corporate social sponsibility strategy reduce carbon footprint leader waste reduction con ider impact action vow good community partner steward aspire lead way nergy conservation environmental protection investment future generation standard consumer business business compa align value promise proactive leave world well place find feel good business environmental responsibility interwoven ulture str ategy commit thing right way mean look eﬃcient use resource way reduce waste vice president content ropy insurance company register represent late good practice energy management energy conservation eﬀort save energy cost past year expand goal include japanese building faci litie oﬃce waste recycle reuse carbon emission decrease baseline employee recycle pound waste electronic employee donate pair shoe divert additional pound landﬁll good steward resource environment highlight headquarters certiﬁed ropy future way operationsfacilitie managementwaste managementemployee engagementstrategic source procurementwith certiﬁed building rating eligible space remain committed make community city planet well place board director lead green eﬀort accord belief pave way responsible company achieve goal reduce carbon emission smartgreen philosophy choose use dispose resource use day focus action ﬁve category support take measure ensure framework implement company build environmental management promotion system ensure advocacy workforce system pillar oversee overall environmental policy management company employee volunteer serve council plan carry environmental policy initiative leverage member knowledge experience advocate employee locate location implement environmental conservation activity employee greenbassador volunteer support green goal coordinate event oﬀering program communication support business department encourage employee think green work home create original logo promote eﬀort create declaration committed friendly behavior business operation compliance applicable law regulation relate environment environmental education social contribution ongoing promotion improvement environment content ropy desire lead creation waste program positive impact environment life pediatric cancer patient fact team building ﬁeld trip inspire strategic source consultant recycling company donate charity return old company issue cellphone dedication commitment individual lead green environment ability change happen say start time employee cellphone upgrade old one send give donation behalf ﬁrst year program lead donation total phone recycling program evolve cycle decrease environmental footprint program destroy sensitive datum micro shred phone information storage component shred device register facility trash repurpose strive well tomorrow eﬀort expand environmental initiative establish role council promote employee awareness engagement international environmental issue environmental impact boost employee engagement open application process employee wish volunteer council result council member employee dedicated work company environmental eﬀort addition day day job foster employee passion drive increase company value contribute society achieve objective sustainable manner continue reputation company lead edge environmental management short time establishment council embrace mission launch environmental awareness activity training material topic climate change sustainable resource ropy management certiﬁed environmental management headquarter facility certiﬁcation cover environmental planning support service strategic sourcing procurement information technology facility transportation corporate aviation certiﬁed company adopt prove responsible practice conserve resource business process monitor improve performance key measurement certiﬁcation include increase prominence environmental management organization strategic planning process great input leadership strong commitment proactive initiative boost environmental performance development continual improvement energy management system solar panel produce corporate headquarter energy need provide opportunity sell surplus power create weekend energy grid solar panel instal roof headquarters ropy gas reduction invest well future begin reduce electricity consumption continue reduce square foot eligible space earn total gas consumption decrease reduce energy consumption emission reduction reduction carbon emission baseline reduction carbon emission baseline reduction pledge increase material print certiﬁed paper waste recycle increase waste reduction recycling strategy divert pound paper waste landﬁll recycling strategy divert pound solid waste landﬁll team launch campaign encourage employee paperless reduce consumption paper result reduction plan expand initiative companywide oﬃce waste recycle reuse well tomorrow recycle pound pound electronic pound pound cardboard ropy green activity help help single large river creek cleanup event year employee join neighbor come collect litter bank employee family member volunteer help annual cleanup staﬀ participate recycling contest commitment sustainability help bring awareness large percentage garbage toss month tree recycling employee give present planet recycle fresh cut tree landﬁll tree provide playground local government beautiﬁcation project individual yard environmental awareness develop learn course raise awareness environmental issue employee company subsidiary course provide update new environmental management initiative current global environmental issue impact year employee pitch help clean community content ropy report report include ﬁnancial nonﬁnancial information activity datum statistic award accolade relate governance workplace philanthropy environmental sustainability calendar year report mark ﬁfth year work adherence criterion world sustainability reporting framework sustainable key reputation driver corporate social responsibility outline governance workplace citizenship link activity datum consider gold standard reputation tracking conduct research overall reputation compare peer company internal steering committee oversee report preparation guidance executive leadership internal subject matter expert invite contact question request information report sustainable goal following reference world recognize framework sustainability reporting seek independent veriﬁcation report practice place validate datum disclosure fulﬁll note table follow page addition identiﬁe align criterion ropy incorporate location legal ownership form serve scale chain ceo letter value principle standard norm report concern unethical unlawful incorporate anti fraud team monitor investigate stop fraudulent claim submission company example provide ethic train learning program topic employee include employee executive structure process topicsgovernance executive responsibility topicsgovernance ropy organizational consultation process topic stakeholdersgovernance high governance body committeesaﬂac incorporated governance describe include corporate responsibility oversight board director committee set corporate social responsibility performance objective monitor implementation performance objective oversee progress social environmental goal working group comprise company oﬃcer integral steer strategy performance company represent stakeholder group nominating select high governance body incorporate high governance body ensure conﬂict interest avoid executive role development organization purpose value mission statement strategy policy goal relate goal ropy take develop enhance high governance body collective knowledge economic environmental social topicsgovernance high governance body responsibility topic impact risk opportunitiesgovernance responsibility eﬀectivenessgovernance high governance body review topic impact risk responsibility sustainability reportaﬂac communicate critical concern high governance bodygovernance contact remuneration policy high governance body senior ratio annual total compensation organization pay individual goal ropy preparation processgovernance reporting period information recent previous reporting cycle contact disclosure report reference disclosure note disclosure index disclosure report assure consumption sustained deliberate energy save measure company reduce total electricity consumption corporate real estate year electricity consumption reduce square foot save expense mark goal reduce electricity consumption baseline year plan revise goal expand japanese building facility total waste generate recycledenvironment skill trainingworkplace diversity goal ropy ratio basic salary remuneration woman supplier screen processaﬂac political contribution reportingpolitical total number incident noncompliance regulation voluntary code concern marketing communication include advertising promotion accordance requirement disclose material legal proceeding ordinary routine litigation incidental business form legal proceeding loss associate marketing communication insurance product relate information minimis ropy pillar family reportto know love late evening crowd gather parking lot celebrate annual holiday tradition employee family mingle backdrop festive decoration upbeat music center large open tent hold table chair craft warm sweet steady stream wisher eager person particular edge tent spot deem ideal enjoy sight sound evening sit heart gold dress bright red smile shine sparkling holiday light unusual attend event wife founder mother radiate sincerity joy employee agent family evidence family mean great mean family free pretense discussion demeanor innate ability encounter feel special employee reminisce people room feel people talk listen know genuine kindness compassionate heart delightful sense humor gift will determine opinionate strength intelligence wit serve native work husband ﬁve dime store start nurture new life brother beloved marry year pass beautiful graceful vivacious fun love music travel tell well share friend possess strong commitment purpose understanding make rich successful countless individual employee include beneﬁte husband quiet philanthropy anchor faith lead example love family mother trait attribute child see source pass age loss feel wide feel fortunate call friend presence miss year come extraordinary spirit know love family love light know ropy learn visit individual coverage underwrite coverage underwrite own subsidiary license solicit business group situse group coverage underwrite individual coverage coverage group situse coverage underwrite thank ありがとうございますintroduction ropy content',\n",
       "  'overview bility start journey year work embed conscious responsibl business practice foundation environmental social governance landscape continue commitment employee positive impact eve drink remain steadfast effort advance corporate responsibility platform able build trust brand equity consumer community create resilient value chain position company continue growth proud share progre outlook report year significant advancement key area climate action circular economy steady progress emission reduction overall electricity come renewable source maintain solid momentum goal recyc lead content reach use plastic packaging portfolio significant reduce virgin plastic use noteworthy jump ear recognize policy legislation critical support infrastructure need build circular economy enable climate transit ion plan industry look support implementatio important legislation pass past year include law establish extended producer responsibility program strengthen collection recycling inf rastructure create federal funding incentive help transition renewable energy economy proud progress year priority impact area continue respon source coffee large ingredient cocoa vance work apple farmer launch new native pollinator support rogram addition strength partnership support regenerative agriculture conservation acre land new area focus pleased progress date advance work health space complete succe ssful retail pilot program combine strength marketing merchandisin provide easy site access well beverage info rmation guide shopper make healthy choice support team career journey comprehensive recruiting training retention program enhance engagement strategy foster cult ure inclusion belong support commitment diversi progress representation goal position year increase female representation percentage point eople color representation percentage point environmental social issue face wor today complex interconnected require robust gover nance structure support meaningful solution look recognize hat rise demand esg relate action transparency demand fle xibility approach set glidepath achieve target rticular opportunity implement advanced technology offer new produ format scale enable infrastructure enhance abili deliver commitment thank collective passion purpose employee partner consumer holistic strategy remain ositione drive tangible scalable solution service bet ter people community planet ambition ensure beverage positive impact drink focus great opportunity impact pillar committed transparency disclosure corporate responsibility strategy program progress governance deliver big think bold fearless kind person want team achieve commitment push expect challenge usual dare try new tell truth courage listen act respect value define work foundational culture company vision provide beverage need available people shop consume beverage single serve coffee brewing system flavor carbonate soft drink premium water mineral water shelf stable premium ready drink tea shelf stable apple drink mixer employee total sale environmentwaterclimatepackagingwasteregenerative lead issue intersectional corporate responsibility platform prioritize effort key pillar great impact year continue intersection interconnectedness work pillar create positive outcome work maximize integrate approach advance corporate responsibility agenda add measurement relate social environmental impact give topic create overlap interconnect system operation value chain help build resiliency positive impact drink employer select consecutive year achieve lead corporate action transparency water risk take coordinated action climate issue supplier leader earn engage supplier climate change employer name diversity name annual list employer award large employer company recognize consecutive year chapter recognize contribution sustainable employer young list consecutive year field market collaboration year celebrate collaboration key partner admire company name consecutive year company name annual list recognize company consecutive year name manage company right campaign best place work list work equality detail methodology boundary goal obtain limited party assurance certain sustainability performance metric assured data point flag reporting locate report year provide positive hydration product year source coffee source cocoa regenerative agriculture conservation acre year female representation position increase people color representation position year bottler select supplier represent emission set science base electricity renewable reduce emission reduce emission select category improve water use efficiency high water risk operating community replenish water beverage packaging recyclable post consumer recycle content packaging post consumer recycle content plastic achieve virgin plastic reduction plastic packaging send waste landfill final transition year purchase green coffee source party certification verification program end coffee contract receive sourced small coffee receive conve ntional impact supplier error shipping delay final transition year purchase cocoa source party certification verification source program end cocoa contract receive source committed reduce environmental impact restore resource support regenerative circular economy partner accelerate amplify effort support climate resilience value chain environmental sustainability approach focus climate water packaging onmental impact work reduce resource use increase resiliency measure unt change environment water stewardship approach focus water efficiency ope ration water replenishment high water risk area water use value chain committed support reuse recycling repurpose compost product packaging approach use credible standard robust disclosure design admap goal base tool technology available today address climate change drive transition circular economy complex require scalable system change individual compan responsibility collective action critical advance effective efficient policy solution invest infrastruc ture modernization engage consumer act sustainable way happen partner ganization include provincial municipal government leader recycler industry peer supplier effort enerate positive change cross functional team include geography work meet establish environmental goal supply chain operation product establish govern assess mitigate risk associate climate change water identify near term long term strategy address environmental relate risk business disclosure disclosure climate relate sustainable packaging leverage design standard guideline inform packaging compatibility recycling industry accept criterion track measure impact effort report organization include read read environmental strategy focus area pursue energy water efficiency operation product decarbonize fleet manufacturing renewable low carbon energy source technology climate scenario risk analyse build climate resilience operation supply chain invest water replenishment activity high water risk operating community improve availability quality access water resource engage value chain partner share climate circularity journey advance use sustainable packaging material design use virgin plastic leverage reuse refill option appropriate strive eliminate waste operation beneficial reuse recycling invest infrastructure development consumer behavior change increase recovery circularity packaging advocate public policy support strong environmental outcome achievement corporate responsibility commitment current science base target sbts validate initiative align emission reduction level require meet climate change goal limit global warming future ambition inform evolve standard effort integrate evolve sbti enhance disclosure line recommendation complete quantitative climate scenario analysis measure climate relate risk opportunity analysis include climate relate risk operational location key supply chain location commodity source region multiple climate scenario result inform strategic decision evaluate potential physical transition risk operation supply chain climate scenario leverage opportunity regenerative agriculture low carbon transportation renewable energy mitigate climate risk strengthen resiliency operation supply chain adapt potential climate scenario detail analysis reflect upcoming annual disclosure effort drive deep decarbonization undertake depth assessment fleet operation understand opportunity limitation relate integrate heavy duty electric truck operation operate fleet emission beverage company critical transport heavy load product timely regular schedule serve customer consumer fleet analysis involve review operating footprint include exist equipment need way operate future implication infrastructure requirement continue commitment fleet optimization near mid term enable address exist emission reduction goal plan invest collaborate deliver long term strategy read read progress goal bottler select supplier represent emission set science base target goal electricity renewable source goal reduce emission reduce emission select category party emission progress climate target increase electricity obtain renewable source increase reduce emission metric ton addition reduce emission select category baseline decrease drive improvement energy efficiency brewer continue engage supplier bottler encourage set sbt end supplier bottler represent emission set sbt take step decarbonize fleet subsidiary purchase deploy electric vehicle operation end anticipate electric fleet increase electric vehicle buyer carbon credit enable offset entirety mobile emission pursue energy efficiency reduction operation product hold energy optimization event plant identify energy emission saving create culture energy management energy treasure hunt identify ton potential emission saving engage value chain partner share climate journey continue participation program order help supplier measure footprint set meaningful reduction target sum round ingredient packaging include purchase good service logistic include upstream downstr transportation distribution include employee commuting business travel upstream energy relate capital good profe ssional service detailed breakdown emission find change weather pattern potential disrupt ingredient supply chainsheat stress drought impact community taxis influence way distribute productschange climate pose risk critical infrastructure utility opportunity regenerative agriculture practice climate sensitive cropsinvest watershe health improve availability access qualityexplore fleet electrification low carbon technology manufacturingdeploy energy efficient infrastructure utility power renewable sourcesbuilde assess climate change risk important business identify opportunity implement measure help build climate resiliency business community region operate read read read engage bottler select supplier represent emission set electricity renewable source reduce emission reduce emission select category encourage value chain partner set progress sbt transition low carbon energy regenerative agriculture solution value chain decarbonization fleet include heavy duty truck electric low carbon fuel infrastructure technology allow sustainable low carbon fuel manufacturing operation low carbon packaging solution brand portfolio energy relate activity processing emission emission generate operation consumer end sell product primary ingredient product operation share resource critical health community ecosystem live work result unique opportunity beverage company help address local global water challenge announce aspiration achieve build exist water stewardship commitment help scale work underway collective action join industry drive coalition partnership aim elevate global water stress connection climate change corporate agenda preserve world freshwater resource collective action ambitious quantifiable commitment develop framework company deliver measurable focus availability quality accessibility water water stressed basin comprehensive water risk assessment inform water target foundation expand scope water replenishment goal include high risk water site extended time horizon goal complete assessment leverage tool include key crop database individual manufacture site survey partnership local organization help address share water challenge protect restore threatened watershed support natural public water infrastructure maintain improvement water use ratio baseline total cold beverage manufacturing plant network able drive efficiency overall average select facility include water efficiency improvement plant result action stem site specific water optimization event hold year water efficiency initiative include installation water metering infrastructure digital dashboard cold beverage plant digital technology deploy plant manager environmental staff visibility real time water use datum allow well decision water efficiency practice look evaluate investment water filtration treatment infrastructure support stringent water quality standard require high water usage implement result challenge efficiency gain determine appropriate step area share future report potential impact glidepath achieve water use efficiency goal read progress goal improve water use goal high water risk operate community replenish water beverage community aspiration achieve ratio liter collaboration local partner conduct ground conservation project seek enhance watershed protect habitat increase biodiversity native specie conserve water turn lead long term benefit watershed critical sustain healthy ecosystem strengthen climate resilience provide ongoing conservation effort sustain time follow baseline water replenishment goal reflect expansion production facility announce continue improve water replenishment performance partnership collaboration nonprofit industry partner achieve replenishment high water risk operating community end key drive progress additional investment implementation project improve hydrological capacity intervention forest management conservation agroforestry flow restoration investment water replenishment anchor improve capacity water availability benefit work include positive impact aquatic habitat biodiversity protection native specie improve surface water quality water water footprint come indirect water use supplier grow agricultural raw material recent risk assessment find overall water quantity risk low trace priority raw material take action safeguard water farm level regenerative agriculture conservation practice protect restore water require production raw ingredient beverage way collaboration call partner focus support water access water quality improvement primary coffee grow region activity include improve purification municipal drinking water source promote use high efficiency coffee washing equipment farmer training local water protection law farm water smart agronomy practice year funding support training farmer provide access safe drinking water people read read partner restore marsh wet prairie multi year restoration process improve water resource encourage diverse high function wetland project reach important milestone acre restoration spotlight plant locate area subject frequent drought overuse aquifer area use resource conservation approach reduce water extract aquifer take consideration need surround land community effort result facility have low water use rate network initiative include utilize low impact development concept reduce stormwater runoff enhanced stormwater management retention reabsorption water recycling reuse optimize manufacturing process water efficiency total weight procure continue sell refillable gla bottle steady inventory requirement year purchase new refillable bottle move measure report overall packaging mix base sell year procure change measurement allow track reusable refillable packaging use consumer year enable new reporting requirement extend producer responsibility program packaging priority continue invest innovate collaborate deliver meaningful impact committed reduce virgin plastic use product packaging portfolio important reduction incorporate post consumer recycle content eliminate unnecessary material redesign packaging explore reuse refill model continue progress goal content plastic packaging complete conversion snapple product bottle recycle polyethylene terephthalate help achieve content plastic packaging portfolio stride lightweighting accomplishment help reduce virgin plastic footprint baseline packaging design recyclable compostable compare year slight decline drive overall report packaging mix mix impact lack refillable glass purchase year surplus inventory year successful return consumer coinciding mix shift packaging convert recyclable year enable removal metal closure paper label remain committed glidepath attain goal continue focus address remain bottle portfolio label impact recycling stream read progress goal packaging recyclable compostable post consumer recycle content packaging portfolio use post consumer recycle content plastic packaging achieve virgin plastic reduction plastic packaging portfolio send waste land operation packagingpet bottle packaging use smart design packaging innovation optimize use material incorporate recycled content eliminate non recyclable material aim reduce use unnecessary material offer packaging compatible recycling reuse compost system include create test innovative packaging solution reduce plastic footprint enhance consumer experience aim design packaging incorporate message educate encourage consumer recycle reuse compost product right way team member participate session host recycler receive plastic packaging design recycling training day event educate team plastic recycling process design recycle principle mindset recycling guidance good practice reporting read emission read begin process lightweighte polypropylene pod keep cup fit form functionality intact allow reduce plastic packaging pod recycle bottle bottle recycled plastic incorporate metric ton recycle packaging portfolio post recycle black brewer contain content black brewer contain content year conduct lab pilot scale trial bottle paper organic material partner academia recycler compost facility run technical assessment understand bottle perform exist system reduce expand production pod variety pull tab allow consumer peel lid ground order prepare pod recycling check recycle community recycle right instruction visible addition label pod select package encourage commitment reduce plastic footprint include exploration new partnership new delivery model reusable refillable container accord consumer face model reuse refill outline offer number product align option refill include traditional fountain beverage enable reusable cup option use brewer relate reuse returnable container offer refillable glass bottle infrastructure collection sanitation refill exist evaluate expansion offering region business natural affinity partnership view partnership way learn new opportunity example invest innovative company offer variety organic carbonate non carbonated beverage store bubbler facilitate refill option consumer similar fountain beverage intend learn potential partnership conduct reuse refill pilot include measurement retailer consumer participation critical success sale footprint infrastructure reuse refill fountain beverage limited make partnership retailer important vital design reuse refill pilot meaningful impact measurement continue work peer beverage industry establish common methodology measurement reuse refill serving deliver measure disclose initiative effort build circular economy business consumer reuse model differ term package ownership requirement user leave home refill return packaging refill reusable container home pick home pick refill reusable container user return packaging store drop point advocate policy level government accelerate development circular economy packaging material modernization standardization recycling industrial compost infrastructure patchwork regulation inadequate investment lack minimum performance standard prevent economy scale recycling system confusing support smart policy solution focus efficient equitable way increase material recovery reduce economic environmental cost disposal advocacy focus enhance consumer education increase access collection infrastructure expand recycle capacity support sustainable funding mechanism design program view design program seek generate strong environmental outcome efficient accountable manner provide convenient service consumer sustainable circular economy support policy encourage design recyclability standard support innovation provide study packaging delivery alternative found industry coalition work variety partner invest initiative amplify dollar action recycle infrastructure consumer education read support economy commit support circular economy collaborative project partnership investment funding local increase polypropylene recycling accessgoal increase quantity quality polypropylene recover recycle committed funding community additional pound plastic recycle yearsgoal increase plastic bottle recycling industry investment match additional funding collective resource funding receive federal government private funding receive white paper publish additional pilot research project launch advance circular economy optimize plastic recycling deploy optimization solution recycling processing reduce implement number program focus eliminate waste headquarters location example provide reusable drinkware implement recycling compost program breakroom coffee pod addition food service staff compost food waste cafeteria catering event track volume food waste compost use datum help inform purchasing decision reduce production eliminate food waste source filter paper pod manufacturing process yield scrap coffee filter material able convert scrap useful second life example plant scrap filter paper ship vendor repurpose material pet bedding plastic injection molding process pet plastic bottle produce product scrap plant invest equipment recycle small scrap material molding process allow waste produce bottle production process plant site network capability today able advance expertise manufacture waste reuse important circular economy ambition achieve waste landfill manufacturing facility site support commitment production optimization invest reduce reuse recycle waste keep manufacture waste enter landfill maintain waste landfill multiple manufacturing site waste diversion rate remain stable continue progress target effort example facility partner waste vendor increase recycling opportunity increase waste keep landfill site read reduce send ongoing challenge mitigating adapt climate change impact include operational workforce disruption resource supply scarcity mapping feasible glidepath fleet decarbonization scale give lack require technology policy infrastructure minimize excess water use maintain advance strict product quality ingredient water standard navigate lack uniformity underdevelopment recycle reuse refill infrastructure patchwork state federal policy support packaging circularity strategy include availability post consumer recycle opportunity explore new technology electric heavy duty truck support fleet decarbonization deploy innovative water treatment infrastructure maximum efficiency accelerate roll innovative packaging reuse solution eliminate virgin plastic use increase value recycle material collaborate secure federal packaging collection policy national level mechanism harmonize effort build circular economyclimate water packagingcollective environmental impact collaborate partner member organization value chain positive meaningful impact commitment responsible source supply chain aim use buying power good work supplier range innovative partner world goal improve livelihood restore nature pursuit resilient supply chain critical ability secure reliable supply input need product create share prosperity farmer worker company source agricultural ingredient coffee cocoa apple corn brewer component packaging community ecosystem world global supply chain change complex come specific regional challenge recognize interconnect environmental social issue require holistic solution include share investment collaboration deliver meaningful impact partnership key location farmer cooperative academia government contract manufacturer critical component approach management cross functional team include collaborate source material agricultural input meet establish quality requirement sustainability goal use combination complementary tool approach help safeguard fundamental human right environmental protection high risk segment supply chain include risk assessment verification transparency engagement collaboration investment coffee cocoa use party certification verification program factory base input employ supplier rating system establish policy statement reinforce commitment source product find website include brazilian read read read fundamental human right environmental otectionspromote prosperit inclusive value chainprotec restor manage futu environmental social issue require holistic solution accept verify large buyer certify coffee world consecutive sourcing commit source coffee cocoa rely party certification verification program foster fundamental social environmental economic protection impact persist include restriction travel shortage auditor delay certification verification farm visit addition merger coffee industry large responsible source program bring significant change certify coffee supply integration program work supplier responsible source partner program able overcome challenge meet responsible source goal coffee cocoa year expand sustainable supply chain work additional priority input apple corn continue holistic approach build interdependence system natural ecosystem agriculture social community achieve impact scale read source apple source farmer upstate small state source cocoa own license partner brand cocoa drink source small volume come source coffee own license partner brand pod bean ground coffee source country corn source high fructose corn syrup calorie beverage concentrate source small source priority status determine input importance measure magnitude spending social environmental risk profile input unique opportunity impact supply chain progress ongoing goal source brewer priority input sourced coffee sourced cocoa responsible commit source brewer priority input begin execute evolve responsible source program uniform methodology supplier rating system enable align expand audit program supply base risk focus manufacture factory complete risk assessment receive score consider factory compliant responsible source program meet following criterion receive risk score receive risk score earn subsequent party audit rating meet exceed social environmental standard brewer component supplier receive rating remain supplier receive new supplier minimal experience audit provide supplier training capability building improve future audit compliance russian ukrainian conflict number supplier receive risk score require submit party audit result order obtain appropriate rating sourced supplier receive rating remain supplier rate year ongoing regional conflict prevent execution onsite audit addition delay audit key supplier resurgence restriction country read read achieve high membership level status world large industry coalition dedicate responsible business conduct global supply chain status company demonstrate lead labor health safety environmental ethical source practice disclosure adherence new status continue audit supplier begin integrate indirect supplier auditing program commit close audits approve timeline brewer source variety component material brewer component source world brewer assemble source apple juice concentrate variety supplier certain flavor water juice juice drink supply chain global factory footprint take apple local farm process juice concentrate supplier rating system factory rating description leadership performance meet foundational compliance perform minimum compliance standard rate factory risk score low receive rating factory receive risk score subject person audit base audit finding factory rate supplier factory factory receive rating work remediate issue verify corrective action additional onsite audit brewer supplier rate meet supplier receive rating work supplier remediate issue verify corrective action additional onsite audit nature critical strategy support supply chain resiliency focus regenerative agriculture conservation agriculture practice contribute soil health water quality replenishment improvement biodiversity farmer resilience reduce emission sequestering carbon addition conservation forest high value landscape critical safeguard biodiversity ecosystem function commit support regenerative agriculture conservation acre land represent land grow priority crop coffee corn apple acre achieve acre support regenerative agriculture practice individual farmer farm acre support conservation effort non agricultural land locate farm cropping system geography climate different activity project vary progress measure standardized transparent set metric find publish website read progress goal support regenerative agriculture conservation acre land achievedin addition partner key player global juice industry launch project supply chain project engage polish apple farmer achieve silve certification sustainable practice improve biodiversity farm partnership program design incentivize practice support abundance survival native pollinator boost environmental resilience acre enrol program contribute progress report regenerative agriculture acre individual farmer enrolledblue partnership project integrate farm restoration soil water resource regenerative agriculture conservation practice broad landscape protection critical conservation acre farmer supportedcafé partnership finance project aim strengthen cooperative governance provide technical assistance training agroforestry management activity pruning fertilization harvesting fermentation regenerative agriculture acre farmer support partnership project unite cross sector organization industry peer improve productivity profitability environmental outcome farmer direct contribution fund provide technical assistance farmer subsidize cover crop agriculture acre supportedkdp support federal agricultural policy advance climate smart regenerative agriculture conservation include advocate increase federal incentive promote voluntary meth cover cropping support policy increase farmer access federal technical program include opportunity offer advocacy complement direct investment activity meet goal addition advocate public policy include authorize additional federal research developme deployment science base tool treatment integrated pest management program need help secure future coffee climate pressure recognize interconnectivity positive climate water benefit stem regenerative agriculture conservation project supply chain broad environmental commitment aspiration result look integrate measurement report ensure progress supply chain effort capture relevant enterprise climate water goal read read ambition advance inclusion address barrier entry prosperity supply chain support viable standard living livelihood farmworker farmer farmer position contribute sustainability outcome preservation biodiversity mitigate adapt climate change improve water stewardship boost personal community access economic opportunity livelihood focus investment help mitigate root cause labor violation important source region work strengthen social economic prosperity community impact coffee farmer support improve farmer income producer group test new model purchase practice partnership sustainable lab expect boost farmer income year test combination innovative purchasing practice deliver direct investment producer group support reauthorization authorize foreign assistance funding international development program benefit smallholder farmer low income country critical supplier coffee industry climate pressure couple grow cost production place significant burden farmer result switch crop abandon farm advocate expand investment agricultural research development public private partnership bring innovation rural area low income country improve resiliency sustainability grow study live income benchmark study align develop live wage living income study provide benchmark assess alternative piece rate pay support work condition vulnerable worker help farmer mitigate financial risk sustainable role coordinate sector wide benchmark study determine live income smallholder coffee farmer planting systems study year research study support future process apple evaluate impact production profitability use innovative rootstock modern planting system process apple orchard partnership pro ject occur demonstration orchard supply upstate coffee farmworker support woman program support farmworker family employment coffee industry viable provide funding support portfolio service benefit worker include protection safety measure access medical service provision saving program train entrepreneurship skill supply chain impact project coffee investment supply chain project livelihoods strengthen ongoing challenge mitigate risk agriculture food system result effect climate change manage residual effect ongoing macroeconomic geopolitical impact include worker auditor shortage factory shutdown travel restriction fluctuate raw material availability economic pressure drive cost production player value chain agricultural raw material future opportunity expand responsible source program supply base apply learning gather multiple farmer economic impact project research explore new livelihood approach integrate supply chain investment enterprise climate water strategy ensure connectivity quantifiable impact incorporate deforestation biodiversity consideration approach sustainable supply chainscollective supply chain impact collaborate partner support sustainability ingredient brewer supply chain strive positive impact offer broad balanced portfolio product accessible consumer market aim understand root cause health inequity look opportunity address portfolio partnership health strategy focus accelerate innovation increase number well beverage option portfolio expand distribution offering new varied market provide transparency work credentiale health expert committed empower consumer inform choice support holistic health journey know trust transparency ingredient product safety fundamental business apply rigorous safety quality standard product lifecycle beverage brewer manufacture market cross functional team work develop distribute broad portfolio product provide great taste team work innovate renovate distribute well beverage include specific positive hydration goal collaborate nonprofit commit transform food landscape pursuit health equity provide health guidance annual validation positive hydration progress multi year partnership robust compliance program review system oversee product safety quality standard cross functional team expert ensure product meet exceed legal requirement coffee brewer rigorous development safety process procedure oversee team include way govern commitment provide consumer safe product market read packaging product systems recognize system identify manage food safety relate risksglobal industry recognize coalition oversee food safety standard manufacturing site party auditsannual manufacturing facility employeesmandatory document requirement supplier raw material brewer component packaging choice commit product portfolio provide positive consumer option available health journey team focus product innovation support positive hydration goal reduce sugar calorie incorporate benefit functional ingredient year end product provide positive hydration increase year end continue expand range positive hydration choice brand include introduction new flavor coffee pod close overall marketing budget promote cold product hot product meet definition positive hydration positive hydration product portfolio offer small portion size calorie beverage mini can people control calorie consumption member group public health organization food beverage manufacturer promote awareness portion size fit health diet coalition participate discuss portion control way promote healthy lifestyle progress goal provide positive hydration product continue invest emerge beverage category reformulation exist option expand consumer choice complement balanced lifestyle include reduce sugar calo rie reduce calorie sodium recipe read product meet positive hydration criterion provide serving fruit vegetable add sugar example product meet criterion include non caloric coffee tea fruit juice sauce add sugar low calorie energy soft drink sparkling functional water calorie functional nutrient add serve fruit add great vitamin calorie natural caffeine calorie expansion renovation expansion alcoholic market increase number consumer moderate alcohol consumption invest emerge beverage category invest lead non alcoholic craft beer maker provide minority stake seat acquire global right non alcoholic ready drink cocktail brand partnership distribute non alcoholic beer year begin process reformulate recipe reduce sugar calorie beverage sacrifice great taste consumer love reformulate product require strike delicate balance ensure consumer reject new formula flavor property safety quality product remain intact year case team formulation scientist minor gradual adjustment formula year reduce high fructose corn syrup level result final product calorie continue accelerate expand distribution well offering varied market order reach diverse mix consumer advance access new outreach local national level well kick pilot test store marketing merchandising strategy prioritize placement well product objective evaluate store strategy store rack end cap display cut out end cooler influence consumer healthy choice partner select store low income diverse neighborhood specific store open dietician office wellness center provide helpful service nutrition education shopper result well product test store see significant growth show incremental display merchandising drive choice impact total beverage category positive result partner explore additional way expand retail store location cross join commit year year work help address press national health challenge promote equitable nutrition secure future national network collaborate identify share innovative scalable solution national conversation follow result trust partner educate national regional local stakeholder invite serve develop strategic recommendation inform end hunger reduce diet relate disease founding award grant support innovative community model critical research continue collaborate industry wide effort fight obesity track calorie reduction effort goal reduce beverage calorie consume person provide access beverage choice sugar small portion size encourage consumer balance sugar consume result highlight long term trend industry effort contribute reduce calorie person launch release similar report hoc basis goal reduce calorie report release show reduction calorie beginning pilot product source iri dollar sale change aim help consumer informed choice provide clear transparent information ingr edient policy adhere local law regulation nutrition label include voluntary pack calorie labeling beverage container expand product fact website include nutrition allergen information own licensed coffee brand site enhance disclose certification organic packaging attribute recycle content site visitor able compare nutrition information product view one school standard meet positive hydration criterion addition site calculator estimate nutritional information fountain beverage product cup size ice level advance transparency rigor marketing practice standard publish new work development ensure meaningful impactful policy outline commitment advertising appear cont ent discriminatory harass employee medium agency primary responsibility adhere require complete mandatory training marketing standard addition participant comply advertising standard set report pledge engage advertising direct child product advertise meet strict nutrition comply commitment advertise child age oduct nutrition profile engage host person roundtable convene select group external stakeholder include strategic mix public health advocate academic discuss critical impact area relate health issue host interactive facility tour provide practical context demonstrate effort expertise product renovation innovation facilitated discussion identify share priority future opportunity topic low calorie sweetener equity access nutrition responsible marketing engagement open salient dialogue highlight area great impact health space work engage policy dialogue collaboration beverage industry topic ingredient safety innovative way improve consumer choice strategy increase consumer access well beverage continue engage product ensure safety maintain trust consumer critical business pursue rigorous quality safety standard product development sourcing manufacturing commercialization addition engage outside expert resource understand emerge science regulation continue improve process product quality safety evolve area important consumer reg ulator provide transparent product fact work manage chemical pack age product outline product food safety regulation monitor evolve consumer preference ensure research pment effort meet future need produce household commercial appliance brewer unique engineering safety requirement brewer meet exceed market lead safety standard nderwriter normal use brewer development production lifecycle employ rigorous testing program identify potential use case failure mode support appliance quality consistency operation time brewer developman process improve brewer design performance team devoted manage relation consumer cold hot beverage product ready eat product brewer accessory offer multiple avenue contact team telephone email social medium problem solve message hear representative handle inquiry relate product ingredient purchase appliance troubleshooting addition team review respond rating review product monitor feedback concern product performance team formal issue handle protocol include documentation retrieval inspection trend monitoring report allow investigation relevant team certify expand site electrical safety testing capability appliance lab institute professional aseptic processing course cold beverage manufacturin personnel support quality assurance continue expansion aseptic production implement manufacture quality control technology majority production acilitie include artificial intelligence computer vision automate improve machinery inspection ongoing challenge expand equitable access nutrition consumer varied landscape combat increase public misinformation ingredient product safety renovating innovate product support healthy lifestyle meet taste preference future opportunity expand well beverage merchandising pilot additional geography retailer increase dialogue engagement key stakeholder ngo government public health impact partner member organization advance health product quality safety strategy committed create inclusive perform work environment employee feel support talent thrive engage invest meaningful social impact program build strong vibrant community recognize employee success possible strive provide rich meaningful career experience attract develop retain talente diverse engage workforce aim create culture inclusiveness meet need employee create positive impact live work country region local community operate distinct set challenge seek address employment opportunity financial contribution product donation volunteer time community engagement strategy aim build community resilience corporate partnership employee giving volunteerism brand retail activation management team manage total employee reward experience include company wide benefit compensation business leader provide oversight recruitment training development program employee program foster strengthen culture inclusiveness team manage oversight robust program design safeguard health safety people community engagement team collaborate deliver impactful volunteerism charitable giving opportunity employee follow use system screen community partner ensure reputable registered nonprofit organization outline expectation employee conduct business addition outline core standard expectation establish employee area include human right building inclusive workplace read leverage variety tool resource source develop retain qualified talen program foster open dialogue frequent feedback support employee engagement offer robust bene fit development opportunity support employee advance career employee survey invest foster dynamic inclusive rewarding environment enable conversation team level create great place work annual employee engagement survey invite feedback team member topic include culture engagement development leadership diversity inclusion work environment result feedback survey adjust approach share survey result create opportunity address team member feedback level employee participate survey finding show employee engage commit stay strong sense accomplishment work continue refine streamline process increase quality quantity touchpoint employee adjustment include leveraged mobile access frontline applicant interview time implement day check program new hire add weekly integration session non union new hire learn employee program benefit adjust corporate new hire onboarde process align hybrid working model provide career development event learn opportunity empower employee ownership career journey facilitated department level quarterly meeting inform employee priority key project organization update enhance annual performance review addition quarterly employee manager check facilitate way offer range benefit resource geography support employee total include physical mental financial health detail find website key enhancement benefit eligible non union employee include second medical plan option low cost premium give employee opportunity choose coverage fit budget enhanced fertility benefit include add coverage fertilization fertility drug increase adoption assistance reimbursement canadian employee cover group benefit enhancement include expand coverage mental health consultation resource increase match maximum contribution plan add new group provider tax competitive fee embrace team diverse experience perspective background key inspire innovation foster retain talent drive change connect customer consumer hold leader accountable create culture trust respect employee feel empower respect environment value different perspective important progress representation goal increase female representation level baseline increase people color representation level baseline remain committed glidepath attain representation goal continue effort recruitment training engagement change progress goal increase female representation position total increase people color representation position total initiative focused hire focus hire effort key focus area female frontline role female people color role target recruitment relate advertising spending attend range job fair target different demographic revise frontline job description job screen question advance addition provide variety training course talent acquisition team equip source candidate diverse background help produce diverse slate talent course include diversity leader team member complete training program design help people understand importance impact exclusion foster inclusive culture psychological safety team new employee complete program offer ongoing opportunity interested employee testament progress response show employee feel work environment open individual difference employee employee member erg help build connection community group host event activity focus organize month cultural awareness programming coworker career erg provide development opportunity member career advancement mentor program impact community amplify member volunteerism sponsorship fundraising company erg contribute product pipeline new idea strategy innovation contribute host second entrepreneurial competition akin popular network program event include company wide new idea address gap marketplace product merchandise hispanic consumer idea submit month present person panel narrow field include new pod flavor steep culture pod traditional mexican spice coffee raw dark sugar launch partner reward frontline responder celebrate ask member nominate organization community local fire department focus responder veteran recognition important positive work veteran responder community operate approve nominee select receive brewer starter pod kit member nominate local organization hand deliver brewer share appreciation help energize everyday hero hometown team african work event appeal member group celebration erg host guest speaker deliver keynote presentation focus help empower encourage well understanding history community family acceptance committed fair equitable pay work independent party conduct global pay equity review result analysis perform confirm similar job function pay significant difference gender location extend work near future include analysis pay equity people color recognize opportunity support growth development diverse supplier underrepresented business include work supplier identify own minority woman veteran disabled member community past year embed commitment supplier diversity corporate continue build capability procurement function focus expand relationship current diverse supplier bring new diverse supplier roster merger spend diverse tier supplier sum race snapshot employee demographic available read report employee safety priority share responsibility einforce workplace safety continuous improvement program invest tool technologie enhance capture metric identify report solve health safety issue navigate new phase pandemic management landscape ehs team contin adjust site safety protocol operation office include mask social distancin policy align requirement update regulatory guideline broad environment return employee corporate office hybrid model employee return ffice day week result new disinfection building ventilation procedure addition multi facete leader employee communication support mechanism read recognize framework design improve manufacturing productivity encourage employee share responsibility watch develop hazard prevent issue unplanned downtime personnel error employee accident monitor safety metric trend enterprise empower employee accountable solve problem take corrective action issue arise osha require safety procedure law standard measure assess compliance safety employee receive wide range safety training depend role site location training program include review safe practice daily safety huddle annual refresher course emergency response specialized training avoid musculoskeletal hazard design implement new day ehs bootcamp frontline supervisor location course focus teaching skill necessary transition local safety culture commitment compliance review library safety policy add procedure ensure effective compliance policy add include hand hold device policy outline restriction use mobile device facility truck cab safety shoe policy detail appropriate protective footwear person work area potential hazard operational continue add physical barrier gate manufacturing distribution facility differentiate employee walkway powered industrial truck travelway addition complete assessment loading door dock roll plan improve safety dock worker standardize use vehicle restraint manufacturing distribution facility plant increase capability confine space work upgrade local protocol add evacuation equipment provide hand practical training facility address emergency scenario natural disaster interruption business operation inspection training drill protocol ensure plan remain date accurate addition ongoing implementation new active assailant awareness training program update civil unrest protocol new safety security escalation people facility network remain emerge engagement follow significant event global pandemic civil unrest increase frequency natural disaster food insecurity issue conduct strategic review community engagement programming finding develop new enterprise community impact partnership refocus disaster relief effort launch revise employee giving volunteerism program early announce multi year partnership large humanitarian network world provide support family community need year provide financial support total addition offer kind product donation empower employee customer support positive local impact community resilience effort volunteerism blood drive food drive emergency relief effort provide critical hydration individual family impact disaster wildfire flood hurricane operate key partner stock warehouse water hydrate beverage year ready respond moment notice engage employee match volunteer program raise donation nonprofit organization employee allot hour year pay time volunteer community respond employee feedback program expand offer year round employee operating country include award tuition assistance deserve student program include annual football throw competition halftime marquee conference championship game provide can ready drink non alcoholic cocktail support brighten volunteer driver program offer safe ride service resident holiday season promote road safety impact snapshot brand partner create awareness support breast cancer patient month raise help provide access treatment increase timely detection improve quality life patient employee register nonprofit fund employee donation provide financial assistance employee family member experience disaster emergency hardship match employee donation good campaign ongoing challenge compete seek talent navigate consistent employee turnover frontline role adjust post culture engagement impact workplace community navigate company response support employee viewpoint evolve social movement support community resilience give high frequency severe disaster bring climate change future opportunity implement engagement program utilize enhanced tool resource datum help attract train retain diverse talent accelerate leadership development program mid level senior leader frontline non frontline role scale new enterprise community impact partnership activation new partner donate organization help build resilience community operate strong governance structure place foster culture build integrity transparency responsibility governance practice transparent oversight help build trust act integrity approach oversee strategy goal outline role approve commitment monitor progress topic include climate water circular economy health sustainable practice supply chain human right diversity inclusion responsible oversight overall strategy committee cross functional team include leader area business provide specific management advisory accountability collaboration capability support effort read read read read diverse personal professional background experience enhance ffectiveness ability provide broad perspective constructive feedback management selec recruit director candidate seek experienced qualified member diversity background includin professional experience education international experience perspective charact eristic age gender race national origin information available website report publication composition foll independent list rule woman diverse alignment corporate responsibility platform program long term business objective provide advisory support program monitor progress provide cross functional decision making alignment business strategy oversee progress commitment review monitor preparation key disclosure comprise select member key leader functional robust agenda strategic priority organization identifie address challenge enhance disclosure monitor emerge trend provide primary board level oversight strategy goal policy assist oversight human capital management strategy corporate governance practice suite policy program outline expectation company employee supplier act professional ethical legal manner extension value provide guidepost employee director make right decision work policy cover topic include anti bribery anti competitive behavior insider trading disclosure addition statement policy cover section report employee require hold accountable policy law speak hotline manage independent party offer way employee report potential violation concern introduce enhanced enterprise wide annual compliance training program curriculum tailor specific role employee population program update allow team predict prioritize plan dedicated training time year participate engaging modernized learner experience course available multiple language device recognize responsibility conduct business manner respect human right dignity people community impact operation business activity commitment human right embed range policy include specify new guide recognize standard include standard cover topic include discrimination humane treatment freedom association collective bargaining child labor work hour wage benefit engagement human right inform participation number international initiative focus sustainability human right include recognize individual company action need support constructive policy solution order accelerate collective progress participate public policy make process support variety initiative policy issue include limit restore resource circular economy support sustainable global agricultural supply chain reinforce responsible marketing labeling ensure product quality food safety advocacy effort include direct engagement public official participation trade association coalition stakeholder meeting give diversity interest group position align company view understand appreciate value collaborative process strive maintain strong voice shape policy agenda critical corporate responsibility strategy publish report detail trade association membership associate support contribution adhere local state federal lobbying law require registration reporting direct engagement associate membership link information provide website administer political action committee register fund voluntary contribution eligible employee hold fundraising campaign contribution bipartisan give federal state candidate permissible law regard political party affiliation corporate fund contribute receipt disbursement report available require website committed protect personal information entrust consumer customer employee business partner accordance applicable privacy security law alignment implement maintain range policy process technical safeguard design protect system preserve confidentiality integrity personal information care work ensure collection use sharing personal information compliance applicable privacy law reflect privacy policy allow consumer exercise privacy right include limit access opt sale sharing personal information privacy portal company brand website dedicate privacy compliance team report responsible identifying manage privacy risk partnership team implement maintain policy process procedure pace current requirement privacy regulation privacy job invest team member support certification include large global network information privacy expert addition employee role impact applicable privacy regulation receive targeted role specific privacy training ensure compliance applicable privacy law cybersecurity recognize embrace responsibility ensure reliability safety security product infrastructure security policy standard inform employee responsibility protect customer employee information detail information security program focus protect confidentiality integrity availability infrastructure resource information security process include system upgrade vulnerability testing monitoring monitor respond risk identify way improve information security preparedness include annual ongoing privacy cybersecurity education training program employee training ensure remain vigilant face emerge threat exist inform reduce risk cyberattack security incident understand importance focus effort topic great impact recent formal materiality analysis take place include evaluation emerge trend internal external stakeholder input outcome process materiality matrix outline total non financial issue rank relation important stakeholder impactful business maintain date understanding material issue ongoing dialogue engagement key stakeholder continuous monitoring evolve sustainability issue macroeconomic event rank issue identify matrix align agenda continue play prominent role corporate responsibility strategy related program policy addition align corporate responsibility platform goal relevant business definition materiality respect issue report different definition materiality context filing identification material issue guide corporate responsibility strategy construe characterization materiality financial impact issue relate information investor discussion risk material investor find year end file subsequent form form read strategyimpact businessimportance bioengineere renewable biodiversity goal sdg develop address global challenge face current world represent transformative power collective action align corporate responsibility strategy sdg relevant business formal informal method level organization engage supplier partner customer regulatory agency consumer employee investor collaboration foster trust elevate performance help identify emerge trend allow find solution share challenge employee communication website app online collaboration tool workplace wellness platform weekly newsletter executive communication team information cascade meeting monthly meeting engagement survey supplier individual base communication supplier training assessment remediation process social impact investment ngosconsumer marketing advertising campaign hotline social medium channel website engagement sweepstake giveaway customer individual base communication conference trade show engagement store promotion corporate organizational membership engagement collective action coalitionsinvestor quarterly earning report include conference call filing financial conference investor event meeting involvement management financial publication filing include website engagement trade association policy coalition employee volunteering financial giving local national report progress report focus goal program initiative encompass key corporate responsibility effort note repor cover datum activity calendar year own operation locate content cover part business operational control include joint venture entity hold minority interest franchised outsource operation note select datum information global supply chain activity include report create reference alignment sustainable obtain limited party assurance certain sustainability performance metric assured data point flag locate report view website welcome question feedback corporate responsibility work invite contact read certain statement contain look statement meaning applicable security law regulation look statement identify use word outlook guidance anticipate expect believe estimate feel forecast intend plan potential project target similar word forward look statement nature address matter different degree uncertain statement base current expectation management prediction actual performance actual result differ look statement subject number risk uncertainty include factor disclose subsequent filing obligation update modify withdraw look statement require applicable law look statement retail sale week brewer iri beverage beverage sbti scenario align climate change goal limit lobal warm pre industrial level scenario adjust company align pathway reduction emission remain value chain emission neutralize purchase carbon removal offset planned action allow explore revise goal appropriate expiration exist sbt launch new methodology forest land agriculture sect standard company land intensive sector set sbt include land base emission reduction removal publish explain company account report emission removal land management land use change biogenic product carbon dioxide removal technology related inventory net define contribute basin health take exclude lid cap enter settle inquiry relate representation recyclability pod result enhance communication remind consumer verify pod accept municipality recycling program follow additional step necessary prepare pod recycle pay administrative monetary penalty donation environmental charity carry year accord recycling system unified governmental entity network separate local recycling program individual program specific parameter material recycle municipality collect recyclable different way lead company improve rethink large buyer status designate base purchase own partner brand use datum source determine supplier risk datum risk self ele vate system provide risk datum country region supplier operate determine strength supplier social environmental management system base source rank supplier low high risk accept audit report ical supplier facility locate high risk country upplier represent total volume priority finding refer high severity audit finding contain dard set time define found partner organization celebrate year anniversary support invest research aim preserve coffee origin div ersity threaten climate change include own license partner beverage brand exclude private label definition low calorie itle food product basic nutritional impact beneficial effect function human organism improve general physical condition decrease risk evolution disease fluid find effective compliance advertising standard gage advertising direct child advertise product meet strict nutrition criterion age group salary employee receive annual performance review hourly workforce receive feedback coach year focused key role female frontline employee machine operator oduction account manager merchandiser credit page table page page page amount express dollar note brand own respective trademark owner right reserve endnote detail methodology boundary goal datum support end market base base emission category fuel energy relate activity include generate employee commute end life mwh mwh mwh key disclosure applicable disclosure report cont renewable renewable party datum assurance complete party datum assurance complete limited assurance statement available website update prior year scope emission account accordance use current emission factor inventory year supplier factor available scope emission calculate ntorie scope emission calculate follow location base market base metho dologie define location base factor take dataset international site respectiv market base factor take supplier specific utility factor large site late dataset available time publication update methodology reflect tank impact include result revision prior year estimate category cope total renewable electricity source mix ertifie rec product site supply wind electricity local utility consume high baseline water stress area discharge discharge waterbody water liter liter water year water risk party datum assurance complete limited assurance statement available website update prior year calculate base water withdrawal production volume cold bev erage site base location high baseline water stress align metric prior year aqueduct additional indic ator total water capacity replenish restore protect conserve nature water stewardship partner project base location high baseline water stress align metric prior year aqueduct additional dicator volume water capacity replenish volume water nsume scope location year compostable packaging compostable plastic procure refillable bottle refillable bottle polystyrene report include tertiary packaging brewer report datum reflect plastic design recycle system geogr aphie distribute product definition recyclable specifie package type recycle recycling rate geography inhabitant move traditional definition recyclable plastic packaging fit definition plastic packaging fit definition plastic packaging fit def inition plastic packaging fit definition source source total volume final transition year purchase green coffee source party certification verification program coffee contract receive sourced small coffee receive conventional impact supplier err shipping delay final transition year cocoa purchase source rough party certification verification source program end coc contract receive source supplier rate tier supplier rate supplier rate begin execute evolved responsible source program uniform thodology supplier rating system enable align expand audit program supply base risk focus manufacture factory total number tier supplier risk tier supplier risk total conduct tier supplier meet responsible source goal brewer adjust meth odology report metric move read table datum manufacturer supplier number average average finding number average average meet responsible source goal brewer adjust meth odology report metric move read table datum decide focus close order address esse issue supply chain timely manner report perc entage close year year total percentage finding close nature support party datum assurance complete limited assurance statement available website livelihood cumulative product provide party datum assurance complete limited assurance statement available website include partner brand fountain exclude private label define positive hydration product provide serving fruit vegetable calorie serve functional attribute nutrient encourage total lose work relate total include own operate facility rate calculate requency injury employee datum revise incident turn recordable result lose time end calendar year lose total include operation rate calculate frequency injury employee people party datum assurance complete limited assurance statement available website include employee environmenttotal disclose party datum assurance complete limited assurance statement available website total disclose disclose female disclose disclose disclose party datum assurance complete limited assurance statement available website environmenttotal cont disclose female disclose disclose party datum assurance complete limited assurance statement available website exclusion comment bottler select supplier represent emission set science base target emission cover bottler supplier supplier bottler target cover category purchase good service downstream transportation distribution processing sell product end life treatment sell product validate sbti information emission calculation methodology boundary refer disclosure electricity renewable source electricity purchase total electricity own operate facility electricity consumption include consumption estimate small site validate reduce emission metric ton carbon dioxide reduction target energy use own operate asset purchase electricity refrigerant leak system facilitiesvalidate sbti information emission calculation methodology boundary refer disclosure reduce emission select category metric ton carbon dioxide reduction target cover category purchase good service pet glass packaging fuel energy relate activity upstream transportation distribution use sell product include category account emission validate sbti information emission calculation methodology boundary refer disclosure improve water use efficiency improvement water use ratio water use ratio water final product divide total water withdrawal measure cold beverage manufacturing site coffee production applesauce production party production cold beverage facility operational reporting year approach align roundtable definition approach environmentgoal unit exclusion comment high water risk operate community replenish water beverage community water replenish volume product produce high water risk focus community determine water risk assessment utilize expert knowledge location replenishment project water volume calculate yearly basis base annual volume benefit deliver previous year progress goal calculate percentage forecast goal percentage reporting year water consumption site scope follow expansion goal boundary site extend target completion year performance report volume replenish reporting year volume consumption reporting year volumetric benefit varie base project characteristic benefit duration cap year validate packaging recyclable compostable total packaging secondary tertiary packaging own operate food beverage manufacturing facility packaging brewer brewer accessoriesthird party bottler packaging material plastic strapping adhesive tape wood pallet brewer brewer componentsongoing project recycle coffee brewer additional goal use post consumer recycle content packaging portfolio total packaging secondary tertiary packaging own operate food beverage manufacturing facility packaging brewer brewer accessoriesthird party bottler packaging material plastic strapping adhesive tape wood pallet brewer brewer componentsongoing project incorporate coffee brewer additional goal use post consumer recycle content plastic packaging total plastic packaging secondary tertiary plastic packaging own operate food beverage manufacturing facility plastic packaging brewer brewer accessoriesthird party bottler packaging material plastic strapping adhesive tape brewer brewer componentsongoing project incorporate coffee brewer additional goal achieve virgin plastic reduction plastic packaging portfolio plastic packaging secondary tertiary virgin plastic packaging own operate food beverage manufacturing facility virgin plastic packaging brewer brewer accessoriesthird party bottler packaging material plastic strapping adhesive tape brewer brewer environmentgoal unit exclusion comment send waste landfill operation solid waste weight divert solid waste manufacturing site include office distribution center instance location manufacturing site property production facility exclude facility robust recycling wastenone source brewer priority source coffee ongoing green coffee purchase own partner brand soluble green coffee extract green coffee coffee input purchase partnersaccepte party certification verification program ofi maxtrace evaluation tool accept partner program review source cocoa ongoe cocoa purchase include source standalone ingredient blended powder finish product include source manufacturer purchase partnersaccepte party certification verification program purchase volume validate evaluation tool accept partner program review brewer supplier meet social compliance ongoing manage tier tier brewer brewer component supplierscontract manufacturer manage tier supplier spot buy suppliersvalidate party auditor expand include manage supplier number supplier scope expansion number new supplier integrate result total manage tier supplier scope environmentgoal unit exclusion comment support regenerative agriculture conservation acre land acre corn high fructose corn syrup apple supply chainscoffee soluble green coffee extract green coffee coffee input purchase partner corn corn starch citric acid corn syrup soluble corn fiber vodka brown caramel color puree flakesmethodology develop partnership significant stakeholder farmer industry organization information refer provide positive hydration product total number positive hydration define product provide serving fruit vegetable add sugar calorie serve functional attribute daily value nutrient encourage serve size define product label product define unique portion size beverage sauce include hot cold own license partner brand fountain beverage exclude multi pack packed brand private labelvalidate increase female representation position total level director level employee geographiesall employee increase people color representation position total level director level employee onlyall employee goal meet end specified year report information cite content index period reference organizational detail overview page form include organization sustainability report page reporting period frequency contact point page information page emission page high baseline water stress area page external assurance page activity value chain business relationship form page form employee page form structure composition page nomination selection high governance body page high governance body page high governance body oversee management impact ernance page responsibility manage impact page high governance body sustainability report page location conflict interest page critical concern page collective knowledge high governance body page performance high governance body page policy process determine remuneration annual total compensation ratio sustainable development strategy ainability page policy commitment page embed policy commitment page remediate negative impact page seek advice raise concern page law regulation normal course business subject variety state local environmental health safety law regulation maintain environmental health safety policy quality environmental health safety program design ensure compliance applicable law regulation issue non compliance cost compliance measure material financial impact operation association page page page page approach stakeholder page collective bargaining agreement form material process determine material topic page list material topic page material topic page page page page economic direct economic value generate distribute financial implication risk opportunity climate change form define benefit plan obligation retirement plan form anti corruption assess risk relate corruption page communication training anti corruption policy procedure page anti competitive legal action anti competitive behavior anti trust monopoly practice material material weight volume page page recycle input material page page product packaging material page page energy consumption organization page page consumption organization page page intensity page page energy consumption page page energy requirement product service page page interaction water share resource page page water discharge relate impact page page withdrawal page page discharge page page consumption page page biodiversity operational site own lease manage adjacent protect area area high biodiversity value protect page page page significant impact activity product service biodiversity page page page protect restore page page page emission direct emission page page indirect emission page page location indirect emission page page emission intensity page page emission page page generation significant waste relate impact page page significant waste relate impact page page generate page page divert page page direct page page supplier new supplier screen environmental criterion negative environmental impact supply chain action take page page page new employee hire employee turnover page page benefit provide time employee provide temporary time page leave page health safety management system page hazard identification risk assessment incident investigation page health service page participation consultation communication occupational health page worker training occupational health safety page worker health page mitigation occupational health safety impact link business relationshipspeople page work relate injury page work relate ill health page training average hour training year employee non frontline time team member complete hour training upgrade employee skill transition assistance program page governance body employee page page page ratio basic salary remuneration woman man page non discrimination discrimination corrective action take page supplier right freedom association collective bargaining chain page page child labor supplier significant risk incident child labor page supplier significant risk incident forced compulsory labor page personnel train human right policy procedure page right violation involve right indigenous people page local local community engagement impact assessment development page page page page supplier supplier screen social criterion page negative social impact supply chain action take page page public policy political contribution page health safety impact product service category ell page non compliance concern health safety impact product page marketing product service information label page non compliance concern product service information label page non compliance concern marketing communication page substantiate complaint concern breach customer privacy loss customer datagovernance page andard additional detail include assurance datum report alcoholic topic accounting measure fuel consume percentage renewable operational energy consume percentage grid electricity percentage renewablequantitative grid energy renewable electricity total water withdraw total water consume percentage region high cubic meter description water management risk discussion strategy practice mitigate risksdiscussion operate area high baseline water stress stress project increase time water efficiency target aim reduce impact local water supply water stewardship effort implement water replenishment conservation area high water risk operation page page low calorie add sugar sweeten beveragesquantitative report goal beverage provide positive hydration positive hydration define product provide serving fruit vegetable add sugar calorie functional attribute nutrient encourage page process identify manage product ingredient relate nutritional healthdiscussion page measure product advertising impression child child promote productsquantitative page revenue product label contain modify organism report materiality assessment determine material issue comply bio engineer labeling law product contain bioengineered ingredient number incident non compliance industry regulatory labeling marketing codesquantitative incident non compliance total monetary loss result legal proceeding associate marketing labelingquantitative report total weight packaging percentage recycled renewable material percentage recyclable reusable compostablequantitative metric ton strategy reduce environmental impact packaging lifecyclediscussion page impact social environmental responsibility audit non conformance rate associate corrective action rate major minor non conformancesquantitative report risk assessment major social environmental risk farm level focus effort upstream supplier coffee cocoa supply chain rely party certification verification program include audits corrective action process major minor non conformity page measure beverage ingredient source region high high alignment disclosure report percentage key ingredient volume source area water stress correspond report percentage cost base recent risk assessment datum follow coffee list priority beverage ingredient description source risk environmental social considerationsdiscussion use party risk datum industry group datum assess ingredient base environmental social risk factor consider risk level spend volume purchase influence factor determine prioritization ingredient priority beverage ingredient coffee cocoa apple corn detail social source risk management approach priority input additional environmental risk coffee cocoa climate change deforestation corn apple apple juice concentrate key additional environmental risk agrochemical use biodiversity strategy address risk shape regenerative agriculture effort page measure volume product sell hectoliter disclose revenue segment form number production facility form total fleet road mile travel note entity disclose applicable dietary guideline methodolog estimate advertising impression entity describe nature context correctiv action take result monetary loss topic accounting measure issue total unit recalledquantitative number appliance recall process identify manage safety risk associate use productsdiscussion page total monetary loss result legal proceeding associate product safetyquantitative report product eligible product revenue certify programquantitative eligible product certify sustainability standardquantitative description effort manage product end life impactsdiscussion offer program select retailer send store return brewer recycle party partner utilization program retailer varie offer recycling program commercial brewer measure response annual production number unit kdp disclose revenue segment form note entity discuss notable recall affect significant number unit product relate injury fatality entity describe nature context ective action take result monetary loss production disclose number unit produce product cate gory relevant product category include small appliance major appliance alignment recommendation follow index provide link key sure climate change include climate change response current metrics describe board oversight climate relate risk opportunity form page page management role assess manage climate relate risk reporting form page page describe climate relate risk opportunity organization identify short medium form page describe impact climate relate risk opportunity organization business strategy financial reporting form page describe resilience organization strategy take consideration different climate relate scenario include low page risk organization process identify assess climate relate page page describe organization process manage climate relate risk page describe process identify assess manage climate relate risk integrate organization overall risk reporting page page targetsdisclose metric organization assess climate relate risk opportunity line strategy risk management reporting page disclose scope appropriate greenhouse gas emission relate page page describe target organization manage climate relate risk opportunity performance reporting page environmentglossaryappendix term term describe effort peer design packaging process durability reuse recycling compost support necessary infrastructure enable circularity compostable able break carbon dioxide water biomass specific time frame specific condition mean home compostable specific temperature natural microbial community compostable increase temperature humidity formulate microbial condition compostable material chemical input subject party certification conservation act bring non agricultural land conservation protection support increase protection stewardship conserve land buy use product purpose personal use consumption buy product sell consumer policy approach assign producer responsibility end life product include financial responsibility operational responsibility scope emission emission source control own fuel fleet manufacturing scope emission emission associate purchase operation source ontrolle own electricity emission emission source own company value upstream transportation material processing use sell product recycle partner service offer workplace customer collect high volume bin brew pod recycle pod plastic filter paper aluminum lid coffee tea divert compost approach develop ceed positive impact water stress basin quantity quality access product provide serving fruit vegetable calorie serve functional attribute nutrient encourage importance business include coffee cocoa corn apple apple juice ncentrate brewer component critical brewer function quality priority status determine input importance nitude spending social environmental risk profile unique opportunity impact supply chain recyclable design barrier packaging successf collect sort reprocess material product component recycle raw material packaging consider recyclable include material format recovery sortation market exist scale note community accept sort certain material format today holistic localize approach agricultural production land management seek mitigate climate change increase soil health support resilient landscape improve farmer livelihood approach help safeguard fundamental human right environmental prote ction supply chain coffee cocoa rely party certification verification program factory base input employ supplier environmentterm definition manage manage brewer component supplier supplier critical brewer function quality dictate volume price tier brewer supplier contract manufacturer assemble brewer tier brewer supplier component supplier provide component part final assembly manufacturer value chain complete journey product process cover stage erial source end life include source production distribution disposal highlight interconnectedness step manufacture resin produce petrochemical biomass feedstock raw material manufacture plastic product process employee pay rate type salary director employee pay rate type weekly sion']}"
      ]
     },
     "execution_count": 7,
     "metadata": {},
     "output_type": "execute_result"
    }
   ],
   "source": [
    "preprocessed_stats = {\n",
    "    'Number of Missing Values': df['preprocessed_content'].isna().sum(),\n",
    "    'Number of Unique Texts': df['preprocessed_content'].nunique(),\n",
    "    'Sample Texts': df['preprocessed_content'].sample(5).tolist()\n",
    "}\n",
    "\n",
    "preprocessed_stats"
   ]
  },
  {
   "cell_type": "code",
   "execution_count": 8,
   "metadata": {},
   "outputs": [
    {
     "data": {
      "text/html": [
       "<div>\n",
       "<style scoped>\n",
       "    .dataframe tbody tr th:only-of-type {\n",
       "        vertical-align: middle;\n",
       "    }\n",
       "\n",
       "    .dataframe tbody tr th {\n",
       "        vertical-align: top;\n",
       "    }\n",
       "\n",
       "    .dataframe thead th {\n",
       "        text-align: right;\n",
       "    }\n",
       "</style>\n",
       "<table border=\"1\" class=\"dataframe\">\n",
       "  <thead>\n",
       "    <tr style=\"text-align: right;\">\n",
       "      <th></th>\n",
       "      <th>ticker</th>\n",
       "      <th>year</th>\n",
       "      <th>content</th>\n",
       "      <th>preprocessed_content</th>\n",
       "    </tr>\n",
       "    <tr>\n",
       "      <th>filename</th>\n",
       "      <th></th>\n",
       "      <th></th>\n",
       "      <th></th>\n",
       "      <th></th>\n",
       "    </tr>\n",
       "  </thead>\n",
       "  <tbody>\n",
       "    <tr>\n",
       "      <th>ASX_ATCO_2019.pdf</th>\n",
       "      <td>ATCO</td>\n",
       "      <td>2019</td>\n",
       "      <td>Atlas Copco\\nAnnual report\\n2019Atlas Copco \\n...</td>\n",
       "      <td>annual report cover ceo section contain vision...</td>\n",
       "    </tr>\n",
       "    <tr>\n",
       "      <th>NYSE_ACC_2019.pdf</th>\n",
       "      <td>ACC</td>\n",
       "      <td>2019</td>\n",
       "      <td>ACC Cares: 2019 Environmental, Social &amp; Govern...</td>\n",
       "      <td>environmental environmental commitment student...</td>\n",
       "    </tr>\n",
       "    <tr>\n",
       "      <th>TSX_CSH_2020.pdf</th>\n",
       "      <td>CSH</td>\n",
       "      <td>2020</td>\n",
       "      <td>Chartwell Retirement Residences/Environmental,...</td>\n",
       "      <td>datum report accurate note environmental socia...</td>\n",
       "    </tr>\n",
       "    <tr>\n",
       "      <th>NYSE_ALK_2021.pdf</th>\n",
       "      <td>ALK</td>\n",
       "      <td>2021</td>\n",
       "      <td>CARE  REPORT  2021\\nALASKA AIRLINES 2021 SUSTA...</td>\n",
       "      <td>alaska sustainability content ceo people make ...</td>\n",
       "    </tr>\n",
       "    <tr>\n",
       "      <th>LSE_GKP.L_2021.pdf</th>\n",
       "      <td>GKP.L</td>\n",
       "      <td>2021</td>\n",
       "      <td>Sustainability report 2021GKP is a responsible...</td>\n",
       "      <td>sustainability report responsible energy compa...</td>\n",
       "    </tr>\n",
       "    <tr>\n",
       "      <th>...</th>\n",
       "      <td>...</td>\n",
       "      <td>...</td>\n",
       "      <td>...</td>\n",
       "      <td>...</td>\n",
       "    </tr>\n",
       "    <tr>\n",
       "      <th>NASDAQ_BIRD_2021.pdf</th>\n",
       "      <td>BIRD</td>\n",
       "      <td>2021</td>\n",
       "      <td>Allbirds \\n2021 \\nFlight  \\nStatus\\nAllbirdsOu...</td>\n",
       "      <td>allbird version sustainability report document...</td>\n",
       "    </tr>\n",
       "    <tr>\n",
       "      <th>NYSE_JPM_2019.pdf</th>\n",
       "      <td>JPM</td>\n",
       "      <td>2019</td>\n",
       "      <td>Environmental\\nSocial &amp;\\nGovernance \\nReport\\n...</td>\n",
       "      <td>environmental world contend human economic imp...</td>\n",
       "    </tr>\n",
       "    <tr>\n",
       "      <th>NYSE_RSG_2018.pdf</th>\n",
       "      <td>RSG</td>\n",
       "      <td>2018</td>\n",
       "      <td>1  2018 Sustainability Report  |Our Blue Plane...</td>\n",
       "      <td>work ceo goal table content report reﬂect year...</td>\n",
       "    </tr>\n",
       "    <tr>\n",
       "      <th>NYSE_HIG_2019.pdf</th>\n",
       "      <td>HIG</td>\n",
       "      <td>2019</td>\n",
       "      <td>/two.tab /zero.tab /one.tab /nine.tab /space.t...</td>\n",
       "      <td>inspire high make impact good approach sustain...</td>\n",
       "    </tr>\n",
       "    <tr>\n",
       "      <th>NYSE_6BF_2021.pdf</th>\n",
       "      <td>6BF</td>\n",
       "      <td>2021</td>\n",
       "      <td>HEALTHY\\nLIVING\\nwww.bakkafrost.com/sustainabi...</td>\n",
       "      <td>living report fifth sustainability report prov...</td>\n",
       "    </tr>\n",
       "  </tbody>\n",
       "</table>\n",
       "<p>200 rows × 4 columns</p>\n",
       "</div>"
      ],
      "text/plain": [
       "                     ticker  year   \n",
       "filename                            \n",
       "ASX_ATCO_2019.pdf      ATCO  2019  \\\n",
       "NYSE_ACC_2019.pdf       ACC  2019   \n",
       "TSX_CSH_2020.pdf        CSH  2020   \n",
       "NYSE_ALK_2021.pdf       ALK  2021   \n",
       "LSE_GKP.L_2021.pdf    GKP.L  2021   \n",
       "...                     ...   ...   \n",
       "NASDAQ_BIRD_2021.pdf   BIRD  2021   \n",
       "NYSE_JPM_2019.pdf       JPM  2019   \n",
       "NYSE_RSG_2018.pdf       RSG  2018   \n",
       "NYSE_HIG_2019.pdf       HIG  2019   \n",
       "NYSE_6BF_2021.pdf       6BF  2021   \n",
       "\n",
       "                                                                content   \n",
       "filename                                                                  \n",
       "ASX_ATCO_2019.pdf     Atlas Copco\\nAnnual report\\n2019Atlas Copco \\n...  \\\n",
       "NYSE_ACC_2019.pdf     ACC Cares: 2019 Environmental, Social & Govern...   \n",
       "TSX_CSH_2020.pdf      Chartwell Retirement Residences/Environmental,...   \n",
       "NYSE_ALK_2021.pdf     CARE  REPORT  2021\\nALASKA AIRLINES 2021 SUSTA...   \n",
       "LSE_GKP.L_2021.pdf    Sustainability report 2021GKP is a responsible...   \n",
       "...                                                                 ...   \n",
       "NASDAQ_BIRD_2021.pdf  Allbirds \\n2021 \\nFlight  \\nStatus\\nAllbirdsOu...   \n",
       "NYSE_JPM_2019.pdf     Environmental\\nSocial &\\nGovernance \\nReport\\n...   \n",
       "NYSE_RSG_2018.pdf     1  2018 Sustainability Report  |Our Blue Plane...   \n",
       "NYSE_HIG_2019.pdf     /two.tab /zero.tab /one.tab /nine.tab /space.t...   \n",
       "NYSE_6BF_2021.pdf     HEALTHY\\nLIVING\\nwww.bakkafrost.com/sustainabi...   \n",
       "\n",
       "                                                   preprocessed_content  \n",
       "filename                                                                 \n",
       "ASX_ATCO_2019.pdf     annual report cover ceo section contain vision...  \n",
       "NYSE_ACC_2019.pdf     environmental environmental commitment student...  \n",
       "TSX_CSH_2020.pdf      datum report accurate note environmental socia...  \n",
       "NYSE_ALK_2021.pdf     alaska sustainability content ceo people make ...  \n",
       "LSE_GKP.L_2021.pdf    sustainability report responsible energy compa...  \n",
       "...                                                                 ...  \n",
       "NASDAQ_BIRD_2021.pdf  allbird version sustainability report document...  \n",
       "NYSE_JPM_2019.pdf     environmental world contend human economic imp...  \n",
       "NYSE_RSG_2018.pdf     work ceo goal table content report reﬂect year...  \n",
       "NYSE_HIG_2019.pdf     inspire high make impact good approach sustain...  \n",
       "NYSE_6BF_2021.pdf     living report fifth sustainability report prov...  \n",
       "\n",
       "[200 rows x 4 columns]"
      ]
     },
     "execution_count": 8,
     "metadata": {},
     "output_type": "execute_result"
    }
   ],
   "source": [
    "df"
   ]
  },
  {
   "cell_type": "code",
   "execution_count": 10,
   "metadata": {},
   "outputs": [
    {
     "name": "stderr",
     "output_type": "stream",
     "text": [
      "[I 2023-09-26 13:36:46,794] A new study created in RDB with name: no-name-a31e68b4-2292-435e-b195-ba1f1759b09e\n",
      "[I 2023-09-26 13:37:00,520] Trial 0 finished with value: 0.37890120766225144 and parameters: {'alpha': 0.3907921370791316, 'eta': 0.7185718027654422, 'num_topics': 14}. Best is trial 0 with value: 0.37890120766225144.\n",
      "[I 2023-09-26 13:37:17,254] Trial 1 finished with value: 0.3406047138091531 and parameters: {'alpha': 0.8308267680447831, 'eta': 0.9880291579519399, 'num_topics': 41}. Best is trial 0 with value: 0.37890120766225144.\n",
      "[I 2023-09-26 13:37:32,324] Trial 2 finished with value: 0.42072713533565204 and parameters: {'alpha': 0.42236606983200486, 'eta': 0.8961614770161681, 'num_topics': 29}. Best is trial 2 with value: 0.42072713533565204.\n"
     ]
    },
    {
     "data": {
      "application/vnd.plotly.v1+json": {
       "config": {
        "plotlyServerURL": "https://plot.ly"
       },
       "data": [
        {
         "type": "scatter",
         "xaxis": "x",
         "yaxis": "y"
        },
        {
         "colorbar": {
          "title": {
           "text": "Objective Value"
          }
         },
         "colorscale": [
          [
           0,
           "rgb(247,251,255)"
          ],
          [
           0.125,
           "rgb(222,235,247)"
          ],
          [
           0.25,
           "rgb(198,219,239)"
          ],
          [
           0.375,
           "rgb(158,202,225)"
          ],
          [
           0.5,
           "rgb(107,174,214)"
          ],
          [
           0.625,
           "rgb(66,146,198)"
          ],
          [
           0.75,
           "rgb(33,113,181)"
          ],
          [
           0.875,
           "rgb(8,81,156)"
          ],
          [
           1,
           "rgb(8,48,107)"
          ]
         ],
         "connectgaps": true,
         "contours": {
          "coloring": "heatmap"
         },
         "hoverinfo": "none",
         "line": {
          "smoothing": 1.3
         },
         "reversescale": false,
         "showscale": true,
         "type": "contour",
         "x": [
          0.368790405530849,
          0.3907921370791316,
          0.42236606983200486,
          0.8308267680447831,
          0.8528284995930656
         ],
         "xaxis": "x4",
         "y": [
          0.7050989350061173,
          0.7185718027654422,
          0.8961614770161681,
          0.9880291579519399,
          1.0015020257112648
         ],
         "yaxis": "y4",
         "z": [
          [
           null,
           null,
           null,
           null,
           null
          ],
          [
           null,
           0.37890120766225144,
           null,
           null,
           null
          ],
          [
           null,
           null,
           0.42072713533565204,
           null,
           null
          ],
          [
           null,
           null,
           null,
           0.3406047138091531,
           null
          ],
          [
           null,
           null,
           null,
           null,
           null
          ]
         ]
        },
        {
         "marker": {
          "color": "black",
          "line": {
           "color": "Grey",
           "width": 2
          }
         },
         "mode": "markers",
         "showlegend": false,
         "type": "scatter",
         "x": [
          0.3907921370791316,
          0.8308267680447831,
          0.42236606983200486
         ],
         "xaxis": "x4",
         "y": [
          0.7185718027654422,
          0.9880291579519399,
          0.8961614770161681
         ],
         "yaxis": "y4"
        },
        {
         "colorbar": {
          "title": {
           "text": "Objective Value"
          }
         },
         "colorscale": [
          [
           0,
           "rgb(247,251,255)"
          ],
          [
           0.125,
           "rgb(222,235,247)"
          ],
          [
           0.25,
           "rgb(198,219,239)"
          ],
          [
           0.375,
           "rgb(158,202,225)"
          ],
          [
           0.5,
           "rgb(107,174,214)"
          ],
          [
           0.625,
           "rgb(66,146,198)"
          ],
          [
           0.75,
           "rgb(33,113,181)"
          ],
          [
           0.875,
           "rgb(8,81,156)"
          ],
          [
           1,
           "rgb(8,48,107)"
          ]
         ],
         "connectgaps": true,
         "contours": {
          "coloring": "heatmap"
         },
         "hoverinfo": "none",
         "line": {
          "smoothing": 1.3
         },
         "reversescale": false,
         "showscale": false,
         "type": "contour",
         "x": [
          0.368790405530849,
          0.3907921370791316,
          0.42236606983200486,
          0.8308267680447831,
          0.8528284995930656
         ],
         "xaxis": "x7",
         "y": [
          12.65,
          14,
          29,
          41,
          42.35
         ],
         "yaxis": "y7",
         "z": [
          [
           null,
           null,
           null,
           null,
           null
          ],
          [
           null,
           0.37890120766225144,
           null,
           null,
           null
          ],
          [
           null,
           null,
           0.42072713533565204,
           null,
           null
          ],
          [
           null,
           null,
           null,
           0.3406047138091531,
           null
          ],
          [
           null,
           null,
           null,
           null,
           null
          ]
         ]
        },
        {
         "marker": {
          "color": "black",
          "line": {
           "color": "Grey",
           "width": 2
          }
         },
         "mode": "markers",
         "showlegend": false,
         "type": "scatter",
         "x": [
          0.3907921370791316,
          0.8308267680447831,
          0.42236606983200486
         ],
         "xaxis": "x7",
         "y": [
          14,
          41,
          29
         ],
         "yaxis": "y7"
        },
        {
         "colorbar": {
          "title": {
           "text": "Objective Value"
          }
         },
         "colorscale": [
          [
           0,
           "rgb(247,251,255)"
          ],
          [
           0.125,
           "rgb(222,235,247)"
          ],
          [
           0.25,
           "rgb(198,219,239)"
          ],
          [
           0.375,
           "rgb(158,202,225)"
          ],
          [
           0.5,
           "rgb(107,174,214)"
          ],
          [
           0.625,
           "rgb(66,146,198)"
          ],
          [
           0.75,
           "rgb(33,113,181)"
          ],
          [
           0.875,
           "rgb(8,81,156)"
          ],
          [
           1,
           "rgb(8,48,107)"
          ]
         ],
         "connectgaps": true,
         "contours": {
          "coloring": "heatmap"
         },
         "hoverinfo": "none",
         "line": {
          "smoothing": 1.3
         },
         "reversescale": false,
         "showscale": false,
         "type": "contour",
         "x": [
          0.7050989350061173,
          0.7185718027654422,
          0.8961614770161681,
          0.9880291579519399,
          1.0015020257112648
         ],
         "xaxis": "x2",
         "y": [
          0.368790405530849,
          0.3907921370791316,
          0.42236606983200486,
          0.8308267680447831,
          0.8528284995930656
         ],
         "yaxis": "y2",
         "z": [
          [
           null,
           null,
           null,
           null,
           null
          ],
          [
           null,
           0.37890120766225144,
           null,
           null,
           null
          ],
          [
           null,
           null,
           0.42072713533565204,
           null,
           null
          ],
          [
           null,
           null,
           null,
           0.3406047138091531,
           null
          ],
          [
           null,
           null,
           null,
           null,
           null
          ]
         ]
        },
        {
         "marker": {
          "color": "black",
          "line": {
           "color": "Grey",
           "width": 2
          }
         },
         "mode": "markers",
         "showlegend": false,
         "type": "scatter",
         "x": [
          0.7185718027654422,
          0.9880291579519399,
          0.8961614770161681
         ],
         "xaxis": "x2",
         "y": [
          0.3907921370791316,
          0.8308267680447831,
          0.42236606983200486
         ],
         "yaxis": "y2"
        },
        {
         "type": "scatter",
         "xaxis": "x5",
         "yaxis": "y5"
        },
        {
         "colorbar": {
          "title": {
           "text": "Objective Value"
          }
         },
         "colorscale": [
          [
           0,
           "rgb(247,251,255)"
          ],
          [
           0.125,
           "rgb(222,235,247)"
          ],
          [
           0.25,
           "rgb(198,219,239)"
          ],
          [
           0.375,
           "rgb(158,202,225)"
          ],
          [
           0.5,
           "rgb(107,174,214)"
          ],
          [
           0.625,
           "rgb(66,146,198)"
          ],
          [
           0.75,
           "rgb(33,113,181)"
          ],
          [
           0.875,
           "rgb(8,81,156)"
          ],
          [
           1,
           "rgb(8,48,107)"
          ]
         ],
         "connectgaps": true,
         "contours": {
          "coloring": "heatmap"
         },
         "hoverinfo": "none",
         "line": {
          "smoothing": 1.3
         },
         "reversescale": false,
         "showscale": false,
         "type": "contour",
         "x": [
          0.7050989350061173,
          0.7185718027654422,
          0.8961614770161681,
          0.9880291579519399,
          1.0015020257112648
         ],
         "xaxis": "x8",
         "y": [
          12.65,
          14,
          29,
          41,
          42.35
         ],
         "yaxis": "y8",
         "z": [
          [
           null,
           null,
           null,
           null,
           null
          ],
          [
           null,
           0.37890120766225144,
           null,
           null,
           null
          ],
          [
           null,
           null,
           0.42072713533565204,
           null,
           null
          ],
          [
           null,
           null,
           null,
           0.3406047138091531,
           null
          ],
          [
           null,
           null,
           null,
           null,
           null
          ]
         ]
        },
        {
         "marker": {
          "color": "black",
          "line": {
           "color": "Grey",
           "width": 2
          }
         },
         "mode": "markers",
         "showlegend": false,
         "type": "scatter",
         "x": [
          0.7185718027654422,
          0.9880291579519399,
          0.8961614770161681
         ],
         "xaxis": "x8",
         "y": [
          14,
          41,
          29
         ],
         "yaxis": "y8"
        },
        {
         "colorbar": {
          "title": {
           "text": "Objective Value"
          }
         },
         "colorscale": [
          [
           0,
           "rgb(247,251,255)"
          ],
          [
           0.125,
           "rgb(222,235,247)"
          ],
          [
           0.25,
           "rgb(198,219,239)"
          ],
          [
           0.375,
           "rgb(158,202,225)"
          ],
          [
           0.5,
           "rgb(107,174,214)"
          ],
          [
           0.625,
           "rgb(66,146,198)"
          ],
          [
           0.75,
           "rgb(33,113,181)"
          ],
          [
           0.875,
           "rgb(8,81,156)"
          ],
          [
           1,
           "rgb(8,48,107)"
          ]
         ],
         "connectgaps": true,
         "contours": {
          "coloring": "heatmap"
         },
         "hoverinfo": "none",
         "line": {
          "smoothing": 1.3
         },
         "reversescale": false,
         "showscale": false,
         "type": "contour",
         "x": [
          12.65,
          14,
          29,
          41,
          42.35
         ],
         "xaxis": "x3",
         "y": [
          0.368790405530849,
          0.3907921370791316,
          0.42236606983200486,
          0.8308267680447831,
          0.8528284995930656
         ],
         "yaxis": "y3",
         "z": [
          [
           null,
           null,
           null,
           null,
           null
          ],
          [
           null,
           0.37890120766225144,
           null,
           null,
           null
          ],
          [
           null,
           null,
           0.42072713533565204,
           null,
           null
          ],
          [
           null,
           null,
           null,
           0.3406047138091531,
           null
          ],
          [
           null,
           null,
           null,
           null,
           null
          ]
         ]
        },
        {
         "marker": {
          "color": "black",
          "line": {
           "color": "Grey",
           "width": 2
          }
         },
         "mode": "markers",
         "showlegend": false,
         "type": "scatter",
         "x": [
          14,
          41,
          29
         ],
         "xaxis": "x3",
         "y": [
          0.3907921370791316,
          0.8308267680447831,
          0.42236606983200486
         ],
         "yaxis": "y3"
        },
        {
         "colorbar": {
          "title": {
           "text": "Objective Value"
          }
         },
         "colorscale": [
          [
           0,
           "rgb(247,251,255)"
          ],
          [
           0.125,
           "rgb(222,235,247)"
          ],
          [
           0.25,
           "rgb(198,219,239)"
          ],
          [
           0.375,
           "rgb(158,202,225)"
          ],
          [
           0.5,
           "rgb(107,174,214)"
          ],
          [
           0.625,
           "rgb(66,146,198)"
          ],
          [
           0.75,
           "rgb(33,113,181)"
          ],
          [
           0.875,
           "rgb(8,81,156)"
          ],
          [
           1,
           "rgb(8,48,107)"
          ]
         ],
         "connectgaps": true,
         "contours": {
          "coloring": "heatmap"
         },
         "hoverinfo": "none",
         "line": {
          "smoothing": 1.3
         },
         "reversescale": false,
         "showscale": false,
         "type": "contour",
         "x": [
          12.65,
          14,
          29,
          41,
          42.35
         ],
         "xaxis": "x6",
         "y": [
          0.7050989350061173,
          0.7185718027654422,
          0.8961614770161681,
          0.9880291579519399,
          1.0015020257112648
         ],
         "yaxis": "y6",
         "z": [
          [
           null,
           null,
           null,
           null,
           null
          ],
          [
           null,
           0.37890120766225144,
           null,
           null,
           null
          ],
          [
           null,
           null,
           0.42072713533565204,
           null,
           null
          ],
          [
           null,
           null,
           null,
           0.3406047138091531,
           null
          ],
          [
           null,
           null,
           null,
           null,
           null
          ]
         ]
        },
        {
         "marker": {
          "color": "black",
          "line": {
           "color": "Grey",
           "width": 2
          }
         },
         "mode": "markers",
         "showlegend": false,
         "type": "scatter",
         "x": [
          14,
          41,
          29
         ],
         "xaxis": "x6",
         "y": [
          0.7185718027654422,
          0.9880291579519399,
          0.8961614770161681
         ],
         "yaxis": "y6"
        },
        {
         "type": "scatter",
         "xaxis": "x9",
         "yaxis": "y9"
        }
       ],
       "layout": {
        "template": {
         "data": {
          "bar": [
           {
            "error_x": {
             "color": "#2a3f5f"
            },
            "error_y": {
             "color": "#2a3f5f"
            },
            "marker": {
             "line": {
              "color": "#E5ECF6",
              "width": 0.5
             },
             "pattern": {
              "fillmode": "overlay",
              "size": 10,
              "solidity": 0.2
             }
            },
            "type": "bar"
           }
          ],
          "barpolar": [
           {
            "marker": {
             "line": {
              "color": "#E5ECF6",
              "width": 0.5
             },
             "pattern": {
              "fillmode": "overlay",
              "size": 10,
              "solidity": 0.2
             }
            },
            "type": "barpolar"
           }
          ],
          "carpet": [
           {
            "aaxis": {
             "endlinecolor": "#2a3f5f",
             "gridcolor": "white",
             "linecolor": "white",
             "minorgridcolor": "white",
             "startlinecolor": "#2a3f5f"
            },
            "baxis": {
             "endlinecolor": "#2a3f5f",
             "gridcolor": "white",
             "linecolor": "white",
             "minorgridcolor": "white",
             "startlinecolor": "#2a3f5f"
            },
            "type": "carpet"
           }
          ],
          "choropleth": [
           {
            "colorbar": {
             "outlinewidth": 0,
             "ticks": ""
            },
            "type": "choropleth"
           }
          ],
          "contour": [
           {
            "colorbar": {
             "outlinewidth": 0,
             "ticks": ""
            },
            "colorscale": [
             [
              0,
              "#0d0887"
             ],
             [
              0.1111111111111111,
              "#46039f"
             ],
             [
              0.2222222222222222,
              "#7201a8"
             ],
             [
              0.3333333333333333,
              "#9c179e"
             ],
             [
              0.4444444444444444,
              "#bd3786"
             ],
             [
              0.5555555555555556,
              "#d8576b"
             ],
             [
              0.6666666666666666,
              "#ed7953"
             ],
             [
              0.7777777777777778,
              "#fb9f3a"
             ],
             [
              0.8888888888888888,
              "#fdca26"
             ],
             [
              1,
              "#f0f921"
             ]
            ],
            "type": "contour"
           }
          ],
          "contourcarpet": [
           {
            "colorbar": {
             "outlinewidth": 0,
             "ticks": ""
            },
            "type": "contourcarpet"
           }
          ],
          "heatmap": [
           {
            "colorbar": {
             "outlinewidth": 0,
             "ticks": ""
            },
            "colorscale": [
             [
              0,
              "#0d0887"
             ],
             [
              0.1111111111111111,
              "#46039f"
             ],
             [
              0.2222222222222222,
              "#7201a8"
             ],
             [
              0.3333333333333333,
              "#9c179e"
             ],
             [
              0.4444444444444444,
              "#bd3786"
             ],
             [
              0.5555555555555556,
              "#d8576b"
             ],
             [
              0.6666666666666666,
              "#ed7953"
             ],
             [
              0.7777777777777778,
              "#fb9f3a"
             ],
             [
              0.8888888888888888,
              "#fdca26"
             ],
             [
              1,
              "#f0f921"
             ]
            ],
            "type": "heatmap"
           }
          ],
          "heatmapgl": [
           {
            "colorbar": {
             "outlinewidth": 0,
             "ticks": ""
            },
            "colorscale": [
             [
              0,
              "#0d0887"
             ],
             [
              0.1111111111111111,
              "#46039f"
             ],
             [
              0.2222222222222222,
              "#7201a8"
             ],
             [
              0.3333333333333333,
              "#9c179e"
             ],
             [
              0.4444444444444444,
              "#bd3786"
             ],
             [
              0.5555555555555556,
              "#d8576b"
             ],
             [
              0.6666666666666666,
              "#ed7953"
             ],
             [
              0.7777777777777778,
              "#fb9f3a"
             ],
             [
              0.8888888888888888,
              "#fdca26"
             ],
             [
              1,
              "#f0f921"
             ]
            ],
            "type": "heatmapgl"
           }
          ],
          "histogram": [
           {
            "marker": {
             "pattern": {
              "fillmode": "overlay",
              "size": 10,
              "solidity": 0.2
             }
            },
            "type": "histogram"
           }
          ],
          "histogram2d": [
           {
            "colorbar": {
             "outlinewidth": 0,
             "ticks": ""
            },
            "colorscale": [
             [
              0,
              "#0d0887"
             ],
             [
              0.1111111111111111,
              "#46039f"
             ],
             [
              0.2222222222222222,
              "#7201a8"
             ],
             [
              0.3333333333333333,
              "#9c179e"
             ],
             [
              0.4444444444444444,
              "#bd3786"
             ],
             [
              0.5555555555555556,
              "#d8576b"
             ],
             [
              0.6666666666666666,
              "#ed7953"
             ],
             [
              0.7777777777777778,
              "#fb9f3a"
             ],
             [
              0.8888888888888888,
              "#fdca26"
             ],
             [
              1,
              "#f0f921"
             ]
            ],
            "type": "histogram2d"
           }
          ],
          "histogram2dcontour": [
           {
            "colorbar": {
             "outlinewidth": 0,
             "ticks": ""
            },
            "colorscale": [
             [
              0,
              "#0d0887"
             ],
             [
              0.1111111111111111,
              "#46039f"
             ],
             [
              0.2222222222222222,
              "#7201a8"
             ],
             [
              0.3333333333333333,
              "#9c179e"
             ],
             [
              0.4444444444444444,
              "#bd3786"
             ],
             [
              0.5555555555555556,
              "#d8576b"
             ],
             [
              0.6666666666666666,
              "#ed7953"
             ],
             [
              0.7777777777777778,
              "#fb9f3a"
             ],
             [
              0.8888888888888888,
              "#fdca26"
             ],
             [
              1,
              "#f0f921"
             ]
            ],
            "type": "histogram2dcontour"
           }
          ],
          "mesh3d": [
           {
            "colorbar": {
             "outlinewidth": 0,
             "ticks": ""
            },
            "type": "mesh3d"
           }
          ],
          "parcoords": [
           {
            "line": {
             "colorbar": {
              "outlinewidth": 0,
              "ticks": ""
             }
            },
            "type": "parcoords"
           }
          ],
          "pie": [
           {
            "automargin": true,
            "type": "pie"
           }
          ],
          "scatter": [
           {
            "fillpattern": {
             "fillmode": "overlay",
             "size": 10,
             "solidity": 0.2
            },
            "type": "scatter"
           }
          ],
          "scatter3d": [
           {
            "line": {
             "colorbar": {
              "outlinewidth": 0,
              "ticks": ""
             }
            },
            "marker": {
             "colorbar": {
              "outlinewidth": 0,
              "ticks": ""
             }
            },
            "type": "scatter3d"
           }
          ],
          "scattercarpet": [
           {
            "marker": {
             "colorbar": {
              "outlinewidth": 0,
              "ticks": ""
             }
            },
            "type": "scattercarpet"
           }
          ],
          "scattergeo": [
           {
            "marker": {
             "colorbar": {
              "outlinewidth": 0,
              "ticks": ""
             }
            },
            "type": "scattergeo"
           }
          ],
          "scattergl": [
           {
            "marker": {
             "colorbar": {
              "outlinewidth": 0,
              "ticks": ""
             }
            },
            "type": "scattergl"
           }
          ],
          "scattermapbox": [
           {
            "marker": {
             "colorbar": {
              "outlinewidth": 0,
              "ticks": ""
             }
            },
            "type": "scattermapbox"
           }
          ],
          "scatterpolar": [
           {
            "marker": {
             "colorbar": {
              "outlinewidth": 0,
              "ticks": ""
             }
            },
            "type": "scatterpolar"
           }
          ],
          "scatterpolargl": [
           {
            "marker": {
             "colorbar": {
              "outlinewidth": 0,
              "ticks": ""
             }
            },
            "type": "scatterpolargl"
           }
          ],
          "scatterternary": [
           {
            "marker": {
             "colorbar": {
              "outlinewidth": 0,
              "ticks": ""
             }
            },
            "type": "scatterternary"
           }
          ],
          "surface": [
           {
            "colorbar": {
             "outlinewidth": 0,
             "ticks": ""
            },
            "colorscale": [
             [
              0,
              "#0d0887"
             ],
             [
              0.1111111111111111,
              "#46039f"
             ],
             [
              0.2222222222222222,
              "#7201a8"
             ],
             [
              0.3333333333333333,
              "#9c179e"
             ],
             [
              0.4444444444444444,
              "#bd3786"
             ],
             [
              0.5555555555555556,
              "#d8576b"
             ],
             [
              0.6666666666666666,
              "#ed7953"
             ],
             [
              0.7777777777777778,
              "#fb9f3a"
             ],
             [
              0.8888888888888888,
              "#fdca26"
             ],
             [
              1,
              "#f0f921"
             ]
            ],
            "type": "surface"
           }
          ],
          "table": [
           {
            "cells": {
             "fill": {
              "color": "#EBF0F8"
             },
             "line": {
              "color": "white"
             }
            },
            "header": {
             "fill": {
              "color": "#C8D4E3"
             },
             "line": {
              "color": "white"
             }
            },
            "type": "table"
           }
          ]
         },
         "layout": {
          "annotationdefaults": {
           "arrowcolor": "#2a3f5f",
           "arrowhead": 0,
           "arrowwidth": 1
          },
          "autotypenumbers": "strict",
          "coloraxis": {
           "colorbar": {
            "outlinewidth": 0,
            "ticks": ""
           }
          },
          "colorscale": {
           "diverging": [
            [
             0,
             "#8e0152"
            ],
            [
             0.1,
             "#c51b7d"
            ],
            [
             0.2,
             "#de77ae"
            ],
            [
             0.3,
             "#f1b6da"
            ],
            [
             0.4,
             "#fde0ef"
            ],
            [
             0.5,
             "#f7f7f7"
            ],
            [
             0.6,
             "#e6f5d0"
            ],
            [
             0.7,
             "#b8e186"
            ],
            [
             0.8,
             "#7fbc41"
            ],
            [
             0.9,
             "#4d9221"
            ],
            [
             1,
             "#276419"
            ]
           ],
           "sequential": [
            [
             0,
             "#0d0887"
            ],
            [
             0.1111111111111111,
             "#46039f"
            ],
            [
             0.2222222222222222,
             "#7201a8"
            ],
            [
             0.3333333333333333,
             "#9c179e"
            ],
            [
             0.4444444444444444,
             "#bd3786"
            ],
            [
             0.5555555555555556,
             "#d8576b"
            ],
            [
             0.6666666666666666,
             "#ed7953"
            ],
            [
             0.7777777777777778,
             "#fb9f3a"
            ],
            [
             0.8888888888888888,
             "#fdca26"
            ],
            [
             1,
             "#f0f921"
            ]
           ],
           "sequentialminus": [
            [
             0,
             "#0d0887"
            ],
            [
             0.1111111111111111,
             "#46039f"
            ],
            [
             0.2222222222222222,
             "#7201a8"
            ],
            [
             0.3333333333333333,
             "#9c179e"
            ],
            [
             0.4444444444444444,
             "#bd3786"
            ],
            [
             0.5555555555555556,
             "#d8576b"
            ],
            [
             0.6666666666666666,
             "#ed7953"
            ],
            [
             0.7777777777777778,
             "#fb9f3a"
            ],
            [
             0.8888888888888888,
             "#fdca26"
            ],
            [
             1,
             "#f0f921"
            ]
           ]
          },
          "colorway": [
           "#636efa",
           "#EF553B",
           "#00cc96",
           "#ab63fa",
           "#FFA15A",
           "#19d3f3",
           "#FF6692",
           "#B6E880",
           "#FF97FF",
           "#FECB52"
          ],
          "font": {
           "color": "#2a3f5f"
          },
          "geo": {
           "bgcolor": "white",
           "lakecolor": "white",
           "landcolor": "#E5ECF6",
           "showlakes": true,
           "showland": true,
           "subunitcolor": "white"
          },
          "hoverlabel": {
           "align": "left"
          },
          "hovermode": "closest",
          "mapbox": {
           "style": "light"
          },
          "paper_bgcolor": "white",
          "plot_bgcolor": "#E5ECF6",
          "polar": {
           "angularaxis": {
            "gridcolor": "white",
            "linecolor": "white",
            "ticks": ""
           },
           "bgcolor": "#E5ECF6",
           "radialaxis": {
            "gridcolor": "white",
            "linecolor": "white",
            "ticks": ""
           }
          },
          "scene": {
           "xaxis": {
            "backgroundcolor": "#E5ECF6",
            "gridcolor": "white",
            "gridwidth": 2,
            "linecolor": "white",
            "showbackground": true,
            "ticks": "",
            "zerolinecolor": "white"
           },
           "yaxis": {
            "backgroundcolor": "#E5ECF6",
            "gridcolor": "white",
            "gridwidth": 2,
            "linecolor": "white",
            "showbackground": true,
            "ticks": "",
            "zerolinecolor": "white"
           },
           "zaxis": {
            "backgroundcolor": "#E5ECF6",
            "gridcolor": "white",
            "gridwidth": 2,
            "linecolor": "white",
            "showbackground": true,
            "ticks": "",
            "zerolinecolor": "white"
           }
          },
          "shapedefaults": {
           "line": {
            "color": "#2a3f5f"
           }
          },
          "ternary": {
           "aaxis": {
            "gridcolor": "white",
            "linecolor": "white",
            "ticks": ""
           },
           "baxis": {
            "gridcolor": "white",
            "linecolor": "white",
            "ticks": ""
           },
           "bgcolor": "#E5ECF6",
           "caxis": {
            "gridcolor": "white",
            "linecolor": "white",
            "ticks": ""
           }
          },
          "title": {
           "x": 0.05
          },
          "xaxis": {
           "automargin": true,
           "gridcolor": "white",
           "linecolor": "white",
           "ticks": "",
           "title": {
            "standoff": 15
           },
           "zerolinecolor": "white",
           "zerolinewidth": 2
          },
          "yaxis": {
           "automargin": true,
           "gridcolor": "white",
           "linecolor": "white",
           "ticks": "",
           "title": {
            "standoff": 15
           },
           "zerolinecolor": "white",
           "zerolinewidth": 2
          }
         }
        },
        "title": {
         "text": "Contour Plot"
        },
        "xaxis": {
         "anchor": "y",
         "domain": [
          0,
          0.2888888888888889
         ],
         "matches": "x7",
         "range": [
          0.368790405530849,
          0.8528284995930656
         ],
         "showticklabels": false
        },
        "xaxis2": {
         "anchor": "y2",
         "domain": [
          0.35555555555555557,
          0.6444444444444445
         ],
         "matches": "x8",
         "range": [
          0.7050989350061173,
          1.0015020257112648
         ],
         "showticklabels": false
        },
        "xaxis3": {
         "anchor": "y3",
         "domain": [
          0.7111111111111111,
          1
         ],
         "matches": "x9",
         "range": [
          12.65,
          42.35
         ],
         "showticklabels": false
        },
        "xaxis4": {
         "anchor": "y4",
         "domain": [
          0,
          0.2888888888888889
         ],
         "matches": "x7",
         "range": [
          0.368790405530849,
          0.8528284995930656
         ],
         "showticklabels": false
        },
        "xaxis5": {
         "anchor": "y5",
         "domain": [
          0.35555555555555557,
          0.6444444444444445
         ],
         "matches": "x8",
         "range": [
          0.7050989350061173,
          1.0015020257112648
         ],
         "showticklabels": false
        },
        "xaxis6": {
         "anchor": "y6",
         "domain": [
          0.7111111111111111,
          1
         ],
         "matches": "x9",
         "range": [
          12.65,
          42.35
         ],
         "showticklabels": false
        },
        "xaxis7": {
         "anchor": "y7",
         "domain": [
          0,
          0.2888888888888889
         ],
         "range": [
          0.368790405530849,
          0.8528284995930656
         ],
         "title": {
          "text": "alpha"
         }
        },
        "xaxis8": {
         "anchor": "y8",
         "domain": [
          0.35555555555555557,
          0.6444444444444445
         ],
         "range": [
          0.7050989350061173,
          1.0015020257112648
         ],
         "title": {
          "text": "eta"
         }
        },
        "xaxis9": {
         "anchor": "y9",
         "domain": [
          0.7111111111111111,
          1
         ],
         "range": [
          12.65,
          42.35
         ],
         "title": {
          "text": "num_topics"
         }
        },
        "yaxis": {
         "anchor": "x",
         "domain": [
          0.7333333333333333,
          1
         ],
         "range": [
          0.368790405530849,
          0.8528284995930656
         ],
         "title": {
          "text": "alpha"
         }
        },
        "yaxis2": {
         "anchor": "x2",
         "domain": [
          0.7333333333333333,
          1
         ],
         "matches": "y",
         "range": [
          0.368790405530849,
          0.8528284995930656
         ],
         "showticklabels": false
        },
        "yaxis3": {
         "anchor": "x3",
         "domain": [
          0.7333333333333333,
          1
         ],
         "matches": "y",
         "range": [
          0.368790405530849,
          0.8528284995930656
         ],
         "showticklabels": false
        },
        "yaxis4": {
         "anchor": "x4",
         "domain": [
          0.36666666666666664,
          0.6333333333333333
         ],
         "range": [
          0.7050989350061173,
          1.0015020257112648
         ],
         "title": {
          "text": "eta"
         }
        },
        "yaxis5": {
         "anchor": "x5",
         "domain": [
          0.36666666666666664,
          0.6333333333333333
         ],
         "matches": "y4",
         "range": [
          0.7050989350061173,
          1.0015020257112648
         ],
         "showticklabels": false
        },
        "yaxis6": {
         "anchor": "x6",
         "domain": [
          0.36666666666666664,
          0.6333333333333333
         ],
         "matches": "y4",
         "range": [
          0.7050989350061173,
          1.0015020257112648
         ],
         "showticklabels": false
        },
        "yaxis7": {
         "anchor": "x7",
         "domain": [
          0,
          0.26666666666666666
         ],
         "range": [
          12.65,
          42.35
         ],
         "title": {
          "text": "num_topics"
         }
        },
        "yaxis8": {
         "anchor": "x8",
         "domain": [
          0,
          0.26666666666666666
         ],
         "matches": "y7",
         "range": [
          12.65,
          42.35
         ],
         "showticklabels": false
        },
        "yaxis9": {
         "anchor": "x9",
         "domain": [
          0,
          0.26666666666666666
         ],
         "matches": "y7",
         "range": [
          12.65,
          42.35
         ],
         "showticklabels": false
        }
       }
      }
     },
     "metadata": {},
     "output_type": "display_data"
    },
    {
     "data": {
      "application/vnd.plotly.v1+json": {
       "config": {
        "plotlyServerURL": "https://plot.ly"
       },
       "data": [
        {
         "cliponaxis": false,
         "hovertemplate": [
          "eta (FloatDistribution): 0.23849942889757952<extra></extra>",
          "alpha (FloatDistribution): 0.3203513406905069<extra></extra>",
          "num_topics (IntDistribution): 0.4411492304119136<extra></extra>"
         ],
         "marker": {
          "color": "rgb(66,146,198)"
         },
         "orientation": "h",
         "text": [
          "0.24",
          "0.32",
          "0.44"
         ],
         "textposition": "outside",
         "type": "bar",
         "x": [
          0.23849942889757952,
          0.3203513406905069,
          0.4411492304119136
         ],
         "y": [
          "eta",
          "alpha",
          "num_topics"
         ]
        }
       ],
       "layout": {
        "showlegend": false,
        "template": {
         "data": {
          "bar": [
           {
            "error_x": {
             "color": "#2a3f5f"
            },
            "error_y": {
             "color": "#2a3f5f"
            },
            "marker": {
             "line": {
              "color": "#E5ECF6",
              "width": 0.5
             },
             "pattern": {
              "fillmode": "overlay",
              "size": 10,
              "solidity": 0.2
             }
            },
            "type": "bar"
           }
          ],
          "barpolar": [
           {
            "marker": {
             "line": {
              "color": "#E5ECF6",
              "width": 0.5
             },
             "pattern": {
              "fillmode": "overlay",
              "size": 10,
              "solidity": 0.2
             }
            },
            "type": "barpolar"
           }
          ],
          "carpet": [
           {
            "aaxis": {
             "endlinecolor": "#2a3f5f",
             "gridcolor": "white",
             "linecolor": "white",
             "minorgridcolor": "white",
             "startlinecolor": "#2a3f5f"
            },
            "baxis": {
             "endlinecolor": "#2a3f5f",
             "gridcolor": "white",
             "linecolor": "white",
             "minorgridcolor": "white",
             "startlinecolor": "#2a3f5f"
            },
            "type": "carpet"
           }
          ],
          "choropleth": [
           {
            "colorbar": {
             "outlinewidth": 0,
             "ticks": ""
            },
            "type": "choropleth"
           }
          ],
          "contour": [
           {
            "colorbar": {
             "outlinewidth": 0,
             "ticks": ""
            },
            "colorscale": [
             [
              0,
              "#0d0887"
             ],
             [
              0.1111111111111111,
              "#46039f"
             ],
             [
              0.2222222222222222,
              "#7201a8"
             ],
             [
              0.3333333333333333,
              "#9c179e"
             ],
             [
              0.4444444444444444,
              "#bd3786"
             ],
             [
              0.5555555555555556,
              "#d8576b"
             ],
             [
              0.6666666666666666,
              "#ed7953"
             ],
             [
              0.7777777777777778,
              "#fb9f3a"
             ],
             [
              0.8888888888888888,
              "#fdca26"
             ],
             [
              1,
              "#f0f921"
             ]
            ],
            "type": "contour"
           }
          ],
          "contourcarpet": [
           {
            "colorbar": {
             "outlinewidth": 0,
             "ticks": ""
            },
            "type": "contourcarpet"
           }
          ],
          "heatmap": [
           {
            "colorbar": {
             "outlinewidth": 0,
             "ticks": ""
            },
            "colorscale": [
             [
              0,
              "#0d0887"
             ],
             [
              0.1111111111111111,
              "#46039f"
             ],
             [
              0.2222222222222222,
              "#7201a8"
             ],
             [
              0.3333333333333333,
              "#9c179e"
             ],
             [
              0.4444444444444444,
              "#bd3786"
             ],
             [
              0.5555555555555556,
              "#d8576b"
             ],
             [
              0.6666666666666666,
              "#ed7953"
             ],
             [
              0.7777777777777778,
              "#fb9f3a"
             ],
             [
              0.8888888888888888,
              "#fdca26"
             ],
             [
              1,
              "#f0f921"
             ]
            ],
            "type": "heatmap"
           }
          ],
          "heatmapgl": [
           {
            "colorbar": {
             "outlinewidth": 0,
             "ticks": ""
            },
            "colorscale": [
             [
              0,
              "#0d0887"
             ],
             [
              0.1111111111111111,
              "#46039f"
             ],
             [
              0.2222222222222222,
              "#7201a8"
             ],
             [
              0.3333333333333333,
              "#9c179e"
             ],
             [
              0.4444444444444444,
              "#bd3786"
             ],
             [
              0.5555555555555556,
              "#d8576b"
             ],
             [
              0.6666666666666666,
              "#ed7953"
             ],
             [
              0.7777777777777778,
              "#fb9f3a"
             ],
             [
              0.8888888888888888,
              "#fdca26"
             ],
             [
              1,
              "#f0f921"
             ]
            ],
            "type": "heatmapgl"
           }
          ],
          "histogram": [
           {
            "marker": {
             "pattern": {
              "fillmode": "overlay",
              "size": 10,
              "solidity": 0.2
             }
            },
            "type": "histogram"
           }
          ],
          "histogram2d": [
           {
            "colorbar": {
             "outlinewidth": 0,
             "ticks": ""
            },
            "colorscale": [
             [
              0,
              "#0d0887"
             ],
             [
              0.1111111111111111,
              "#46039f"
             ],
             [
              0.2222222222222222,
              "#7201a8"
             ],
             [
              0.3333333333333333,
              "#9c179e"
             ],
             [
              0.4444444444444444,
              "#bd3786"
             ],
             [
              0.5555555555555556,
              "#d8576b"
             ],
             [
              0.6666666666666666,
              "#ed7953"
             ],
             [
              0.7777777777777778,
              "#fb9f3a"
             ],
             [
              0.8888888888888888,
              "#fdca26"
             ],
             [
              1,
              "#f0f921"
             ]
            ],
            "type": "histogram2d"
           }
          ],
          "histogram2dcontour": [
           {
            "colorbar": {
             "outlinewidth": 0,
             "ticks": ""
            },
            "colorscale": [
             [
              0,
              "#0d0887"
             ],
             [
              0.1111111111111111,
              "#46039f"
             ],
             [
              0.2222222222222222,
              "#7201a8"
             ],
             [
              0.3333333333333333,
              "#9c179e"
             ],
             [
              0.4444444444444444,
              "#bd3786"
             ],
             [
              0.5555555555555556,
              "#d8576b"
             ],
             [
              0.6666666666666666,
              "#ed7953"
             ],
             [
              0.7777777777777778,
              "#fb9f3a"
             ],
             [
              0.8888888888888888,
              "#fdca26"
             ],
             [
              1,
              "#f0f921"
             ]
            ],
            "type": "histogram2dcontour"
           }
          ],
          "mesh3d": [
           {
            "colorbar": {
             "outlinewidth": 0,
             "ticks": ""
            },
            "type": "mesh3d"
           }
          ],
          "parcoords": [
           {
            "line": {
             "colorbar": {
              "outlinewidth": 0,
              "ticks": ""
             }
            },
            "type": "parcoords"
           }
          ],
          "pie": [
           {
            "automargin": true,
            "type": "pie"
           }
          ],
          "scatter": [
           {
            "fillpattern": {
             "fillmode": "overlay",
             "size": 10,
             "solidity": 0.2
            },
            "type": "scatter"
           }
          ],
          "scatter3d": [
           {
            "line": {
             "colorbar": {
              "outlinewidth": 0,
              "ticks": ""
             }
            },
            "marker": {
             "colorbar": {
              "outlinewidth": 0,
              "ticks": ""
             }
            },
            "type": "scatter3d"
           }
          ],
          "scattercarpet": [
           {
            "marker": {
             "colorbar": {
              "outlinewidth": 0,
              "ticks": ""
             }
            },
            "type": "scattercarpet"
           }
          ],
          "scattergeo": [
           {
            "marker": {
             "colorbar": {
              "outlinewidth": 0,
              "ticks": ""
             }
            },
            "type": "scattergeo"
           }
          ],
          "scattergl": [
           {
            "marker": {
             "colorbar": {
              "outlinewidth": 0,
              "ticks": ""
             }
            },
            "type": "scattergl"
           }
          ],
          "scattermapbox": [
           {
            "marker": {
             "colorbar": {
              "outlinewidth": 0,
              "ticks": ""
             }
            },
            "type": "scattermapbox"
           }
          ],
          "scatterpolar": [
           {
            "marker": {
             "colorbar": {
              "outlinewidth": 0,
              "ticks": ""
             }
            },
            "type": "scatterpolar"
           }
          ],
          "scatterpolargl": [
           {
            "marker": {
             "colorbar": {
              "outlinewidth": 0,
              "ticks": ""
             }
            },
            "type": "scatterpolargl"
           }
          ],
          "scatterternary": [
           {
            "marker": {
             "colorbar": {
              "outlinewidth": 0,
              "ticks": ""
             }
            },
            "type": "scatterternary"
           }
          ],
          "surface": [
           {
            "colorbar": {
             "outlinewidth": 0,
             "ticks": ""
            },
            "colorscale": [
             [
              0,
              "#0d0887"
             ],
             [
              0.1111111111111111,
              "#46039f"
             ],
             [
              0.2222222222222222,
              "#7201a8"
             ],
             [
              0.3333333333333333,
              "#9c179e"
             ],
             [
              0.4444444444444444,
              "#bd3786"
             ],
             [
              0.5555555555555556,
              "#d8576b"
             ],
             [
              0.6666666666666666,
              "#ed7953"
             ],
             [
              0.7777777777777778,
              "#fb9f3a"
             ],
             [
              0.8888888888888888,
              "#fdca26"
             ],
             [
              1,
              "#f0f921"
             ]
            ],
            "type": "surface"
           }
          ],
          "table": [
           {
            "cells": {
             "fill": {
              "color": "#EBF0F8"
             },
             "line": {
              "color": "white"
             }
            },
            "header": {
             "fill": {
              "color": "#C8D4E3"
             },
             "line": {
              "color": "white"
             }
            },
            "type": "table"
           }
          ]
         },
         "layout": {
          "annotationdefaults": {
           "arrowcolor": "#2a3f5f",
           "arrowhead": 0,
           "arrowwidth": 1
          },
          "autotypenumbers": "strict",
          "coloraxis": {
           "colorbar": {
            "outlinewidth": 0,
            "ticks": ""
           }
          },
          "colorscale": {
           "diverging": [
            [
             0,
             "#8e0152"
            ],
            [
             0.1,
             "#c51b7d"
            ],
            [
             0.2,
             "#de77ae"
            ],
            [
             0.3,
             "#f1b6da"
            ],
            [
             0.4,
             "#fde0ef"
            ],
            [
             0.5,
             "#f7f7f7"
            ],
            [
             0.6,
             "#e6f5d0"
            ],
            [
             0.7,
             "#b8e186"
            ],
            [
             0.8,
             "#7fbc41"
            ],
            [
             0.9,
             "#4d9221"
            ],
            [
             1,
             "#276419"
            ]
           ],
           "sequential": [
            [
             0,
             "#0d0887"
            ],
            [
             0.1111111111111111,
             "#46039f"
            ],
            [
             0.2222222222222222,
             "#7201a8"
            ],
            [
             0.3333333333333333,
             "#9c179e"
            ],
            [
             0.4444444444444444,
             "#bd3786"
            ],
            [
             0.5555555555555556,
             "#d8576b"
            ],
            [
             0.6666666666666666,
             "#ed7953"
            ],
            [
             0.7777777777777778,
             "#fb9f3a"
            ],
            [
             0.8888888888888888,
             "#fdca26"
            ],
            [
             1,
             "#f0f921"
            ]
           ],
           "sequentialminus": [
            [
             0,
             "#0d0887"
            ],
            [
             0.1111111111111111,
             "#46039f"
            ],
            [
             0.2222222222222222,
             "#7201a8"
            ],
            [
             0.3333333333333333,
             "#9c179e"
            ],
            [
             0.4444444444444444,
             "#bd3786"
            ],
            [
             0.5555555555555556,
             "#d8576b"
            ],
            [
             0.6666666666666666,
             "#ed7953"
            ],
            [
             0.7777777777777778,
             "#fb9f3a"
            ],
            [
             0.8888888888888888,
             "#fdca26"
            ],
            [
             1,
             "#f0f921"
            ]
           ]
          },
          "colorway": [
           "#636efa",
           "#EF553B",
           "#00cc96",
           "#ab63fa",
           "#FFA15A",
           "#19d3f3",
           "#FF6692",
           "#B6E880",
           "#FF97FF",
           "#FECB52"
          ],
          "font": {
           "color": "#2a3f5f"
          },
          "geo": {
           "bgcolor": "white",
           "lakecolor": "white",
           "landcolor": "#E5ECF6",
           "showlakes": true,
           "showland": true,
           "subunitcolor": "white"
          },
          "hoverlabel": {
           "align": "left"
          },
          "hovermode": "closest",
          "mapbox": {
           "style": "light"
          },
          "paper_bgcolor": "white",
          "plot_bgcolor": "#E5ECF6",
          "polar": {
           "angularaxis": {
            "gridcolor": "white",
            "linecolor": "white",
            "ticks": ""
           },
           "bgcolor": "#E5ECF6",
           "radialaxis": {
            "gridcolor": "white",
            "linecolor": "white",
            "ticks": ""
           }
          },
          "scene": {
           "xaxis": {
            "backgroundcolor": "#E5ECF6",
            "gridcolor": "white",
            "gridwidth": 2,
            "linecolor": "white",
            "showbackground": true,
            "ticks": "",
            "zerolinecolor": "white"
           },
           "yaxis": {
            "backgroundcolor": "#E5ECF6",
            "gridcolor": "white",
            "gridwidth": 2,
            "linecolor": "white",
            "showbackground": true,
            "ticks": "",
            "zerolinecolor": "white"
           },
           "zaxis": {
            "backgroundcolor": "#E5ECF6",
            "gridcolor": "white",
            "gridwidth": 2,
            "linecolor": "white",
            "showbackground": true,
            "ticks": "",
            "zerolinecolor": "white"
           }
          },
          "shapedefaults": {
           "line": {
            "color": "#2a3f5f"
           }
          },
          "ternary": {
           "aaxis": {
            "gridcolor": "white",
            "linecolor": "white",
            "ticks": ""
           },
           "baxis": {
            "gridcolor": "white",
            "linecolor": "white",
            "ticks": ""
           },
           "bgcolor": "#E5ECF6",
           "caxis": {
            "gridcolor": "white",
            "linecolor": "white",
            "ticks": ""
           }
          },
          "title": {
           "x": 0.05
          },
          "xaxis": {
           "automargin": true,
           "gridcolor": "white",
           "linecolor": "white",
           "ticks": "",
           "title": {
            "standoff": 15
           },
           "zerolinecolor": "white",
           "zerolinewidth": 2
          },
          "yaxis": {
           "automargin": true,
           "gridcolor": "white",
           "linecolor": "white",
           "ticks": "",
           "title": {
            "standoff": 15
           },
           "zerolinecolor": "white",
           "zerolinewidth": 2
          }
         }
        },
        "title": {
         "text": "Hyperparameter Importances"
        },
        "xaxis": {
         "title": {
          "text": "Importance for Objective Value"
         }
        },
        "yaxis": {
         "title": {
          "text": "Hyperparameter"
         }
        }
       }
      }
     },
     "metadata": {},
     "output_type": "display_data"
    }
   ],
   "source": [
    "if mlflow.active_run():\n",
    "    mlflow.end_run()\n",
    "execute_optuna_study(df, 3)"
   ]
  },
  {
   "cell_type": "code",
   "execution_count": null,
   "metadata": {},
   "outputs": [],
   "source": [
    "import yfinance as yf"
   ]
  },
  {
   "cell_type": "code",
   "execution_count": null,
   "metadata": {},
   "outputs": [
    {
     "name": "stdout",
     "output_type": "stream",
     "text": [
      "Financials Rows: ['Tax Effect Of Unusual Items', 'Tax Rate For Calcs', 'Normalized EBITDA', 'Total Unusual Items', 'Total Unusual Items Excluding Goodwill', 'Net Income From Continuing Operation Net Minority Interest', 'Reconciled Depreciation', 'Reconciled Cost Of Revenue', 'EBITDA', 'EBIT', 'Net Interest Income', 'Interest Expense', 'Interest Income', 'Normalized Income', 'Net Income From Continuing And Discontinued Operation', 'Total Expenses', 'Total Operating Income As Reported', 'Diluted Average Shares', 'Basic Average Shares', 'Diluted EPS', 'Basic EPS', 'Diluted NI Availto Com Stockholders', 'Average Dilution Earnings', 'Net Income Common Stockholders', 'Net Income', 'Minority Interests', 'Net Income Including Noncontrolling Interests', 'Net Income Continuous Operations', 'Tax Provision', 'Pretax Income', 'Other Income Expense', 'Other Non Operating Income Expenses', 'Special Income Charges', 'Restructuring And Mergern Acquisition', 'Net Non Operating Interest Income Expense', 'Interest Expense Non Operating', 'Interest Income Non Operating', 'Operating Income', 'Operating Expense', 'Research And Development', 'Selling General And Administration', 'Gross Profit', 'Cost Of Revenue', 'Total Revenue', 'Operating Revenue']\n",
      "Cashflow Rows: ['Free Cash Flow', 'Repayment Of Debt', 'Issuance Of Debt', 'Issuance Of Capital Stock', 'Capital Expenditure', 'Interest Paid Supplemental Data', 'Income Tax Paid Supplemental Data', 'End Cash Position', 'Beginning Cash Position', 'Effect Of Exchange Rate Changes', 'Changes In Cash', 'Financing Cash Flow', 'Cash Flow From Continuing Financing Activities', 'Net Other Financing Charges', 'Proceeds From Stock Option Exercised', 'Net Common Stock Issuance', 'Common Stock Issuance', 'Net Issuance Payments Of Debt', 'Net Long Term Debt Issuance', 'Long Term Debt Payments', 'Long Term Debt Issuance', 'Investing Cash Flow', 'Cash Flow From Continuing Investing Activities', 'Net Other Investing Changes', 'Net Investment Purchase And Sale', 'Sale Of Investment', 'Purchase Of Investment', 'Net Business Purchase And Sale', 'Sale Of Business', 'Purchase Of Business', 'Net Intangibles Purchase And Sale', 'Sale Of Intangibles', 'Purchase Of Intangibles', 'Net PPE Purchase And Sale', 'Purchase Of PPE', 'Capital Expenditure Reported', 'Operating Cash Flow', 'Cash Flow From Continuing Operating Activities', 'Change In Working Capital', 'Change In Other Working Capital', 'Change In Other Current Liabilities', 'Change In Other Current Assets', 'Change In Payables And Accrued Expense', 'Change In Prepaid Assets', 'Change In Inventory', 'Change In Receivables', 'Changes In Account Receivables', 'Other Non Cash Items', 'Stock Based Compensation', 'Asset Impairment Charge', 'Depreciation Amortization Depletion', 'Depreciation And Amortization', 'Depreciation', 'Operating Gains Losses', 'Net Foreign Currency Exchange Gain Loss', 'Gain Loss On Sale Of PPE', 'Net Income From Continuing Operations']\n",
      "Balance Rows: ['Ordinary Shares Number', 'Share Issued', 'Net Debt', 'Total Debt', 'Tangible Book Value', 'Invested Capital', 'Working Capital', 'Net Tangible Assets', 'Capital Lease Obligations', 'Common Stock Equity', 'Total Capitalization', 'Total Equity Gross Minority Interest', 'Minority Interest', 'Stockholders Equity', 'Gains Losses Not Affecting Retained Earnings', 'Other Equity Adjustments', 'Retained Earnings', 'Additional Paid In Capital', 'Capital Stock', 'Common Stock', 'Preferred Stock', 'Total Liabilities Net Minority Interest', 'Total Non Current Liabilities Net Minority Interest', 'Other Non Current Liabilities', 'Preferred Securities Outside Stock Equity', 'Non Current Accrued Expenses', 'Non Current Deferred Liabilities', 'Non Current Deferred Revenue', 'Non Current Deferred Taxes Liabilities', 'Long Term Debt And Capital Lease Obligation', 'Long Term Capital Lease Obligation', 'Long Term Debt', 'Long Term Provisions', 'Current Liabilities', 'Other Current Liabilities', 'Current Deferred Liabilities', 'Current Deferred Revenue', 'Current Debt And Capital Lease Obligation', 'Current Capital Lease Obligation', 'Current Debt', 'Other Current Borrowings', 'Current Provisions', 'Payables And Accrued Expenses', 'Current Accrued Expenses', 'Interest Payable', 'Payables', 'Total Tax Payable', 'Accounts Payable', 'Total Assets', 'Total Non Current Assets', 'Other Non Current Assets', 'Non Current Note Receivables', 'Goodwill And Other Intangible Assets', 'Other Intangible Assets', 'Goodwill', 'Net PPE', 'Accumulated Depreciation', 'Gross PPE', 'Leases', 'Construction In Progress', 'Other Properties', 'Machinery Furniture Equipment', 'Land And Improvements', 'Properties', 'Current Assets', 'Other Current Assets', 'Restricted Cash', 'Prepaid Assets', 'Inventory', 'Other Inventories', 'Finished Goods', 'Work In Process', 'Raw Materials', 'Receivables', 'Accounts Receivable', 'Cash Cash Equivalents And Short Term Investments', 'Other Short Term Investments', 'Cash And Cash Equivalents']\n",
      "{'address1': '1 Tesla Road', 'city': 'Austin', 'state': 'TX', 'zip': '78725', 'country': 'United States', 'phone': '512 516 8177', 'website': 'https://www.tesla.com', 'industry': 'Auto Manufacturers', 'industryDisp': 'Auto Manufacturers', 'sector': 'Consumer Cyclical', 'sectorDisp': 'Consumer Cyclical', 'longBusinessSummary': 'Tesla, Inc. designs, develops, manufactures, leases, and sells electric vehicles, and energy generation and storage systems in the United States, China, and internationally. It operates in two segments, Automotive, and Energy Generation and Storage. The Automotive segment offers electric vehicles, as well as sells automotive regulatory credits; and non-warranty after-sales vehicle, used vehicles, retail merchandise, and vehicle insurance services. This segment also provides sedans and sport utility vehicles through direct and used vehicle sales, a network of Tesla Superchargers, and in-app upgrades; purchase financing and leasing services; services for electric vehicles through its company-owned service locations and Tesla mobile service technicians; and vehicle limited warranties and extended service plans. The Energy Generation and Storage segment engages in the design, manufacture, installation, sale, and leasing of solar energy generation and energy storage products, and related services to residential, commercial, and industrial customers and utilities through its website, stores, and galleries, as well as through a network of channel partners; and provision of service and repairs to its energy product customers, including under warranty, as well as various financing options to its solar customers. The company was formerly known as Tesla Motors, Inc. and changed its name to Tesla, Inc. in February 2017. Tesla, Inc. was incorporated in 2003 and is headquartered in Austin, Texas.', 'fullTimeEmployees': 127855, 'companyOfficers': [{'maxAge': 1, 'name': 'Mr. Elon R. Musk', 'age': 50, 'title': 'Technoking of Tesla, CEO & Director', 'yearBorn': 1972, 'fiscalYear': 2022, 'totalPay': 0, 'exercisedValue': 0, 'unexercisedValue': 27819718656}, {'maxAge': 1, 'name': 'Mr. Andrew D. Baglino', 'age': 41, 'title': 'Sr. VP of Powertrain & Energy Engineering', 'yearBorn': 1981, 'fiscalYear': 2022, 'totalPay': 303000, 'exercisedValue': 33866368, 'unexercisedValue': 57355632}, {'maxAge': 1, 'name': 'Mr. Vaibhav  Taneja', 'age': 44, 'title': 'CFO, Corp. Controller & Chief Accounting Officer', 'yearBorn': 1978, 'exercisedValue': 0, 'unexercisedValue': 0}, {'maxAge': 1, 'name': 'Mr. Martin  Viecha', 'title': 'Sr. Director for Investor Relations', 'exercisedValue': 0, 'unexercisedValue': 0}, {'maxAge': 1, 'name': 'Mr. Alan  Prescott', 'age': 43, 'title': 'VP of Legal', 'yearBorn': 1979, 'exercisedValue': 0, 'unexercisedValue': 0}, {'maxAge': 1, 'name': 'Mr. Dave  Arnold', 'title': 'Sr. Director of Global Communications', 'exercisedValue': 0, 'unexercisedValue': 0}, {'maxAge': 1, 'name': 'Brian  Scelfo', 'title': 'Sr. Director of Corp. Devel.', 'exercisedValue': 0, 'unexercisedValue': 0}, {'maxAge': 1, 'name': 'Mr. Jeffrey Brian Straubel', 'age': 46, 'title': 'Independent Director', 'yearBorn': 1976, 'fiscalYear': 2018, 'exercisedValue': 0, 'unexercisedValue': 0}, {'maxAge': 1, 'name': 'Mr. Franz  von Holzhausen', 'title': 'Chief Designer', 'exercisedValue': 0, 'unexercisedValue': 0}, {'maxAge': 1, 'name': 'Mr. Xiaotong  Zhu', 'age': 42, 'title': 'Sr. VP of Automotive', 'yearBorn': 1980, 'exercisedValue': 0, 'unexercisedValue': 0}], 'auditRisk': 8, 'boardRisk': 9, 'compensationRisk': 8, 'shareHolderRightsRisk': 9, 'overallRisk': 9, 'governanceEpochDate': 1693526400, 'compensationAsOfEpochDate': 1672444800, 'maxAge': 86400, 'priceHint': 2, 'previousClose': 244.88, 'open': 243.38, 'dayLow': 238.31, 'dayHigh': 247.1, 'regularMarketPreviousClose': 244.88, 'regularMarketOpen': 243.38, 'regularMarketDayLow': 238.31, 'regularMarketDayHigh': 247.1, 'payoutRatio': 0.0, 'beta': 2.089211, 'trailingPE': 73.72836, 'forwardPE': 53.002148, 'volume': 103435206, 'regularMarketVolume': 103435206, 'averageVolume': 117723322, 'averageVolume10days': 116755900, 'averageDailyVolume10Day': 116755900, 'bid': 0.0, 'ask': 0.0, 'bidSize': 900, 'askSize': 1300, 'marketCap': 783943794688, 'fiftyTwoWeekLow': 101.81, 'fiftyTwoWeekHigh': 299.29, 'priceToSalesTrailing12Months': 8.337344, 'fiftyDayAverage': 254.3594, 'twoHundredDayAverage': 204.3788, 'trailingAnnualDividendRate': 0.0, 'trailingAnnualDividendYield': 0.0, 'currency': 'USD', 'enterpriseValue': 761035751424, 'profitMargins': 0.1297, 'floatShares': 2713574830, 'sharesOutstanding': 3173989888, 'sharesShort': 82093847, 'sharesShortPriorMonth': 78209234, 'sharesShortPreviousMonthDate': 1690761600, 'dateShortInterest': 1693440000, 'sharesPercentSharesOut': 0.025899999, 'heldPercentInsiders': 0.13043, 'heldPercentInstitutions': 0.44206002, 'shortRatio': 0.76, 'shortPercentOfFloat': 0.0297, 'impliedSharesOutstanding': 3173989888, 'bookValue': 16.109, 'priceToBook': 15.332424, 'lastFiscalYearEnd': 1672444800, 'nextFiscalYearEnd': 1703980800, 'mostRecentQuarter': 1688083200, 'earningsQuarterlyGrowth': 0.197, 'netIncomeToCommon': 12234999808, 'trailingEps': 3.35, 'forwardEps': 4.66, 'pegRatio': 7.02, 'lastSplitFactor': '3:1', 'lastSplitDate': 1661385600, 'enterpriseToRevenue': 8.094, 'enterpriseToEbitda': 45.308, '52WeekChange': -0.12705874, 'SandP52WeekChange': 0.1892227, 'exchange': 'NMS', 'quoteType': 'EQUITY', 'symbol': 'TSLA', 'underlyingSymbol': 'TSLA', 'shortName': 'Tesla, Inc.', 'longName': 'Tesla, Inc.', 'firstTradeDateEpochUtc': 1277818200, 'timeZoneFullName': 'America/New_York', 'timeZoneShortName': 'EDT', 'uuid': 'ec367bc4-f92c-397c-ac81-bf7b43cffaf7', 'messageBoardId': 'finmb_27444752', 'gmtOffSetMilliseconds': -14400000, 'currentPrice': 246.99, 'targetHighPrice': 400.0, 'targetLowPrice': 24.33, 'targetMeanPrice': 241.68, 'targetMedianPrice': 272.5, 'recommendationMean': 2.7, 'recommendationKey': 'hold', 'numberOfAnalystOpinions': 36, 'totalCash': 23075000320, 'totalCashPerShare': 7.27, 'ebitda': 16796999680, 'totalDebt': 5810999808, 'quickRatio': 0.968, 'currentRatio': 1.59, 'totalRevenue': 94027997184, 'debtToEquity': 11.136, 'revenuePerShare': 29.751, 'returnOnAssets': 0.0994, 'returnOnEquity': 0.27139, 'grossProfits': 20853000000, 'freeCashflow': 3028124928, 'operatingCashflow': 13955999744, 'earningsGrowth': 0.2, 'revenueGrowth': 0.472, 'grossMargins': 0.21486, 'ebitdaMargins': 0.17864001, 'operatingMargins': 0.13456, 'financialCurrency': 'USD', 'trailingPegRatio': 2.097}\n"
     ]
    }
   ],
   "source": [
    "# Create a ticker object\n",
    "tesla = yf.Ticker(\"TSLA\")\n",
    "\n",
    "# To fetch row names from financials and put them in a list\n",
    "financials_rows = tesla.financials.index.tolist()\n",
    "print(\"Financials Rows:\", financials_rows)\n",
    "\n",
    "# To fetch row names from cashflow and put them in a list\n",
    "cashflow_rows = tesla.cashflow.index.tolist()\n",
    "print(\"Cashflow Rows:\", cashflow_rows)\n",
    "\n",
    "# To fetch row names from balance sheet and put them in a list\n",
    "balance_rows = tesla.balance_sheet.index.tolist()\n",
    "print(\"Balance Rows:\", balance_rows)\n",
    "\n",
    "print(tesla.info)\n",
    "\n"
   ]
  }
 ],
 "metadata": {
  "kernelspec": {
   "display_name": ".venv",
   "language": "python",
   "name": "python3"
  },
  "language_info": {
   "codemirror_mode": {
    "name": "ipython",
    "version": 3
   },
   "file_extension": ".py",
   "mimetype": "text/x-python",
   "name": "python",
   "nbconvert_exporter": "python",
   "pygments_lexer": "ipython3",
   "version": "3.11.3"
  },
  "orig_nbformat": 4
 },
 "nbformat": 4,
 "nbformat_minor": 2
}
