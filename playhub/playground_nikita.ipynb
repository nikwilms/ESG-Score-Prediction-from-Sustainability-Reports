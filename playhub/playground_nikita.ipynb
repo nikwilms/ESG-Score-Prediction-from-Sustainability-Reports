{
 "cells": [
  {
   "cell_type": "code",
   "execution_count": 14,
   "metadata": {},
   "outputs": [
    {
     "name": "stderr",
     "output_type": "stream",
     "text": [
      "/var/folders/q4/1vtck34d7h12n065tcl6nwkm0000gn/T/ipykernel_31805/1195792824.py:4: UserWarning: Could not infer format, so each element will be parsed individually, falling back to `dateutil`. To ensure parsing is consistent and as-expected, please specify a format.\n",
      "  df = pd.read_csv('../../data/SP500_EGS_Score_avarage_per_year.csv', index_col=0, parse_dates=True,sep=',')\n"
     ]
    }
   ],
   "source": [
    "import pandas as pd\n",
    "import numpy as np\n",
    "\n",
    "df = pd.read_csv('../../data/SP500_EGS_Score_avarage_per_year.csv', index_col=0, parse_dates=True,sep=',')"
   ]
  },
  {
   "cell_type": "code",
   "execution_count": 15,
   "metadata": {},
   "outputs": [
    {
     "data": {
      "text/html": [
       "<div>\n",
       "<style scoped>\n",
       "    .dataframe tbody tr th:only-of-type {\n",
       "        vertical-align: middle;\n",
       "    }\n",
       "\n",
       "    .dataframe tbody tr th {\n",
       "        vertical-align: top;\n",
       "    }\n",
       "\n",
       "    .dataframe thead th {\n",
       "        text-align: right;\n",
       "    }\n",
       "</style>\n",
       "<table border=\"1\" class=\"dataframe\">\n",
       "  <thead>\n",
       "    <tr style=\"text-align: right;\">\n",
       "      <th></th>\n",
       "      <th>year</th>\n",
       "      <th>Company_Symbol</th>\n",
       "      <th>Total-Score</th>\n",
       "      <th>E-Score</th>\n",
       "      <th>S-Score</th>\n",
       "      <th>G-Score</th>\n",
       "    </tr>\n",
       "  </thead>\n",
       "  <tbody>\n",
       "    <tr>\n",
       "      <th>0</th>\n",
       "      <td>2014</td>\n",
       "      <td>A</td>\n",
       "      <td>72.50</td>\n",
       "      <td>83.00</td>\n",
       "      <td>73.00</td>\n",
       "      <td>63.00</td>\n",
       "    </tr>\n",
       "    <tr>\n",
       "      <th>1</th>\n",
       "      <td>2014</td>\n",
       "      <td>AAL</td>\n",
       "      <td>72.75</td>\n",
       "      <td>77.00</td>\n",
       "      <td>67.00</td>\n",
       "      <td>75.25</td>\n",
       "    </tr>\n",
       "    <tr>\n",
       "      <th>2</th>\n",
       "      <td>2014</td>\n",
       "      <td>AAPL</td>\n",
       "      <td>60.75</td>\n",
       "      <td>74.00</td>\n",
       "      <td>45.00</td>\n",
       "      <td>62.00</td>\n",
       "    </tr>\n",
       "    <tr>\n",
       "      <th>3</th>\n",
       "      <td>2014</td>\n",
       "      <td>ABBV</td>\n",
       "      <td>64.50</td>\n",
       "      <td>70.25</td>\n",
       "      <td>60.25</td>\n",
       "      <td>67.50</td>\n",
       "    </tr>\n",
       "    <tr>\n",
       "      <th>4</th>\n",
       "      <td>2014</td>\n",
       "      <td>ABT</td>\n",
       "      <td>64.00</td>\n",
       "      <td>71.00</td>\n",
       "      <td>57.00</td>\n",
       "      <td>69.00</td>\n",
       "    </tr>\n",
       "    <tr>\n",
       "      <th>5</th>\n",
       "      <td>2014</td>\n",
       "      <td>ACGL</td>\n",
       "      <td>46.00</td>\n",
       "      <td>34.00</td>\n",
       "      <td>54.00</td>\n",
       "      <td>47.50</td>\n",
       "    </tr>\n",
       "    <tr>\n",
       "      <th>6</th>\n",
       "      <td>2014</td>\n",
       "      <td>ACN</td>\n",
       "      <td>72.00</td>\n",
       "      <td>77.00</td>\n",
       "      <td>66.00</td>\n",
       "      <td>78.00</td>\n",
       "    </tr>\n",
       "    <tr>\n",
       "      <th>7</th>\n",
       "      <td>2014</td>\n",
       "      <td>ADBE</td>\n",
       "      <td>70.00</td>\n",
       "      <td>75.00</td>\n",
       "      <td>71.00</td>\n",
       "      <td>63.00</td>\n",
       "    </tr>\n",
       "    <tr>\n",
       "      <th>8</th>\n",
       "      <td>2014</td>\n",
       "      <td>ADI</td>\n",
       "      <td>65.50</td>\n",
       "      <td>64.75</td>\n",
       "      <td>66.00</td>\n",
       "      <td>66.00</td>\n",
       "    </tr>\n",
       "    <tr>\n",
       "      <th>9</th>\n",
       "      <td>2014</td>\n",
       "      <td>ADM</td>\n",
       "      <td>52.25</td>\n",
       "      <td>56.50</td>\n",
       "      <td>41.75</td>\n",
       "      <td>62.50</td>\n",
       "    </tr>\n",
       "    <tr>\n",
       "      <th>10</th>\n",
       "      <td>2014</td>\n",
       "      <td>ADP</td>\n",
       "      <td>56.00</td>\n",
       "      <td>52.00</td>\n",
       "      <td>54.00</td>\n",
       "      <td>64.00</td>\n",
       "    </tr>\n",
       "    <tr>\n",
       "      <th>11</th>\n",
       "      <td>2014</td>\n",
       "      <td>ADSK</td>\n",
       "      <td>69.00</td>\n",
       "      <td>78.00</td>\n",
       "      <td>59.00</td>\n",
       "      <td>76.00</td>\n",
       "    </tr>\n",
       "    <tr>\n",
       "      <th>12</th>\n",
       "      <td>2014</td>\n",
       "      <td>AEE</td>\n",
       "      <td>60.75</td>\n",
       "      <td>47.00</td>\n",
       "      <td>67.00</td>\n",
       "      <td>78.00</td>\n",
       "    </tr>\n",
       "    <tr>\n",
       "      <th>13</th>\n",
       "      <td>2014</td>\n",
       "      <td>AEP</td>\n",
       "      <td>62.00</td>\n",
       "      <td>46.00</td>\n",
       "      <td>68.75</td>\n",
       "      <td>81.00</td>\n",
       "    </tr>\n",
       "    <tr>\n",
       "      <th>14</th>\n",
       "      <td>2014</td>\n",
       "      <td>AES</td>\n",
       "      <td>53.75</td>\n",
       "      <td>47.00</td>\n",
       "      <td>57.00</td>\n",
       "      <td>65.00</td>\n",
       "    </tr>\n",
       "    <tr>\n",
       "      <th>15</th>\n",
       "      <td>2014</td>\n",
       "      <td>AFL</td>\n",
       "      <td>56.75</td>\n",
       "      <td>51.00</td>\n",
       "      <td>64.50</td>\n",
       "      <td>53.75</td>\n",
       "    </tr>\n",
       "    <tr>\n",
       "      <th>16</th>\n",
       "      <td>2014</td>\n",
       "      <td>AIG</td>\n",
       "      <td>50.75</td>\n",
       "      <td>42.25</td>\n",
       "      <td>59.75</td>\n",
       "      <td>49.75</td>\n",
       "    </tr>\n",
       "    <tr>\n",
       "      <th>17</th>\n",
       "      <td>2014</td>\n",
       "      <td>AIZ</td>\n",
       "      <td>50.25</td>\n",
       "      <td>40.00</td>\n",
       "      <td>61.25</td>\n",
       "      <td>49.00</td>\n",
       "    </tr>\n",
       "    <tr>\n",
       "      <th>18</th>\n",
       "      <td>2014</td>\n",
       "      <td>AJG</td>\n",
       "      <td>52.00</td>\n",
       "      <td>41.00</td>\n",
       "      <td>61.00</td>\n",
       "      <td>52.00</td>\n",
       "    </tr>\n",
       "    <tr>\n",
       "      <th>19</th>\n",
       "      <td>2014</td>\n",
       "      <td>AKAM</td>\n",
       "      <td>56.00</td>\n",
       "      <td>60.00</td>\n",
       "      <td>49.00</td>\n",
       "      <td>65.00</td>\n",
       "    </tr>\n",
       "  </tbody>\n",
       "</table>\n",
       "</div>"
      ],
      "text/plain": [
       "    year Company_Symbol  Total-Score  E-Score  S-Score  G-Score\n",
       "0   2014              A        72.50    83.00    73.00    63.00\n",
       "1   2014            AAL        72.75    77.00    67.00    75.25\n",
       "2   2014           AAPL        60.75    74.00    45.00    62.00\n",
       "3   2014           ABBV        64.50    70.25    60.25    67.50\n",
       "4   2014            ABT        64.00    71.00    57.00    69.00\n",
       "5   2014           ACGL        46.00    34.00    54.00    47.50\n",
       "6   2014            ACN        72.00    77.00    66.00    78.00\n",
       "7   2014           ADBE        70.00    75.00    71.00    63.00\n",
       "8   2014            ADI        65.50    64.75    66.00    66.00\n",
       "9   2014            ADM        52.25    56.50    41.75    62.50\n",
       "10  2014            ADP        56.00    52.00    54.00    64.00\n",
       "11  2014           ADSK        69.00    78.00    59.00    76.00\n",
       "12  2014            AEE        60.75    47.00    67.00    78.00\n",
       "13  2014            AEP        62.00    46.00    68.75    81.00\n",
       "14  2014            AES        53.75    47.00    57.00    65.00\n",
       "15  2014            AFL        56.75    51.00    64.50    53.75\n",
       "16  2014            AIG        50.75    42.25    59.75    49.75\n",
       "17  2014            AIZ        50.25    40.00    61.25    49.00\n",
       "18  2014            AJG        52.00    41.00    61.00    52.00\n",
       "19  2014           AKAM        56.00    60.00    49.00    65.00"
      ]
     },
     "execution_count": 15,
     "metadata": {},
     "output_type": "execute_result"
    }
   ],
   "source": [
    "df.head(20)"
   ]
  },
  {
   "cell_type": "code",
   "execution_count": 16,
   "metadata": {},
   "outputs": [],
   "source": [
    "# all lower case\n",
    "\n",
    "df.columns = map(str.lower, df.columns)\n",
    "\n",
    "# - to _\n",
    "\n",
    "df.columns = df.columns.str.replace('-', '_')"
   ]
  },
  {
   "cell_type": "code",
   "execution_count": 21,
   "metadata": {},
   "outputs": [
    {
     "data": {
      "text/plain": [
       "441"
      ]
     },
     "execution_count": 21,
     "metadata": {},
     "output_type": "execute_result"
    }
   ],
   "source": [
    "len(df.company_symbol.unique())\n"
   ]
  },
  {
   "cell_type": "code",
   "execution_count": 2,
   "metadata": {},
   "outputs": [],
   "source": [
    "import sys \n",
    "sys.path.append('../')"
   ]
  },
  {
   "cell_type": "code",
   "execution_count": 4,
   "metadata": {},
   "outputs": [],
   "source": [
    "from helpers.text_preprocessing.preprocess_text import preprocess_text"
   ]
  },
  {
   "cell_type": "code",
   "execution_count": 5,
   "metadata": {},
   "outputs": [
    {
     "name": "stderr",
     "output_type": "stream",
     "text": [
      "/var/folders/t5/tjfw6fh92wvd7nqk0dkpf15h0000gn/T/ipykernel_40193/1936642105.py:4: UserWarning: Could not infer format, so each element will be parsed individually, falling back to `dateutil`. To ensure parsing is consistent and as-expected, please specify a format.\n",
      "  df = pd.read_csv('../data/extracted_text_sustainability_reports.csv', index_col=0, parse_dates=True,sep=',')\n"
     ]
    }
   ],
   "source": [
    "import pandas as pd\n",
    "\n",
    "# Load or create your DataFrame (replace 'your_data.csv' with the path to your data file)\n",
    "df = pd.read_csv('../data/extracted_text_sustainability_reports.csv', index_col=0, parse_dates=True,sep=',')\n"
   ]
  },
  {
   "cell_type": "code",
   "execution_count": 9,
   "metadata": {},
   "outputs": [
    {
     "ename": "KeyboardInterrupt",
     "evalue": "",
     "output_type": "error",
     "traceback": [
      "\u001b[0;31m---------------------------------------------------------------------------\u001b[0m",
      "\u001b[0;31mKeyboardInterrupt\u001b[0m                         Traceback (most recent call last)",
      "\u001b[1;32m/Users/nikitawilms/Documents/ffm-ds-23-2/ESG-Score-Prediction-from-Sustainability-Reports/playhub/playground_nikita.ipynb Cell 8\u001b[0m line \u001b[0;36m2\n\u001b[1;32m      <a href='vscode-notebook-cell:/Users/nikitawilms/Documents/ffm-ds-23-2/ESG-Score-Prediction-from-Sustainability-Reports/playhub/playground_nikita.ipynb#X10sZmlsZQ%3D%3D?line=0'>1</a>\u001b[0m \u001b[39m# Preprocess the text and get the preprocessed DataFrame\u001b[39;00m\n\u001b[0;32m----> <a href='vscode-notebook-cell:/Users/nikitawilms/Documents/ffm-ds-23-2/ESG-Score-Prediction-from-Sustainability-Reports/playhub/playground_nikita.ipynb#X10sZmlsZQ%3D%3D?line=1'>2</a>\u001b[0m preprocessed_df \u001b[39m=\u001b[39m preprocess_text(df)\n",
      "File \u001b[0;32m~/Documents/ffm-ds-23-2/ESG-Score-Prediction-from-Sustainability-Reports/playhub/../helpers/text_preprocessing/preprocess_text.py:89\u001b[0m, in \u001b[0;36mpreprocess_text\u001b[0;34m(df)\u001b[0m\n\u001b[1;32m     86\u001b[0m parallel \u001b[39m=\u001b[39m joblib\u001b[39m.\u001b[39mParallel(n_jobs\u001b[39m=\u001b[39mnum_cores, backend\u001b[39m=\u001b[39m\u001b[39m\"\u001b[39m\u001b[39mmultiprocessing\u001b[39m\u001b[39m\"\u001b[39m)\n\u001b[1;32m     88\u001b[0m \u001b[39m# Use joblib to parallelize the preprocessing step\u001b[39;00m\n\u001b[0;32m---> 89\u001b[0m preprocessed_texts \u001b[39m=\u001b[39m parallel(\n\u001b[1;32m     90\u001b[0m     joblib\u001b[39m.\u001b[39;49mdelayed(preprocess_with_spacy)(text) \u001b[39mfor\u001b[39;49;00m text \u001b[39min\u001b[39;49;00m df[\u001b[39m\"\u001b[39;49m\u001b[39mcontent\u001b[39;49m\u001b[39m\"\u001b[39;49m]\n\u001b[1;32m     91\u001b[0m )\n\u001b[1;32m     93\u001b[0m \u001b[39m# Add the preprocessed texts to the DataFrame\u001b[39;00m\n\u001b[1;32m     94\u001b[0m df[\u001b[39m\"\u001b[39m\u001b[39mpreprocessed_content\u001b[39m\u001b[39m\"\u001b[39m] \u001b[39m=\u001b[39m preprocessed_texts\n",
      "File \u001b[0;32m~/Documents/ffm-ds-23-2/ESG-Score-Prediction-from-Sustainability-Reports/.venv/lib/python3.11/site-packages/joblib/parallel.py:1952\u001b[0m, in \u001b[0;36mParallel.__call__\u001b[0;34m(self, iterable)\u001b[0m\n\u001b[1;32m   1946\u001b[0m \u001b[39m# The first item from the output is blank, but it makes the interpreter\u001b[39;00m\n\u001b[1;32m   1947\u001b[0m \u001b[39m# progress until it enters the Try/Except block of the generator and\u001b[39;00m\n\u001b[1;32m   1948\u001b[0m \u001b[39m# reach the first `yield` statement. This starts the aynchronous\u001b[39;00m\n\u001b[1;32m   1949\u001b[0m \u001b[39m# dispatch of the tasks to the workers.\u001b[39;00m\n\u001b[1;32m   1950\u001b[0m \u001b[39mnext\u001b[39m(output)\n\u001b[0;32m-> 1952\u001b[0m \u001b[39mreturn\u001b[39;00m output \u001b[39mif\u001b[39;00m \u001b[39mself\u001b[39m\u001b[39m.\u001b[39mreturn_generator \u001b[39melse\u001b[39;00m \u001b[39mlist\u001b[39;49m(output)\n",
      "File \u001b[0;32m~/Documents/ffm-ds-23-2/ESG-Score-Prediction-from-Sustainability-Reports/.venv/lib/python3.11/site-packages/joblib/parallel.py:1595\u001b[0m, in \u001b[0;36mParallel._get_outputs\u001b[0;34m(self, iterator, pre_dispatch)\u001b[0m\n\u001b[1;32m   1592\u001b[0m     \u001b[39myield\u001b[39;00m\n\u001b[1;32m   1594\u001b[0m     \u001b[39mwith\u001b[39;00m \u001b[39mself\u001b[39m\u001b[39m.\u001b[39m_backend\u001b[39m.\u001b[39mretrieval_context():\n\u001b[0;32m-> 1595\u001b[0m         \u001b[39myield from\u001b[39;00m \u001b[39mself\u001b[39m\u001b[39m.\u001b[39m_retrieve()\n\u001b[1;32m   1597\u001b[0m \u001b[39mexcept\u001b[39;00m \u001b[39mGeneratorExit\u001b[39;00m:\n\u001b[1;32m   1598\u001b[0m     \u001b[39m# The generator has been garbage collected before being fully\u001b[39;00m\n\u001b[1;32m   1599\u001b[0m     \u001b[39m# consumed. This aborts the remaining tasks if possible and warn\u001b[39;00m\n\u001b[1;32m   1600\u001b[0m     \u001b[39m# the user if necessary.\u001b[39;00m\n\u001b[1;32m   1601\u001b[0m     \u001b[39mself\u001b[39m\u001b[39m.\u001b[39m_exception \u001b[39m=\u001b[39m \u001b[39mTrue\u001b[39;00m\n",
      "File \u001b[0;32m~/Documents/ffm-ds-23-2/ESG-Score-Prediction-from-Sustainability-Reports/.venv/lib/python3.11/site-packages/joblib/parallel.py:1707\u001b[0m, in \u001b[0;36mParallel._retrieve\u001b[0;34m(self)\u001b[0m\n\u001b[1;32m   1702\u001b[0m \u001b[39m# If the next job is not ready for retrieval yet, we just wait for\u001b[39;00m\n\u001b[1;32m   1703\u001b[0m \u001b[39m# async callbacks to progress.\u001b[39;00m\n\u001b[1;32m   1704\u001b[0m \u001b[39mif\u001b[39;00m ((\u001b[39mlen\u001b[39m(\u001b[39mself\u001b[39m\u001b[39m.\u001b[39m_jobs) \u001b[39m==\u001b[39m \u001b[39m0\u001b[39m) \u001b[39mor\u001b[39;00m\n\u001b[1;32m   1705\u001b[0m     (\u001b[39mself\u001b[39m\u001b[39m.\u001b[39m_jobs[\u001b[39m0\u001b[39m]\u001b[39m.\u001b[39mget_status(\n\u001b[1;32m   1706\u001b[0m         timeout\u001b[39m=\u001b[39m\u001b[39mself\u001b[39m\u001b[39m.\u001b[39mtimeout) \u001b[39m==\u001b[39m TASK_PENDING)):\n\u001b[0;32m-> 1707\u001b[0m     time\u001b[39m.\u001b[39msleep(\u001b[39m0.01\u001b[39m)\n\u001b[1;32m   1708\u001b[0m     \u001b[39mcontinue\u001b[39;00m\n\u001b[1;32m   1710\u001b[0m \u001b[39m# We need to be careful: the job list can be filling up as\u001b[39;00m\n\u001b[1;32m   1711\u001b[0m \u001b[39m# we empty it and Python list are not thread-safe by\u001b[39;00m\n\u001b[1;32m   1712\u001b[0m \u001b[39m# default hence the use of the lock\u001b[39;00m\n",
      "\u001b[0;31mKeyboardInterrupt\u001b[0m: "
     ]
    }
   ],
   "source": [
    "# Preprocess the text and get the preprocessed DataFrame\n",
    "preprocessed_df = preprocess_text(df)\n"
   ]
  }
 ],
 "metadata": {
  "kernelspec": {
   "display_name": ".venv",
   "language": "python",
   "name": "python3"
  },
  "language_info": {
   "codemirror_mode": {
    "name": "ipython",
    "version": 3
   },
   "file_extension": ".py",
   "mimetype": "text/x-python",
   "name": "python",
   "nbconvert_exporter": "python",
   "pygments_lexer": "ipython3",
   "version": "3.11.3"
  },
  "orig_nbformat": 4
 },
 "nbformat": 4,
 "nbformat_minor": 2
}
